{
  "nbformat": 4,
  "nbformat_minor": 0,
  "metadata": {
    "colab": {
      "provenance": []
    },
    "kernelspec": {
      "name": "python3",
      "display_name": "Python 3"
    },
    "language_info": {
      "name": "python"
    }
  },
  "cells": [
    {
      "cell_type": "markdown",
      "source": [
        "# **Implementing Word2Vec with Logistic Regression and LSTM**\n",
        "\n",
        "**CBOW (Continuous Bag-of-Words)** and **Skip-gram** are two popular algorithms used in natural language processing for generating word embeddings.\n",
        "\n",
        "CBOW is a method that predicts the target word based on its context, which is a window of surrounding words. The goal of CBOW is to maximize the probability of predicting the target word given its context. In other words, CBOW learns to predict a word based on the words that surround it.\n",
        "\n",
        "On the other hand, Skip-gram is the inverse of CBOW, where the algorithm predicts the context words given the target word. The goal of Skip-gram is to maximize the probability of predicting the context words given the target word.\n",
        "\n",
        "The difference between CBOW and Skip-gram lies in their training objectives. CBOW is faster to train than Skip-gram because it involves predicting one target word from multiple context words, whereas Skip-gram predicts multiple context words from one target word. However, **Skip-gram is better at capturing rare and infrequent words, while CBOW is better at representing the overall meaning of a sentence**.\n",
        "\n",
        "In summary, CBOW is a faster algorithm that predicts a target word based on its context. Hence we will be using CBOW in this notebook."
      ],
      "metadata": {
        "id": "NwG5KuEVVXtk"
      }
    },
    {
      "cell_type": "code",
      "execution_count": 1,
      "metadata": {
        "colab": {
          "base_uri": "https://localhost:8080/"
        },
        "id": "6ireluuBOMWo",
        "outputId": "dbe632c8-c8cb-4d3a-8304-03f69b271168"
      },
      "outputs": [
        {
          "output_type": "stream",
          "name": "stdout",
          "text": [
            "Mounted at /content/gdrive\n"
          ]
        }
      ],
      "source": [
        "from google.colab import drive\n",
        "drive.mount('/content/gdrive')"
      ]
    },
    {
      "cell_type": "code",
      "source": [
        "import nltk\n",
        "nltk.download('punkt')"
      ],
      "metadata": {
        "colab": {
          "base_uri": "https://localhost:8080/"
        },
        "id": "tQJoqPlXeBoQ",
        "outputId": "5d6769d9-b56d-4a5a-8a3a-8aa13111d3e7"
      },
      "execution_count": 2,
      "outputs": [
        {
          "output_type": "stream",
          "name": "stderr",
          "text": [
            "[nltk_data] Downloading package punkt to /root/nltk_data...\n",
            "[nltk_data]   Unzipping tokenizers/punkt.zip.\n"
          ]
        },
        {
          "output_type": "execute_result",
          "data": {
            "text/plain": [
              "True"
            ]
          },
          "metadata": {},
          "execution_count": 2
        }
      ]
    },
    {
      "cell_type": "code",
      "source": [
        "import pandas as pd\n",
        "import numpy as np\n",
        "import random\n",
        "import math\n",
        "import seaborn as sns\n",
        "import matplotlib.pyplot as plt\n",
        "import time\n",
        "\n",
        "from sklearn.model_selection import train_test_split\n",
        "from sklearn.linear_model import LogisticRegression\n",
        "from sklearn.metrics import precision_score, recall_score, f1_score, classification_report, precision_recall_curve, average_precision_score, auc\n",
        "\n",
        "from nltk.tokenize import sent_tokenize, word_tokenize\n",
        "import gensim\n",
        "from gensim.models import Word2Vec\n"
      ],
      "metadata": {
        "id": "7cuhIsPtOUWl"
      },
      "execution_count": 3,
      "outputs": []
    },
    {
      "cell_type": "code",
      "source": [
        "#Read data from the first sheet\n",
        "#This might take awhile...\n",
        "path = '/content/gdrive/MyDrive/Colab Notebooks/DSA4263 Project/reviews.csv'\n",
        "data = pd.read_csv(path)"
      ],
      "metadata": {
        "id": "ATJXJ7DeOlsK"
      },
      "execution_count": 4,
      "outputs": []
    },
    {
      "cell_type": "code",
      "source": [
        "data.head()"
      ],
      "metadata": {
        "colab": {
          "base_uri": "https://localhost:8080/",
          "height": 206
        },
        "id": "t4cQHiJYZ03j",
        "outputId": "0fc498b1-f593-4b0f-c0d6-ecb18cdc9e5e"
      },
      "execution_count": 5,
      "outputs": [
        {
          "output_type": "execute_result",
          "data": {
            "text/plain": [
              "      date                             partially_cleaned_text  sentiment  \\\n",
              "0  18/6/21  This is a very healthy dog food. Good for thei...          1   \n",
              "1   7/7/21  I've been very pleased with the Natural Balanc...          1   \n",
              "2  18/6/21  Before I was educated about feline nutrition, ...          1   \n",
              "3   7/7/21  My holistic vet recommended this, along with a...          1   \n",
              "4   1/7/21  I bought this coffee because its much cheaper ...          1   \n",
              "\n",
              "                                        cleaned_text  \n",
              "0  healthy dog food good digestion also good smal...  \n",
              "1  pleased natural balance dog food dogs issues d...  \n",
              "2  educated feline nutrition allowed cats become ...  \n",
              "3  holistic vet recommended along brands tried ca...  \n",
              "4  bought coffee much cheaper ganocafe organic re...  "
            ],
            "text/html": [
              "\n",
              "  <div id=\"df-3d41a60f-137e-42f5-849b-1e1d2bf257b7\">\n",
              "    <div class=\"colab-df-container\">\n",
              "      <div>\n",
              "<style scoped>\n",
              "    .dataframe tbody tr th:only-of-type {\n",
              "        vertical-align: middle;\n",
              "    }\n",
              "\n",
              "    .dataframe tbody tr th {\n",
              "        vertical-align: top;\n",
              "    }\n",
              "\n",
              "    .dataframe thead th {\n",
              "        text-align: right;\n",
              "    }\n",
              "</style>\n",
              "<table border=\"1\" class=\"dataframe\">\n",
              "  <thead>\n",
              "    <tr style=\"text-align: right;\">\n",
              "      <th></th>\n",
              "      <th>date</th>\n",
              "      <th>partially_cleaned_text</th>\n",
              "      <th>sentiment</th>\n",
              "      <th>cleaned_text</th>\n",
              "    </tr>\n",
              "  </thead>\n",
              "  <tbody>\n",
              "    <tr>\n",
              "      <th>0</th>\n",
              "      <td>18/6/21</td>\n",
              "      <td>This is a very healthy dog food. Good for thei...</td>\n",
              "      <td>1</td>\n",
              "      <td>healthy dog food good digestion also good smal...</td>\n",
              "    </tr>\n",
              "    <tr>\n",
              "      <th>1</th>\n",
              "      <td>7/7/21</td>\n",
              "      <td>I've been very pleased with the Natural Balanc...</td>\n",
              "      <td>1</td>\n",
              "      <td>pleased natural balance dog food dogs issues d...</td>\n",
              "    </tr>\n",
              "    <tr>\n",
              "      <th>2</th>\n",
              "      <td>18/6/21</td>\n",
              "      <td>Before I was educated about feline nutrition, ...</td>\n",
              "      <td>1</td>\n",
              "      <td>educated feline nutrition allowed cats become ...</td>\n",
              "    </tr>\n",
              "    <tr>\n",
              "      <th>3</th>\n",
              "      <td>7/7/21</td>\n",
              "      <td>My holistic vet recommended this, along with a...</td>\n",
              "      <td>1</td>\n",
              "      <td>holistic vet recommended along brands tried ca...</td>\n",
              "    </tr>\n",
              "    <tr>\n",
              "      <th>4</th>\n",
              "      <td>1/7/21</td>\n",
              "      <td>I bought this coffee because its much cheaper ...</td>\n",
              "      <td>1</td>\n",
              "      <td>bought coffee much cheaper ganocafe organic re...</td>\n",
              "    </tr>\n",
              "  </tbody>\n",
              "</table>\n",
              "</div>\n",
              "      <button class=\"colab-df-convert\" onclick=\"convertToInteractive('df-3d41a60f-137e-42f5-849b-1e1d2bf257b7')\"\n",
              "              title=\"Convert this dataframe to an interactive table.\"\n",
              "              style=\"display:none;\">\n",
              "        \n",
              "  <svg xmlns=\"http://www.w3.org/2000/svg\" height=\"24px\"viewBox=\"0 0 24 24\"\n",
              "       width=\"24px\">\n",
              "    <path d=\"M0 0h24v24H0V0z\" fill=\"none\"/>\n",
              "    <path d=\"M18.56 5.44l.94 2.06.94-2.06 2.06-.94-2.06-.94-.94-2.06-.94 2.06-2.06.94zm-11 1L8.5 8.5l.94-2.06 2.06-.94-2.06-.94L8.5 2.5l-.94 2.06-2.06.94zm10 10l.94 2.06.94-2.06 2.06-.94-2.06-.94-.94-2.06-.94 2.06-2.06.94z\"/><path d=\"M17.41 7.96l-1.37-1.37c-.4-.4-.92-.59-1.43-.59-.52 0-1.04.2-1.43.59L10.3 9.45l-7.72 7.72c-.78.78-.78 2.05 0 2.83L4 21.41c.39.39.9.59 1.41.59.51 0 1.02-.2 1.41-.59l7.78-7.78 2.81-2.81c.8-.78.8-2.07 0-2.86zM5.41 20L4 18.59l7.72-7.72 1.47 1.35L5.41 20z\"/>\n",
              "  </svg>\n",
              "      </button>\n",
              "      \n",
              "  <style>\n",
              "    .colab-df-container {\n",
              "      display:flex;\n",
              "      flex-wrap:wrap;\n",
              "      gap: 12px;\n",
              "    }\n",
              "\n",
              "    .colab-df-convert {\n",
              "      background-color: #E8F0FE;\n",
              "      border: none;\n",
              "      border-radius: 50%;\n",
              "      cursor: pointer;\n",
              "      display: none;\n",
              "      fill: #1967D2;\n",
              "      height: 32px;\n",
              "      padding: 0 0 0 0;\n",
              "      width: 32px;\n",
              "    }\n",
              "\n",
              "    .colab-df-convert:hover {\n",
              "      background-color: #E2EBFA;\n",
              "      box-shadow: 0px 1px 2px rgba(60, 64, 67, 0.3), 0px 1px 3px 1px rgba(60, 64, 67, 0.15);\n",
              "      fill: #174EA6;\n",
              "    }\n",
              "\n",
              "    [theme=dark] .colab-df-convert {\n",
              "      background-color: #3B4455;\n",
              "      fill: #D2E3FC;\n",
              "    }\n",
              "\n",
              "    [theme=dark] .colab-df-convert:hover {\n",
              "      background-color: #434B5C;\n",
              "      box-shadow: 0px 1px 3px 1px rgba(0, 0, 0, 0.15);\n",
              "      filter: drop-shadow(0px 1px 2px rgba(0, 0, 0, 0.3));\n",
              "      fill: #FFFFFF;\n",
              "    }\n",
              "  </style>\n",
              "\n",
              "      <script>\n",
              "        const buttonEl =\n",
              "          document.querySelector('#df-3d41a60f-137e-42f5-849b-1e1d2bf257b7 button.colab-df-convert');\n",
              "        buttonEl.style.display =\n",
              "          google.colab.kernel.accessAllowed ? 'block' : 'none';\n",
              "\n",
              "        async function convertToInteractive(key) {\n",
              "          const element = document.querySelector('#df-3d41a60f-137e-42f5-849b-1e1d2bf257b7');\n",
              "          const dataTable =\n",
              "            await google.colab.kernel.invokeFunction('convertToInteractive',\n",
              "                                                     [key], {});\n",
              "          if (!dataTable) return;\n",
              "\n",
              "          const docLinkHtml = 'Like what you see? Visit the ' +\n",
              "            '<a target=\"_blank\" href=https://colab.research.google.com/notebooks/data_table.ipynb>data table notebook</a>'\n",
              "            + ' to learn more about interactive tables.';\n",
              "          element.innerHTML = '';\n",
              "          dataTable['output_type'] = 'display_data';\n",
              "          await google.colab.output.renderOutput(dataTable, element);\n",
              "          const docLink = document.createElement('div');\n",
              "          docLink.innerHTML = docLinkHtml;\n",
              "          element.appendChild(docLink);\n",
              "        }\n",
              "      </script>\n",
              "    </div>\n",
              "  </div>\n",
              "  "
            ]
          },
          "metadata": {},
          "execution_count": 5
        }
      ]
    },
    {
      "cell_type": "code",
      "source": [
        "# plot Distribution of Sentiment Labels, checking of imbalanced data\n",
        "sns.set_theme(style=\"whitegrid\")\n",
        "\n",
        "fig, ax = plt.subplots(figsize=(8,6))\n",
        "sns.countplot(data = data, x = 'sentiment')\n",
        "ax.set_title('Distribution of Sentiment Labels')"
      ],
      "metadata": {
        "colab": {
          "base_uri": "https://localhost:8080/",
          "height": 427
        },
        "id": "WmQNS9KGTWBn",
        "outputId": "933f6fc6-4e37-4f2d-ce3e-31a232709193"
      },
      "execution_count": 6,
      "outputs": [
        {
          "output_type": "execute_result",
          "data": {
            "text/plain": [
              "Text(0.5, 1.0, 'Distribution of Sentiment Labels')"
            ]
          },
          "metadata": {},
          "execution_count": 6
        },
        {
          "output_type": "display_data",
          "data": {
            "text/plain": [
              "<Figure size 576x432 with 1 Axes>"
            ],
            "image/png": "[encoded data removed]"
          },
          "metadata": {}
        }
      ]
    },
    {
      "cell_type": "code",
      "source": [
        "# tokenise the cleaned text\n",
        "data['cleaned_text_new'] = data['cleaned_text'].apply(lambda x: word_tokenize(x))"
      ],
      "metadata": {
        "id": "r2C0Uy5qdmpB"
      },
      "execution_count": 7,
      "outputs": []
    },
    {
      "cell_type": "markdown",
      "source": [
        "## Word2Vec + Logistic Regression\n"
      ],
      "metadata": {
        "id": "yhQwizcjrYPi"
      }
    },
    {
      "cell_type": "code",
      "source": [
        "# train test split\n",
        "X_train, X_test, y_train, y_test = train_test_split(data['cleaned_text_new'], data['sentiment'] , test_size=0.2,  random_state=11)"
      ],
      "metadata": {
        "id": "uYkcia9SetDE"
      },
      "execution_count": 8,
      "outputs": []
    },
    {
      "cell_type": "code",
      "source": [
        "# Train the CBOW architecture\n",
        "w2v_model = gensim.models.Word2Vec(X_train, vector_size=100, window=5, min_count=2, sg =0)"
      ],
      "metadata": {
        "id": "H5-31GxFdxg6"
      },
      "execution_count": 9,
      "outputs": []
    },
    {
      "cell_type": "code",
      "source": [
        "# Represents all of the words that our Word2Vec model learned a vector for (i.e all of the words that appeared in the training data at least twice)\n",
        "\n",
        "w2v_model.wv.index_to_key[0:20]"
      ],
      "metadata": {
        "colab": {
          "base_uri": "https://localhost:8080/"
        },
        "id": "xxE5kSQ0m2AQ",
        "outputId": "911711ca-2695-4d85-fa4a-205a7ab65eac"
      },
      "execution_count": 10,
      "outputs": [
        {
          "output_type": "execute_result",
          "data": {
            "text/plain": [
              "['like',\n",
              " 'taste',\n",
              " 'good',\n",
              " 'great',\n",
              " 'product',\n",
              " 'would',\n",
              " 'flavor',\n",
              " 'one',\n",
              " 'coffee',\n",
              " 'love',\n",
              " 'price',\n",
              " 'really',\n",
              " 'tea',\n",
              " 'much',\n",
              " 'get',\n",
              " 'amazon',\n",
              " 'food',\n",
              " 'time',\n",
              " 'buy',\n",
              " 'even']"
            ]
          },
          "metadata": {},
          "execution_count": 10
        }
      ]
    },
    {
      "cell_type": "code",
      "source": [
        "# find the most similar words based on word vectors from our trained model\n",
        "\n",
        "w2v_model.wv.most_similar('coffee')"
      ],
      "metadata": {
        "colab": {
          "base_uri": "https://localhost:8080/"
        },
        "id": "5fiuT2Jrn4N0",
        "outputId": "c6960565-17d6-460d-fe10-4fd35433fb08"
      },
      "execution_count": 11,
      "outputs": [
        {
          "output_type": "execute_result",
          "data": {
            "text/plain": [
              "[('drink', 0.9958357810974121),\n",
              " ('tea', 0.9950664639472961),\n",
              " ('strong', 0.9938153624534607),\n",
              " ('cup', 0.9933298826217651),\n",
              " ('iced', 0.9932183623313904),\n",
              " ('flavor', 0.992867648601532),\n",
              " ('bitter', 0.9919336438179016),\n",
              " ('hot', 0.9914889931678772),\n",
              " ('like', 0.9911707043647766),\n",
              " ('chocolate', 0.9907476902008057)]"
            ]
          },
          "metadata": {},
          "execution_count": 11
        }
      ]
    },
    {
      "cell_type": "code",
      "source": [
        "# Generate aggregated sentence vectors based on the word vectors (taken from trained w2v model) for each word in each row of review\n",
        "\n",
        "# words that appear in the train w2v model\n",
        "words = set(w2v_model.wv.index_to_key)\n",
        "\n",
        "# train data\n",
        "X_train_vect = np.array([np.array([w2v_model.wv[i] for i in ls if i in words])\n",
        "                         for ls in X_train])\n",
        "# test data\n",
        "X_test_vect = np.array([np.array([w2v_model.wv[i] for i in ls if i in words])\n",
        "                         for ls in X_test])"
      ],
      "metadata": {
        "colab": {
          "base_uri": "https://localhost:8080/"
        },
        "id": "zoxKaY9an_2_",
        "outputId": "a9e1fb47-7e1c-4670-c40c-7f5593d784f0"
      },
      "execution_count": 12,
      "outputs": [
        {
          "output_type": "stream",
          "name": "stderr",
          "text": [
            "<ipython-input-12-7228ac135e42>:7: VisibleDeprecationWarning: Creating an ndarray from ragged nested sequences (which is a list-or-tuple of lists-or-tuples-or ndarrays with different lengths or shapes) is deprecated. If you meant to do this, you must specify 'dtype=object' when creating the ndarray.\n",
            "  X_train_vect = np.array([np.array([w2v_model.wv[i] for i in ls if i in words])\n",
            "<ipython-input-12-7228ac135e42>:10: VisibleDeprecationWarning: Creating an ndarray from ragged nested sequences (which is a list-or-tuple of lists-or-tuples-or ndarrays with different lengths or shapes) is deprecated. If you meant to do this, you must specify 'dtype=object' when creating the ndarray.\n",
            "  X_test_vect = np.array([np.array([w2v_model.wv[i] for i in ls if i in words])\n"
          ]
        }
      ]
    },
    {
      "cell_type": "code",
      "source": [
        "# notice that length of the sentence different from the length of the sentence vector as some words may not appear in the w2v?\n",
        "for i, v in enumerate(X_train_vect[:20]):\n",
        "    print(len(X_train.iloc[i]), len(v))"
      ],
      "metadata": {
        "colab": {
          "base_uri": "https://localhost:8080/"
        },
        "id": "j5zsawCAoe9p",
        "outputId": "1b8f3e1f-5bed-4f8e-c3a6-edd5ad31eefa"
      },
      "execution_count": 13,
      "outputs": [
        {
          "output_type": "stream",
          "name": "stdout",
          "text": [
            "38 37\n",
            "14 13\n",
            "12 12\n",
            "15 15\n",
            "31 29\n",
            "18 17\n",
            "38 37\n",
            "14 14\n",
            "31 27\n",
            "47 47\n",
            "19 19\n",
            "38 38\n",
            "32 30\n",
            "29 29\n",
            "94 88\n",
            "21 21\n",
            "17 17\n",
            "40 40\n",
            "23 23\n",
            "12 11\n"
          ]
        }
      ]
    },
    {
      "cell_type": "code",
      "source": [
        "# Maintain consistency in each sentence vector so that the size of our matrix is consistent\n",
        "# Compute sentence vectors by averaging the word vectors for the words contained in the sentence\n",
        "X_train_vect_avg = []\n",
        "for v in X_train_vect:\n",
        "    if v.size:\n",
        "        # take average weights across all the word vectors within the sentence vector\n",
        "        X_train_vect_avg.append(v.mean(axis=0))\n",
        "    else:\n",
        "        # else set zero vector of size 100 because the size of vector that we initially set is 100\n",
        "        X_train_vect_avg.append(np.zeros(100, dtype=float))\n",
        "        \n",
        "X_test_vect_avg = []\n",
        "for v in X_test_vect:\n",
        "    if v.size:\n",
        "        # take average weights across all the word vectors within the sentence vector\n",
        "        X_test_vect_avg.append(v.mean(axis=0))\n",
        "    else:\n",
        "        # else set zero vector of size 100 because the size of vector that we initially set is 100\n",
        "        X_test_vect_avg.append(np.zeros(100, dtype=float))"
      ],
      "metadata": {
        "id": "vQ3_Gd_fpXRI"
      },
      "execution_count": 14,
      "outputs": []
    },
    {
      "cell_type": "code",
      "source": [
        "# now all sentence vector has consistent length of 100\n",
        "for i, v in enumerate(X_train_vect_avg[:20]):\n",
        "    print(len(X_train.iloc[i]), len(v))"
      ],
      "metadata": {
        "colab": {
          "base_uri": "https://localhost:8080/"
        },
        "id": "_7j6mc6Cp4YX",
        "outputId": "6c00a15a-d2a3-4c90-fdc1-91d1200766c5"
      },
      "execution_count": 15,
      "outputs": [
        {
          "output_type": "stream",
          "name": "stdout",
          "text": [
            "38 100\n",
            "14 100\n",
            "12 100\n",
            "15 100\n",
            "31 100\n",
            "18 100\n",
            "38 100\n",
            "14 100\n",
            "31 100\n",
            "47 100\n",
            "19 100\n",
            "38 100\n",
            "32 100\n",
            "29 100\n",
            "94 100\n",
            "21 100\n",
            "17 100\n",
            "40 100\n",
            "23 100\n",
            "12 100\n"
          ]
        }
      ]
    },
    {
      "cell_type": "code",
      "source": [
        "X_train_vect_avg[0]"
      ],
      "metadata": {
        "colab": {
          "base_uri": "https://localhost:8080/"
        },
        "id": "7P5J0nnq3Co2",
        "outputId": "d4e33198-a84a-48bd-d6cb-ac40352b0565"
      },
      "execution_count": 16,
      "outputs": [
        {
          "output_type": "execute_result",
          "data": {
            "text/plain": [
              "array([-0.26058054,  0.36760646,  0.20539394, -0.04783827,  0.08813808,\n",
              "       -0.60959476,  0.19765328,  0.6665476 , -0.35277152, -0.22342208,\n",
              "       -0.17544968, -0.47595716, -0.01676358,  0.1789007 ,  0.11047981,\n",
              "       -0.24229467, -0.01449724, -0.5166511 ,  0.03000392, -0.7683334 ,\n",
              "        0.24777858,  0.01669079,  0.17863762, -0.08151584, -0.13493885,\n",
              "        0.00148607, -0.17653872, -0.21985196, -0.4295752 ,  0.08286061,\n",
              "        0.31109828,  0.15058447,  0.05448637, -0.36130923, -0.14414799,\n",
              "        0.35350293, -0.05816678, -0.37074894, -0.07870349, -0.7459498 ,\n",
              "        0.04957513, -0.469295  , -0.23837543,  0.03989196,  0.34306923,\n",
              "       -0.02881633, -0.31929862, -0.09354813,  0.22704071,  0.3535639 ,\n",
              "        0.3486038 , -0.28185093, -0.14379263,  0.09200014, -0.2953661 ,\n",
              "        0.15158556,  0.17072922,  0.0069647 , -0.43264514,  0.15302578,\n",
              "        0.114422  ,  0.24795242, -0.13808247, -0.12970579, -0.3445673 ,\n",
              "        0.27280205,  0.09481765,  0.14596738, -0.48774937,  0.42373464,\n",
              "       -0.32994062,  0.21607491,  0.27301812, -0.13929018,  0.3135604 ,\n",
              "        0.26555893,  0.00212689, -0.0553799 , -0.31455797,  0.04274946,\n",
              "       -0.06553381,  0.12179162, -0.37695575,  0.4732783 , -0.14772134,\n",
              "        0.01014824, -0.03491715,  0.4645416 ,  0.54126364,  0.06911208,\n",
              "        0.38924226,  0.17980927, -0.10264726,  0.18216152,  0.6254161 ,\n",
              "        0.46934137,  0.26031455, -0.4128471 ,  0.14897169,  0.05533164],\n",
              "      dtype=float32)"
            ]
          },
          "metadata": {},
          "execution_count": 16
        }
      ]
    },
    {
      "cell_type": "code",
      "source": [
        "print('Dimension of training data is {} by {}.'.format(len(X_train_vect_avg), len(X_train_vect_avg[0])))"
      ],
      "metadata": {
        "colab": {
          "base_uri": "https://localhost:8080/"
        },
        "id": "ZABRXscw3i75",
        "outputId": "fbd7283d-762a-4d31-9865-b1aadf6a0e75"
      },
      "execution_count": 17,
      "outputs": [
        {
          "output_type": "stream",
          "name": "stdout",
          "text": [
            "Dimension of training data is 4355 by 100.\n"
          ]
        }
      ]
    },
    {
      "cell_type": "code",
      "source": [
        "# format the response value\n",
        "y_train.values.ravel()"
      ],
      "metadata": {
        "colab": {
          "base_uri": "https://localhost:8080/"
        },
        "id": "vNmqTWvOqkg9",
        "outputId": "90d80d70-50ae-469d-f74f-cd9df9767d7d"
      },
      "execution_count": 18,
      "outputs": [
        {
          "output_type": "execute_result",
          "data": {
            "text/plain": [
              "array([1, 1, 1, ..., 0, 1, 0])"
            ]
          },
          "metadata": {},
          "execution_count": 18
        }
      ]
    },
    {
      "cell_type": "code",
      "source": [
        "# Fit logistic regression\n",
        "logr = LogisticRegression(random_state = 1)\n",
        "logr.fit(X_train_vect_avg, y_train.values.ravel())"
      ],
      "metadata": {
        "colab": {
          "base_uri": "https://localhost:8080/",
          "height": 75
        },
        "id": "HCrL-xQjqWOt",
        "outputId": "46b2f57a-4a67-48f7-c982-eeb1ce629251"
      },
      "execution_count": 19,
      "outputs": [
        {
          "output_type": "execute_result",
          "data": {
            "text/plain": [
              "LogisticRegression(random_state=1)"
            ],
            "text/html": [
              "<style>#sk-container-id-1 {color: black;background-color: white;}#sk-container-id-1 pre{padding: 0;}#sk-container-id-1 div.sk-toggleable {background-color: white;}#sk-container-id-1 label.sk-toggleable__label {cursor: pointer;display: block;width: 100%;margin-bottom: 0;padding: 0.3em;box-sizing: border-box;text-align: center;}#sk-container-id-1 label.sk-toggleable__label-arrow:before {content: \"▸\";float: left;margin-right: 0.25em;color: #696969;}#sk-container-id-1 label.sk-toggleable__label-arrow:hover:before {color: black;}#sk-container-id-1 div.sk-estimator:hover label.sk-toggleable__label-arrow:before {color: black;}#sk-container-id-1 div.sk-toggleable__content {max-height: 0;max-width: 0;overflow: hidden;text-align: left;background-color: #f0f8ff;}#sk-container-id-1 div.sk-toggleable__content pre {margin: 0.2em;color: black;border-radius: 0.25em;background-color: #f0f8ff;}#sk-container-id-1 input.sk-toggleable__control:checked~div.sk-toggleable__content {max-height: 200px;max-width: 100%;overflow: auto;}#sk-container-id-1 input.sk-toggleable__control:checked~label.sk-toggleable__label-arrow:before {content: \"▾\";}#sk-container-id-1 div.sk-estimator input.sk-toggleable__control:checked~label.sk-toggleable__label {background-color: #d4ebff;}#sk-container-id-1 div.sk-label input.sk-toggleable__control:checked~label.sk-toggleable__label {background-color: #d4ebff;}#sk-container-id-1 input.sk-hidden--visually {border: 0;clip: rect(1px 1px 1px 1px);clip: rect(1px, 1px, 1px, 1px);height: 1px;margin: -1px;overflow: hidden;padding: 0;position: absolute;width: 1px;}#sk-container-id-1 div.sk-estimator {font-family: monospace;background-color: #f0f8ff;border: 1px dotted black;border-radius: 0.25em;box-sizing: border-box;margin-bottom: 0.5em;}#sk-container-id-1 div.sk-estimator:hover {background-color: #d4ebff;}#sk-container-id-1 div.sk-parallel-item::after {content: \"\";width: 100%;border-bottom: 1px solid gray;flex-grow: 1;}#sk-container-id-1 div.sk-label:hover label.sk-toggleable__label {background-color: #d4ebff;}#sk-container-id-1 div.sk-serial::before {content: \"\";position: absolute;border-left: 1px solid gray;box-sizing: border-box;top: 0;bottom: 0;left: 50%;z-index: 0;}#sk-container-id-1 div.sk-serial {display: flex;flex-direction: column;align-items: center;background-color: white;padding-right: 0.2em;padding-left: 0.2em;position: relative;}#sk-container-id-1 div.sk-item {position: relative;z-index: 1;}#sk-container-id-1 div.sk-parallel {display: flex;align-items: stretch;justify-content: center;background-color: white;position: relative;}#sk-container-id-1 div.sk-item::before, #sk-container-id-1 div.sk-parallel-item::before {content: \"\";position: absolute;border-left: 1px solid gray;box-sizing: border-box;top: 0;bottom: 0;left: 50%;z-index: -1;}#sk-container-id-1 div.sk-parallel-item {display: flex;flex-direction: column;z-index: 1;position: relative;background-color: white;}#sk-container-id-1 div.sk-parallel-item:first-child::after {align-self: flex-end;width: 50%;}#sk-container-id-1 div.sk-parallel-item:last-child::after {align-self: flex-start;width: 50%;}#sk-container-id-1 div.sk-parallel-item:only-child::after {width: 0;}#sk-container-id-1 div.sk-dashed-wrapped {border: 1px dashed gray;margin: 0 0.4em 0.5em 0.4em;box-sizing: border-box;padding-bottom: 0.4em;background-color: white;}#sk-container-id-1 div.sk-label label {font-family: monospace;font-weight: bold;display: inline-block;line-height: 1.2em;}#sk-container-id-1 div.sk-label-container {text-align: center;}#sk-container-id-1 div.sk-container {/* jupyter's `normalize.less` sets `[hidden] { display: none; }` but bootstrap.min.css set `[hidden] { display: none !important; }` so we also need the `!important` here to be able to override the default hidden behavior on the sphinx rendered scikit-learn.org. See: https://github.com/scikit-learn/scikit-learn/issues/21755 */display: inline-block !important;position: relative;}#sk-container-id-1 div.sk-text-repr-fallback {display: none;}</style><div id=\"sk-container-id-1\" class=\"sk-top-container\"><div class=\"sk-text-repr-fallback\"><pre>LogisticRegression(random_state=1)</pre><b>In a Jupyter environment, please rerun this cell to show the HTML representation or trust the notebook. <br />On GitHub, the HTML representation is unable to render, please try loading this page with nbviewer.org.</b></div><div class=\"sk-container\" hidden><div class=\"sk-item\"><div class=\"sk-estimator sk-toggleable\"><input class=\"sk-toggleable__control sk-hidden--visually\" id=\"sk-estimator-id-1\" type=\"checkbox\" checked><label for=\"sk-estimator-id-1\" class=\"sk-toggleable__label sk-toggleable__label-arrow\">LogisticRegression</label><div class=\"sk-toggleable__content\"><pre>LogisticRegression(random_state=1)</pre></div></div></div></div></div>"
            ]
          },
          "metadata": {},
          "execution_count": 19
        }
      ]
    },
    {
      "cell_type": "code",
      "source": [
        "# Use the trained model to make predictions on the val data\n",
        "y_pred = logr.predict(X_test_vect_avg)\n",
        "\n",
        "# accuracy metrics\n",
        "print(classification_report(y_test, y_pred, labels=[0, 1]))"
      ],
      "metadata": {
        "colab": {
          "base_uri": "https://localhost:8080/"
        },
        "id": "4Qh4LRELrEwn",
        "outputId": "cf0b9b26-fe97-4007-e911-ad132d64c599"
      },
      "execution_count": 20,
      "outputs": [
        {
          "output_type": "stream",
          "name": "stdout",
          "text": [
            "              precision    recall  f1-score   support\n",
            "\n",
            "           0       0.78      0.02      0.05       294\n",
            "           1       0.73      1.00      0.85       795\n",
            "\n",
            "    accuracy                           0.73      1089\n",
            "   macro avg       0.76      0.51      0.45      1089\n",
            "weighted avg       0.75      0.73      0.63      1089\n",
            "\n"
          ]
        }
      ]
    },
    {
      "cell_type": "code",
      "source": [
        "precision = precision_score(y_test, y_pred)\n",
        "recall = recall_score(y_test, y_pred)\n",
        "f1_scores = f1_score(y_test, y_pred)\n",
        "print('Val Precision: {} / Val Recall: {} / Val F1 Score: {} / Val Accuracy: {}'.format(\n",
        "    round(precision, 3), round(recall, 3), round(f1_scores, 3), round((y_pred==y_test).sum()/len(y_pred), 3)))"
      ],
      "metadata": {
        "colab": {
          "base_uri": "https://localhost:8080/"
        },
        "id": "U_fpNhAIrD0q",
        "outputId": "ab06d768-6332-4733-b4a3-65cc22be180b"
      },
      "execution_count": 21,
      "outputs": [
        {
          "output_type": "stream",
          "name": "stdout",
          "text": [
            "Val Precision: 0.734 / Val Recall: 0.997 / Val F1 Score: 0.846 / Val Accuracy: 0.735\n"
          ]
        }
      ]
    },
    {
      "cell_type": "code",
      "source": [
        "LR_y_pred = logr.predict_proba(X_test_vect_avg)\n",
        "lr_y_test = y_test.copy()"
      ],
      "metadata": {
        "id": "4hBxkguLDzwS"
      },
      "execution_count": 22,
      "outputs": []
    },
    {
      "cell_type": "code",
      "source": [
        "# keep probabilities for the positive outcome only\n",
        "LR_y_probs = LR_y_pred[:, 1]\n",
        "\n",
        "# plot the Test Precision-Recall curve\n",
        "LR_precision, LR_recall, LR_thresholds = precision_recall_curve(lr_y_test, LR_y_probs)\n",
        "\n",
        "plt.plot(LR_recall, LR_precision,  marker='.', label = \"LogReg\")\n",
        "plt.ylabel(\"Precision\")\n",
        "plt.xlabel(\"Recall\")\n",
        "plt.title(\"Test Precision-Recall curve\");"
      ],
      "metadata": {
        "colab": {
          "base_uri": "https://localhost:8080/",
          "height": 301
        },
        "id": "SadmNcgUFH9E",
        "outputId": "dde991a8-0d40-413e-810e-b5f0e66fe5e8"
      },
      "execution_count": 23,
      "outputs": [
        {
          "output_type": "display_data",
          "data": {
            "text/plain": [
              "<Figure size 432x288 with 1 Axes>"
            ],
            "image/png": "[encoded data removed]"
          },
          "metadata": {}
        }
      ]
    },
    {
      "cell_type": "code",
      "source": [
        "auc(LR_recall, LR_precision)"
      ],
      "metadata": {
        "colab": {
          "base_uri": "https://localhost:8080/"
        },
        "id": "r2WcnWfpd1wD",
        "outputId": "712f6df5-0edf-468a-b582-6baec9cd5a06"
      },
      "execution_count": 24,
      "outputs": [
        {
          "output_type": "execute_result",
          "data": {
            "text/plain": [
              "0.8707857001952749"
            ]
          },
          "metadata": {},
          "execution_count": 24
        }
      ]
    },
    {
      "cell_type": "code",
      "source": [
        "average_precision_score(y_test, LR_y_probs)"
      ],
      "metadata": {
        "colab": {
          "base_uri": "https://localhost:8080/"
        },
        "id": "D9rq_BVbrUhL",
        "outputId": "795af7ab-2fb1-48e6-ace2-160e5dbfc0e8"
      },
      "execution_count": 27,
      "outputs": [
        {
          "output_type": "execute_result",
          "data": {
            "text/plain": [
              "0.8709638529458524"
            ]
          },
          "metadata": {},
          "execution_count": 27
        }
      ]
    }
  ]
}