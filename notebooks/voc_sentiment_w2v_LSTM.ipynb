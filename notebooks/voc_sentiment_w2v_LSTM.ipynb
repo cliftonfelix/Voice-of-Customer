{
  "nbformat": 4,
  "nbformat_minor": 0,
  "metadata": {
    "colab": {
      "provenance": []
    },
    "kernelspec": {
      "name": "python3",
      "display_name": "Python 3"
    },
    "language_info": {
      "name": "python"
    }
  },
  "cells": [
    {
      "cell_type": "markdown",
      "source": [
        "# **Implementing Word2Vec with Logistic Regression and LSTM**\n",
        "\n",
        "**CBOW (Continuous Bag-of-Words)** and **Skip-gram** are two popular algorithms used in natural language processing for generating word embeddings.\n",
        "\n",
        "CBOW is a method that predicts the target word based on its context, which is a window of surrounding words. The goal of CBOW is to maximize the probability of predicting the target word given its context. In other words, CBOW learns to predict a word based on the words that surround it.\n",
        "\n",
        "On the other hand, Skip-gram is the inverse of CBOW, where the algorithm predicts the context words given the target word. The goal of Skip-gram is to maximize the probability of predicting the context words given the target word.\n",
        "\n",
        "The difference between CBOW and Skip-gram lies in their training objectives. CBOW is faster to train than Skip-gram because it involves predicting one target word from multiple context words, whereas Skip-gram predicts multiple context words from one target word. However, **Skip-gram is better at capturing rare and infrequent words, while CBOW is better at representing the overall meaning of a sentence**.\n",
        "\n",
        "In summary, CBOW is a faster algorithm that predicts a target word based on its context, while Skip-gram is slower but better at capturing rare words by predicting context words given a target word. The choice of which algorithm to use depends on the specific application and the nature of the data."
      ],
      "metadata": {
        "id": "NwG5KuEVVXtk"
      }
    },
    {
      "cell_type": "code",
      "execution_count": 1,
      "metadata": {
        "colab": {
          "base_uri": "https://localhost:8080/"
        },
        "id": "6ireluuBOMWo",
        "outputId": "4c627fc5-aeda-46fd-e57d-b63784ccd32c"
      },
      "outputs": [
        {
          "output_type": "stream",
          "name": "stdout",
          "text": [
            "Mounted at /content/gdrive\n"
          ]
        }
      ],
      "source": [
        "from google.colab import drive\n",
        "drive.mount('/content/gdrive')"
      ]
    },
    {
      "cell_type": "code",
      "source": [
        "import nltk\n",
        "nltk.download('punkt')"
      ],
      "metadata": {
        "colab": {
          "base_uri": "https://localhost:8080/"
        },
        "id": "tQJoqPlXeBoQ",
        "outputId": "09d668de-bf72-4d54-e37a-92519816cfed"
      },
      "execution_count": 2,
      "outputs": [
        {
          "output_type": "stream",
          "name": "stderr",
          "text": [
            "[nltk_data] Downloading package punkt to /root/nltk_data...\n",
            "[nltk_data]   Unzipping tokenizers/punkt.zip.\n"
          ]
        },
        {
          "output_type": "execute_result",
          "data": {
            "text/plain": [
              "True"
            ]
          },
          "metadata": {},
          "execution_count": 2
        }
      ]
    },
    {
      "cell_type": "code",
      "source": [
        "import pandas as pd\n",
        "import numpy as np\n",
        "import random\n",
        "import math\n",
        "import seaborn as sns\n",
        "import matplotlib.pyplot as plt\n",
        "import time\n",
        "\n",
        "from sklearn.model_selection import train_test_split\n",
        "from sklearn.metrics import precision_score, recall_score, f1_score, classification_report, precision_recall_curve, average_precision_score, auc\n",
        "\n",
        "from nltk.tokenize import sent_tokenize, word_tokenize\n",
        "import gensim\n",
        "from gensim.models import Word2Vec\n",
        "\n",
        "#keras\n",
        "import keras\n",
        "from keras.preprocessing.text import one_hot, Tokenizer, text_to_word_sequence\n",
        "from tensorflow.keras.preprocessing.sequence import pad_sequences\n",
        "from keras.models import Model, Sequential, load_model\n",
        "from keras.layers import Dense, Flatten, Embedding, Input, LSTM, ReLU,Dropout, Bidirectional\n",
        "import tensorflow\n",
        "from tensorflow.compat.v1.keras.layers import CuDNNLSTM\n",
        "from keras.initializers import Constant\n",
        "from keras.callbacks import ModelCheckpoint, ReduceLROnPlateau, EarlyStopping\n"
      ],
      "metadata": {
        "id": "7cuhIsPtOUWl"
      },
      "execution_count": 3,
      "outputs": []
    },
    {
      "cell_type": "code",
      "source": [
        "#Read data from the first sheet\n",
        "#This might take awhile...\n",
        "path = '/content/gdrive/MyDrive/Colab Notebooks/DSA4263 Project/reviews.csv'\n",
        "data = pd.read_csv(path)"
      ],
      "metadata": {
        "id": "ATJXJ7DeOlsK"
      },
      "execution_count": 4,
      "outputs": []
    },
    {
      "cell_type": "code",
      "source": [
        "data.head()"
      ],
      "metadata": {
        "colab": {
          "base_uri": "https://localhost:8080/",
          "height": 206
        },
        "id": "t4cQHiJYZ03j",
        "outputId": "e12e6728-8c13-480f-ce57-726a10f2550e"
      },
      "execution_count": null,
      "outputs": [
        {
          "output_type": "execute_result",
          "data": {
            "text/plain": [
              "      date                             partially_cleaned_text  sentiment  \\\n",
              "0  18/6/21  This is a very healthy dog food. Good for thei...          1   \n",
              "1   7/7/21  I've been very pleased with the Natural Balanc...          1   \n",
              "2  18/6/21  Before I was educated about feline nutrition, ...          1   \n",
              "3   7/7/21  My holistic vet recommended this, along with a...          1   \n",
              "4   1/7/21  I bought this coffee because its much cheaper ...          1   \n",
              "\n",
              "                                        cleaned_text  \n",
              "0  healthy dog food good digestion also good smal...  \n",
              "1  pleased natural balance dog food dogs issues d...  \n",
              "2  educated feline nutrition allowed cats become ...  \n",
              "3  holistic vet recommended along brands tried ca...  \n",
              "4  bought coffee much cheaper ganocafe organic re...  "
            ],
            "text/html": [
              "\n",
              "  <div id=\"df-f4ffccca-3a27-40a1-9427-b61ef2673ec2\">\n",
              "    <div class=\"colab-df-container\">\n",
              "      <div>\n",
              "<style scoped>\n",
              "    .dataframe tbody tr th:only-of-type {\n",
              "        vertical-align: middle;\n",
              "    }\n",
              "\n",
              "    .dataframe tbody tr th {\n",
              "        vertical-align: top;\n",
              "    }\n",
              "\n",
              "    .dataframe thead th {\n",
              "        text-align: right;\n",
              "    }\n",
              "</style>\n",
              "<table border=\"1\" class=\"dataframe\">\n",
              "  <thead>\n",
              "    <tr style=\"text-align: right;\">\n",
              "      <th></th>\n",
              "      <th>date</th>\n",
              "      <th>partially_cleaned_text</th>\n",
              "      <th>sentiment</th>\n",
              "      <th>cleaned_text</th>\n",
              "    </tr>\n",
              "  </thead>\n",
              "  <tbody>\n",
              "    <tr>\n",
              "      <th>0</th>\n",
              "      <td>18/6/21</td>\n",
              "      <td>This is a very healthy dog food. Good for thei...</td>\n",
              "      <td>1</td>\n",
              "      <td>healthy dog food good digestion also good smal...</td>\n",
              "    </tr>\n",
              "    <tr>\n",
              "      <th>1</th>\n",
              "      <td>7/7/21</td>\n",
              "      <td>I've been very pleased with the Natural Balanc...</td>\n",
              "      <td>1</td>\n",
              "      <td>pleased natural balance dog food dogs issues d...</td>\n",
              "    </tr>\n",
              "    <tr>\n",
              "      <th>2</th>\n",
              "      <td>18/6/21</td>\n",
              "      <td>Before I was educated about feline nutrition, ...</td>\n",
              "      <td>1</td>\n",
              "      <td>educated feline nutrition allowed cats become ...</td>\n",
              "    </tr>\n",
              "    <tr>\n",
              "      <th>3</th>\n",
              "      <td>7/7/21</td>\n",
              "      <td>My holistic vet recommended this, along with a...</td>\n",
              "      <td>1</td>\n",
              "      <td>holistic vet recommended along brands tried ca...</td>\n",
              "    </tr>\n",
              "    <tr>\n",
              "      <th>4</th>\n",
              "      <td>1/7/21</td>\n",
              "      <td>I bought this coffee because its much cheaper ...</td>\n",
              "      <td>1</td>\n",
              "      <td>bought coffee much cheaper ganocafe organic re...</td>\n",
              "    </tr>\n",
              "  </tbody>\n",
              "</table>\n",
              "</div>\n",
              "      <button class=\"colab-df-convert\" onclick=\"convertToInteractive('df-f4ffccca-3a27-40a1-9427-b61ef2673ec2')\"\n",
              "              title=\"Convert this dataframe to an interactive table.\"\n",
              "              style=\"display:none;\">\n",
              "        \n",
              "  <svg xmlns=\"http://www.w3.org/2000/svg\" height=\"24px\"viewBox=\"0 0 24 24\"\n",
              "       width=\"24px\">\n",
              "    <path d=\"M0 0h24v24H0V0z\" fill=\"none\"/>\n",
              "    <path d=\"M18.56 5.44l.94 2.06.94-2.06 2.06-.94-2.06-.94-.94-2.06-.94 2.06-2.06.94zm-11 1L8.5 8.5l.94-2.06 2.06-.94-2.06-.94L8.5 2.5l-.94 2.06-2.06.94zm10 10l.94 2.06.94-2.06 2.06-.94-2.06-.94-.94-2.06-.94 2.06-2.06.94z\"/><path d=\"M17.41 7.96l-1.37-1.37c-.4-.4-.92-.59-1.43-.59-.52 0-1.04.2-1.43.59L10.3 9.45l-7.72 7.72c-.78.78-.78 2.05 0 2.83L4 21.41c.39.39.9.59 1.41.59.51 0 1.02-.2 1.41-.59l7.78-7.78 2.81-2.81c.8-.78.8-2.07 0-2.86zM5.41 20L4 18.59l7.72-7.72 1.47 1.35L5.41 20z\"/>\n",
              "  </svg>\n",
              "      </button>\n",
              "      \n",
              "  <style>\n",
              "    .colab-df-container {\n",
              "      display:flex;\n",
              "      flex-wrap:wrap;\n",
              "      gap: 12px;\n",
              "    }\n",
              "\n",
              "    .colab-df-convert {\n",
              "      background-color: #E8F0FE;\n",
              "      border: none;\n",
              "      border-radius: 50%;\n",
              "      cursor: pointer;\n",
              "      display: none;\n",
              "      fill: #1967D2;\n",
              "      height: 32px;\n",
              "      padding: 0 0 0 0;\n",
              "      width: 32px;\n",
              "    }\n",
              "\n",
              "    .colab-df-convert:hover {\n",
              "      background-color: #E2EBFA;\n",
              "      box-shadow: 0px 1px 2px rgba(60, 64, 67, 0.3), 0px 1px 3px 1px rgba(60, 64, 67, 0.15);\n",
              "      fill: #174EA6;\n",
              "    }\n",
              "\n",
              "    [theme=dark] .colab-df-convert {\n",
              "      background-color: #3B4455;\n",
              "      fill: #D2E3FC;\n",
              "    }\n",
              "\n",
              "    [theme=dark] .colab-df-convert:hover {\n",
              "      background-color: #434B5C;\n",
              "      box-shadow: 0px 1px 3px 1px rgba(0, 0, 0, 0.15);\n",
              "      filter: drop-shadow(0px 1px 2px rgba(0, 0, 0, 0.3));\n",
              "      fill: #FFFFFF;\n",
              "    }\n",
              "  </style>\n",
              "\n",
              "      <script>\n",
              "        const buttonEl =\n",
              "          document.querySelector('#df-f4ffccca-3a27-40a1-9427-b61ef2673ec2 button.colab-df-convert');\n",
              "        buttonEl.style.display =\n",
              "          google.colab.kernel.accessAllowed ? 'block' : 'none';\n",
              "\n",
              "        async function convertToInteractive(key) {\n",
              "          const element = document.querySelector('#df-f4ffccca-3a27-40a1-9427-b61ef2673ec2');\n",
              "          const dataTable =\n",
              "            await google.colab.kernel.invokeFunction('convertToInteractive',\n",
              "                                                     [key], {});\n",
              "          if (!dataTable) return;\n",
              "\n",
              "          const docLinkHtml = 'Like what you see? Visit the ' +\n",
              "            '<a target=\"_blank\" href=https://colab.research.google.com/notebooks/data_table.ipynb>data table notebook</a>'\n",
              "            + ' to learn more about interactive tables.';\n",
              "          element.innerHTML = '';\n",
              "          dataTable['output_type'] = 'display_data';\n",
              "          await google.colab.output.renderOutput(dataTable, element);\n",
              "          const docLink = document.createElement('div');\n",
              "          docLink.innerHTML = docLinkHtml;\n",
              "          element.appendChild(docLink);\n",
              "        }\n",
              "      </script>\n",
              "    </div>\n",
              "  </div>\n",
              "  "
            ]
          },
          "metadata": {},
          "execution_count": 5
        }
      ]
    },
    {
      "cell_type": "code",
      "source": [
        "# plot Distribution of Sentiment Labels, checking of imbalanced data\n",
        "sns.set_theme(style=\"whitegrid\")\n",
        "\n",
        "fig, ax = plt.subplots(figsize=(8,6))\n",
        "sns.countplot(data = data, x = 'sentiment')\n",
        "ax.set_title('Distribution of Sentiment Labels')"
      ],
      "metadata": {
        "colab": {
          "base_uri": "https://localhost:8080/",
          "height": 427
        },
        "id": "WmQNS9KGTWBn",
        "outputId": "94dbf770-d1f6-434c-9b5e-8ec317ff2b27"
      },
      "execution_count": null,
      "outputs": [
        {
          "output_type": "execute_result",
          "data": {
            "text/plain": [
              "Text(0.5, 1.0, 'Distribution of Sentiment Labels')"
            ]
          },
          "metadata": {},
          "execution_count": 13
        },
        {
          "output_type": "display_data",
          "data": {
            "text/plain": [
              "<Figure size 576x432 with 1 Axes>"
            ],
            "image/png": "[encoded data removed]"
          },
          "metadata": {}
        }
      ]
    },
    {
      "cell_type": "code",
      "source": [
        "# tokenise the cleaned text\n",
        "data['cleaned_text_new'] = data['cleaned_text'].apply(lambda x: word_tokenize(x))"
      ],
      "metadata": {
        "id": "r2C0Uy5qdmpB"
      },
      "execution_count": 5,
      "outputs": []
    },
    {
      "cell_type": "markdown",
      "source": [
        "## Word2Vec + Neural Networks (ANN and LSTM)\n",
        "\n",
        "From the Test Precision-Recall curve, we are able to derive that LSTM performs better than NN."
      ],
      "metadata": {
        "id": "Yl2yrF0bYzO0"
      }
    },
    {
      "cell_type": "code",
      "source": [
        "# Train the CBOW architecture\n",
        "w2v_model1 = gensim.models.Word2Vec(data['cleaned_text_new'], vector_size=100, window=5, min_count=2, sg =0)"
      ],
      "metadata": {
        "id": "uY1Mwd7XfIpe"
      },
      "execution_count": 6,
      "outputs": []
    },
    {
      "cell_type": "code",
      "source": [
        "# Represents all of the words that our Word2Vec model learned a vector for (i.e all of the words that appeared in the training data at least twice)\n",
        "w2v_model1.wv.index_to_key[0:20]"
      ],
      "metadata": {
        "colab": {
          "base_uri": "https://localhost:8080/"
        },
        "outputId": "20593725-aae5-4441-8f76-5b9c05f9d377",
        "id": "6N12mqbkfIpf"
      },
      "execution_count": 7,
      "outputs": [
        {
          "output_type": "execute_result",
          "data": {
            "text/plain": [
              "['like',\n",
              " 'taste',\n",
              " 'good',\n",
              " 'great',\n",
              " 'product',\n",
              " 'would',\n",
              " 'flavor',\n",
              " 'one',\n",
              " 'coffee',\n",
              " 'love',\n",
              " 'price',\n",
              " 'really',\n",
              " 'tea',\n",
              " 'much',\n",
              " 'get',\n",
              " 'amazon',\n",
              " 'food',\n",
              " 'buy',\n",
              " 'even',\n",
              " 'use']"
            ]
          },
          "metadata": {},
          "execution_count": 7
        }
      ]
    },
    {
      "cell_type": "code",
      "source": [
        "tok = Tokenizer()\n",
        "tok.fit_on_texts(data['cleaned_text'])\n",
        "\n",
        "# number of unique text in the data\n",
        "vocab_size = len(tok.word_index) + 1\n",
        "print('There are {} unique text in the data.'.format(vocab_size))"
      ],
      "metadata": {
        "colab": {
          "base_uri": "https://localhost:8080/"
        },
        "id": "Vlh481XSX9yQ",
        "outputId": "bb1acf64-531c-4257-da6b-7ada363e2114"
      },
      "execution_count": 8,
      "outputs": [
        {
          "output_type": "stream",
          "name": "stdout",
          "text": [
            "There are 12339 unique text in the data.\n"
          ]
        }
      ]
    },
    {
      "cell_type": "code",
      "source": [
        "# find the maximum length in each record\n",
        "maxi=-1\n",
        "for i,rev in enumerate(data['cleaned_text']):\n",
        "    tokens = rev.split()\n",
        "    if(len(tokens) > maxi):\n",
        "        maxi = len(tokens)\n",
        "print('The maximum length of the review for each record in the data is {}.'.format(maxi))\n",
        "\n",
        "# max length of a review\n",
        "max_rev_len = maxi + 1 \n",
        "\n",
        "# embedding dimension as choosen in word2vec constructor\n",
        "embed_dim=100 "
      ],
      "metadata": {
        "colab": {
          "base_uri": "https://localhost:8080/"
        },
        "id": "vAOaPw4hae8K",
        "outputId": "34415993-abc4-4582-8bbe-e3e97403e3c4"
      },
      "execution_count": 9,
      "outputs": [
        {
          "output_type": "stream",
          "name": "stdout",
          "text": [
            "The maximum length of the review for each record in the data is 940.\n"
          ]
        }
      ]
    },
    {
      "cell_type": "code",
      "source": [
        "# this converts texts into some numeric sequences \n",
        "encd_rev = tok.texts_to_sequences(data['cleaned_text'])\n",
        "\n",
        "# we dont pad to a maximum length of 925 but use 50 if not the train data will be very sparse\n",
        "pad_rev= pad_sequences(encd_rev, maxlen = 50, padding = 'post')\n",
        "pad_rev.shape  "
      ],
      "metadata": {
        "colab": {
          "base_uri": "https://localhost:8080/"
        },
        "id": "j0-Wy0JccB1p",
        "outputId": "73b38405-38b3-4e99-a974-f902c91072fe"
      },
      "execution_count": 10,
      "outputs": [
        {
          "output_type": "execute_result",
          "data": {
            "text/plain": [
              "(5444, 50)"
            ]
          },
          "metadata": {},
          "execution_count": 10
        }
      ]
    },
    {
      "cell_type": "code",
      "source": [
        "# now creating the embedding matrix\n",
        "embed_matrix=np.zeros(shape = (vocab_size, embed_dim))\n",
        "for word, i in tok.word_index.items():\n",
        "\n",
        "  # check if word is in the vocabulary learned by the w2v model\n",
        "  if word in w2v_model1.wv.index_to_key:  \n",
        "    # get the word vector from w2v model\n",
        "    embed_matrix[i] = w2v_model1.wv[word]\n",
        "  # else the embed_vector corressponding to that vector will stay zero."
      ],
      "metadata": {
        "id": "V-AcU4KOcnQp"
      },
      "execution_count": 11,
      "outputs": []
    },
    {
      "cell_type": "code",
      "source": [
        "embed_matrix.shape"
      ],
      "metadata": {
        "colab": {
          "base_uri": "https://localhost:8080/"
        },
        "id": "mYmWXmricbcb",
        "outputId": "d99d78d6-4cf0-44c3-fc32-a8ce6d76e761"
      },
      "execution_count": null,
      "outputs": [
        {
          "output_type": "execute_result",
          "data": {
            "text/plain": [
              "(12339, 100)"
            ]
          },
          "metadata": {},
          "execution_count": 13
        }
      ]
    },
    {
      "cell_type": "code",
      "source": [
        "# one hot target as required by NN.\n",
        "Y=keras.utils.to_categorical(data['sentiment']) \n",
        "X_train, X_test, y_train, y_test = train_test_split(pad_rev, Y, test_size = 0.20, random_state = 11)"
      ],
      "metadata": {
        "id": "IPqV5wlFeQs2"
      },
      "execution_count": 12,
      "outputs": []
    },
    {
      "cell_type": "markdown",
      "source": [
        "### NN"
      ],
      "metadata": {
        "id": "S-2kPHTKagGi"
      }
    },
    {
      "cell_type": "code",
      "source": [
        "# Build the NN Model\n",
        "model=Sequential()\n",
        "model.add(Embedding(input_dim = vocab_size, output_dim = embed_dim, \n",
        "                    input_length = 50, weights=[embed_matrix])) # embeddings_initializer = Constant(embed_matrix)))\n",
        "\n",
        "model.add(Flatten())\n",
        "model.add(Dense(16, activation = 'relu'))\n",
        "model.add(Dropout(0.50))\n",
        "# model.add(Dense(16,activation = 'relu'))\n",
        "# model.add(Dropout(0.20))\n",
        "model.add(Dense(2, activation = 'sigmoid')) \n",
        "#model.add(Dense(2, activation = 'softmax'))"
      ],
      "metadata": {
        "id": "HwDpTEzlagGj"
      },
      "execution_count": 21,
      "outputs": []
    },
    {
      "cell_type": "code",
      "source": [
        "model.compile(optimizer='adam', metrics=['acc'],  loss='binary_crossentropy')\n",
        "\n",
        "print(model.summary())"
      ],
      "metadata": {
        "colab": {
          "base_uri": "https://localhost:8080/"
        },
        "outputId": "6c408cc5-fc4e-4653-bf17-9c9079b42d24",
        "id": "XzefjYRoagGj"
      },
      "execution_count": 22,
      "outputs": [
        {
          "output_type": "stream",
          "name": "stdout",
          "text": [
            "Model: \"sequential\"\n",
            "_________________________________________________________________\n",
            " Layer (type)                Output Shape              Param #   \n",
            "=================================================================\n",
            " embedding (Embedding)       (None, 50, 100)           1233900   \n",
            "                                                                 \n",
            " flatten (Flatten)           (None, 5000)              0         \n",
            "                                                                 \n",
            " dense (Dense)               (None, 16)                80016     \n",
            "                                                                 \n",
            " dropout (Dropout)           (None, 16)                0         \n",
            "                                                                 \n",
            " dense_1 (Dense)             (None, 2)                 34        \n",
            "                                                                 \n",
            "=================================================================\n",
            "Total params: 1,313,950\n",
            "Trainable params: 1,313,950\n",
            "Non-trainable params: 0\n",
            "_________________________________________________________________\n",
            "None\n"
          ]
        }
      ]
    },
    {
      "cell_type": "code",
      "source": [
        "# Run NN \n",
        "\n",
        "start = time.time()\n",
        "history_embedding = model.fit(X_train, y_train, epochs=15, batch_size = 64, validation_data = (X_test, y_test)) \n",
        "\n",
        "end = time.time()\n",
        "print(\"Time taken to run model: {} seconds.\".format(end - start))"
      ],
      "metadata": {
        "colab": {
          "base_uri": "https://localhost:8080/"
        },
        "outputId": "e337ff94-7a2e-4436-c19d-71dc773734bb",
        "id": "D5_hZVemagGj"
      },
      "execution_count": 23,
      "outputs": [
        {
          "output_type": "stream",
          "name": "stdout",
          "text": [
            "Epoch 1/15\n",
            "69/69 [==============================] - 3s 26ms/step - loss: 0.5890 - acc: 0.7366 - val_loss: 0.5526 - val_acc: 0.7300\n",
            "Epoch 2/15\n",
            "69/69 [==============================] - 2s 30ms/step - loss: 0.5586 - acc: 0.7428 - val_loss: 0.5380 - val_acc: 0.7300\n",
            "Epoch 3/15\n",
            "69/69 [==============================] - 2s 31ms/step - loss: 0.5106 - acc: 0.7428 - val_loss: 0.4929 - val_acc: 0.7300\n",
            "Epoch 4/15\n",
            "69/69 [==============================] - 2s 24ms/step - loss: 0.4451 - acc: 0.7428 - val_loss: 0.4369 - val_acc: 0.7300\n",
            "Epoch 5/15\n",
            "69/69 [==============================] - 1s 21ms/step - loss: 0.3688 - acc: 0.7428 - val_loss: 0.4237 - val_acc: 0.7300\n",
            "Epoch 6/15\n",
            "69/69 [==============================] - 1s 21ms/step - loss: 0.3020 - acc: 0.7968 - val_loss: 0.3939 - val_acc: 0.8145\n",
            "Epoch 7/15\n",
            "69/69 [==============================] - 2s 30ms/step - loss: 0.2598 - acc: 0.9164 - val_loss: 0.4280 - val_acc: 0.8072\n",
            "Epoch 8/15\n",
            "69/69 [==============================] - 3s 40ms/step - loss: 0.2238 - acc: 0.9479 - val_loss: 0.4302 - val_acc: 0.8246\n",
            "Epoch 9/15\n",
            "69/69 [==============================] - 3s 39ms/step - loss: 0.2034 - acc: 0.9635 - val_loss: 0.4692 - val_acc: 0.8200\n",
            "Epoch 10/15\n",
            "69/69 [==============================] - 3s 42ms/step - loss: 0.1835 - acc: 0.9713 - val_loss: 0.5291 - val_acc: 0.8200\n",
            "Epoch 11/15\n",
            "69/69 [==============================] - 2s 36ms/step - loss: 0.1740 - acc: 0.9743 - val_loss: 0.4539 - val_acc: 0.8439\n",
            "Epoch 12/15\n",
            "69/69 [==============================] - 2s 32ms/step - loss: 0.1621 - acc: 0.9791 - val_loss: 0.5435 - val_acc: 0.8329\n",
            "Epoch 13/15\n",
            "69/69 [==============================] - 1s 21ms/step - loss: 0.1465 - acc: 0.9869 - val_loss: 0.5795 - val_acc: 0.8320\n",
            "Epoch 14/15\n",
            "69/69 [==============================] - 2s 22ms/step - loss: 0.1389 - acc: 0.9869 - val_loss: 0.5356 - val_acc: 0.8402\n",
            "Epoch 15/15\n",
            "69/69 [==============================] - 2s 22ms/step - loss: 0.1331 - acc: 0.9862 - val_loss: 0.5952 - val_acc: 0.8347\n",
            "Time taken to run model: 31.246803522109985 seconds.\n"
          ]
        }
      ]
    },
    {
      "cell_type": "code",
      "source": [
        "# predict the response on the test data\n",
        "NN_y_pred = model.predict(X_test) \n",
        "\n",
        "# get the predicted test response\n",
        "NN_test_pred = []\n",
        "for pred in NN_y_pred:\n",
        "  if pred[0] >= 0.5:\n",
        "    NN_test_pred.append(0)\n",
        "  else:\n",
        "    NN_test_pred.append(1)\n",
        "\n",
        "\n",
        "# get actual test response\n",
        "test_actual = []\n",
        "for pred in y_test:\n",
        "  if pred[0] >= 0.5:\n",
        "    test_actual.append(0)\n",
        "  else:\n",
        "    test_actual.append(1)"
      ],
      "metadata": {
        "id": "TEDw1GlJRNj1",
        "colab": {
          "base_uri": "https://localhost:8080/"
        },
        "outputId": "faafd325-6bf5-480e-8284-77036f33c411"
      },
      "execution_count": 24,
      "outputs": [
        {
          "output_type": "stream",
          "name": "stdout",
          "text": [
            "35/35 [==============================] - 0s 3ms/step\n"
          ]
        }
      ]
    },
    {
      "cell_type": "code",
      "source": [
        "# classification report for NN\n",
        "print(classification_report(test_actual, NN_test_pred, labels=[0, 1]))"
      ],
      "metadata": {
        "colab": {
          "base_uri": "https://localhost:8080/"
        },
        "id": "dQaZORvMTPxm",
        "outputId": "85d5e363-6923-471e-c55d-cd2659c478b8"
      },
      "execution_count": 25,
      "outputs": [
        {
          "output_type": "stream",
          "name": "stdout",
          "text": [
            "              precision    recall  f1-score   support\n",
            "\n",
            "           0       0.88      0.46      0.61       294\n",
            "           1       0.83      0.98      0.90       795\n",
            "\n",
            "    accuracy                           0.84      1089\n",
            "   macro avg       0.85      0.72      0.75      1089\n",
            "weighted avg       0.84      0.84      0.82      1089\n",
            "\n"
          ]
        }
      ]
    },
    {
      "cell_type": "code",
      "source": [
        "# keep probabilities for the positive outcome only\n",
        "NN_y_probs = NN_y_pred[:, 1]\n",
        "\n",
        "# plot the Test Precision-Recall curve\n",
        "NN_precision, NN_recall, thresholds = precision_recall_curve(test_actual, NN_y_probs)\n",
        "plt.plot(NN_recall, NN_precision,  marker='.', label = \"NN\")\n",
        "plt.ylabel(\"Precision\")\n",
        "plt.xlabel(\"Recall\")\n",
        "plt.legend()\n",
        "plt.title(\"Test Precision-Recall curve\");"
      ],
      "metadata": {
        "colab": {
          "base_uri": "https://localhost:8080/",
          "height": 295
        },
        "id": "vCkZU9z78LhR",
        "outputId": "b1038007-6cc7-4055-b4d4-e20c7ab5e17c"
      },
      "execution_count": 30,
      "outputs": [
        {
          "output_type": "display_data",
          "data": {
            "text/plain": [
              "<Figure size 432x288 with 1 Axes>"
            ],
            "image/png": "[encoded data removed]"
          },
          "metadata": {
            "needs_background": "light"
          }
        }
      ]
    },
    {
      "cell_type": "code",
      "source": [
        "auc(NN_recall, NN_precision)"
      ],
      "metadata": {
        "colab": {
          "base_uri": "https://localhost:8080/"
        },
        "id": "woow6NDJeVtv",
        "outputId": "b4c88377-dc25-4d3a-8383-9317fc5bd901"
      },
      "execution_count": 31,
      "outputs": [
        {
          "output_type": "execute_result",
          "data": {
            "text/plain": [
              "0.9626273469640907"
            ]
          },
          "metadata": {},
          "execution_count": 31
        }
      ]
    },
    {
      "cell_type": "code",
      "source": [
        "average_precision_score(test_actual, NN_y_probs)"
      ],
      "metadata": {
        "colab": {
          "base_uri": "https://localhost:8080/"
        },
        "id": "ywEeexSvpqi2",
        "outputId": "7b11b8fa-7af2-4b1c-eb7f-7d3decc2f8ef"
      },
      "execution_count": 32,
      "outputs": [
        {
          "output_type": "execute_result",
          "data": {
            "text/plain": [
              "0.9622482952514285"
            ]
          },
          "metadata": {},
          "execution_count": 32
        }
      ]
    },
    {
      "cell_type": "markdown",
      "source": [
        "### LSTM"
      ],
      "metadata": {
        "id": "6hxh_g0vzQC0"
      }
    },
    {
      "cell_type": "code",
      "source": [
        "# Build the LSTM Model\n",
        "model=Sequential()\n",
        "model.add(Embedding(input_dim = vocab_size, output_dim = embed_dim, \n",
        "                    input_length = 50, weights=[embed_matrix])) # embeddings_initializer = Constant(embed_matrix)))\n",
        "model.add(LSTM(128))\n",
        "model.add(Flatten())\n",
        "model.add(Dense(16, activation = 'relu'))\n",
        "model.add(Dropout(0.20))\n",
        "model.add(Dense(2, activation='sigmoid'))"
      ],
      "metadata": {
        "id": "d20pxf1E-RQU"
      },
      "execution_count": null,
      "outputs": []
    },
    {
      "cell_type": "code",
      "source": [
        "# compile the model\n",
        "model.compile(optimizer = keras.optimizers.RMSprop(learning_rate = 5e-4), loss = 'binary_crossentropy', metrics = ['accuracy'])\n",
        "\n",
        "from keras.callbacks import ModelCheckpoint, ReduceLROnPlateau, EarlyStopping\n",
        "\n",
        "file_path = '/content/gdrive/MyDrive/Colab Notebooks/DSA4263 Project/LSTM220323.h5'\n",
        "\n",
        "checkpoint = ModelCheckpoint(\n",
        "    file_path, monitor=\"val_accuracy\", verbose=1, save_best_only=True, mode=\"max\"\n",
        ")\n",
        "\n",
        "# reduce_on_plateau = ReduceLROnPlateau(\n",
        "#     monitor=\"val_accuracy\", factor=0.1, patience=2, verbose=1, min_delta=1e-2\n",
        "# )\n",
        "\n",
        "early_stopping = EarlyStopping(\n",
        "    monitor=\"val_loss\", patience=3, verbose=2, min_delta=1e-2\n",
        ")\n",
        "\n",
        "callbacks_list = [checkpoint, early_stopping]\n",
        "\n",
        "print(model.summary())"
      ],
      "metadata": {
        "colab": {
          "base_uri": "https://localhost:8080/"
        },
        "outputId": "7d97e695-958c-43f1-d3fe-ff4a5a0b8e4b",
        "id": "x6oK6o8Wy-Kd"
      },
      "execution_count": null,
      "outputs": [
        {
          "output_type": "stream",
          "name": "stdout",
          "text": [
            "Model: \"sequential_8\"\n",
            "_________________________________________________________________\n",
            " Layer (type)                Output Shape              Param #   \n",
            "=================================================================\n",
            " embedding_8 (Embedding)     (None, 50, 100)           1233900   \n",
            "                                                                 \n",
            " lstm_7 (LSTM)               (None, 128)               117248    \n",
            "                                                                 \n",
            " flatten_8 (Flatten)         (None, 128)               0         \n",
            "                                                                 \n",
            " dense_16 (Dense)            (None, 16)                2064      \n",
            "                                                                 \n",
            " dropout_8 (Dropout)         (None, 16)                0         \n",
            "                                                                 \n",
            " dense_17 (Dense)            (None, 2)                 34        \n",
            "                                                                 \n",
            "=================================================================\n",
            "Total params: 1,353,246\n",
            "Trainable params: 1,353,246\n",
            "Non-trainable params: 0\n",
            "_________________________________________________________________\n",
            "None\n"
          ]
        }
      ]
    },
    {
      "cell_type": "code",
      "source": [
        "# learning rate 5e-4\n",
        "# fitting the LSTM model\n",
        "\n",
        "start = time.time()\n",
        "history_embedding = model.fit(X_train, y_train, epochs=15, batch_size = 64, validation_data = (X_test, y_test), callbacks = callbacks_list)\n",
        "\n",
        "end = time.time()\n",
        "print(\"Time taken to run model: {} seconds.\".format(end - start))"
      ],
      "metadata": {
        "colab": {
          "base_uri": "https://localhost:8080/"
        },
        "id": "zDXvWxDZ9eIh",
        "outputId": "01078522-9db6-4fbc-9f6c-fe8693ae211c"
      },
      "execution_count": null,
      "outputs": [
        {
          "output_type": "stream",
          "name": "stdout",
          "text": [
            "Epoch 1/15\n",
            "68/69 [============================>.] - ETA: 0s - loss: 0.5856 - accuracy: 0.7364\n",
            "Epoch 1: val_accuracy improved from -inf to 0.73003, saving model to /content/gdrive/MyDrive/Colab Notebooks/LSTM220323.h5\n",
            "69/69 [==============================] - 16s 189ms/step - loss: 0.5855 - accuracy: 0.7364 - val_loss: 0.6026 - val_accuracy: 0.7300\n",
            "Epoch 2/15\n",
            "69/69 [==============================] - ETA: 0s - loss: 0.5631 - accuracy: 0.7431\n",
            "Epoch 2: val_accuracy improved from 0.73003 to 0.73554, saving model to /content/gdrive/MyDrive/Colab Notebooks/LSTM220323.h5\n",
            "69/69 [==============================] - 12s 180ms/step - loss: 0.5631 - accuracy: 0.7431 - val_loss: 0.6166 - val_accuracy: 0.7355\n",
            "Epoch 3/15\n",
            "68/69 [============================>.] - ETA: 0s - loss: 0.5119 - accuracy: 0.7716\n",
            "Epoch 3: val_accuracy improved from 0.73554 to 0.82461, saving model to /content/gdrive/MyDrive/Colab Notebooks/LSTM220323.h5\n",
            "69/69 [==============================] - 10s 149ms/step - loss: 0.5118 - accuracy: 0.7718 - val_loss: 0.4207 - val_accuracy: 0.8246\n",
            "Epoch 4/15\n",
            "68/69 [============================>.] - ETA: 0s - loss: 0.4233 - accuracy: 0.8173\n",
            "Epoch 4: val_accuracy did not improve from 0.82461\n",
            "69/69 [==============================] - 10s 148ms/step - loss: 0.4234 - accuracy: 0.8172 - val_loss: 0.4730 - val_accuracy: 0.7576\n",
            "Epoch 5/15\n",
            "68/69 [============================>.] - ETA: 0s - loss: 0.3424 - accuracy: 0.8778\n",
            "Epoch 5: val_accuracy improved from 0.82461 to 0.82645, saving model to /content/gdrive/MyDrive/Colab Notebooks/LSTM220323.h5\n",
            "69/69 [==============================] - 12s 175ms/step - loss: 0.3422 - accuracy: 0.8778 - val_loss: 0.3931 - val_accuracy: 0.8264\n",
            "Epoch 6/15\n",
            "68/69 [============================>.] - ETA: 0s - loss: 0.2694 - accuracy: 0.9040\n",
            "Epoch 6: val_accuracy did not improve from 0.82645\n",
            "69/69 [==============================] - 12s 168ms/step - loss: 0.2693 - accuracy: 0.9040 - val_loss: 0.6081 - val_accuracy: 0.8182\n",
            "Epoch 7/15\n",
            "69/69 [==============================] - ETA: 0s - loss: 0.2314 - accuracy: 0.9146\n",
            "Epoch 7: val_accuracy improved from 0.82645 to 0.87787, saving model to /content/gdrive/MyDrive/Colab Notebooks/LSTM220323.h5\n",
            "69/69 [==============================] - 12s 180ms/step - loss: 0.2314 - accuracy: 0.9146 - val_loss: 0.3119 - val_accuracy: 0.8779\n",
            "Epoch 8/15\n",
            "68/69 [============================>.] - ETA: 0s - loss: 0.1829 - accuracy: 0.9368\n",
            "Epoch 8: val_accuracy did not improve from 0.87787\n",
            "69/69 [==============================] - 10s 141ms/step - loss: 0.1833 - accuracy: 0.9366 - val_loss: 0.7557 - val_accuracy: 0.6097\n",
            "Epoch 9/15\n",
            "68/69 [============================>.] - ETA: 0s - loss: 0.1749 - accuracy: 0.9494\n",
            "Epoch 9: val_accuracy improved from 0.87787 to 0.88430, saving model to /content/gdrive/MyDrive/Colab Notebooks/LSTM220323.h5\n",
            "69/69 [==============================] - 11s 156ms/step - loss: 0.1748 - accuracy: 0.9495 - val_loss: 0.4317 - val_accuracy: 0.8843\n",
            "Epoch 10/15\n",
            "68/69 [============================>.] - ETA: 0s - loss: 0.1315 - accuracy: 0.9591\n",
            "Epoch 10: val_accuracy did not improve from 0.88430\n",
            "69/69 [==============================] - 11s 160ms/step - loss: 0.1316 - accuracy: 0.9591 - val_loss: 1.4122 - val_accuracy: 0.7631\n",
            "Epoch 10: early stopping\n",
            "Time taken to run model: 116.33283376693726 seconds.\n"
          ]
        }
      ]
    },
    {
      "cell_type": "code",
      "source": [
        "# use the best model\n",
        "file_path = '/content/gdrive/MyDrive/Colab Notebooks/DSA4263 Project/LSTM220323.h5'\n",
        "new_model = load_model(file_path)"
      ],
      "metadata": {
        "id": "5dCI6tr-B8tx"
      },
      "execution_count": 13,
      "outputs": []
    },
    {
      "cell_type": "code",
      "source": [
        "# predict the response on the test data\n",
        "LSTM_y_pred = new_model.predict(X_test) \n",
        "\n",
        "# get the predicted test response\n",
        "LSTM_test_pred = []\n",
        "for pred in LSTM_y_pred:\n",
        "  if pred[0] >= 0.5:\n",
        "    LSTM_test_pred.append(0)\n",
        "  else:\n",
        "    LSTM_test_pred.append(1)\n",
        "\n",
        "\n",
        "# get actual test response\n",
        "test_actual = []\n",
        "for pred in y_test:\n",
        "  if pred[0] >= 0.5:\n",
        "    test_actual.append(0)\n",
        "  else:\n",
        "    test_actual.append(1)"
      ],
      "metadata": {
        "colab": {
          "base_uri": "https://localhost:8080/"
        },
        "outputId": "7cc5b15d-8dd7-4c70-f438-3ba4ebb75b91",
        "id": "Nt_O1EVF-eda"
      },
      "execution_count": 14,
      "outputs": [
        {
          "output_type": "stream",
          "name": "stdout",
          "text": [
            "35/35 [==============================] - 5s 57ms/step\n"
          ]
        }
      ]
    },
    {
      "cell_type": "code",
      "source": [
        "# classification report for NN\n",
        "print(classification_report(test_actual, LSTM_test_pred, labels=[0, 1]))"
      ],
      "metadata": {
        "colab": {
          "base_uri": "https://localhost:8080/"
        },
        "id": "VNyDTE8K_wqR",
        "outputId": "a98f32fe-b651-46b7-a482-8489726554a0"
      },
      "execution_count": 15,
      "outputs": [
        {
          "output_type": "stream",
          "name": "stdout",
          "text": [
            "              precision    recall  f1-score   support\n",
            "\n",
            "           0       0.86      0.68      0.76       294\n",
            "           1       0.89      0.96      0.92       795\n",
            "\n",
            "    accuracy                           0.88      1089\n",
            "   macro avg       0.88      0.82      0.84      1089\n",
            "weighted avg       0.88      0.88      0.88      1089\n",
            "\n"
          ]
        }
      ]
    },
    {
      "cell_type": "code",
      "source": [
        "LSTM_y_probs = LSTM_y_pred[:, 1]\n",
        "LSTM_precision, LSTM_recall, LSTM_thresholds = precision_recall_curve(test_actual, LSTM_y_probs)"
      ],
      "metadata": {
        "id": "6f5vsu7LDvHP"
      },
      "execution_count": 17,
      "outputs": []
    },
    {
      "cell_type": "code",
      "source": [
        "# keep probabilities for the positive outcome only\n",
        "NN_y_probs = NN_y_pred[:, 1]\n",
        "LSTM_y_probs = LSTM_y_pred[:, 1]\n",
        "\n",
        "# plot the Test Precision-Recall curve\n",
        "NN_precision, NN_recall, NN_thresholds = precision_recall_curve(test_actual, NN_y_probs)\n",
        "LSTM_precision, LSTM_recall, LSTM_thresholds = precision_recall_curve(test_actual, LSTM_y_probs)\n",
        "plt.plot(NN_recall, NN_precision,  marker='.', label = \"NN\")\n",
        "plt.plot(LSTM_recall, LSTM_precision,  marker='.', label = \"LSTM\")\n",
        "plt.ylabel(\"Precision\")\n",
        "plt.xlabel(\"Recall\")\n",
        "plt.legend()\n",
        "plt.title(\"Test Precision-Recall curve\");"
      ],
      "metadata": {
        "colab": {
          "base_uri": "https://localhost:8080/",
          "height": 295
        },
        "id": "W7zusLeQE468",
        "outputId": "158fca50-ad2c-4ebd-f233-83166734167f"
      },
      "execution_count": null,
      "outputs": [
        {
          "output_type": "display_data",
          "data": {
            "text/plain": [
              "<Figure size 432x288 with 1 Axes>"
            ],
            "image/png": "[encoded data removed]"
          },
          "metadata": {
            "needs_background": "light"
          }
        }
      ]
    },
    {
      "cell_type": "code",
      "source": [
        "auc(LSTM_recall, LSTM_precision)"
      ],
      "metadata": {
        "colab": {
          "base_uri": "https://localhost:8080/"
        },
        "id": "INUfnsrLepQm",
        "outputId": "edca8713-0a5b-4c9d-a999-c5b79ba698b2"
      },
      "execution_count": 18,
      "outputs": [
        {
          "output_type": "execute_result",
          "data": {
            "text/plain": [
              "0.9719919741025463"
            ]
          },
          "metadata": {},
          "execution_count": 18
        }
      ]
    },
    {
      "cell_type": "code",
      "source": [
        "average_precision_score(test_actual, LSTM_y_probs)"
      ],
      "metadata": {
        "colab": {
          "base_uri": "https://localhost:8080/"
        },
        "id": "X_pmRwuzoXoP",
        "outputId": "b020b890-69b7-41cd-d1b0-3c07ff2603d0"
      },
      "execution_count": 20,
      "outputs": [
        {
          "output_type": "execute_result",
          "data": {
            "text/plain": [
              "0.9720141764716924"
            ]
          },
          "metadata": {},
          "execution_count": 20
        }
      ]
    }
  ]
}