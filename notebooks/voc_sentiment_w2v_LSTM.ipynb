{
  "cells": [
    {
      "cell_type": "markdown",
      "metadata": {
        "id": "NwG5KuEVVXtk"
      },
      "source": [
        "# **Implementing Word2Vec with Logistic Regression and LSTM**\n",
        "\n",
        "**CBOW (Continuous Bag-of-Words)** and **Skip-gram** are two popular algorithms used in natural language processing for generating word embeddings.\n",
        "\n",
        "CBOW is a method that predicts the target word based on its context, which is a window of surrounding words. The goal of CBOW is to maximize the probability of predicting the target word given its context. In other words, CBOW learns to predict a word based on the words that surround it.\n",
        "\n",
        "On the other hand, Skip-gram is the inverse of CBOW, where the algorithm predicts the context words given the target word. The goal of Skip-gram is to maximize the probability of predicting the context words given the target word.\n",
        "\n",
        "The difference between CBOW and Skip-gram lies in their training objectives. CBOW is faster to train than Skip-gram because it involves predicting one target word from multiple context words, whereas Skip-gram predicts multiple context words from one target word. However, **Skip-gram is better at capturing rare and infrequent words, while CBOW is better at representing the overall meaning of a sentence**.\n",
        "\n",
        "In summary, CBOW is a faster algorithm that predicts a target word based on its context, while Skip-gram is slower but better at capturing rare words by predicting context words given a target word. The choice of which algorithm to use depends on the specific application and the nature of the data."
      ]
    },
    {
      "cell_type": "code",
      "execution_count": null,
      "metadata": {
        "colab": {
          "base_uri": "https://localhost:8080/"
        },
        "id": "6ireluuBOMWo",
        "outputId": "0eac5134-6567-48f6-fbb0-57e5e26f95b9"
      },
      "outputs": [
        {
          "name": "stdout",
          "output_type": "stream",
          "text": [
            "Mounted at /content/gdrive\n"
          ]
        }
      ],
      "source": [
        "from google.colab import drive\n",
        "drive.mount('/content/gdrive')\n"
      ]
    },
    {
      "cell_type": "code",
      "execution_count": null,
      "metadata": {
        "colab": {
          "base_uri": "https://localhost:8080/"
        },
        "id": "tQJoqPlXeBoQ",
        "outputId": "15cab500-20f0-4a6b-8732-3a125b239650"
      },
      "outputs": [
        {
          "name": "stderr",
          "output_type": "stream",
          "text": [
            "[nltk_data] Downloading package punkt to /root/nltk_data...\n",
            "[nltk_data]   Unzipping tokenizers/punkt.zip.\n"
          ]
        },
        {
          "data": {
            "text/plain": [
              "True"
            ]
          },
          "execution_count": 2,
          "metadata": {},
          "output_type": "execute_result"
        }
      ],
      "source": [
        "import nltk\n",
        "nltk.download('punkt')\n"
      ]
    },
    {
      "cell_type": "code",
      "execution_count": null,
      "metadata": {
        "id": "7cuhIsPtOUWl"
      },
      "outputs": [],
      "source": [
        "import pandas as pd\n",
        "import numpy as np\n",
        "import random\n",
        "import math\n",
        "import seaborn as sns\n",
        "import matplotlib.pyplot as plt\n",
        "import time\n",
        "\n",
        "from sklearn.model_selection import train_test_split\n",
        "from sklearn.metrics import precision_score, recall_score, f1_score, classification_report, precision_recall_curve, average_precision_score, auc\n",
        "\n",
        "from nltk.tokenize import sent_tokenize, word_tokenize\n",
        "import gensim\n",
        "from gensim.models import Word2Vec\n",
        "\n",
        "# keras\n",
        "import keras\n",
        "from keras.preprocessing.text import one_hot, Tokenizer, text_to_word_sequence\n",
        "from tensorflow.keras.preprocessing.sequence import pad_sequences\n",
        "from keras.models import Model, Sequential, load_model\n",
        "from keras.layers import Dense, Flatten, Embedding, Input, LSTM, ReLU, Dropout, Bidirectional\n",
        "import tensorflow\n",
        "from tensorflow.compat.v1.keras.layers import CuDNNLSTM\n",
        "from keras.initializers import Constant\n",
        "from keras.callbacks import ModelCheckpoint, ReduceLROnPlateau, EarlyStopping"
      ]
    },
    {
      "cell_type": "code",
      "execution_count": null,
      "metadata": {
        "id": "ATJXJ7DeOlsK"
      },
      "outputs": [],
      "source": [
        "# Read data from the first sheet\n",
        "# This might take awhile...\n",
        "path = '/content/gdrive/MyDrive/Colab Notebooks/DSA4263 Project/reviews.csv'\n",
        "data = pd.read_csv(path)"
      ]
    },
    {
      "cell_type": "code",
      "execution_count": null,
      "metadata": {
        "colab": {
          "base_uri": "https://localhost:8080/",
          "height": 206
        },
        "id": "t4cQHiJYZ03j",
        "outputId": "07a42115-a5cb-4f35-d330-a0143b8df606"
      },
      "outputs": [
        {
          "data": {
            "text/html": [
              "\n",
              "  <div id=\"df-a6f83556-09bf-490a-b9d1-bc1f1b33347c\">\n",
              "    <div class=\"colab-df-container\">\n",
              "      <div>\n",
              "<style scoped>\n",
              "    .dataframe tbody tr th:only-of-type {\n",
              "        vertical-align: middle;\n",
              "    }\n",
              "\n",
              "    .dataframe tbody tr th {\n",
              "        vertical-align: top;\n",
              "    }\n",
              "\n",
              "    .dataframe thead th {\n",
              "        text-align: right;\n",
              "    }\n",
              "</style>\n",
              "<table border=\"1\" class=\"dataframe\">\n",
              "  <thead>\n",
              "    <tr style=\"text-align: right;\">\n",
              "      <th></th>\n",
              "      <th>date</th>\n",
              "      <th>partially_cleaned_text</th>\n",
              "      <th>sentiment</th>\n",
              "      <th>cleaned_text</th>\n",
              "    </tr>\n",
              "  </thead>\n",
              "  <tbody>\n",
              "    <tr>\n",
              "      <th>0</th>\n",
              "      <td>18/6/21</td>\n",
              "      <td>This is a very healthy dog food. Good for thei...</td>\n",
              "      <td>1</td>\n",
              "      <td>healthy dog food good digestion also good smal...</td>\n",
              "    </tr>\n",
              "    <tr>\n",
              "      <th>1</th>\n",
              "      <td>7/7/21</td>\n",
              "      <td>I've been very pleased with the Natural Balanc...</td>\n",
              "      <td>1</td>\n",
              "      <td>pleased natural balance dog food dogs issues d...</td>\n",
              "    </tr>\n",
              "    <tr>\n",
              "      <th>2</th>\n",
              "      <td>18/6/21</td>\n",
              "      <td>Before I was educated about feline nutrition, ...</td>\n",
              "      <td>1</td>\n",
              "      <td>educated feline nutrition allowed cats become ...</td>\n",
              "    </tr>\n",
              "    <tr>\n",
              "      <th>3</th>\n",
              "      <td>7/7/21</td>\n",
              "      <td>My holistic vet recommended this, along with a...</td>\n",
              "      <td>1</td>\n",
              "      <td>holistic vet recommended along brands tried ca...</td>\n",
              "    </tr>\n",
              "    <tr>\n",
              "      <th>4</th>\n",
              "      <td>1/7/21</td>\n",
              "      <td>I bought this coffee because its much cheaper ...</td>\n",
              "      <td>1</td>\n",
              "      <td>bought coffee much cheaper ganocafe organic re...</td>\n",
              "    </tr>\n",
              "  </tbody>\n",
              "</table>\n",
              "</div>\n",
              "      <button class=\"colab-df-convert\" onclick=\"convertToInteractive('df-a6f83556-09bf-490a-b9d1-bc1f1b33347c')\"\n",
              "              title=\"Convert this dataframe to an interactive table.\"\n",
              "              style=\"display:none;\">\n",
              "        \n",
              "  <svg xmlns=\"http://www.w3.org/2000/svg\" height=\"24px\"viewBox=\"0 0 24 24\"\n",
              "       width=\"24px\">\n",
              "    <path d=\"M0 0h24v24H0V0z\" fill=\"none\"/>\n",
              "    <path d=\"M18.56 5.44l.94 2.06.94-2.06 2.06-.94-2.06-.94-.94-2.06-.94 2.06-2.06.94zm-11 1L8.5 8.5l.94-2.06 2.06-.94-2.06-.94L8.5 2.5l-.94 2.06-2.06.94zm10 10l.94 2.06.94-2.06 2.06-.94-2.06-.94-.94-2.06-.94 2.06-2.06.94z\"/><path d=\"M17.41 7.96l-1.37-1.37c-.4-.4-.92-.59-1.43-.59-.52 0-1.04.2-1.43.59L10.3 9.45l-7.72 7.72c-.78.78-.78 2.05 0 2.83L4 21.41c.39.39.9.59 1.41.59.51 0 1.02-.2 1.41-.59l7.78-7.78 2.81-2.81c.8-.78.8-2.07 0-2.86zM5.41 20L4 18.59l7.72-7.72 1.47 1.35L5.41 20z\"/>\n",
              "  </svg>\n",
              "      </button>\n",
              "      \n",
              "  <style>\n",
              "    .colab-df-container {\n",
              "      display:flex;\n",
              "      flex-wrap:wrap;\n",
              "      gap: 12px;\n",
              "    }\n",
              "\n",
              "    .colab-df-convert {\n",
              "      background-color: #E8F0FE;\n",
              "      border: none;\n",
              "      border-radius: 50%;\n",
              "      cursor: pointer;\n",
              "      display: none;\n",
              "      fill: #1967D2;\n",
              "      height: 32px;\n",
              "      padding: 0 0 0 0;\n",
              "      width: 32px;\n",
              "    }\n",
              "\n",
              "    .colab-df-convert:hover {\n",
              "      background-color: #E2EBFA;\n",
              "      box-shadow: 0px 1px 2px rgba(60, 64, 67, 0.3), 0px 1px 3px 1px rgba(60, 64, 67, 0.15);\n",
              "      fill: #174EA6;\n",
              "    }\n",
              "\n",
              "    [theme=dark] .colab-df-convert {\n",
              "      background-color: #3B4455;\n",
              "      fill: #D2E3FC;\n",
              "    }\n",
              "\n",
              "    [theme=dark] .colab-df-convert:hover {\n",
              "      background-color: #434B5C;\n",
              "      box-shadow: 0px 1px 3px 1px rgba(0, 0, 0, 0.15);\n",
              "      filter: drop-shadow(0px 1px 2px rgba(0, 0, 0, 0.3));\n",
              "      fill: #FFFFFF;\n",
              "    }\n",
              "  </style>\n",
              "\n",
              "      <script>\n",
              "        const buttonEl =\n",
              "          document.querySelector('#df-a6f83556-09bf-490a-b9d1-bc1f1b33347c button.colab-df-convert');\n",
              "        buttonEl.style.display =\n",
              "          google.colab.kernel.accessAllowed ? 'block' : 'none';\n",
              "\n",
              "        async function convertToInteractive(key) {\n",
              "          const element = document.querySelector('#df-a6f83556-09bf-490a-b9d1-bc1f1b33347c');\n",
              "          const dataTable =\n",
              "            await google.colab.kernel.invokeFunction('convertToInteractive',\n",
              "                                                     [key], {});\n",
              "          if (!dataTable) return;\n",
              "\n",
              "          const docLinkHtml = 'Like what you see? Visit the ' +\n",
              "            '<a target=\"_blank\" href=https://colab.research.google.com/notebooks/data_table.ipynb>data table notebook</a>'\n",
              "            + ' to learn more about interactive tables.';\n",
              "          element.innerHTML = '';\n",
              "          dataTable['output_type'] = 'display_data';\n",
              "          await google.colab.output.renderOutput(dataTable, element);\n",
              "          const docLink = document.createElement('div');\n",
              "          docLink.innerHTML = docLinkHtml;\n",
              "          element.appendChild(docLink);\n",
              "        }\n",
              "      </script>\n",
              "    </div>\n",
              "  </div>\n",
              "  "
            ],
            "text/plain": [
              "      date                             partially_cleaned_text  sentiment  \\\n",
              "0  18/6/21  This is a very healthy dog food. Good for thei...          1   \n",
              "1   7/7/21  I've been very pleased with the Natural Balanc...          1   \n",
              "2  18/6/21  Before I was educated about feline nutrition, ...          1   \n",
              "3   7/7/21  My holistic vet recommended this, along with a...          1   \n",
              "4   1/7/21  I bought this coffee because its much cheaper ...          1   \n",
              "\n",
              "                                        cleaned_text  \n",
              "0  healthy dog food good digestion also good smal...  \n",
              "1  pleased natural balance dog food dogs issues d...  \n",
              "2  educated feline nutrition allowed cats become ...  \n",
              "3  holistic vet recommended along brands tried ca...  \n",
              "4  bought coffee much cheaper ganocafe organic re...  "
            ]
          },
          "execution_count": 5,
          "metadata": {},
          "output_type": "execute_result"
        }
      ],
      "source": [
        "data.head()\n"
      ]
    },
    {
      "cell_type": "code",
      "execution_count": null,
      "metadata": {
        "colab": {
          "base_uri": "https://localhost:8080/",
          "height": 427
        },
        "id": "WmQNS9KGTWBn",
        "outputId": "94dbf770-d1f6-434c-9b5e-8ec317ff2b27"
      },
      "outputs": [
        {
          "data": {
            "text/plain": [
              "Text(0.5, 1.0, 'Distribution of Sentiment Labels')"
            ]
          },
          "execution_count": 13,
          "metadata": {},
          "output_type": "execute_result"
        },
        {
          "data": {
            "image/png": "[encoded data removed]",
            "text/plain": [
              "<Figure size 576x432 with 1 Axes>"
            ]
          },
          "metadata": {},
          "output_type": "display_data"
        }
      ],
      "source": [
        "# plot Distribution of Sentiment Labels, checking of imbalanced data\n",
        "sns.set_theme(style=\"whitegrid\")\n",
        "\n",
        "fig, ax = plt.subplots(figsize=(8, 6))\n",
        "sns.countplot(data=data, x='sentiment')\n",
        "ax.set_title('Distribution of Sentiment Labels')"
      ]
    },
    {
      "cell_type": "code",
      "execution_count": null,
      "metadata": {
        "id": "r2C0Uy5qdmpB"
      },
      "outputs": [],
      "source": [
        "# tokenise the cleaned text\n",
        "data['cleaned_text_new'] = data['cleaned_text'].apply(\n",
        "    lambda x: word_tokenize(x))"
      ]
    },
    {
      "cell_type": "markdown",
      "metadata": {
        "id": "Yl2yrF0bYzO0"
      },
      "source": [
        "## Word2Vec + Neural Networks (ANN and LSTM)\n",
        "\n",
        "From the Test Precision-Recall curve, we are able to derive that LSTM performs better than NN."
      ]
    },
    {
      "cell_type": "code",
      "execution_count": null,
      "metadata": {
        "id": "uY1Mwd7XfIpe"
      },
      "outputs": [],
      "source": [
        "# Train the CBOW architecture\n",
        "w2v_model1 = gensim.models.Word2Vec(\n",
        "    data['cleaned_text_new'], vector_size=100, window=5, min_count=2, sg=0)"
      ]
    },
    {
      "cell_type": "code",
      "execution_count": null,
      "metadata": {
        "colab": {
          "base_uri": "https://localhost:8080/"
        },
        "id": "6N12mqbkfIpf",
        "outputId": "5545e862-6f21-48f1-e4b2-cbf668ea5960"
      },
      "outputs": [
        {
          "data": {
            "text/plain": [
              "['like',\n",
              " 'taste',\n",
              " 'good',\n",
              " 'great',\n",
              " 'product',\n",
              " 'would',\n",
              " 'flavor',\n",
              " 'one',\n",
              " 'coffee',\n",
              " 'love',\n",
              " 'price',\n",
              " 'really',\n",
              " 'tea',\n",
              " 'much',\n",
              " 'get',\n",
              " 'amazon',\n",
              " 'food',\n",
              " 'buy',\n",
              " 'even',\n",
              " 'use']"
            ]
          },
          "execution_count": 8,
          "metadata": {},
          "output_type": "execute_result"
        }
      ],
      "source": [
        "# Represents all of the words that our Word2Vec model learned a vector for (i.e all of the words that appeared in the training data at least twice)\n",
        "w2v_model1.wv.index_to_key[0:20]\n"
      ]
    },
    {
      "cell_type": "code",
      "execution_count": null,
      "metadata": {
        "colab": {
          "base_uri": "https://localhost:8080/"
        },
        "id": "Vlh481XSX9yQ",
        "outputId": "82d04440-47db-415f-a0dc-bb42b8871d20"
      },
      "outputs": [
        {
          "name": "stdout",
          "output_type": "stream",
          "text": [
            "There are 12339 unique text in the data.\n"
          ]
        }
      ],
      "source": [
        "tok = Tokenizer()\n",
        "tok.fit_on_texts(data['cleaned_text'])\n",
        "\n",
        "# number of unique text in the data\n",
        "vocab_size = len(tok.word_index) + 1\n",
        "print('There are {} unique text in the data.'.format(vocab_size))\n"
      ]
    },
    {
      "cell_type": "code",
      "execution_count": null,
      "metadata": {
        "colab": {
          "base_uri": "https://localhost:8080/"
        },
        "id": "vAOaPw4hae8K",
        "outputId": "d00b25bd-954a-447f-c080-fe540b0ad542"
      },
      "outputs": [
        {
          "name": "stdout",
          "output_type": "stream",
          "text": [
            "The maximum length of the review for each record in the data is 940.\n"
          ]
        }
      ],
      "source": [
        "# find the maximum length in each record\n",
        "maxi = -1\n",
        "for i, rev in enumerate(data['cleaned_text']):\n",
        "    tokens = rev.split()\n",
        "    if (len(tokens) > maxi):\n",
        "        maxi = len(tokens)\n",
        "print('The maximum length of the review for each record in the data is {}.'.format(maxi))\n",
        "\n",
        "# max length of a review\n",
        "max_rev_len = maxi + 1\n",
        "\n",
        "# embedding dimension as choosen in word2vec constructor\n",
        "embed_dim = 100"
      ]
    },
    {
      "cell_type": "code",
      "execution_count": null,
      "metadata": {
        "colab": {
          "base_uri": "https://localhost:8080/"
        },
        "id": "j0-Wy0JccB1p",
        "outputId": "1a308272-17d2-4bad-fa98-d558b917202f"
      },
      "outputs": [
        {
          "data": {
            "text/plain": [
              "(5444, 50)"
            ]
          },
          "execution_count": 11,
          "metadata": {},
          "output_type": "execute_result"
        }
      ],
      "source": [
        "# this converts texts into some numeric sequences\n",
        "encd_rev = tok.texts_to_sequences(data['cleaned_text'])\n",
        "\n",
        "# we dont pad to a maximum length of 925 but use 50 if not the train data will be very sparse\n",
        "pad_rev = pad_sequences(encd_rev, maxlen=50, padding='post')\n",
        "pad_rev.shape"
      ]
    },
    {
      "cell_type": "code",
      "execution_count": null,
      "metadata": {
        "id": "V-AcU4KOcnQp"
      },
      "outputs": [],
      "source": [
        "# now creating the embedding matrix\n",
        "embed_matrix = np.zeros(shape=(vocab_size, embed_dim))\n",
        "for word, i in tok.word_index.items():\n",
        "\n",
        "    # check if word is in the vocabulary learned by the w2v model\n",
        "    if word in w2v_model1.wv.index_to_key:\n",
        "        # get the word vector from w2v model\n",
        "        embed_matrix[i] = w2v_model1.wv[word]\n",
        "    # else the embed_vector corressponding to that vector will stay zero."
      ]
    },
    {
      "cell_type": "code",
      "execution_count": null,
      "metadata": {
        "colab": {
          "base_uri": "https://localhost:8080/"
        },
        "id": "mYmWXmricbcb",
        "outputId": "b2bb7a6e-a2fd-42bf-cf6c-07634eef71b2"
      },
      "outputs": [
        {
          "data": {
            "text/plain": [
              "(12339, 100)"
            ]
          },
          "execution_count": 13,
          "metadata": {},
          "output_type": "execute_result"
        }
      ],
      "source": [
        "embed_matrix.shape\n"
      ]
    },
    {
      "cell_type": "code",
      "execution_count": null,
      "metadata": {
        "id": "IPqV5wlFeQs2"
      },
      "outputs": [],
      "source": [
        "# one hot target as required by NN.\n",
        "Y = keras.utils.to_categorical(data['sentiment'])\n",
        "X_train, X_test, y_train, y_test = train_test_split(\n",
        "    pad_rev, Y, test_size=0.20, random_state=11)"
      ]
    },
    {
      "cell_type": "markdown",
      "metadata": {
        "id": "S-2kPHTKagGi"
      },
      "source": [
        "### NN"
      ]
    },
    {
      "cell_type": "code",
      "execution_count": null,
      "metadata": {
        "id": "HwDpTEzlagGj"
      },
      "outputs": [],
      "source": [
        "# Build the NN Model\n",
        "model = Sequential()\n",
        "model.add(Embedding(input_dim=vocab_size, output_dim=embed_dim,\n",
        "                    input_length=50, weights=[embed_matrix]))  # embeddings_initializer = Constant(embed_matrix)))\n",
        "\n",
        "model.add(Flatten())\n",
        "model.add(Dense(16, activation='relu'))\n",
        "model.add(Dropout(0.50))\n",
        "# model.add(Dense(16,activation = 'relu'))\n",
        "# model.add(Dropout(0.20))\n",
        "model.add(Dense(2, activation='sigmoid'))\n",
        "#model.add(Dense(2, activation = 'softmax'))"
      ]
    },
    {
      "cell_type": "code",
      "execution_count": null,
      "metadata": {
        "colab": {
          "base_uri": "https://localhost:8080/"
        },
        "id": "XzefjYRoagGj",
        "outputId": "56e19a14-5201-4727-e092-85844ac44f90"
      },
      "outputs": [
        {
          "name": "stdout",
          "output_type": "stream",
          "text": [
            "Model: \"sequential_2\"\n",
            "_________________________________________________________________\n",
            " Layer (type)                Output Shape              Param #   \n",
            "=================================================================\n",
            " embedding_2 (Embedding)     (None, 50, 100)           1233900   \n",
            "                                                                 \n",
            " flatten_2 (Flatten)         (None, 5000)              0         \n",
            "                                                                 \n",
            " dense_4 (Dense)             (None, 16)                80016     \n",
            "                                                                 \n",
            " dropout_2 (Dropout)         (None, 16)                0         \n",
            "                                                                 \n",
            " dense_5 (Dense)             (None, 2)                 34        \n",
            "                                                                 \n",
            "=================================================================\n",
            "Total params: 1,313,950\n",
            "Trainable params: 1,313,950\n",
            "Non-trainable params: 0\n",
            "_________________________________________________________________\n",
            "None\n"
          ]
        }
      ],
      "source": [
        "model.compile(optimizer='adam', metrics=['acc'],  loss='binary_crossentropy')\n",
        "\n",
        "print(model.summary())\n"
      ]
    },
    {
      "cell_type": "code",
      "execution_count": null,
      "metadata": {
        "colab": {
          "base_uri": "https://localhost:8080/"
        },
        "id": "D5_hZVemagGj",
        "outputId": "5933e46a-43ce-47a9-e9df-b3a5ca7c08ff"
      },
      "outputs": [
        {
          "name": "stdout",
          "output_type": "stream",
          "text": [
            "Epoch 1/15\n",
            "69/69 [==============================] - 2s 16ms/step - loss: 0.6088 - acc: 0.7334 - val_loss: 0.5538 - val_acc: 0.7300\n",
            "Epoch 2/15\n",
            "69/69 [==============================] - 1s 14ms/step - loss: 0.5721 - acc: 0.7428 - val_loss: 0.5439 - val_acc: 0.7300\n",
            "Epoch 3/15\n",
            "69/69 [==============================] - 1s 14ms/step - loss: 0.5390 - acc: 0.7428 - val_loss: 0.5141 - val_acc: 0.7300\n",
            "Epoch 4/15\n",
            "69/69 [==============================] - 1s 17ms/step - loss: 0.4754 - acc: 0.7428 - val_loss: 0.4662 - val_acc: 0.7300\n",
            "Epoch 5/15\n",
            "69/69 [==============================] - 2s 30ms/step - loss: 0.4099 - acc: 0.7428 - val_loss: 0.4329 - val_acc: 0.7300\n",
            "Epoch 6/15\n",
            "69/69 [==============================] - 2s 34ms/step - loss: 0.3327 - acc: 0.7428 - val_loss: 0.4035 - val_acc: 0.7300\n",
            "Epoch 7/15\n",
            "69/69 [==============================] - 2s 31ms/step - loss: 0.2945 - acc: 0.7428 - val_loss: 0.4083 - val_acc: 0.8035\n",
            "Epoch 8/15\n",
            "69/69 [==============================] - 1s 20ms/step - loss: 0.2644 - acc: 0.9029 - val_loss: 0.4395 - val_acc: 0.8127\n",
            "Epoch 9/15\n",
            "69/69 [==============================] - 1s 13ms/step - loss: 0.2441 - acc: 0.9215 - val_loss: 0.4292 - val_acc: 0.8182\n",
            "Epoch 10/15\n",
            "69/69 [==============================] - 1s 14ms/step - loss: 0.2324 - acc: 0.9256 - val_loss: 0.4420 - val_acc: 0.8301\n",
            "Epoch 11/15\n",
            "69/69 [==============================] - 1s 13ms/step - loss: 0.2141 - acc: 0.9382 - val_loss: 0.4763 - val_acc: 0.8310\n",
            "Epoch 12/15\n",
            "69/69 [==============================] - 1s 14ms/step - loss: 0.2032 - acc: 0.9447 - val_loss: 0.4837 - val_acc: 0.8375\n",
            "Epoch 13/15\n",
            "69/69 [==============================] - 1s 14ms/step - loss: 0.1919 - acc: 0.9488 - val_loss: 0.5030 - val_acc: 0.8347\n",
            "Epoch 14/15\n",
            "69/69 [==============================] - 1s 14ms/step - loss: 0.1848 - acc: 0.9518 - val_loss: 0.5292 - val_acc: 0.8356\n",
            "Epoch 15/15\n",
            "69/69 [==============================] - 1s 17ms/step - loss: 0.1770 - acc: 0.9548 - val_loss: 0.5716 - val_acc: 0.8329\n",
            "Time taken to run model: 19.639336585998535 seconds.\n"
          ]
        }
      ],
      "source": [
        "# Run NN\n",
        "\n",
        "start = time.time()\n",
        "history_embedding = model.fit(\n",
        "    X_train, y_train, epochs=15, batch_size=64, validation_data=(X_test, y_test))\n",
        "\n",
        "end = time.time()\n",
        "print(\"Time taken to run model: {} seconds.\".format(end - start))"
      ]
    },
    {
      "cell_type": "code",
      "execution_count": null,
      "metadata": {
        "colab": {
          "base_uri": "https://localhost:8080/",
          "height": 265
        },
        "id": "KB0PVguO9mpU",
        "outputId": "71674689-f210-414a-82aa-8646b81be2bd"
      },
      "outputs": [
        {
          "data": {
            "image/png": "[encoded data removed]",
            "text/plain": [
              "<Figure size 432x288 with 1 Axes>"
            ]
          },
          "metadata": {
            "needs_background": "light"
          },
          "output_type": "display_data"
        }
      ],
      "source": [
        "plt.plot(history_embedding.history['acc'], c='b', label='train accuracy')\n",
        "plt.plot(history_embedding.history['val_acc'],\n",
        "         c='r', label='validation accuracy')\n",
        "plt.legend(loc='upper right')\n",
        "plt.show()"
      ]
    },
    {
      "cell_type": "code",
      "execution_count": null,
      "metadata": {
        "colab": {
          "base_uri": "https://localhost:8080/",
          "height": 265
        },
        "id": "ctYQWhQV9evw",
        "outputId": "09de712f-21a1-4f3f-ed41-393887b2b8a7"
      },
      "outputs": [
        {
          "data": {
            "image/png": "[encoded data removed]",
            "text/plain": [
              "<Figure size 432x288 with 1 Axes>"
            ]
          },
          "metadata": {
            "needs_background": "light"
          },
          "output_type": "display_data"
        }
      ],
      "source": [
        "plt.plot(history_embedding.history['loss'], c='b', label='train loss')\n",
        "plt.plot(history_embedding.history['val_loss'], c='r', label='validation loss')\n",
        "plt.legend(loc='upper right')\n",
        "plt.show()"
      ]
    },
    {
      "cell_type": "code",
      "execution_count": null,
      "metadata": {
        "colab": {
          "base_uri": "https://localhost:8080/"
        },
        "id": "TEDw1GlJRNj1",
        "outputId": "ca119978-7677-458a-f5d3-c90fb8b68751"
      },
      "outputs": [
        {
          "name": "stdout",
          "output_type": "stream",
          "text": [
            "35/35 [==============================] - 0s 2ms/step\n"
          ]
        }
      ],
      "source": [
        "# predict the response on the test data\n",
        "NN_y_pred = model.predict(X_test)\n",
        "\n",
        "# get the predicted test response\n",
        "NN_test_pred = []\n",
        "for pred in NN_y_pred:\n",
        "    if pred[0] >= 0.5:\n",
        "        NN_test_pred.append(0)\n",
        "    else:\n",
        "        NN_test_pred.append(1)\n",
        "\n",
        "\n",
        "# get actual test response\n",
        "test_actual = []\n",
        "for pred in y_test:\n",
        "    if pred[0] >= 0.5:\n",
        "        test_actual.append(0)\n",
        "    else:\n",
        "        test_actual.append(1)"
      ]
    },
    {
      "cell_type": "code",
      "execution_count": null,
      "metadata": {
        "colab": {
          "base_uri": "https://localhost:8080/"
        },
        "id": "dQaZORvMTPxm",
        "outputId": "8ca46939-3b53-4f71-b6cd-9e5963ce56c2"
      },
      "outputs": [
        {
          "name": "stdout",
          "output_type": "stream",
          "text": [
            "              precision    recall  f1-score   support\n",
            "\n",
            "           0       0.90      0.43      0.58       294\n",
            "           1       0.82      0.98      0.90       795\n",
            "\n",
            "    accuracy                           0.83      1089\n",
            "   macro avg       0.86      0.71      0.74      1089\n",
            "weighted avg       0.84      0.83      0.81      1089\n",
            "\n"
          ]
        }
      ],
      "source": [
        "# classification report for NN\n",
        "print(classification_report(test_actual, NN_test_pred, labels=[0, 1]))\n"
      ]
    },
    {
      "cell_type": "code",
      "execution_count": null,
      "metadata": {
        "colab": {
          "base_uri": "https://localhost:8080/",
          "height": 295
        },
        "id": "vCkZU9z78LhR",
        "outputId": "1af0d118-8bc1-449f-89fb-d26d97962cd7"
      },
      "outputs": [
        {
          "data": {
            "image/png": "[encoded data removed]",
            "text/plain": [
              "<Figure size 432x288 with 1 Axes>"
            ]
          },
          "metadata": {
            "needs_background": "light"
          },
          "output_type": "display_data"
        }
      ],
      "source": [
        "# keep probabilities for the positive outcome only\n",
        "NN_y_probs = NN_y_pred[:, 1]\n",
        "\n",
        "# plot the Test Precision-Recall curve\n",
        "NN_precision, NN_recall, thresholds = precision_recall_curve(\n",
        "    test_actual, NN_y_probs)\n",
        "plt.plot(NN_recall, NN_precision,  marker='.', label=\"NN\")\n",
        "plt.ylabel(\"Precision\")\n",
        "plt.xlabel(\"Recall\")\n",
        "plt.legend()\n",
        "plt.title(\"Test Precision-Recall curve\")"
      ]
    },
    {
      "cell_type": "code",
      "execution_count": null,
      "metadata": {
        "colab": {
          "base_uri": "https://localhost:8080/"
        },
        "id": "woow6NDJeVtv",
        "outputId": "965f620f-d36b-42e7-af25-00fc1ebf2b6f"
      },
      "outputs": [
        {
          "data": {
            "text/plain": [
              "0.957988966352506"
            ]
          },
          "execution_count": 21,
          "metadata": {},
          "output_type": "execute_result"
        }
      ],
      "source": [
        "auc(NN_recall, NN_precision)\n"
      ]
    },
    {
      "cell_type": "code",
      "execution_count": null,
      "metadata": {
        "colab": {
          "base_uri": "https://localhost:8080/"
        },
        "id": "ywEeexSvpqi2",
        "outputId": "1212e875-8360-4e5e-e502-89ea40b9664e"
      },
      "outputs": [
        {
          "data": {
            "text/plain": [
              "0.9577813711375313"
            ]
          },
          "execution_count": 22,
          "metadata": {},
          "output_type": "execute_result"
        }
      ],
      "source": [
        "average_precision_score(test_actual, NN_y_probs)\n"
      ]
    },
    {
      "cell_type": "markdown",
      "metadata": {
        "id": "6hxh_g0vzQC0"
      },
      "source": [
        "### LSTM"
      ]
    },
    {
      "cell_type": "code",
      "execution_count": null,
      "metadata": {
        "id": "d20pxf1E-RQU"
      },
      "outputs": [],
      "source": [
        "# Build the LSTM Model\n",
        "model = Sequential()\n",
        "model.add(Embedding(input_dim=vocab_size, output_dim=embed_dim,\n",
        "                    input_length=50, weights=[embed_matrix]))  # embeddings_initializer = Constant(embed_matrix)))\n",
        "model.add(LSTM(128))\n",
        "model.add(Flatten())\n",
        "model.add(Dense(16, activation='relu'))\n",
        "model.add(Dropout(0.20))\n",
        "model.add(Dense(2, activation='sigmoid'))"
      ]
    },
    {
      "cell_type": "code",
      "execution_count": null,
      "metadata": {
        "colab": {
          "base_uri": "https://localhost:8080/"
        },
        "id": "x6oK6o8Wy-Kd",
        "outputId": "71b66f13-e64f-44cc-c359-b7cff79e9e08"
      },
      "outputs": [
        {
          "name": "stdout",
          "output_type": "stream",
          "text": [
            "Model: \"sequential_5\"\n",
            "_________________________________________________________________\n",
            " Layer (type)                Output Shape              Param #   \n",
            "=================================================================\n",
            " embedding_5 (Embedding)     (None, 50, 100)           1233900   \n",
            "                                                                 \n",
            " lstm_3 (LSTM)               (None, 128)               117248    \n",
            "                                                                 \n",
            " flatten_5 (Flatten)         (None, 128)               0         \n",
            "                                                                 \n",
            " dense_10 (Dense)            (None, 16)                2064      \n",
            "                                                                 \n",
            " dropout_5 (Dropout)         (None, 16)                0         \n",
            "                                                                 \n",
            " dense_11 (Dense)            (None, 2)                 34        \n",
            "                                                                 \n",
            "=================================================================\n",
            "Total params: 1,353,246\n",
            "Trainable params: 1,353,246\n",
            "Non-trainable params: 0\n",
            "_________________________________________________________________\n",
            "None\n"
          ]
        }
      ],
      "source": [
        "# compile the model\n",
        "from keras.callbacks import ModelCheckpoint, ReduceLROnPlateau, EarlyStopping\n",
        "model.compile(optimizer=keras.optimizers.RMSprop(learning_rate=5e-4),\n",
        "              loss='binary_crossentropy', metrics=['accuracy'])\n",
        "\n",
        "\n",
        "file_path = '/content/gdrive/MyDrive/Colab Notebooks/DSA4263 Project/LSTM260323.h5'\n",
        "\n",
        "checkpoint = ModelCheckpoint(\n",
        "    file_path, monitor=\"val_accuracy\", verbose=1, save_best_only=True, mode=\"max\"\n",
        ")\n",
        "\n",
        "# reduce_on_plateau = ReduceLROnPlateau(\n",
        "#     monitor=\"val_accuracy\", factor=0.1, patience=2, verbose=1, min_delta=1e-2\n",
        "# )\n",
        "\n",
        "early_stopping = EarlyStopping(\n",
        "    monitor=\"val_loss\", patience=3, verbose=2, min_delta=1e-2\n",
        ")\n",
        "\n",
        "callbacks_list = [checkpoint, early_stopping]\n",
        "\n",
        "print(model.summary())"
      ]
    },
    {
      "cell_type": "code",
      "execution_count": null,
      "metadata": {
        "colab": {
          "base_uri": "https://localhost:8080/"
        },
        "id": "zDXvWxDZ9eIh",
        "outputId": "c4d52df1-0350-4e3d-9a57-62272af2b6c6"
      },
      "outputs": [
        {
          "name": "stdout",
          "output_type": "stream",
          "text": [
            "Epoch 1/15\n",
            "68/69 [============================>.] - ETA: 0s - loss: 0.5906 - accuracy: 0.7369\n",
            "Epoch 1: val_accuracy improved from -inf to 0.73003, saving model to /content/gdrive/MyDrive/Colab Notebooks/DSA4263 Project/LSTM260323.h5\n",
            "69/69 [==============================] - 10s 115ms/step - loss: 0.5904 - accuracy: 0.7371 - val_loss: 0.5930 - val_accuracy: 0.7300\n",
            "Epoch 2/15\n",
            "68/69 [============================>.] - ETA: 0s - loss: 0.5603 - accuracy: 0.7468\n",
            "Epoch 2: val_accuracy did not improve from 0.73003\n",
            "69/69 [==============================] - 7s 96ms/step - loss: 0.5602 - accuracy: 0.7470 - val_loss: 0.6091 - val_accuracy: 0.7300\n",
            "Epoch 3/15\n",
            "68/69 [============================>.] - ETA: 0s - loss: 0.5189 - accuracy: 0.7746\n",
            "Epoch 3: val_accuracy improved from 0.73003 to 0.80900, saving model to /content/gdrive/MyDrive/Colab Notebooks/DSA4263 Project/LSTM260323.h5\n",
            "69/69 [==============================] - 9s 130ms/step - loss: 0.5187 - accuracy: 0.7747 - val_loss: 0.4924 - val_accuracy: 0.8090\n",
            "Epoch 4/15\n",
            "69/69 [==============================] - ETA: 0s - loss: 0.4199 - accuracy: 0.8220\n",
            "Epoch 4: val_accuracy improved from 0.80900 to 0.82920, saving model to /content/gdrive/MyDrive/Colab Notebooks/DSA4263 Project/LSTM260323.h5\n",
            "69/69 [==============================] - 8s 111ms/step - loss: 0.4199 - accuracy: 0.8220 - val_loss: 0.4675 - val_accuracy: 0.8292\n",
            "Epoch 5/15\n",
            "68/69 [============================>.] - ETA: 0s - loss: 0.3438 - accuracy: 0.8697\n",
            "Epoch 5: val_accuracy improved from 0.82920 to 0.88338, saving model to /content/gdrive/MyDrive/Colab Notebooks/DSA4263 Project/LSTM260323.h5\n",
            "69/69 [==============================] - 8s 115ms/step - loss: 0.3438 - accuracy: 0.8698 - val_loss: 0.3165 - val_accuracy: 0.8834\n",
            "Epoch 6/15\n",
            "68/69 [============================>.] - ETA: 0s - loss: 0.2737 - accuracy: 0.8941\n",
            "Epoch 6: val_accuracy did not improve from 0.88338\n",
            "69/69 [==============================] - 8s 110ms/step - loss: 0.2736 - accuracy: 0.8941 - val_loss: 0.3623 - val_accuracy: 0.8466\n",
            "Epoch 7/15\n",
            "68/69 [============================>.] - ETA: 0s - loss: 0.2420 - accuracy: 0.9164\n",
            "Epoch 7: val_accuracy improved from 0.88338 to 0.89073, saving model to /content/gdrive/MyDrive/Colab Notebooks/DSA4263 Project/LSTM260323.h5\n",
            "69/69 [==============================] - 7s 99ms/step - loss: 0.2419 - accuracy: 0.9164 - val_loss: 0.3257 - val_accuracy: 0.8907\n",
            "Epoch 8/15\n",
            "68/69 [============================>.] - ETA: 0s - loss: 0.1988 - accuracy: 0.9338\n",
            "Epoch 8: val_accuracy did not improve from 0.89073\n",
            "69/69 [==============================] - 8s 110ms/step - loss: 0.1987 - accuracy: 0.9339 - val_loss: 0.3353 - val_accuracy: 0.8815\n",
            "Epoch 8: early stopping\n",
            "Time taken to run model: 62.867130517959595 seconds.\n"
          ]
        }
      ],
      "source": [
        "# learning rate 5e-4\n",
        "# fitting the LSTM model\n",
        "\n",
        "start = time.time()\n",
        "history_embedding = model.fit(X_train, y_train, epochs=15, batch_size=64, validation_data=(\n",
        "    X_test, y_test), callbacks=callbacks_list)\n",
        "\n",
        "end = time.time()\n",
        "print(\"Time taken to run model: {} seconds.\".format(end - start))"
      ]
    },
    {
      "cell_type": "code",
      "execution_count": null,
      "metadata": {
        "colab": {
          "base_uri": "https://localhost:8080/",
          "height": 265
        },
        "id": "aMGIJzXe983Y",
        "outputId": "9dc4cadb-7bc3-4b36-e567-2733bbc9c223"
      },
      "outputs": [
        {
          "data": {
            "image/png": "[encoded data removed]",
            "text/plain": [
              "<Figure size 432x288 with 1 Axes>"
            ]
          },
          "metadata": {
            "needs_background": "light"
          },
          "output_type": "display_data"
        }
      ],
      "source": [
        "plt.plot(history_embedding.history['accuracy'], c='b', label='train accuracy')\n",
        "plt.plot(history_embedding.history['val_accuracy'],\n",
        "         c='r', label='validation accuracy')\n",
        "plt.legend(loc='upper right')\n",
        "plt.show()"
      ]
    },
    {
      "cell_type": "code",
      "execution_count": null,
      "metadata": {
        "colab": {
          "base_uri": "https://localhost:8080/",
          "height": 265
        },
        "id": "4UP4IGRZ7hhD",
        "outputId": "d059e5b5-66d6-4033-c2fd-fbe26ad4de67"
      },
      "outputs": [
        {
          "data": {
            "image/png": "[encoded data removed]",
            "text/plain": [
              "<Figure size 432x288 with 1 Axes>"
            ]
          },
          "metadata": {
            "needs_background": "light"
          },
          "output_type": "display_data"
        }
      ],
      "source": [
        "plt.plot(history_embedding.history['loss'], c='b', label='train loss')\n",
        "plt.plot(history_embedding.history['val_loss'], c='r', label='validation loss')\n",
        "plt.legend(loc='upper right')\n",
        "plt.show()"
      ]
    },
    {
      "cell_type": "code",
      "execution_count": null,
      "metadata": {
        "id": "5dCI6tr-B8tx"
      },
      "outputs": [],
      "source": [
        "# use the best model\n",
        "file_path = '/content/gdrive/MyDrive/Colab Notebooks/DSA4263 Project/LSTM260323.h5'\n",
        "new_model = load_model(file_path)\n"
      ]
    },
    {
      "cell_type": "code",
      "execution_count": null,
      "metadata": {
        "colab": {
          "base_uri": "https://localhost:8080/"
        },
        "id": "Nt_O1EVF-eda",
        "outputId": "defa2811-44ce-4240-e1e9-853b0a0f00df"
      },
      "outputs": [
        {
          "name": "stdout",
          "output_type": "stream",
          "text": [
            "35/35 [==============================] - 1s 20ms/step\n"
          ]
        }
      ],
      "source": [
        "# predict the response on the test data\n",
        "LSTM_y_pred = new_model.predict(X_test)\n",
        "\n",
        "# get the predicted test response\n",
        "LSTM_test_pred = []\n",
        "for pred in LSTM_y_pred:\n",
        "    if pred[0] >= 0.5:\n",
        "        LSTM_test_pred.append(0)\n",
        "    else:\n",
        "        LSTM_test_pred.append(1)\n",
        "\n",
        "\n",
        "# get actual test response\n",
        "test_actual = []\n",
        "for pred in y_test:\n",
        "    if pred[0] >= 0.5:\n",
        "        test_actual.append(0)\n",
        "    else:\n",
        "        test_actual.append(1)"
      ]
    },
    {
      "cell_type": "code",
      "execution_count": null,
      "metadata": {
        "colab": {
          "base_uri": "https://localhost:8080/"
        },
        "id": "VNyDTE8K_wqR",
        "outputId": "4ccede5d-00a6-4ff8-a17e-9b10243c10cd"
      },
      "outputs": [
        {
          "name": "stdout",
          "output_type": "stream",
          "text": [
            "              precision    recall  f1-score   support\n",
            "\n",
            "           0       0.87      0.70      0.78       294\n",
            "           1       0.90      0.96      0.93       795\n",
            "\n",
            "    accuracy                           0.89      1089\n",
            "   macro avg       0.88      0.83      0.85      1089\n",
            "weighted avg       0.89      0.89      0.89      1089\n",
            "\n"
          ]
        }
      ],
      "source": [
        "# classification report for NN\n",
        "print(classification_report(test_actual, LSTM_test_pred, labels=[0, 1]))\n"
      ]
    },
    {
      "cell_type": "code",
      "execution_count": null,
      "metadata": {
        "id": "6f5vsu7LDvHP"
      },
      "outputs": [],
      "source": [
        "LSTM_y_probs = LSTM_y_pred[:, 1]\n",
        "LSTM_precision, LSTM_recall, LSTM_thresholds = precision_recall_curve(\n",
        "    test_actual, LSTM_y_probs)"
      ]
    },
    {
      "cell_type": "code",
      "execution_count": null,
      "metadata": {
        "colab": {
          "base_uri": "https://localhost:8080/",
          "height": 295
        },
        "id": "W7zusLeQE468",
        "outputId": "d1028d59-c8b7-4744-9653-6a2318360869"
      },
      "outputs": [
        {
          "data": {
            "image/png": "[encoded data removed]",
            "text/plain": [
              "<Figure size 432x288 with 1 Axes>"
            ]
          },
          "metadata": {
            "needs_background": "light"
          },
          "output_type": "display_data"
        }
      ],
      "source": [
        "# keep probabilities for the positive outcome only\n",
        "NN_y_probs = NN_y_pred[:, 1]\n",
        "LSTM_y_probs = LSTM_y_pred[:, 1]\n",
        "\n",
        "# plot the Test Precision-Recall curve\n",
        "NN_precision, NN_recall, NN_thresholds = precision_recall_curve(\n",
        "    test_actual, NN_y_probs)\n",
        "LSTM_precision, LSTM_recall, LSTM_thresholds = precision_recall_curve(\n",
        "    test_actual, LSTM_y_probs)\n",
        "plt.plot(NN_recall, NN_precision,  marker='.', label=\"NN\")\n",
        "plt.plot(LSTM_recall, LSTM_precision,  marker='.', label=\"LSTM\")\n",
        "plt.ylabel(\"Precision\")\n",
        "plt.xlabel(\"Recall\")\n",
        "plt.legend()\n",
        "plt.title(\"Test Precision-Recall curve\")"
      ]
    },
    {
      "cell_type": "code",
      "execution_count": null,
      "metadata": {
        "colab": {
          "base_uri": "https://localhost:8080/"
        },
        "id": "INUfnsrLepQm",
        "outputId": "0e5ec1d1-dfe9-49b7-b614-d23d77b5e23f"
      },
      "outputs": [
        {
          "data": {
            "text/plain": [
              "0.9735675336159264"
            ]
          },
          "execution_count": 75,
          "metadata": {},
          "output_type": "execute_result"
        }
      ],
      "source": [
        "auc(LSTM_recall, LSTM_precision)\n"
      ]
    },
    {
      "cell_type": "code",
      "execution_count": null,
      "metadata": {
        "colab": {
          "base_uri": "https://localhost:8080/"
        },
        "id": "X_pmRwuzoXoP",
        "outputId": "914a07fc-9394-4c04-c56d-fb9545c8f76c"
      },
      "outputs": [
        {
          "data": {
            "text/plain": [
              "0.9735871503964051"
            ]
          },
          "execution_count": 76,
          "metadata": {},
          "output_type": "execute_result"
        }
      ],
      "source": [
        "average_precision_score(test_actual, LSTM_y_probs)\n"
      ]
    }
  ],
  "metadata": {
    "colab": {
      "provenance": []
    },
    "kernelspec": {
      "display_name": "voc_env",
      "language": "python",
      "name": "python3"
    },
    "language_info": {
      "name": "python",
      "version": "3.9.16"
    },
    "vscode": {
      "interpreter": {
        "hash": "acb2ac84264902808da2ab4f75e9a76d18cc6fa8e4230078cc98762ea542af45"
      }
    }
  },
  "nbformat": 4,
  "nbformat_minor": 0
}
