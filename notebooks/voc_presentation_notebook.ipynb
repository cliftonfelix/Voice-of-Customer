{
 "cells": [
  {
   "cell_type": "code",
   "execution_count": 3,
   "metadata": {},
   "outputs": [
    {
     "name": "stdout",
     "output_type": "stream",
     "text": [
      "c:\\Users\\Wei Qing\\Desktop\\y4s2\\dsa4263\\h2o2.ai\n"
     ]
    }
   ],
   "source": [
    "cd .."
   ]
  },
  {
   "attachments": {},
   "cell_type": "markdown",
   "metadata": {},
   "source": [
    "# FileUtil Initialization"
   ]
  },
  {
   "cell_type": "code",
   "execution_count": 2,
   "metadata": {},
   "outputs": [],
   "source": [
    "from src.utils.file_util import FileUtil\n",
    "\n",
    "file_util = FileUtil()"
   ]
  },
  {
   "attachments": {},
   "cell_type": "markdown",
   "metadata": {},
   "source": [
    "# Retrieve Raw Train, Test Data"
   ]
  },
  {
   "cell_type": "code",
   "execution_count": 25,
   "metadata": {},
   "outputs": [],
   "source": [
    "train = file_util.get_raw_train_data()\n",
    "test = file_util.get_raw_train_data() #we use raw train as test"
   ]
  },
  {
   "cell_type": "code",
   "execution_count": 4,
   "metadata": {},
   "outputs": [
    {
     "data": {
      "text/html": [
       "<div>\n",
       "<style scoped>\n",
       "    .dataframe tbody tr th:only-of-type {\n",
       "        vertical-align: middle;\n",
       "    }\n",
       "\n",
       "    .dataframe tbody tr th {\n",
       "        vertical-align: top;\n",
       "    }\n",
       "\n",
       "    .dataframe thead th {\n",
       "        text-align: right;\n",
       "    }\n",
       "</style>\n",
       "<table border=\"1\" class=\"dataframe\">\n",
       "  <thead>\n",
       "    <tr style=\"text-align: right;\">\n",
       "      <th></th>\n",
       "      <th>Sentiment</th>\n",
       "      <th>Time</th>\n",
       "      <th>Text</th>\n",
       "    </tr>\n",
       "  </thead>\n",
       "  <tbody>\n",
       "    <tr>\n",
       "      <th>0</th>\n",
       "      <td>positive</td>\n",
       "      <td>18/6/21</td>\n",
       "      <td>This is a very healthy dog food. Good for thei...</td>\n",
       "    </tr>\n",
       "    <tr>\n",
       "      <th>1</th>\n",
       "      <td>positive</td>\n",
       "      <td>7/7/21</td>\n",
       "      <td>I've been very pleased with the Natural Balanc...</td>\n",
       "    </tr>\n",
       "    <tr>\n",
       "      <th>2</th>\n",
       "      <td>positive</td>\n",
       "      <td>18/6/21</td>\n",
       "      <td>Before I was educated about feline nutrition, ...</td>\n",
       "    </tr>\n",
       "    <tr>\n",
       "      <th>3</th>\n",
       "      <td>positive</td>\n",
       "      <td>7/7/21</td>\n",
       "      <td>My holistic vet recommended this, along with a...</td>\n",
       "    </tr>\n",
       "    <tr>\n",
       "      <th>4</th>\n",
       "      <td>positive</td>\n",
       "      <td>1/7/21</td>\n",
       "      <td>I bought this coffee because its much cheaper ...</td>\n",
       "    </tr>\n",
       "  </tbody>\n",
       "</table>\n",
       "</div>"
      ],
      "text/plain": [
       "  Sentiment     Time                                               Text\n",
       "0  positive  18/6/21  This is a very healthy dog food. Good for thei...\n",
       "1  positive   7/7/21  I've been very pleased with the Natural Balanc...\n",
       "2  positive  18/6/21  Before I was educated about feline nutrition, ...\n",
       "3  positive   7/7/21  My holistic vet recommended this, along with a...\n",
       "4  positive   1/7/21  I bought this coffee because its much cheaper ..."
      ]
     },
     "execution_count": 4,
     "metadata": {},
     "output_type": "execute_result"
    }
   ],
   "source": [
    "train.head()"
   ]
  },
  {
   "attachments": {},
   "cell_type": "markdown",
   "metadata": {},
   "source": [
    "# Preprocessing"
   ]
  },
  {
   "cell_type": "code",
   "execution_count": 5,
   "metadata": {},
   "outputs": [],
   "source": [
    "from src.preprocessing.transformations import apply_cleaning_train"
   ]
  },
  {
   "cell_type": "code",
   "execution_count": 6,
   "metadata": {},
   "outputs": [],
   "source": [
    "train = apply_cleaning_train(train)"
   ]
  },
  {
   "cell_type": "code",
   "execution_count": 7,
   "metadata": {},
   "outputs": [
    {
     "data": {
      "text/html": [
       "<div>\n",
       "<style scoped>\n",
       "    .dataframe tbody tr th:only-of-type {\n",
       "        vertical-align: middle;\n",
       "    }\n",
       "\n",
       "    .dataframe tbody tr th {\n",
       "        vertical-align: top;\n",
       "    }\n",
       "\n",
       "    .dataframe thead th {\n",
       "        text-align: right;\n",
       "    }\n",
       "</style>\n",
       "<table border=\"1\" class=\"dataframe\">\n",
       "  <thead>\n",
       "    <tr style=\"text-align: right;\">\n",
       "      <th></th>\n",
       "      <th>date</th>\n",
       "      <th>partially_cleaned_text</th>\n",
       "      <th>sentiment</th>\n",
       "      <th>cleaned_text</th>\n",
       "    </tr>\n",
       "  </thead>\n",
       "  <tbody>\n",
       "    <tr>\n",
       "      <th>0</th>\n",
       "      <td>18/6/21</td>\n",
       "      <td>This is a very healthy dog food. Good for thei...</td>\n",
       "      <td>1</td>\n",
       "      <td>healthy dog food good digestion also good smal...</td>\n",
       "    </tr>\n",
       "    <tr>\n",
       "      <th>1</th>\n",
       "      <td>7/7/21</td>\n",
       "      <td>I've been very pleased with the Natural Balanc...</td>\n",
       "      <td>1</td>\n",
       "      <td>pleased natural balance dog food dogs issues d...</td>\n",
       "    </tr>\n",
       "    <tr>\n",
       "      <th>2</th>\n",
       "      <td>18/6/21</td>\n",
       "      <td>Before I was educated about feline nutrition, ...</td>\n",
       "      <td>1</td>\n",
       "      <td>educated feline nutrition allowed cats become ...</td>\n",
       "    </tr>\n",
       "    <tr>\n",
       "      <th>3</th>\n",
       "      <td>7/7/21</td>\n",
       "      <td>My holistic vet recommended this, along with a...</td>\n",
       "      <td>1</td>\n",
       "      <td>holistic vet recommended along brands tried ca...</td>\n",
       "    </tr>\n",
       "    <tr>\n",
       "      <th>4</th>\n",
       "      <td>1/7/21</td>\n",
       "      <td>I bought this coffee because its much cheaper ...</td>\n",
       "      <td>1</td>\n",
       "      <td>bought coffee much cheaper ganocafe organic re...</td>\n",
       "    </tr>\n",
       "  </tbody>\n",
       "</table>\n",
       "</div>"
      ],
      "text/plain": [
       "      date                             partially_cleaned_text  sentiment  \\\n",
       "0  18/6/21  This is a very healthy dog food. Good for thei...          1   \n",
       "1   7/7/21  I've been very pleased with the Natural Balanc...          1   \n",
       "2  18/6/21  Before I was educated about feline nutrition, ...          1   \n",
       "3   7/7/21  My holistic vet recommended this, along with a...          1   \n",
       "4   1/7/21  I bought this coffee because its much cheaper ...          1   \n",
       "\n",
       "                                        cleaned_text  \n",
       "0  healthy dog food good digestion also good smal...  \n",
       "1  pleased natural balance dog food dogs issues d...  \n",
       "2  educated feline nutrition allowed cats become ...  \n",
       "3  holistic vet recommended along brands tried ca...  \n",
       "4  bought coffee much cheaper ganocafe organic re...  "
      ]
     },
     "execution_count": 7,
     "metadata": {},
     "output_type": "execute_result"
    }
   ],
   "source": [
    "train.head()"
   ]
  },
  {
   "attachments": {},
   "cell_type": "markdown",
   "metadata": {},
   "source": [
    "# Training"
   ]
  },
  {
   "attachments": {},
   "cell_type": "markdown",
   "metadata": {},
   "source": [
    "## Sentiment Analysis"
   ]
  },
  {
   "cell_type": "code",
   "execution_count": 8,
   "metadata": {},
   "outputs": [
    {
     "name": "stderr",
     "output_type": "stream",
     "text": [
      "c:\\Users\\clift\\AppData\\Local\\Programs\\Python\\Python39\\lib\\site-packages\\tqdm\\auto.py:22: TqdmWarning: IProgress not found. Please update jupyter and ipywidgets. See https://ipywidgets.readthedocs.io/en/stable/user_install.html\n",
      "  from .autonotebook import tqdm as notebook_tqdm\n"
     ]
    }
   ],
   "source": [
    "from src.models.sentiment_analysis.train.train import sentiment_analysis_train"
   ]
  },
  {
   "cell_type": "code",
   "execution_count": null,
   "metadata": {},
   "outputs": [],
   "source": [
    "sentiment_analysis_train()"
   ]
  },
  {
   "attachments": {},
   "cell_type": "markdown",
   "metadata": {},
   "source": [
    "## Topic Modelling"
   ]
  },
  {
   "cell_type": "code",
   "execution_count": 24,
   "metadata": {},
   "outputs": [],
   "source": [
    "from src.models.topic_modelling.train.train import topic_modelling_train"
   ]
  },
  {
   "cell_type": "code",
   "execution_count": null,
   "metadata": {},
   "outputs": [],
   "source": [
    "topic_modelling_train()"
   ]
  },
  {
   "attachments": {},
   "cell_type": "markdown",
   "metadata": {},
   "source": [
    "# Evaluation"
   ]
  },
  {
   "attachments": {},
   "cell_type": "markdown",
   "metadata": {},
   "source": [
    "## Sentiment Analysis"
   ]
  },
  {
   "cell_type": "code",
   "execution_count": null,
   "metadata": {},
   "outputs": [
    {
     "data": {
      "text/plain": [
       "{'BERT': {'PR AUC': 0.9650676330441036,\n",
       "  'Average Precision': 0.9651006951280032}}"
      ]
     },
     "metadata": {},
     "output_type": "display_data"
    }
   ],
   "source": [
    "metrics = file_util.get_metrics(\"sentiment_analysis\")\n",
    "metrics"
   ]
  },
  {
   "cell_type": "code",
   "execution_count": null,
   "metadata": {},
   "outputs": [
    {
     "name": "stdout",
     "output_type": "stream",
     "text": [
      "Best model is BERT with PR-AUC 0.9650676330441036\n"
     ]
    }
   ],
   "source": [
    "models_prauc = sorted(list(map(lambda item: (item[0], item[1][\"PR AUC\"]), metrics.items())), key = lambda x: x[1])\n",
    "print(\"Best model is {} with PR-AUC {}\".format(models_prauc[-1][0], models_prauc[-1][1]))"
   ]
  },
  {
   "attachments": {},
   "cell_type": "markdown",
   "metadata": {},
   "source": [
    "## Topic Modelling"
   ]
  },
  {
   "cell_type": "code",
   "execution_count": 17,
   "metadata": {},
   "outputs": [
    {
     "data": {
      "application/vnd.plotly.v1+json": {
       "config": {
        "plotlyServerURL": "https://plot.ly"
       },
       "data": [
        {
         "marker": {
          "color": "#636EFA"
         },
         "orientation": "h",
         "type": "bar",
         "x": [
          5.607429771921958,
          6.3293862264266485,
          6.329598846117748,
          6.5469056399597045,
          6.919860817961661,
          9.93593674843612
         ],
         "xaxis": "x",
         "y": [
          "recommend",
          "gluten",
          "bought",
          "chocolate",
          "free",
          "cookies"
         ],
         "yaxis": "y"
        },
        {
         "marker": {
          "color": "#EF553B"
         },
         "orientation": "h",
         "type": "bar",
         "x": [
          3.9903115883577946,
          4.379752200637607,
          5.253219716175475,
          5.533105242666337,
          6.296351632881535,
          7.2450657459833065
         ],
         "xaxis": "x2",
         "y": [
          "tasty",
          "tasting",
          "sweet",
          "snack",
          "chocolate",
          "hot"
         ],
         "yaxis": "y2"
        },
        {
         "marker": {
          "color": "#00CC96"
         },
         "orientation": "h",
         "type": "bar",
         "x": [
          4.689449554751874,
          4.696601228801295,
          4.904595285533166,
          4.949200057079043,
          5.018929725159371,
          7.549065257370921
         ],
         "xaxis": "x3",
         "y": [
          "way",
          "gum",
          "used",
          "sweet",
          "time",
          "stuff"
         ],
         "yaxis": "y3"
        },
        {
         "marker": {
          "color": "#AB63FA"
         },
         "orientation": "h",
         "type": "bar",
         "x": [
          4.441112236420996,
          4.670123488588937,
          4.691409818613636,
          4.929592059008087,
          5.027868836445932,
          6.400206355814293
         ],
         "xaxis": "x4",
         "y": [
          "local",
          "stores",
          "grocery",
          "time",
          "water",
          "store"
         ],
         "yaxis": "y4"
        },
        {
         "marker": {
          "color": "#FFA15A"
         },
         "orientation": "h",
         "type": "bar",
         "x": [
          4.01282430849754,
          4.015669391035955,
          4.065744571360912,
          4.351089225584882,
          5.642483266683926,
          6.594403376131451
         ],
         "xaxis": "x5",
         "y": [
          "bad",
          "oil",
          "tasty",
          "free",
          "sugar",
          "bought"
         ],
         "yaxis": "y5"
        },
        {
         "marker": {
          "color": "#19D3F3"
         },
         "orientation": "h",
         "type": "bar",
         "x": [
          4.364298216882965,
          4.436707113007371,
          5.067151648087907,
          5.818469226132368,
          5.8215197859830194,
          5.886631689729222
         ],
         "xaxis": "x6",
         "y": [
          "box",
          "mix",
          "gluten",
          "green",
          "tasty",
          "free"
         ],
         "yaxis": "y6"
        },
        {
         "marker": {
          "color": "#FF6692"
         },
         "orientation": "h",
         "type": "bar",
         "x": [
          3.4640266530084753,
          3.6236330596521684,
          4.171217354824833,
          5.785121152866179,
          6.29867542763987,
          7.31399346468151
         ],
         "xaxis": "x7",
         "y": [
          "try",
          "sauce",
          "water",
          "easy",
          "chocolate",
          "drink"
         ],
         "yaxis": "y7"
        },
        {
         "marker": {
          "color": "#B6E880"
         },
         "orientation": "h",
         "type": "bar",
         "x": [
          3.9969532515251363,
          4.0935455590831165,
          4.254940440253278,
          4.871298410044024,
          5.5642632815758395,
          5.821054171692687
         ],
         "xaxis": "x8",
         "y": [
          "bought",
          "cat",
          "little",
          "water",
          "sauce",
          "time"
         ],
         "yaxis": "y8"
        },
        {
         "marker": {
          "color": "#FF97FF"
         },
         "orientation": "h",
         "type": "bar",
         "x": [
          4.982671447650964,
          5.018233011664878,
          5.179853125061049,
          5.219828073201537,
          5.3820176831932605,
          7.330441925856158
         ],
         "xaxis": "x9",
         "y": [
          "right",
          "sugar",
          "bought",
          "chips",
          "water",
          "chocolate"
         ],
         "yaxis": "y9"
        },
        {
         "marker": {
          "color": "#FECB52"
         },
         "orientation": "h",
         "type": "bar",
         "x": [
          5.229488475171462,
          5.275873727958291,
          5.3167607054937855,
          5.548858491290193,
          5.651966412731414,
          5.9625965257373
         ],
         "xaxis": "x10",
         "y": [
          "purchase",
          "tasting",
          "item",
          "tasty",
          "healthy",
          "china"
         ],
         "yaxis": "y10"
        },
        {
         "marker": {
          "color": "#636EFA"
         },
         "orientation": "h",
         "type": "bar",
         "x": [
          5.259711474293148,
          5.306786577257545,
          5.3959038491301925,
          5.498633754189336,
          5.5467978693693984,
          5.659558540457234
         ],
         "xaxis": "x11",
         "y": [
          "treat",
          "order",
          "fresh",
          "time",
          "healthy",
          "snack"
         ],
         "yaxis": "y11"
        },
        {
         "marker": {
          "color": "#EF553B"
         },
         "orientation": "h",
         "type": "bar",
         "x": [
          2.548042334402226,
          2.574261761653538,
          2.736126529440342,
          2.7464131968900887,
          3.063238048991475,
          4.208146882666781
         ],
         "xaxis": "x12",
         "y": [
          "tasted",
          "excellent",
          "fresh",
          "low",
          "tasty",
          "little"
         ],
         "yaxis": "y12"
        },
        {
         "marker": {
          "color": "#00CC96"
         },
         "orientation": "h",
         "type": "bar",
         "x": [
          3.713813014699174,
          3.7299593066056698,
          3.743616534426251,
          3.7794131272937355,
          4.196374599039251,
          4.687794897256802
         ],
         "xaxis": "x13",
         "y": [
          "eating",
          "think",
          "try",
          "pack",
          "order",
          "water"
         ],
         "yaxis": "y13"
        },
        {
         "marker": {
          "color": "#AB63FA"
         },
         "orientation": "h",
         "type": "bar",
         "x": [
          4.769780188774536,
          4.787845921656541,
          5.262245860939879,
          5.578577134632921,
          8.570796477038671,
          9.453077118111178
         ],
         "xaxis": "x14",
         "y": [
          "strong",
          "easy",
          "delicious",
          "water",
          "free",
          "gluten"
         ],
         "yaxis": "y14"
        },
        {
         "marker": {
          "color": "#FFA15A"
         },
         "orientation": "h",
         "type": "bar",
         "x": [
          7.158035009822655,
          8.532436972322083,
          8.626900159219819,
          8.63967798334878,
          8.849868570042206,
          10.351498524129715
         ],
         "xaxis": "x15",
         "y": [
          "cereal",
          "drink",
          "tasting",
          "sweet",
          "bars",
          "sugar"
         ],
         "yaxis": "y15"
        },
        {
         "marker": {
          "color": "#19D3F3"
         },
         "orientation": "h",
         "type": "bar",
         "x": [
          3.4941770310130376,
          3.7189964217041376,
          3.948387886737938,
          4.067217841284915,
          4.085336034742148,
          7.687429473811749
         ],
         "xaxis": "x16",
         "y": [
          "healthy",
          "tasty",
          "perfect",
          "purchase",
          "tasting",
          "chips"
         ],
         "yaxis": "y16"
        },
        {
         "marker": {
          "color": "#FF6692"
         },
         "orientation": "h",
         "type": "bar",
         "x": [
          4.780227881399939,
          4.9325783033310575,
          5.3206000696739455,
          5.454787411366581,
          5.45769955522022,
          12.202849853181172
         ],
         "xaxis": "x17",
         "y": [
          "store",
          "tasty",
          "little",
          "popcorn",
          "time",
          "salt"
         ],
         "yaxis": "y17"
        },
        {
         "marker": {
          "color": "#B6E880"
         },
         "orientation": "h",
         "type": "bar",
         "x": [
          4.094924552179306,
          4.238156893332164,
          4.350372948450032,
          4.637090171534905,
          4.645637496879643,
          5.211088493766039
         ],
         "xaxis": "x18",
         "y": [
          "bought",
          "hot",
          "nice",
          "quality",
          "time",
          "sugar"
         ],
         "yaxis": "y18"
        },
        {
         "marker": {
          "color": "#FF97FF"
         },
         "orientation": "h",
         "type": "bar",
         "x": [
          5.3912794702065785,
          5.404369205593331,
          5.491253321539105,
          5.667753225482001,
          6.492257584872001,
          7.2926483413486505
         ],
         "xaxis": "x19",
         "y": [
          "got",
          "pack",
          "time",
          "try",
          "bought",
          "quality"
         ],
         "yaxis": "y19"
        },
        {
         "marker": {
          "color": "#FECB52"
         },
         "orientation": "h",
         "type": "bar",
         "x": [
          5.056278616471602,
          5.1229151701515745,
          5.238184760330144,
          6.004310898793013,
          6.224777669194985,
          7.451520897554611
         ],
         "xaxis": "x20",
         "y": [
          "used",
          "sugar",
          "mix",
          "milk",
          "nice",
          "little"
         ],
         "yaxis": "y20"
        }
       ],
       "layout": {
        "annotations": [
         {
          "font": {
           "size": 16
          },
          "showarrow": false,
          "text": "0",
          "x": 0.0875,
          "xanchor": "center",
          "xref": "paper",
          "y": 0.9999999999999999,
          "yanchor": "bottom",
          "yref": "paper"
         },
         {
          "font": {
           "size": 16
          },
          "showarrow": false,
          "text": "1",
          "x": 0.36250000000000004,
          "xanchor": "center",
          "xref": "paper",
          "y": 0.9999999999999999,
          "yanchor": "bottom",
          "yref": "paper"
         },
         {
          "font": {
           "size": 16
          },
          "showarrow": false,
          "text": "10",
          "x": 0.6375000000000001,
          "xanchor": "center",
          "xref": "paper",
          "y": 0.9999999999999999,
          "yanchor": "bottom",
          "yref": "paper"
         },
         {
          "font": {
           "size": 16
          },
          "showarrow": false,
          "text": "11",
          "x": 0.9125,
          "xanchor": "center",
          "xref": "paper",
          "y": 0.9999999999999999,
          "yanchor": "bottom",
          "yref": "paper"
         },
         {
          "font": {
           "size": 16
          },
          "showarrow": false,
          "text": "12",
          "x": 0.0875,
          "xanchor": "center",
          "xref": "paper",
          "y": 0.7839999999999999,
          "yanchor": "bottom",
          "yref": "paper"
         },
         {
          "font": {
           "size": 16
          },
          "showarrow": false,
          "text": "13",
          "x": 0.36250000000000004,
          "xanchor": "center",
          "xref": "paper",
          "y": 0.7839999999999999,
          "yanchor": "bottom",
          "yref": "paper"
         },
         {
          "font": {
           "size": 16
          },
          "showarrow": false,
          "text": "14",
          "x": 0.6375000000000001,
          "xanchor": "center",
          "xref": "paper",
          "y": 0.7839999999999999,
          "yanchor": "bottom",
          "yref": "paper"
         },
         {
          "font": {
           "size": 16
          },
          "showarrow": false,
          "text": "15",
          "x": 0.9125,
          "xanchor": "center",
          "xref": "paper",
          "y": 0.7839999999999999,
          "yanchor": "bottom",
          "yref": "paper"
         },
         {
          "font": {
           "size": 16
          },
          "showarrow": false,
          "text": "16",
          "x": 0.0875,
          "xanchor": "center",
          "xref": "paper",
          "y": 0.568,
          "yanchor": "bottom",
          "yref": "paper"
         },
         {
          "font": {
           "size": 16
          },
          "showarrow": false,
          "text": "17",
          "x": 0.36250000000000004,
          "xanchor": "center",
          "xref": "paper",
          "y": 0.568,
          "yanchor": "bottom",
          "yref": "paper"
         },
         {
          "font": {
           "size": 16
          },
          "showarrow": false,
          "text": "18",
          "x": 0.6375000000000001,
          "xanchor": "center",
          "xref": "paper",
          "y": 0.568,
          "yanchor": "bottom",
          "yref": "paper"
         },
         {
          "font": {
           "size": 16
          },
          "showarrow": false,
          "text": "19",
          "x": 0.9125,
          "xanchor": "center",
          "xref": "paper",
          "y": 0.568,
          "yanchor": "bottom",
          "yref": "paper"
         },
         {
          "font": {
           "size": 16
          },
          "showarrow": false,
          "text": "2",
          "x": 0.0875,
          "xanchor": "center",
          "xref": "paper",
          "y": 0.352,
          "yanchor": "bottom",
          "yref": "paper"
         },
         {
          "font": {
           "size": 16
          },
          "showarrow": false,
          "text": "3",
          "x": 0.36250000000000004,
          "xanchor": "center",
          "xref": "paper",
          "y": 0.352,
          "yanchor": "bottom",
          "yref": "paper"
         },
         {
          "font": {
           "size": 16
          },
          "showarrow": false,
          "text": "4",
          "x": 0.6375000000000001,
          "xanchor": "center",
          "xref": "paper",
          "y": 0.352,
          "yanchor": "bottom",
          "yref": "paper"
         },
         {
          "font": {
           "size": 16
          },
          "showarrow": false,
          "text": "5",
          "x": 0.9125,
          "xanchor": "center",
          "xref": "paper",
          "y": 0.352,
          "yanchor": "bottom",
          "yref": "paper"
         },
         {
          "font": {
           "size": 16
          },
          "showarrow": false,
          "text": "6",
          "x": 0.0875,
          "xanchor": "center",
          "xref": "paper",
          "y": 0.13599999999999998,
          "yanchor": "bottom",
          "yref": "paper"
         },
         {
          "font": {
           "size": 16
          },
          "showarrow": false,
          "text": "7",
          "x": 0.36250000000000004,
          "xanchor": "center",
          "xref": "paper",
          "y": 0.13599999999999998,
          "yanchor": "bottom",
          "yref": "paper"
         },
         {
          "font": {
           "size": 16
          },
          "showarrow": false,
          "text": "8",
          "x": 0.6375000000000001,
          "xanchor": "center",
          "xref": "paper",
          "y": 0.13599999999999998,
          "yanchor": "bottom",
          "yref": "paper"
         },
         {
          "font": {
           "size": 16
          },
          "showarrow": false,
          "text": "9",
          "x": 0.9125,
          "xanchor": "center",
          "xref": "paper",
          "y": 0.13599999999999998,
          "yanchor": "bottom",
          "yref": "paper"
         }
        ],
        "height": 800,
        "hoverlabel": {
         "bgcolor": "white",
         "font": {
          "family": "Rockwell",
          "size": 16
         }
        },
        "showlegend": false,
        "template": {
         "data": {
          "bar": [
           {
            "error_x": {
             "color": "#2a3f5f"
            },
            "error_y": {
             "color": "#2a3f5f"
            },
            "marker": {
             "line": {
              "color": "white",
              "width": 0.5
             },
             "pattern": {
              "fillmode": "overlay",
              "size": 10,
              "solidity": 0.2
             }
            },
            "type": "bar"
           }
          ],
          "barpolar": [
           {
            "marker": {
             "line": {
              "color": "white",
              "width": 0.5
             },
             "pattern": {
              "fillmode": "overlay",
              "size": 10,
              "solidity": 0.2
             }
            },
            "type": "barpolar"
           }
          ],
          "carpet": [
           {
            "aaxis": {
             "endlinecolor": "#2a3f5f",
             "gridcolor": "#C8D4E3",
             "linecolor": "#C8D4E3",
             "minorgridcolor": "#C8D4E3",
             "startlinecolor": "#2a3f5f"
            },
            "baxis": {
             "endlinecolor": "#2a3f5f",
             "gridcolor": "#C8D4E3",
             "linecolor": "#C8D4E3",
             "minorgridcolor": "#C8D4E3",
             "startlinecolor": "#2a3f5f"
            },
            "type": "carpet"
           }
          ],
          "choropleth": [
           {
            "colorbar": {
             "outlinewidth": 0,
             "ticks": ""
            },
            "type": "choropleth"
           }
          ],
          "contour": [
           {
            "colorbar": {
             "outlinewidth": 0,
             "ticks": ""
            },
            "colorscale": [
             [
              0,
              "#0d0887"
             ],
             [
              0.1111111111111111,
              "#46039f"
             ],
             [
              0.2222222222222222,
              "#7201a8"
             ],
             [
              0.3333333333333333,
              "#9c179e"
             ],
             [
              0.4444444444444444,
              "#bd3786"
             ],
             [
              0.5555555555555556,
              "#d8576b"
             ],
             [
              0.6666666666666666,
              "#ed7953"
             ],
             [
              0.7777777777777778,
              "#fb9f3a"
             ],
             [
              0.8888888888888888,
              "#fdca26"
             ],
             [
              1,
              "#f0f921"
             ]
            ],
            "type": "contour"
           }
          ],
          "contourcarpet": [
           {
            "colorbar": {
             "outlinewidth": 0,
             "ticks": ""
            },
            "type": "contourcarpet"
           }
          ],
          "heatmap": [
           {
            "colorbar": {
             "outlinewidth": 0,
             "ticks": ""
            },
            "colorscale": [
             [
              0,
              "#0d0887"
             ],
             [
              0.1111111111111111,
              "#46039f"
             ],
             [
              0.2222222222222222,
              "#7201a8"
             ],
             [
              0.3333333333333333,
              "#9c179e"
             ],
             [
              0.4444444444444444,
              "#bd3786"
             ],
             [
              0.5555555555555556,
              "#d8576b"
             ],
             [
              0.6666666666666666,
              "#ed7953"
             ],
             [
              0.7777777777777778,
              "#fb9f3a"
             ],
             [
              0.8888888888888888,
              "#fdca26"
             ],
             [
              1,
              "#f0f921"
             ]
            ],
            "type": "heatmap"
           }
          ],
          "heatmapgl": [
           {
            "colorbar": {
             "outlinewidth": 0,
             "ticks": ""
            },
            "colorscale": [
             [
              0,
              "#0d0887"
             ],
             [
              0.1111111111111111,
              "#46039f"
             ],
             [
              0.2222222222222222,
              "#7201a8"
             ],
             [
              0.3333333333333333,
              "#9c179e"
             ],
             [
              0.4444444444444444,
              "#bd3786"
             ],
             [
              0.5555555555555556,
              "#d8576b"
             ],
             [
              0.6666666666666666,
              "#ed7953"
             ],
             [
              0.7777777777777778,
              "#fb9f3a"
             ],
             [
              0.8888888888888888,
              "#fdca26"
             ],
             [
              1,
              "#f0f921"
             ]
            ],
            "type": "heatmapgl"
           }
          ],
          "histogram": [
           {
            "marker": {
             "pattern": {
              "fillmode": "overlay",
              "size": 10,
              "solidity": 0.2
             }
            },
            "type": "histogram"
           }
          ],
          "histogram2d": [
           {
            "colorbar": {
             "outlinewidth": 0,
             "ticks": ""
            },
            "colorscale": [
             [
              0,
              "#0d0887"
             ],
             [
              0.1111111111111111,
              "#46039f"
             ],
             [
              0.2222222222222222,
              "#7201a8"
             ],
             [
              0.3333333333333333,
              "#9c179e"
             ],
             [
              0.4444444444444444,
              "#bd3786"
             ],
             [
              0.5555555555555556,
              "#d8576b"
             ],
             [
              0.6666666666666666,
              "#ed7953"
             ],
             [
              0.7777777777777778,
              "#fb9f3a"
             ],
             [
              0.8888888888888888,
              "#fdca26"
             ],
             [
              1,
              "#f0f921"
             ]
            ],
            "type": "histogram2d"
           }
          ],
          "histogram2dcontour": [
           {
            "colorbar": {
             "outlinewidth": 0,
             "ticks": ""
            },
            "colorscale": [
             [
              0,
              "#0d0887"
             ],
             [
              0.1111111111111111,
              "#46039f"
             ],
             [
              0.2222222222222222,
              "#7201a8"
             ],
             [
              0.3333333333333333,
              "#9c179e"
             ],
             [
              0.4444444444444444,
              "#bd3786"
             ],
             [
              0.5555555555555556,
              "#d8576b"
             ],
             [
              0.6666666666666666,
              "#ed7953"
             ],
             [
              0.7777777777777778,
              "#fb9f3a"
             ],
             [
              0.8888888888888888,
              "#fdca26"
             ],
             [
              1,
              "#f0f921"
             ]
            ],
            "type": "histogram2dcontour"
           }
          ],
          "mesh3d": [
           {
            "colorbar": {
             "outlinewidth": 0,
             "ticks": ""
            },
            "type": "mesh3d"
           }
          ],
          "parcoords": [
           {
            "line": {
             "colorbar": {
              "outlinewidth": 0,
              "ticks": ""
             }
            },
            "type": "parcoords"
           }
          ],
          "pie": [
           {
            "automargin": true,
            "type": "pie"
           }
          ],
          "scatter": [
           {
            "fillpattern": {
             "fillmode": "overlay",
             "size": 10,
             "solidity": 0.2
            },
            "type": "scatter"
           }
          ],
          "scatter3d": [
           {
            "line": {
             "colorbar": {
              "outlinewidth": 0,
              "ticks": ""
             }
            },
            "marker": {
             "colorbar": {
              "outlinewidth": 0,
              "ticks": ""
             }
            },
            "type": "scatter3d"
           }
          ],
          "scattercarpet": [
           {
            "marker": {
             "colorbar": {
              "outlinewidth": 0,
              "ticks": ""
             }
            },
            "type": "scattercarpet"
           }
          ],
          "scattergeo": [
           {
            "marker": {
             "colorbar": {
              "outlinewidth": 0,
              "ticks": ""
             }
            },
            "type": "scattergeo"
           }
          ],
          "scattergl": [
           {
            "marker": {
             "colorbar": {
              "outlinewidth": 0,
              "ticks": ""
             }
            },
            "type": "scattergl"
           }
          ],
          "scattermapbox": [
           {
            "marker": {
             "colorbar": {
              "outlinewidth": 0,
              "ticks": ""
             }
            },
            "type": "scattermapbox"
           }
          ],
          "scatterpolar": [
           {
            "marker": {
             "colorbar": {
              "outlinewidth": 0,
              "ticks": ""
             }
            },
            "type": "scatterpolar"
           }
          ],
          "scatterpolargl": [
           {
            "marker": {
             "colorbar": {
              "outlinewidth": 0,
              "ticks": ""
             }
            },
            "type": "scatterpolargl"
           }
          ],
          "scatterternary": [
           {
            "marker": {
             "colorbar": {
              "outlinewidth": 0,
              "ticks": ""
             }
            },
            "type": "scatterternary"
           }
          ],
          "surface": [
           {
            "colorbar": {
             "outlinewidth": 0,
             "ticks": ""
            },
            "colorscale": [
             [
              0,
              "#0d0887"
             ],
             [
              0.1111111111111111,
              "#46039f"
             ],
             [
              0.2222222222222222,
              "#7201a8"
             ],
             [
              0.3333333333333333,
              "#9c179e"
             ],
             [
              0.4444444444444444,
              "#bd3786"
             ],
             [
              0.5555555555555556,
              "#d8576b"
             ],
             [
              0.6666666666666666,
              "#ed7953"
             ],
             [
              0.7777777777777778,
              "#fb9f3a"
             ],
             [
              0.8888888888888888,
              "#fdca26"
             ],
             [
              1,
              "#f0f921"
             ]
            ],
            "type": "surface"
           }
          ],
          "table": [
           {
            "cells": {
             "fill": {
              "color": "#EBF0F8"
             },
             "line": {
              "color": "white"
             }
            },
            "header": {
             "fill": {
              "color": "#C8D4E3"
             },
             "line": {
              "color": "white"
             }
            },
            "type": "table"
           }
          ]
         },
         "layout": {
          "annotationdefaults": {
           "arrowcolor": "#2a3f5f",
           "arrowhead": 0,
           "arrowwidth": 1
          },
          "autotypenumbers": "strict",
          "coloraxis": {
           "colorbar": {
            "outlinewidth": 0,
            "ticks": ""
           }
          },
          "colorscale": {
           "diverging": [
            [
             0,
             "#8e0152"
            ],
            [
             0.1,
             "#c51b7d"
            ],
            [
             0.2,
             "#de77ae"
            ],
            [
             0.3,
             "#f1b6da"
            ],
            [
             0.4,
             "#fde0ef"
            ],
            [
             0.5,
             "#f7f7f7"
            ],
            [
             0.6,
             "#e6f5d0"
            ],
            [
             0.7,
             "#b8e186"
            ],
            [
             0.8,
             "#7fbc41"
            ],
            [
             0.9,
             "#4d9221"
            ],
            [
             1,
             "#276419"
            ]
           ],
           "sequential": [
            [
             0,
             "#0d0887"
            ],
            [
             0.1111111111111111,
             "#46039f"
            ],
            [
             0.2222222222222222,
             "#7201a8"
            ],
            [
             0.3333333333333333,
             "#9c179e"
            ],
            [
             0.4444444444444444,
             "#bd3786"
            ],
            [
             0.5555555555555556,
             "#d8576b"
            ],
            [
             0.6666666666666666,
             "#ed7953"
            ],
            [
             0.7777777777777778,
             "#fb9f3a"
            ],
            [
             0.8888888888888888,
             "#fdca26"
            ],
            [
             1,
             "#f0f921"
            ]
           ],
           "sequentialminus": [
            [
             0,
             "#0d0887"
            ],
            [
             0.1111111111111111,
             "#46039f"
            ],
            [
             0.2222222222222222,
             "#7201a8"
            ],
            [
             0.3333333333333333,
             "#9c179e"
            ],
            [
             0.4444444444444444,
             "#bd3786"
            ],
            [
             0.5555555555555556,
             "#d8576b"
            ],
            [
             0.6666666666666666,
             "#ed7953"
            ],
            [
             0.7777777777777778,
             "#fb9f3a"
            ],
            [
             0.8888888888888888,
             "#fdca26"
            ],
            [
             1,
             "#f0f921"
            ]
           ]
          },
          "colorway": [
           "#636efa",
           "#EF553B",
           "#00cc96",
           "#ab63fa",
           "#FFA15A",
           "#19d3f3",
           "#FF6692",
           "#B6E880",
           "#FF97FF",
           "#FECB52"
          ],
          "font": {
           "color": "#2a3f5f"
          },
          "geo": {
           "bgcolor": "white",
           "lakecolor": "white",
           "landcolor": "white",
           "showlakes": true,
           "showland": true,
           "subunitcolor": "#C8D4E3"
          },
          "hoverlabel": {
           "align": "left"
          },
          "hovermode": "closest",
          "mapbox": {
           "style": "light"
          },
          "paper_bgcolor": "white",
          "plot_bgcolor": "white",
          "polar": {
           "angularaxis": {
            "gridcolor": "#EBF0F8",
            "linecolor": "#EBF0F8",
            "ticks": ""
           },
           "bgcolor": "white",
           "radialaxis": {
            "gridcolor": "#EBF0F8",
            "linecolor": "#EBF0F8",
            "ticks": ""
           }
          },
          "scene": {
           "xaxis": {
            "backgroundcolor": "white",
            "gridcolor": "#DFE8F3",
            "gridwidth": 2,
            "linecolor": "#EBF0F8",
            "showbackground": true,
            "ticks": "",
            "zerolinecolor": "#EBF0F8"
           },
           "yaxis": {
            "backgroundcolor": "white",
            "gridcolor": "#DFE8F3",
            "gridwidth": 2,
            "linecolor": "#EBF0F8",
            "showbackground": true,
            "ticks": "",
            "zerolinecolor": "#EBF0F8"
           },
           "zaxis": {
            "backgroundcolor": "white",
            "gridcolor": "#DFE8F3",
            "gridwidth": 2,
            "linecolor": "#EBF0F8",
            "showbackground": true,
            "ticks": "",
            "zerolinecolor": "#EBF0F8"
           }
          },
          "shapedefaults": {
           "line": {
            "color": "#2a3f5f"
           }
          },
          "ternary": {
           "aaxis": {
            "gridcolor": "#DFE8F3",
            "linecolor": "#A2B1C6",
            "ticks": ""
           },
           "baxis": {
            "gridcolor": "#DFE8F3",
            "linecolor": "#A2B1C6",
            "ticks": ""
           },
           "bgcolor": "white",
           "caxis": {
            "gridcolor": "#DFE8F3",
            "linecolor": "#A2B1C6",
            "ticks": ""
           }
          },
          "title": {
           "x": 0.05
          },
          "xaxis": {
           "automargin": true,
           "gridcolor": "#EBF0F8",
           "linecolor": "#EBF0F8",
           "ticks": "",
           "title": {
            "standoff": 15
           },
           "zerolinecolor": "#EBF0F8",
           "zerolinewidth": 2
          },
          "yaxis": {
           "automargin": true,
           "gridcolor": "#EBF0F8",
           "linecolor": "#EBF0F8",
           "ticks": "",
           "title": {
            "standoff": 15
           },
           "zerolinecolor": "#EBF0F8",
           "zerolinewidth": 2
          }
         }
        },
        "width": 700,
        "xaxis": {
         "anchor": "y",
         "domain": [
          0,
          0.175
         ]
        },
        "xaxis10": {
         "anchor": "y10",
         "domain": [
          0.275,
          0.45
         ]
        },
        "xaxis11": {
         "anchor": "y11",
         "domain": [
          0.55,
          0.7250000000000001
         ]
        },
        "xaxis12": {
         "anchor": "y12",
         "domain": [
          0.825,
          1
         ]
        },
        "xaxis13": {
         "anchor": "y13",
         "domain": [
          0,
          0.175
         ]
        },
        "xaxis14": {
         "anchor": "y14",
         "domain": [
          0.275,
          0.45
         ]
        },
        "xaxis15": {
         "anchor": "y15",
         "domain": [
          0.55,
          0.7250000000000001
         ]
        },
        "xaxis16": {
         "anchor": "y16",
         "domain": [
          0.825,
          1
         ]
        },
        "xaxis17": {
         "anchor": "y17",
         "domain": [
          0,
          0.175
         ]
        },
        "xaxis18": {
         "anchor": "y18",
         "domain": [
          0.275,
          0.45
         ]
        },
        "xaxis19": {
         "anchor": "y19",
         "domain": [
          0.55,
          0.7250000000000001
         ]
        },
        "xaxis2": {
         "anchor": "y2",
         "domain": [
          0.275,
          0.45
         ]
        },
        "xaxis20": {
         "anchor": "y20",
         "domain": [
          0.825,
          1
         ]
        },
        "xaxis3": {
         "anchor": "y3",
         "domain": [
          0.55,
          0.7250000000000001
         ]
        },
        "xaxis4": {
         "anchor": "y4",
         "domain": [
          0.825,
          1
         ]
        },
        "xaxis5": {
         "anchor": "y5",
         "domain": [
          0,
          0.175
         ]
        },
        "xaxis6": {
         "anchor": "y6",
         "domain": [
          0.275,
          0.45
         ]
        },
        "xaxis7": {
         "anchor": "y7",
         "domain": [
          0.55,
          0.7250000000000001
         ]
        },
        "xaxis8": {
         "anchor": "y8",
         "domain": [
          0.825,
          1
         ]
        },
        "xaxis9": {
         "anchor": "y9",
         "domain": [
          0,
          0.175
         ]
        },
        "yaxis": {
         "anchor": "x",
         "domain": [
          0.8639999999999999,
          0.9999999999999999
         ],
         "dtick": 1
        },
        "yaxis10": {
         "anchor": "x10",
         "domain": [
          0.43199999999999994,
          0.568
         ],
         "dtick": 1
        },
        "yaxis11": {
         "anchor": "x11",
         "domain": [
          0.43199999999999994,
          0.568
         ],
         "dtick": 1
        },
        "yaxis12": {
         "anchor": "x12",
         "domain": [
          0.43199999999999994,
          0.568
         ],
         "dtick": 1
        },
        "yaxis13": {
         "anchor": "x13",
         "domain": [
          0.21599999999999997,
          0.352
         ],
         "dtick": 1
        },
        "yaxis14": {
         "anchor": "x14",
         "domain": [
          0.21599999999999997,
          0.352
         ],
         "dtick": 1
        },
        "yaxis15": {
         "anchor": "x15",
         "domain": [
          0.21599999999999997,
          0.352
         ],
         "dtick": 1
        },
        "yaxis16": {
         "anchor": "x16",
         "domain": [
          0.21599999999999997,
          0.352
         ],
         "dtick": 1
        },
        "yaxis17": {
         "anchor": "x17",
         "domain": [
          0,
          0.13599999999999998
         ],
         "dtick": 1
        },
        "yaxis18": {
         "anchor": "x18",
         "domain": [
          0,
          0.13599999999999998
         ],
         "dtick": 1
        },
        "yaxis19": {
         "anchor": "x19",
         "domain": [
          0,
          0.13599999999999998
         ],
         "dtick": 1
        },
        "yaxis2": {
         "anchor": "x2",
         "domain": [
          0.8639999999999999,
          0.9999999999999999
         ],
         "dtick": 1
        },
        "yaxis20": {
         "anchor": "x20",
         "domain": [
          0,
          0.13599999999999998
         ],
         "dtick": 1
        },
        "yaxis3": {
         "anchor": "x3",
         "domain": [
          0.8639999999999999,
          0.9999999999999999
         ],
         "dtick": 1
        },
        "yaxis4": {
         "anchor": "x4",
         "domain": [
          0.8639999999999999,
          0.9999999999999999
         ],
         "dtick": 1
        },
        "yaxis5": {
         "anchor": "x5",
         "domain": [
          0.6479999999999999,
          0.7839999999999999
         ],
         "dtick": 1
        },
        "yaxis6": {
         "anchor": "x6",
         "domain": [
          0.6479999999999999,
          0.7839999999999999
         ],
         "dtick": 1
        },
        "yaxis7": {
         "anchor": "x7",
         "domain": [
          0.6479999999999999,
          0.7839999999999999
         ],
         "dtick": 1
        },
        "yaxis8": {
         "anchor": "x8",
         "domain": [
          0.6479999999999999,
          0.7839999999999999
         ],
         "dtick": 1
        },
        "yaxis9": {
         "anchor": "x9",
         "domain": [
          0.43199999999999994,
          0.568
         ],
         "dtick": 1
        }
       }
      }
     },
     "metadata": {},
     "output_type": "display_data"
    }
   ],
   "source": [
    "fig = file_util.get_topics_html(\"LDA\")\n",
    "fig.update_layout(width = 700, height = 800)"
   ]
  },
  {
   "cell_type": "code",
   "execution_count": 19,
   "metadata": {},
   "outputs": [
    {
     "data": {
      "application/vnd.plotly.v1+json": {
       "config": {
        "plotlyServerURL": "https://plot.ly"
       },
       "data": [
        {
         "marker": {
          "color": "#636EFA"
         },
         "orientation": "h",
         "type": "bar",
         "x": [
          6.685963642230471,
          8.74962326355505,
          8.877395092093437,
          9.522606700142623,
          11.365374473998642,
          37.29533627890566
         ],
         "xaxis": "x",
         "y": [
          "iced",
          "price",
          "teas",
          "drink",
          "green",
          "tea"
         ],
         "yaxis": "y"
        },
        {
         "marker": {
          "color": "#EF553B"
         },
         "orientation": "h",
         "type": "bar",
         "x": [
          7.1926043417922205,
          7.628795525550684,
          8.223395047025681,
          10.769807988504944,
          11.80459586355295,
          33.71139003417554
         ],
         "xaxis": "x2",
         "y": [
          "flavored",
          "amazon",
          "strong",
          "cup",
          "price",
          "coffee"
         ],
         "yaxis": "y2"
        },
        {
         "marker": {
          "color": "#00CC96"
         },
         "orientation": "h",
         "type": "bar",
         "x": [
          8.68763762321184,
          11.407576632859309,
          11.913322252874831,
          12.34384856384528,
          13.806851895627844,
          15.344263388404817
         ],
         "xaxis": "x3",
         "y": [
          "energy",
          "juice",
          "soda",
          "orange",
          "water",
          "drink"
         ],
         "yaxis": "y3"
        },
        {
         "marker": {
          "color": "#AB63FA"
         },
         "orientation": "h",
         "type": "bar",
         "x": [
          6.161227992411585,
          6.410208064206556,
          6.867917540120419,
          7.650949444893468,
          7.670811280247691,
          10.186858541228599
         ],
         "xaxis": "x4",
         "y": [
          "healthy",
          "fruit",
          "loves",
          "tasty",
          "snacks",
          "snack"
         ],
         "yaxis": "y4"
        },
        {
         "marker": {
          "color": "#FFA15A"
         },
         "orientation": "h",
         "type": "bar",
         "x": [
          2.7025847638176472,
          3.102647814462596,
          3.2392620116245774,
          3.326326403761276,
          3.522550045849207,
          3.8657786316508895
         ],
         "xaxis": "x5",
         "y": [
          "little",
          "easy",
          "used",
          "bought",
          "price",
          "time"
         ],
         "yaxis": "y5"
        },
        {
         "marker": {
          "color": "#19D3F3"
         },
         "orientation": "h",
         "type": "bar",
         "x": [
          4.3588195998915475,
          5.393955275766627,
          6.674557956444298,
          6.726012902459867,
          9.901598630965703,
          10.49371148134018
         ],
         "xaxis": "x6",
         "y": [
          "flour",
          "pancakes",
          "mix",
          "bread",
          "free",
          "gluten"
         ],
         "yaxis": "y6"
        },
        {
         "marker": {
          "color": "#FF6692"
         },
         "orientation": "h",
         "type": "bar",
         "x": [
          4.125758348550399,
          4.440052065512255,
          4.4772008397793055,
          4.545942194264941,
          5.649467338605684,
          13.84057320441317
         ],
         "xaxis": "x7",
         "y": [
          "kettle",
          "potato",
          "salt",
          "chip",
          "bag",
          "chips"
         ],
         "yaxis": "y7"
        },
        {
         "marker": {
          "color": "#B6E880"
         },
         "orientation": "h",
         "type": "bar",
         "x": [
          3.5137758334938676,
          3.8957943019973613,
          3.9716887570535255,
          4.281060742697358,
          5.448042074742132,
          10.845289758349443
         ],
         "xaxis": "x8",
         "y": [
          "milk",
          "sweet",
          "coffee",
          "free",
          "stevia",
          "sugar"
         ],
         "yaxis": "y8"
        },
        {
         "marker": {
          "color": "#FF97FF"
         },
         "orientation": "h",
         "type": "bar",
         "x": [
          4.643594433500296,
          5.017941582286055,
          5.564360265121403,
          6.338318876794773,
          8.413930668709876,
          11.610178455380556
         ],
         "xaxis": "x9",
         "y": [
          "tasty",
          "sweet",
          "protein",
          "snack",
          "bar",
          "bars"
         ],
         "yaxis": "y9"
        },
        {
         "marker": {
          "color": "#FECB52"
         },
         "orientation": "h",
         "type": "bar",
         "x": [
          3.0856552787392126,
          3.2605998996951704,
          3.473559701600432,
          4.531462421988453,
          6.397719528534842,
          10.364055316298398
         ],
         "xaxis": "x10",
         "y": [
          "box",
          "tasty",
          "sweet",
          "chocolate",
          "cookie",
          "cookies"
         ],
         "yaxis": "y10"
        },
        {
         "marker": {
          "color": "#636EFA"
         },
         "orientation": "h",
         "type": "bar",
         "x": [
          4.186090008153322,
          4.58534076375344,
          4.589878046855023,
          5.38244152566297,
          5.445299531587746,
          7.426466782894455
         ],
         "xaxis": "x11",
         "y": [
          "box",
          "pack",
          "amazon",
          "store",
          "grocery",
          "price"
         ],
         "yaxis": "y11"
        },
        {
         "marker": {
          "color": "#EF553B"
         },
         "orientation": "h",
         "type": "bar",
         "x": [
          2.7730158006610592,
          2.778272423325111,
          4.089756133102794,
          4.615525490398651,
          6.169489691040993,
          8.013040824493215
         ],
         "xaxis": "x12",
         "y": [
          "chili",
          "tasty",
          "chicken",
          "spicy",
          "hot",
          "sauce"
         ],
         "yaxis": "y12"
        },
        {
         "marker": {
          "color": "#00CC96"
         },
         "orientation": "h",
         "type": "bar",
         "x": [
          2.575222582494465,
          2.7021482489194395,
          3.580836537940458,
          5.416671907902323,
          7.0330471212101155,
          9.02839977347846
         ],
         "xaxis": "x13",
         "y": [
          "drink",
          "pineapple",
          "olive",
          "water",
          "oil",
          "coconut"
         ],
         "yaxis": "y13"
        },
        {
         "marker": {
          "color": "#AB63FA"
         },
         "orientation": "h",
         "type": "bar",
         "x": [
          2.8531792236305513,
          3.036274716685097,
          3.3159766434760294,
          3.579984478305128,
          5.990667260181596,
          6.337039433950639
         ],
         "xaxis": "x14",
         "y": [
          "salt",
          "snack",
          "fresh",
          "cashews",
          "almonds",
          "nuts"
         ],
         "yaxis": "y14"
        },
        {
         "marker": {
          "color": "#FFA15A"
         },
         "orientation": "h",
         "type": "bar",
         "x": [
          2.5673330682788933,
          3.037003413484839,
          4.745639094700129,
          6.36700873765589,
          6.437306304301819,
          8.365097534623274
         ],
         "xaxis": "x15",
         "y": [
          "tea",
          "price",
          "keurig",
          "cups",
          "cup",
          "coffee"
         ],
         "yaxis": "y15"
        },
        {
         "marker": {
          "color": "#19D3F3"
         },
         "orientation": "h",
         "type": "bar",
         "x": [
          3.0657467527752806,
          3.1295681833542237,
          3.258500614142375,
          3.363174992761094,
          3.379477411197102,
          7.297548335880718
         ],
         "xaxis": "x16",
         "y": [
          "eating",
          "milk",
          "cereals",
          "healthy",
          "fiber",
          "cereal"
         ],
         "yaxis": "y16"
        },
        {
         "marker": {
          "color": "#FF6692"
         },
         "orientation": "h",
         "type": "bar",
         "x": [
          2.591678907275733,
          3.0293997663606316,
          3.1446462546911436,
          4.022996996061553,
          4.49891677908414,
          5.094492830986781
         ],
         "xaxis": "x17",
         "y": [
          "treat",
          "loves",
          "treats",
          "price",
          "dogs",
          "dog"
         ],
         "yaxis": "y17"
        },
        {
         "marker": {
          "color": "#B6E880"
         },
         "orientation": "h",
         "type": "bar",
         "x": [
          2.3281994850839345,
          2.7272927282934134,
          3.1772471932863002,
          4.984569775614923,
          6.599908829291752,
          7.81347513434389
         ],
         "xaxis": "x18",
         "y": [
          "dark",
          "milk",
          "cup",
          "cocoa",
          "hot",
          "chocolate"
         ],
         "yaxis": "y18"
        },
        {
         "marker": {
          "color": "#FF97FF"
         },
         "orientation": "h",
         "type": "bar",
         "x": [
          1.9333526936958205,
          2.064978560373076,
          2.1814374568862216,
          2.328286503663013,
          3.652331977185962,
          6.48666389249626
         ],
         "xaxis": "x19",
         "y": [
          "ingredients",
          "loves",
          "quality",
          "healthy",
          "dogs",
          "dog"
         ],
         "yaxis": "y19"
        },
        {
         "marker": {
          "color": "#FECB52"
         },
         "orientation": "h",
         "type": "bar",
         "x": [
          1.8338169690088182,
          1.8706240339824562,
          1.9063686713676717,
          2.0875663173855594,
          5.5297824909595334,
          5.586133647894572
         ],
         "xaxis": "x20",
         "y": [
          "felidae",
          "free",
          "quality",
          "time",
          "cats",
          "cat"
         ],
         "yaxis": "y20"
        },
        {
         "marker": {
          "color": "#636EFA"
         },
         "orientation": "h",
         "type": "bar",
         "x": [
          1.8802670384207365,
          1.982553343046031,
          2.114353429487822,
          3.054109927241995,
          3.2077805419399517,
          5.181278754585312
         ],
         "xaxis": "x21",
         "y": [
          "boxes",
          "tasty",
          "healthy",
          "graham",
          "cracker",
          "crackers"
         ],
         "yaxis": "y21"
        },
        {
         "marker": {
          "color": "#EF553B"
         },
         "orientation": "h",
         "type": "bar",
         "x": [
          1.6250255914008278,
          1.6315341285920288,
          1.8769163513397136,
          2.5641430215495373,
          5.646646314951252,
          5.84919815716969
         ],
         "xaxis": "x22",
         "y": [
          "fat",
          "price",
          "almond",
          "pb",
          "peanut",
          "butter"
         ],
         "yaxis": "y22"
        },
        {
         "marker": {
          "color": "#00CC96"
         },
         "orientation": "h",
         "type": "bar",
         "x": [
          1.9193011385642502,
          1.9753444467503676,
          2.2718539628758934,
          2.3309089256754807,
          2.3756063992484586,
          5.560231194165509
         ],
         "xaxis": "x23",
         "y": [
          "chicken",
          "noodle",
          "ramen",
          "soup",
          "tasty",
          "noodles"
         ],
         "yaxis": "y23"
        },
        {
         "marker": {
          "color": "#AB63FA"
         },
         "orientation": "h",
         "type": "bar",
         "x": [
          2.5891389779819995,
          3.197887812965002,
          3.4814278544492323,
          3.758211630429547,
          4.260281453052705,
          4.823653628036314
         ],
         "xaxis": "x24",
         "y": [
          "products",
          "chicken",
          "dogs",
          "dog",
          "treats",
          "china"
         ],
         "yaxis": "y24"
        },
        {
         "marker": {
          "color": "#FFA15A"
         },
         "orientation": "h",
         "type": "bar",
         "x": [
          1.780994336727576,
          1.8507561524281595,
          1.852342493848234,
          2.3116267928133443,
          2.521454453789207,
          3.105237830470301
         ],
         "xaxis": "x25",
         "y": [
          "company",
          "shipping",
          "gift",
          "bought",
          "item",
          "price"
         ],
         "yaxis": "y25"
        },
        {
         "marker": {
          "color": "#19D3F3"
         },
         "orientation": "h",
         "type": "bar",
         "x": [
          1.5497788880027685,
          1.5766599078698191,
          1.6714299980052656,
          1.686355468666425,
          1.710507505644606,
          6.406966663667958
         ],
         "xaxis": "x26",
         "y": [
          "movie",
          "corn",
          "theater",
          "oil",
          "salt",
          "popcorn"
         ],
         "yaxis": "y26"
        },
        {
         "marker": {
          "color": "#FF6692"
         },
         "orientation": "h",
         "type": "bar",
         "x": [
          1.9040005253380772,
          2.001227788266799,
          2.2535357867413395,
          2.355126298227189,
          2.561542763224787,
          7.662965653394893
         ],
         "xaxis": "x27",
         "y": [
          "salty",
          "add",
          "table",
          "sodium",
          "sea",
          "salt"
         ],
         "yaxis": "y27"
        }
       ],
       "layout": {
        "annotations": [
         {
          "font": {
           "size": 16
          },
          "showarrow": false,
          "text": "0",
          "x": 0.0875,
          "xanchor": "center",
          "xref": "paper",
          "y": 1,
          "yanchor": "bottom",
          "yref": "paper"
         },
         {
          "font": {
           "size": 16
          },
          "showarrow": false,
          "text": "1",
          "x": 0.36250000000000004,
          "xanchor": "center",
          "xref": "paper",
          "y": 1,
          "yanchor": "bottom",
          "yref": "paper"
         },
         {
          "font": {
           "size": 16
          },
          "showarrow": false,
          "text": "2",
          "x": 0.6375000000000001,
          "xanchor": "center",
          "xref": "paper",
          "y": 1,
          "yanchor": "bottom",
          "yref": "paper"
         },
         {
          "font": {
           "size": 16
          },
          "showarrow": false,
          "text": "3",
          "x": 0.9125,
          "xanchor": "center",
          "xref": "paper",
          "y": 1,
          "yanchor": "bottom",
          "yref": "paper"
         },
         {
          "font": {
           "size": 16
          },
          "showarrow": false,
          "text": "4",
          "x": 0.0875,
          "xanchor": "center",
          "xref": "paper",
          "y": 0.8489795918367348,
          "yanchor": "bottom",
          "yref": "paper"
         },
         {
          "font": {
           "size": 16
          },
          "showarrow": false,
          "text": "5",
          "x": 0.36250000000000004,
          "xanchor": "center",
          "xref": "paper",
          "y": 0.8489795918367348,
          "yanchor": "bottom",
          "yref": "paper"
         },
         {
          "font": {
           "size": 16
          },
          "showarrow": false,
          "text": "6",
          "x": 0.6375000000000001,
          "xanchor": "center",
          "xref": "paper",
          "y": 0.8489795918367348,
          "yanchor": "bottom",
          "yref": "paper"
         },
         {
          "font": {
           "size": 16
          },
          "showarrow": false,
          "text": "7",
          "x": 0.9125,
          "xanchor": "center",
          "xref": "paper",
          "y": 0.8489795918367348,
          "yanchor": "bottom",
          "yref": "paper"
         },
         {
          "font": {
           "size": 16
          },
          "showarrow": false,
          "text": "8",
          "x": 0.0875,
          "xanchor": "center",
          "xref": "paper",
          "y": 0.6979591836734694,
          "yanchor": "bottom",
          "yref": "paper"
         },
         {
          "font": {
           "size": 16
          },
          "showarrow": false,
          "text": "9",
          "x": 0.36250000000000004,
          "xanchor": "center",
          "xref": "paper",
          "y": 0.6979591836734694,
          "yanchor": "bottom",
          "yref": "paper"
         },
         {
          "font": {
           "size": 16
          },
          "showarrow": false,
          "text": "10",
          "x": 0.6375000000000001,
          "xanchor": "center",
          "xref": "paper",
          "y": 0.6979591836734694,
          "yanchor": "bottom",
          "yref": "paper"
         },
         {
          "font": {
           "size": 16
          },
          "showarrow": false,
          "text": "11",
          "x": 0.9125,
          "xanchor": "center",
          "xref": "paper",
          "y": 0.6979591836734694,
          "yanchor": "bottom",
          "yref": "paper"
         },
         {
          "font": {
           "size": 16
          },
          "showarrow": false,
          "text": "12",
          "x": 0.0875,
          "xanchor": "center",
          "xref": "paper",
          "y": 0.5469387755102041,
          "yanchor": "bottom",
          "yref": "paper"
         },
         {
          "font": {
           "size": 16
          },
          "showarrow": false,
          "text": "13",
          "x": 0.36250000000000004,
          "xanchor": "center",
          "xref": "paper",
          "y": 0.5469387755102041,
          "yanchor": "bottom",
          "yref": "paper"
         },
         {
          "font": {
           "size": 16
          },
          "showarrow": false,
          "text": "14",
          "x": 0.6375000000000001,
          "xanchor": "center",
          "xref": "paper",
          "y": 0.5469387755102041,
          "yanchor": "bottom",
          "yref": "paper"
         },
         {
          "font": {
           "size": 16
          },
          "showarrow": false,
          "text": "15",
          "x": 0.9125,
          "xanchor": "center",
          "xref": "paper",
          "y": 0.5469387755102041,
          "yanchor": "bottom",
          "yref": "paper"
         },
         {
          "font": {
           "size": 16
          },
          "showarrow": false,
          "text": "16",
          "x": 0.0875,
          "xanchor": "center",
          "xref": "paper",
          "y": 0.3959183673469388,
          "yanchor": "bottom",
          "yref": "paper"
         },
         {
          "font": {
           "size": 16
          },
          "showarrow": false,
          "text": "17",
          "x": 0.36250000000000004,
          "xanchor": "center",
          "xref": "paper",
          "y": 0.3959183673469388,
          "yanchor": "bottom",
          "yref": "paper"
         },
         {
          "font": {
           "size": 16
          },
          "showarrow": false,
          "text": "18",
          "x": 0.6375000000000001,
          "xanchor": "center",
          "xref": "paper",
          "y": 0.3959183673469388,
          "yanchor": "bottom",
          "yref": "paper"
         },
         {
          "font": {
           "size": 16
          },
          "showarrow": false,
          "text": "19",
          "x": 0.9125,
          "xanchor": "center",
          "xref": "paper",
          "y": 0.3959183673469388,
          "yanchor": "bottom",
          "yref": "paper"
         },
         {
          "font": {
           "size": 16
          },
          "showarrow": false,
          "text": "20",
          "x": 0.0875,
          "xanchor": "center",
          "xref": "paper",
          "y": 0.24489795918367346,
          "yanchor": "bottom",
          "yref": "paper"
         },
         {
          "font": {
           "size": 16
          },
          "showarrow": false,
          "text": "21",
          "x": 0.36250000000000004,
          "xanchor": "center",
          "xref": "paper",
          "y": 0.24489795918367346,
          "yanchor": "bottom",
          "yref": "paper"
         },
         {
          "font": {
           "size": 16
          },
          "showarrow": false,
          "text": "22",
          "x": 0.6375000000000001,
          "xanchor": "center",
          "xref": "paper",
          "y": 0.24489795918367346,
          "yanchor": "bottom",
          "yref": "paper"
         },
         {
          "font": {
           "size": 16
          },
          "showarrow": false,
          "text": "23",
          "x": 0.9125,
          "xanchor": "center",
          "xref": "paper",
          "y": 0.24489795918367346,
          "yanchor": "bottom",
          "yref": "paper"
         },
         {
          "font": {
           "size": 16
          },
          "showarrow": false,
          "text": "24",
          "x": 0.0875,
          "xanchor": "center",
          "xref": "paper",
          "y": 0.09387755102040816,
          "yanchor": "bottom",
          "yref": "paper"
         },
         {
          "font": {
           "size": 16
          },
          "showarrow": false,
          "text": "25",
          "x": 0.36250000000000004,
          "xanchor": "center",
          "xref": "paper",
          "y": 0.09387755102040816,
          "yanchor": "bottom",
          "yref": "paper"
         },
         {
          "font": {
           "size": 16
          },
          "showarrow": false,
          "text": "26",
          "x": 0.6375000000000001,
          "xanchor": "center",
          "xref": "paper",
          "y": 0.09387755102040816,
          "yanchor": "bottom",
          "yref": "paper"
         }
        ],
        "height": 1000,
        "hoverlabel": {
         "bgcolor": "white",
         "font": {
          "family": "Rockwell",
          "size": 16
         }
        },
        "showlegend": false,
        "template": {
         "data": {
          "bar": [
           {
            "error_x": {
             "color": "#2a3f5f"
            },
            "error_y": {
             "color": "#2a3f5f"
            },
            "marker": {
             "line": {
              "color": "white",
              "width": 0.5
             },
             "pattern": {
              "fillmode": "overlay",
              "size": 10,
              "solidity": 0.2
             }
            },
            "type": "bar"
           }
          ],
          "barpolar": [
           {
            "marker": {
             "line": {
              "color": "white",
              "width": 0.5
             },
             "pattern": {
              "fillmode": "overlay",
              "size": 10,
              "solidity": 0.2
             }
            },
            "type": "barpolar"
           }
          ],
          "carpet": [
           {
            "aaxis": {
             "endlinecolor": "#2a3f5f",
             "gridcolor": "#C8D4E3",
             "linecolor": "#C8D4E3",
             "minorgridcolor": "#C8D4E3",
             "startlinecolor": "#2a3f5f"
            },
            "baxis": {
             "endlinecolor": "#2a3f5f",
             "gridcolor": "#C8D4E3",
             "linecolor": "#C8D4E3",
             "minorgridcolor": "#C8D4E3",
             "startlinecolor": "#2a3f5f"
            },
            "type": "carpet"
           }
          ],
          "choropleth": [
           {
            "colorbar": {
             "outlinewidth": 0,
             "ticks": ""
            },
            "type": "choropleth"
           }
          ],
          "contour": [
           {
            "colorbar": {
             "outlinewidth": 0,
             "ticks": ""
            },
            "colorscale": [
             [
              0,
              "#0d0887"
             ],
             [
              0.1111111111111111,
              "#46039f"
             ],
             [
              0.2222222222222222,
              "#7201a8"
             ],
             [
              0.3333333333333333,
              "#9c179e"
             ],
             [
              0.4444444444444444,
              "#bd3786"
             ],
             [
              0.5555555555555556,
              "#d8576b"
             ],
             [
              0.6666666666666666,
              "#ed7953"
             ],
             [
              0.7777777777777778,
              "#fb9f3a"
             ],
             [
              0.8888888888888888,
              "#fdca26"
             ],
             [
              1,
              "#f0f921"
             ]
            ],
            "type": "contour"
           }
          ],
          "contourcarpet": [
           {
            "colorbar": {
             "outlinewidth": 0,
             "ticks": ""
            },
            "type": "contourcarpet"
           }
          ],
          "heatmap": [
           {
            "colorbar": {
             "outlinewidth": 0,
             "ticks": ""
            },
            "colorscale": [
             [
              0,
              "#0d0887"
             ],
             [
              0.1111111111111111,
              "#46039f"
             ],
             [
              0.2222222222222222,
              "#7201a8"
             ],
             [
              0.3333333333333333,
              "#9c179e"
             ],
             [
              0.4444444444444444,
              "#bd3786"
             ],
             [
              0.5555555555555556,
              "#d8576b"
             ],
             [
              0.6666666666666666,
              "#ed7953"
             ],
             [
              0.7777777777777778,
              "#fb9f3a"
             ],
             [
              0.8888888888888888,
              "#fdca26"
             ],
             [
              1,
              "#f0f921"
             ]
            ],
            "type": "heatmap"
           }
          ],
          "heatmapgl": [
           {
            "colorbar": {
             "outlinewidth": 0,
             "ticks": ""
            },
            "colorscale": [
             [
              0,
              "#0d0887"
             ],
             [
              0.1111111111111111,
              "#46039f"
             ],
             [
              0.2222222222222222,
              "#7201a8"
             ],
             [
              0.3333333333333333,
              "#9c179e"
             ],
             [
              0.4444444444444444,
              "#bd3786"
             ],
             [
              0.5555555555555556,
              "#d8576b"
             ],
             [
              0.6666666666666666,
              "#ed7953"
             ],
             [
              0.7777777777777778,
              "#fb9f3a"
             ],
             [
              0.8888888888888888,
              "#fdca26"
             ],
             [
              1,
              "#f0f921"
             ]
            ],
            "type": "heatmapgl"
           }
          ],
          "histogram": [
           {
            "marker": {
             "pattern": {
              "fillmode": "overlay",
              "size": 10,
              "solidity": 0.2
             }
            },
            "type": "histogram"
           }
          ],
          "histogram2d": [
           {
            "colorbar": {
             "outlinewidth": 0,
             "ticks": ""
            },
            "colorscale": [
             [
              0,
              "#0d0887"
             ],
             [
              0.1111111111111111,
              "#46039f"
             ],
             [
              0.2222222222222222,
              "#7201a8"
             ],
             [
              0.3333333333333333,
              "#9c179e"
             ],
             [
              0.4444444444444444,
              "#bd3786"
             ],
             [
              0.5555555555555556,
              "#d8576b"
             ],
             [
              0.6666666666666666,
              "#ed7953"
             ],
             [
              0.7777777777777778,
              "#fb9f3a"
             ],
             [
              0.8888888888888888,
              "#fdca26"
             ],
             [
              1,
              "#f0f921"
             ]
            ],
            "type": "histogram2d"
           }
          ],
          "histogram2dcontour": [
           {
            "colorbar": {
             "outlinewidth": 0,
             "ticks": ""
            },
            "colorscale": [
             [
              0,
              "#0d0887"
             ],
             [
              0.1111111111111111,
              "#46039f"
             ],
             [
              0.2222222222222222,
              "#7201a8"
             ],
             [
              0.3333333333333333,
              "#9c179e"
             ],
             [
              0.4444444444444444,
              "#bd3786"
             ],
             [
              0.5555555555555556,
              "#d8576b"
             ],
             [
              0.6666666666666666,
              "#ed7953"
             ],
             [
              0.7777777777777778,
              "#fb9f3a"
             ],
             [
              0.8888888888888888,
              "#fdca26"
             ],
             [
              1,
              "#f0f921"
             ]
            ],
            "type": "histogram2dcontour"
           }
          ],
          "mesh3d": [
           {
            "colorbar": {
             "outlinewidth": 0,
             "ticks": ""
            },
            "type": "mesh3d"
           }
          ],
          "parcoords": [
           {
            "line": {
             "colorbar": {
              "outlinewidth": 0,
              "ticks": ""
             }
            },
            "type": "parcoords"
           }
          ],
          "pie": [
           {
            "automargin": true,
            "type": "pie"
           }
          ],
          "scatter": [
           {
            "fillpattern": {
             "fillmode": "overlay",
             "size": 10,
             "solidity": 0.2
            },
            "type": "scatter"
           }
          ],
          "scatter3d": [
           {
            "line": {
             "colorbar": {
              "outlinewidth": 0,
              "ticks": ""
             }
            },
            "marker": {
             "colorbar": {
              "outlinewidth": 0,
              "ticks": ""
             }
            },
            "type": "scatter3d"
           }
          ],
          "scattercarpet": [
           {
            "marker": {
             "colorbar": {
              "outlinewidth": 0,
              "ticks": ""
             }
            },
            "type": "scattercarpet"
           }
          ],
          "scattergeo": [
           {
            "marker": {
             "colorbar": {
              "outlinewidth": 0,
              "ticks": ""
             }
            },
            "type": "scattergeo"
           }
          ],
          "scattergl": [
           {
            "marker": {
             "colorbar": {
              "outlinewidth": 0,
              "ticks": ""
             }
            },
            "type": "scattergl"
           }
          ],
          "scattermapbox": [
           {
            "marker": {
             "colorbar": {
              "outlinewidth": 0,
              "ticks": ""
             }
            },
            "type": "scattermapbox"
           }
          ],
          "scatterpolar": [
           {
            "marker": {
             "colorbar": {
              "outlinewidth": 0,
              "ticks": ""
             }
            },
            "type": "scatterpolar"
           }
          ],
          "scatterpolargl": [
           {
            "marker": {
             "colorbar": {
              "outlinewidth": 0,
              "ticks": ""
             }
            },
            "type": "scatterpolargl"
           }
          ],
          "scatterternary": [
           {
            "marker": {
             "colorbar": {
              "outlinewidth": 0,
              "ticks": ""
             }
            },
            "type": "scatterternary"
           }
          ],
          "surface": [
           {
            "colorbar": {
             "outlinewidth": 0,
             "ticks": ""
            },
            "colorscale": [
             [
              0,
              "#0d0887"
             ],
             [
              0.1111111111111111,
              "#46039f"
             ],
             [
              0.2222222222222222,
              "#7201a8"
             ],
             [
              0.3333333333333333,
              "#9c179e"
             ],
             [
              0.4444444444444444,
              "#bd3786"
             ],
             [
              0.5555555555555556,
              "#d8576b"
             ],
             [
              0.6666666666666666,
              "#ed7953"
             ],
             [
              0.7777777777777778,
              "#fb9f3a"
             ],
             [
              0.8888888888888888,
              "#fdca26"
             ],
             [
              1,
              "#f0f921"
             ]
            ],
            "type": "surface"
           }
          ],
          "table": [
           {
            "cells": {
             "fill": {
              "color": "#EBF0F8"
             },
             "line": {
              "color": "white"
             }
            },
            "header": {
             "fill": {
              "color": "#C8D4E3"
             },
             "line": {
              "color": "white"
             }
            },
            "type": "table"
           }
          ]
         },
         "layout": {
          "annotationdefaults": {
           "arrowcolor": "#2a3f5f",
           "arrowhead": 0,
           "arrowwidth": 1
          },
          "autotypenumbers": "strict",
          "coloraxis": {
           "colorbar": {
            "outlinewidth": 0,
            "ticks": ""
           }
          },
          "colorscale": {
           "diverging": [
            [
             0,
             "#8e0152"
            ],
            [
             0.1,
             "#c51b7d"
            ],
            [
             0.2,
             "#de77ae"
            ],
            [
             0.3,
             "#f1b6da"
            ],
            [
             0.4,
             "#fde0ef"
            ],
            [
             0.5,
             "#f7f7f7"
            ],
            [
             0.6,
             "#e6f5d0"
            ],
            [
             0.7,
             "#b8e186"
            ],
            [
             0.8,
             "#7fbc41"
            ],
            [
             0.9,
             "#4d9221"
            ],
            [
             1,
             "#276419"
            ]
           ],
           "sequential": [
            [
             0,
             "#0d0887"
            ],
            [
             0.1111111111111111,
             "#46039f"
            ],
            [
             0.2222222222222222,
             "#7201a8"
            ],
            [
             0.3333333333333333,
             "#9c179e"
            ],
            [
             0.4444444444444444,
             "#bd3786"
            ],
            [
             0.5555555555555556,
             "#d8576b"
            ],
            [
             0.6666666666666666,
             "#ed7953"
            ],
            [
             0.7777777777777778,
             "#fb9f3a"
            ],
            [
             0.8888888888888888,
             "#fdca26"
            ],
            [
             1,
             "#f0f921"
            ]
           ],
           "sequentialminus": [
            [
             0,
             "#0d0887"
            ],
            [
             0.1111111111111111,
             "#46039f"
            ],
            [
             0.2222222222222222,
             "#7201a8"
            ],
            [
             0.3333333333333333,
             "#9c179e"
            ],
            [
             0.4444444444444444,
             "#bd3786"
            ],
            [
             0.5555555555555556,
             "#d8576b"
            ],
            [
             0.6666666666666666,
             "#ed7953"
            ],
            [
             0.7777777777777778,
             "#fb9f3a"
            ],
            [
             0.8888888888888888,
             "#fdca26"
            ],
            [
             1,
             "#f0f921"
            ]
           ]
          },
          "colorway": [
           "#636efa",
           "#EF553B",
           "#00cc96",
           "#ab63fa",
           "#FFA15A",
           "#19d3f3",
           "#FF6692",
           "#B6E880",
           "#FF97FF",
           "#FECB52"
          ],
          "font": {
           "color": "#2a3f5f"
          },
          "geo": {
           "bgcolor": "white",
           "lakecolor": "white",
           "landcolor": "white",
           "showlakes": true,
           "showland": true,
           "subunitcolor": "#C8D4E3"
          },
          "hoverlabel": {
           "align": "left"
          },
          "hovermode": "closest",
          "mapbox": {
           "style": "light"
          },
          "paper_bgcolor": "white",
          "plot_bgcolor": "white",
          "polar": {
           "angularaxis": {
            "gridcolor": "#EBF0F8",
            "linecolor": "#EBF0F8",
            "ticks": ""
           },
           "bgcolor": "white",
           "radialaxis": {
            "gridcolor": "#EBF0F8",
            "linecolor": "#EBF0F8",
            "ticks": ""
           }
          },
          "scene": {
           "xaxis": {
            "backgroundcolor": "white",
            "gridcolor": "#DFE8F3",
            "gridwidth": 2,
            "linecolor": "#EBF0F8",
            "showbackground": true,
            "ticks": "",
            "zerolinecolor": "#EBF0F8"
           },
           "yaxis": {
            "backgroundcolor": "white",
            "gridcolor": "#DFE8F3",
            "gridwidth": 2,
            "linecolor": "#EBF0F8",
            "showbackground": true,
            "ticks": "",
            "zerolinecolor": "#EBF0F8"
           },
           "zaxis": {
            "backgroundcolor": "white",
            "gridcolor": "#DFE8F3",
            "gridwidth": 2,
            "linecolor": "#EBF0F8",
            "showbackground": true,
            "ticks": "",
            "zerolinecolor": "#EBF0F8"
           }
          },
          "shapedefaults": {
           "line": {
            "color": "#2a3f5f"
           }
          },
          "ternary": {
           "aaxis": {
            "gridcolor": "#DFE8F3",
            "linecolor": "#A2B1C6",
            "ticks": ""
           },
           "baxis": {
            "gridcolor": "#DFE8F3",
            "linecolor": "#A2B1C6",
            "ticks": ""
           },
           "bgcolor": "white",
           "caxis": {
            "gridcolor": "#DFE8F3",
            "linecolor": "#A2B1C6",
            "ticks": ""
           }
          },
          "title": {
           "x": 0.05
          },
          "xaxis": {
           "automargin": true,
           "gridcolor": "#EBF0F8",
           "linecolor": "#EBF0F8",
           "ticks": "",
           "title": {
            "standoff": 15
           },
           "zerolinecolor": "#EBF0F8",
           "zerolinewidth": 2
          },
          "yaxis": {
           "automargin": true,
           "gridcolor": "#EBF0F8",
           "linecolor": "#EBF0F8",
           "ticks": "",
           "title": {
            "standoff": 15
           },
           "zerolinecolor": "#EBF0F8",
           "zerolinewidth": 2
          }
         }
        },
        "width": 700,
        "xaxis": {
         "anchor": "y",
         "domain": [
          0,
          0.175
         ]
        },
        "xaxis10": {
         "anchor": "y10",
         "domain": [
          0.275,
          0.45
         ]
        },
        "xaxis11": {
         "anchor": "y11",
         "domain": [
          0.55,
          0.7250000000000001
         ]
        },
        "xaxis12": {
         "anchor": "y12",
         "domain": [
          0.825,
          1
         ]
        },
        "xaxis13": {
         "anchor": "y13",
         "domain": [
          0,
          0.175
         ]
        },
        "xaxis14": {
         "anchor": "y14",
         "domain": [
          0.275,
          0.45
         ]
        },
        "xaxis15": {
         "anchor": "y15",
         "domain": [
          0.55,
          0.7250000000000001
         ]
        },
        "xaxis16": {
         "anchor": "y16",
         "domain": [
          0.825,
          1
         ]
        },
        "xaxis17": {
         "anchor": "y17",
         "domain": [
          0,
          0.175
         ]
        },
        "xaxis18": {
         "anchor": "y18",
         "domain": [
          0.275,
          0.45
         ]
        },
        "xaxis19": {
         "anchor": "y19",
         "domain": [
          0.55,
          0.7250000000000001
         ]
        },
        "xaxis2": {
         "anchor": "y2",
         "domain": [
          0.275,
          0.45
         ]
        },
        "xaxis20": {
         "anchor": "y20",
         "domain": [
          0.825,
          1
         ]
        },
        "xaxis21": {
         "anchor": "y21",
         "domain": [
          0,
          0.175
         ]
        },
        "xaxis22": {
         "anchor": "y22",
         "domain": [
          0.275,
          0.45
         ]
        },
        "xaxis23": {
         "anchor": "y23",
         "domain": [
          0.55,
          0.7250000000000001
         ]
        },
        "xaxis24": {
         "anchor": "y24",
         "domain": [
          0.825,
          1
         ]
        },
        "xaxis25": {
         "anchor": "y25",
         "domain": [
          0,
          0.175
         ]
        },
        "xaxis26": {
         "anchor": "y26",
         "domain": [
          0.275,
          0.45
         ]
        },
        "xaxis27": {
         "anchor": "y27",
         "domain": [
          0.55,
          0.7250000000000001
         ]
        },
        "xaxis28": {
         "anchor": "y28",
         "domain": [
          0.825,
          1
         ]
        },
        "xaxis3": {
         "anchor": "y3",
         "domain": [
          0.55,
          0.7250000000000001
         ]
        },
        "xaxis4": {
         "anchor": "y4",
         "domain": [
          0.825,
          1
         ]
        },
        "xaxis5": {
         "anchor": "y5",
         "domain": [
          0,
          0.175
         ]
        },
        "xaxis6": {
         "anchor": "y6",
         "domain": [
          0.275,
          0.45
         ]
        },
        "xaxis7": {
         "anchor": "y7",
         "domain": [
          0.55,
          0.7250000000000001
         ]
        },
        "xaxis8": {
         "anchor": "y8",
         "domain": [
          0.825,
          1
         ]
        },
        "xaxis9": {
         "anchor": "y9",
         "domain": [
          0,
          0.175
         ]
        },
        "yaxis": {
         "anchor": "x",
         "domain": [
          0.9061224489795918,
          1
         ],
         "dtick": 1
        },
        "yaxis10": {
         "anchor": "x10",
         "domain": [
          0.6040816326530613,
          0.6979591836734694
         ],
         "dtick": 1
        },
        "yaxis11": {
         "anchor": "x11",
         "domain": [
          0.6040816326530613,
          0.6979591836734694
         ],
         "dtick": 1
        },
        "yaxis12": {
         "anchor": "x12",
         "domain": [
          0.6040816326530613,
          0.6979591836734694
         ],
         "dtick": 1
        },
        "yaxis13": {
         "anchor": "x13",
         "domain": [
          0.4530612244897959,
          0.5469387755102041
         ],
         "dtick": 1
        },
        "yaxis14": {
         "anchor": "x14",
         "domain": [
          0.4530612244897959,
          0.5469387755102041
         ],
         "dtick": 1
        },
        "yaxis15": {
         "anchor": "x15",
         "domain": [
          0.4530612244897959,
          0.5469387755102041
         ],
         "dtick": 1
        },
        "yaxis16": {
         "anchor": "x16",
         "domain": [
          0.4530612244897959,
          0.5469387755102041
         ],
         "dtick": 1
        },
        "yaxis17": {
         "anchor": "x17",
         "domain": [
          0.3020408163265306,
          0.3959183673469388
         ],
         "dtick": 1
        },
        "yaxis18": {
         "anchor": "x18",
         "domain": [
          0.3020408163265306,
          0.3959183673469388
         ],
         "dtick": 1
        },
        "yaxis19": {
         "anchor": "x19",
         "domain": [
          0.3020408163265306,
          0.3959183673469388
         ],
         "dtick": 1
        },
        "yaxis2": {
         "anchor": "x2",
         "domain": [
          0.9061224489795918,
          1
         ],
         "dtick": 1
        },
        "yaxis20": {
         "anchor": "x20",
         "domain": [
          0.3020408163265306,
          0.3959183673469388
         ],
         "dtick": 1
        },
        "yaxis21": {
         "anchor": "x21",
         "domain": [
          0.1510204081632653,
          0.24489795918367346
         ],
         "dtick": 1
        },
        "yaxis22": {
         "anchor": "x22",
         "domain": [
          0.1510204081632653,
          0.24489795918367346
         ],
         "dtick": 1
        },
        "yaxis23": {
         "anchor": "x23",
         "domain": [
          0.1510204081632653,
          0.24489795918367346
         ],
         "dtick": 1
        },
        "yaxis24": {
         "anchor": "x24",
         "domain": [
          0.1510204081632653,
          0.24489795918367346
         ],
         "dtick": 1
        },
        "yaxis25": {
         "anchor": "x25",
         "domain": [
          0,
          0.09387755102040816
         ],
         "dtick": 1
        },
        "yaxis26": {
         "anchor": "x26",
         "domain": [
          0,
          0.09387755102040816
         ],
         "dtick": 1
        },
        "yaxis27": {
         "anchor": "x27",
         "domain": [
          0,
          0.09387755102040816
         ],
         "dtick": 1
        },
        "yaxis28": {
         "anchor": "x28",
         "domain": [
          0,
          0.09387755102040816
         ],
         "dtick": 1
        },
        "yaxis3": {
         "anchor": "x3",
         "domain": [
          0.9061224489795918,
          1
         ],
         "dtick": 1
        },
        "yaxis4": {
         "anchor": "x4",
         "domain": [
          0.9061224489795918,
          1
         ],
         "dtick": 1
        },
        "yaxis5": {
         "anchor": "x5",
         "domain": [
          0.7551020408163266,
          0.8489795918367348
         ],
         "dtick": 1
        },
        "yaxis6": {
         "anchor": "x6",
         "domain": [
          0.7551020408163266,
          0.8489795918367348
         ],
         "dtick": 1
        },
        "yaxis7": {
         "anchor": "x7",
         "domain": [
          0.7551020408163266,
          0.8489795918367348
         ],
         "dtick": 1
        },
        "yaxis8": {
         "anchor": "x8",
         "domain": [
          0.7551020408163266,
          0.8489795918367348
         ],
         "dtick": 1
        },
        "yaxis9": {
         "anchor": "x9",
         "domain": [
          0.6040816326530613,
          0.6979591836734694
         ],
         "dtick": 1
        }
       }
      }
     },
     "metadata": {},
     "output_type": "display_data"
    }
   ],
   "source": [
    "fig = file_util.get_topics_html(\"BERTopic\")\n",
    "fig.update_layout(width = 700, height = 1000)"
   ]
  },
  {
   "cell_type": "code",
   "execution_count": 23,
   "metadata": {},
   "outputs": [
    {
     "data": {
      "application/vnd.plotly.v1+json": {
       "config": {
        "plotlyServerURL": "https://plot.ly"
       },
       "data": [
        {
         "marker": {
          "color": "#636EFA"
         },
         "orientation": "h",
         "type": "bar",
         "x": [
          7.321005629298373,
          7.710530218091527,
          7.839123354373583,
          7.990934489742677,
          8.446082958979254,
          9.36548833593523
         ],
         "xaxis": "x",
         "y": [
          "sweet",
          "time",
          "know",
          "bought",
          "bad",
          "little"
         ],
         "yaxis": "y"
        },
        {
         "marker": {
          "color": "#EF553B"
         },
         "orientation": "h",
         "type": "bar",
         "x": [
          6.501506816325585,
          6.830127926621068,
          6.83946488182206,
          8.579330388894805,
          10.887847478286837,
          35.1727788591871
         ],
         "xaxis": "x2",
         "y": [
          "teas",
          "iced",
          "price",
          "drink",
          "green",
          "tea"
         ],
         "yaxis": "y2"
        },
        {
         "marker": {
          "color": "#00CC96"
         },
         "orientation": "h",
         "type": "bar",
         "x": [
          8.143151535724224,
          9.775822454769807,
          11.009935966322429,
          11.024139621691758,
          17.98594155198978,
          44.27888847049603
         ],
         "xaxis": "x3",
         "y": [
          "roast",
          "cups",
          "strong",
          "price",
          "cup",
          "coffee"
         ],
         "yaxis": "y3"
        },
        {
         "marker": {
          "color": "#AB63FA"
         },
         "orientation": "h",
         "type": "bar",
         "x": [
          18.902695885604153,
          19.824528475923735,
          21.182137579208057,
          26.42127028724345,
          34.70791402528384,
          46.22641185866042
         ],
         "xaxis": "x4",
         "y": [
          "order",
          "grocery",
          "local",
          "store",
          "amazon",
          "price"
         ],
         "yaxis": "y4"
        },
        {
         "marker": {
          "color": "#FFA15A"
         },
         "orientation": "h",
         "type": "bar",
         "x": [
          8.439074232223398,
          10.676885576352962,
          11.075326254805185,
          11.177546370112317,
          11.450167831765619,
          14.033140977993892
         ],
         "xaxis": "x5",
         "y": [
          "popcorn",
          "little",
          "time",
          "tasting",
          "easy",
          "price"
         ],
         "yaxis": "y5"
        },
        {
         "marker": {
          "color": "#19D3F3"
         },
         "orientation": "h",
         "type": "bar",
         "x": [
          10.708985748636731,
          10.787336804518175,
          10.802429928013646,
          11.086210252638221,
          12.76768589245202,
          21.096349808369013
         ],
         "xaxis": "x6",
         "y": [
          "china",
          "cat",
          "loves",
          "dogs",
          "treats",
          "dog"
         ],
         "yaxis": "y6"
        },
        {
         "marker": {
          "color": "#FF6692"
         },
         "orientation": "h",
         "type": "bar",
         "x": [
          6.802584234406262,
          7.604503091886528,
          8.039366020641275,
          9.721678486548223,
          17.25874126873688,
          21.9454876510907
         ],
         "xaxis": "x7",
         "y": [
          "dark",
          "cup",
          "milk",
          "cocoa",
          "hot",
          "chocolate"
         ],
         "yaxis": "y7"
        },
        {
         "marker": {
          "color": "#B6E880"
         },
         "orientation": "h",
         "type": "bar",
         "x": [
          19.421513614022558,
          20.333828292439986,
          22.16652171831264,
          25.657937903235535,
          27.2848241432275,
          28.57325982232285
         ],
         "xaxis": "x8",
         "y": [
          "bars",
          "salt",
          "healthy",
          "snack",
          "tasty",
          "chips"
         ],
         "yaxis": "y8"
        },
        {
         "marker": {
          "color": "#FF97FF"
         },
         "orientation": "h",
         "type": "bar",
         "x": [
          7.463473236731169,
          8.579098789433617,
          9.15872356639212,
          9.448519637949456,
          16.504855043927584,
          17.661537070918122
         ],
         "xaxis": "x9",
         "y": [
          "pasta",
          "sugar",
          "mix",
          "cookies",
          "gluten",
          "free"
         ],
         "yaxis": "y9"
        },
        {
         "marker": {
          "color": "#FECB52"
         },
         "orientation": "h",
         "type": "bar",
         "x": [
          13.816558485968208,
          14.295458961972237,
          14.38113965023604,
          17.884485884260318,
          20.84470120511601,
          24.748588720548263
         ],
         "xaxis": "x10",
         "y": [
          "soda",
          "juice",
          "orange",
          "sugar",
          "drink",
          "water"
         ],
         "yaxis": "y10"
        }
       ],
       "layout": {
        "annotations": [
         {
          "font": {
           "size": 16
          },
          "showarrow": false,
          "text": "0",
          "x": 0.0875,
          "xanchor": "center",
          "xref": "paper",
          "y": 1,
          "yanchor": "bottom",
          "yref": "paper"
         },
         {
          "font": {
           "size": 16
          },
          "showarrow": false,
          "text": "1",
          "x": 0.36250000000000004,
          "xanchor": "center",
          "xref": "paper",
          "y": 1,
          "yanchor": "bottom",
          "yref": "paper"
         },
         {
          "font": {
           "size": 16
          },
          "showarrow": false,
          "text": "2",
          "x": 0.6375000000000001,
          "xanchor": "center",
          "xref": "paper",
          "y": 1,
          "yanchor": "bottom",
          "yref": "paper"
         },
         {
          "font": {
           "size": 16
          },
          "showarrow": false,
          "text": "3",
          "x": 0.9125,
          "xanchor": "center",
          "xref": "paper",
          "y": 1,
          "yanchor": "bottom",
          "yref": "paper"
         },
         {
          "font": {
           "size": 16
          },
          "showarrow": false,
          "text": "4",
          "x": 0.0875,
          "xanchor": "center",
          "xref": "paper",
          "y": 0.6222222222222222,
          "yanchor": "bottom",
          "yref": "paper"
         },
         {
          "font": {
           "size": 16
          },
          "showarrow": false,
          "text": "5",
          "x": 0.36250000000000004,
          "xanchor": "center",
          "xref": "paper",
          "y": 0.6222222222222222,
          "yanchor": "bottom",
          "yref": "paper"
         },
         {
          "font": {
           "size": 16
          },
          "showarrow": false,
          "text": "6",
          "x": 0.6375000000000001,
          "xanchor": "center",
          "xref": "paper",
          "y": 0.6222222222222222,
          "yanchor": "bottom",
          "yref": "paper"
         },
         {
          "font": {
           "size": 16
          },
          "showarrow": false,
          "text": "7",
          "x": 0.9125,
          "xanchor": "center",
          "xref": "paper",
          "y": 0.6222222222222222,
          "yanchor": "bottom",
          "yref": "paper"
         },
         {
          "font": {
           "size": 16
          },
          "showarrow": false,
          "text": "8",
          "x": 0.0875,
          "xanchor": "center",
          "xref": "paper",
          "y": 0.24444444444444446,
          "yanchor": "bottom",
          "yref": "paper"
         },
         {
          "font": {
           "size": 16
          },
          "showarrow": false,
          "text": "9",
          "x": 0.36250000000000004,
          "xanchor": "center",
          "xref": "paper",
          "y": 0.24444444444444446,
          "yanchor": "bottom",
          "yref": "paper"
         }
        ],
        "height": 550,
        "hoverlabel": {
         "bgcolor": "white",
         "font": {
          "family": "Rockwell",
          "size": 16
         }
        },
        "showlegend": false,
        "template": {
         "data": {
          "bar": [
           {
            "error_x": {
             "color": "#2a3f5f"
            },
            "error_y": {
             "color": "#2a3f5f"
            },
            "marker": {
             "line": {
              "color": "white",
              "width": 0.5
             },
             "pattern": {
              "fillmode": "overlay",
              "size": 10,
              "solidity": 0.2
             }
            },
            "type": "bar"
           }
          ],
          "barpolar": [
           {
            "marker": {
             "line": {
              "color": "white",
              "width": 0.5
             },
             "pattern": {
              "fillmode": "overlay",
              "size": 10,
              "solidity": 0.2
             }
            },
            "type": "barpolar"
           }
          ],
          "carpet": [
           {
            "aaxis": {
             "endlinecolor": "#2a3f5f",
             "gridcolor": "#C8D4E3",
             "linecolor": "#C8D4E3",
             "minorgridcolor": "#C8D4E3",
             "startlinecolor": "#2a3f5f"
            },
            "baxis": {
             "endlinecolor": "#2a3f5f",
             "gridcolor": "#C8D4E3",
             "linecolor": "#C8D4E3",
             "minorgridcolor": "#C8D4E3",
             "startlinecolor": "#2a3f5f"
            },
            "type": "carpet"
           }
          ],
          "choropleth": [
           {
            "colorbar": {
             "outlinewidth": 0,
             "ticks": ""
            },
            "type": "choropleth"
           }
          ],
          "contour": [
           {
            "colorbar": {
             "outlinewidth": 0,
             "ticks": ""
            },
            "colorscale": [
             [
              0,
              "#0d0887"
             ],
             [
              0.1111111111111111,
              "#46039f"
             ],
             [
              0.2222222222222222,
              "#7201a8"
             ],
             [
              0.3333333333333333,
              "#9c179e"
             ],
             [
              0.4444444444444444,
              "#bd3786"
             ],
             [
              0.5555555555555556,
              "#d8576b"
             ],
             [
              0.6666666666666666,
              "#ed7953"
             ],
             [
              0.7777777777777778,
              "#fb9f3a"
             ],
             [
              0.8888888888888888,
              "#fdca26"
             ],
             [
              1,
              "#f0f921"
             ]
            ],
            "type": "contour"
           }
          ],
          "contourcarpet": [
           {
            "colorbar": {
             "outlinewidth": 0,
             "ticks": ""
            },
            "type": "contourcarpet"
           }
          ],
          "heatmap": [
           {
            "colorbar": {
             "outlinewidth": 0,
             "ticks": ""
            },
            "colorscale": [
             [
              0,
              "#0d0887"
             ],
             [
              0.1111111111111111,
              "#46039f"
             ],
             [
              0.2222222222222222,
              "#7201a8"
             ],
             [
              0.3333333333333333,
              "#9c179e"
             ],
             [
              0.4444444444444444,
              "#bd3786"
             ],
             [
              0.5555555555555556,
              "#d8576b"
             ],
             [
              0.6666666666666666,
              "#ed7953"
             ],
             [
              0.7777777777777778,
              "#fb9f3a"
             ],
             [
              0.8888888888888888,
              "#fdca26"
             ],
             [
              1,
              "#f0f921"
             ]
            ],
            "type": "heatmap"
           }
          ],
          "heatmapgl": [
           {
            "colorbar": {
             "outlinewidth": 0,
             "ticks": ""
            },
            "colorscale": [
             [
              0,
              "#0d0887"
             ],
             [
              0.1111111111111111,
              "#46039f"
             ],
             [
              0.2222222222222222,
              "#7201a8"
             ],
             [
              0.3333333333333333,
              "#9c179e"
             ],
             [
              0.4444444444444444,
              "#bd3786"
             ],
             [
              0.5555555555555556,
              "#d8576b"
             ],
             [
              0.6666666666666666,
              "#ed7953"
             ],
             [
              0.7777777777777778,
              "#fb9f3a"
             ],
             [
              0.8888888888888888,
              "#fdca26"
             ],
             [
              1,
              "#f0f921"
             ]
            ],
            "type": "heatmapgl"
           }
          ],
          "histogram": [
           {
            "marker": {
             "pattern": {
              "fillmode": "overlay",
              "size": 10,
              "solidity": 0.2
             }
            },
            "type": "histogram"
           }
          ],
          "histogram2d": [
           {
            "colorbar": {
             "outlinewidth": 0,
             "ticks": ""
            },
            "colorscale": [
             [
              0,
              "#0d0887"
             ],
             [
              0.1111111111111111,
              "#46039f"
             ],
             [
              0.2222222222222222,
              "#7201a8"
             ],
             [
              0.3333333333333333,
              "#9c179e"
             ],
             [
              0.4444444444444444,
              "#bd3786"
             ],
             [
              0.5555555555555556,
              "#d8576b"
             ],
             [
              0.6666666666666666,
              "#ed7953"
             ],
             [
              0.7777777777777778,
              "#fb9f3a"
             ],
             [
              0.8888888888888888,
              "#fdca26"
             ],
             [
              1,
              "#f0f921"
             ]
            ],
            "type": "histogram2d"
           }
          ],
          "histogram2dcontour": [
           {
            "colorbar": {
             "outlinewidth": 0,
             "ticks": ""
            },
            "colorscale": [
             [
              0,
              "#0d0887"
             ],
             [
              0.1111111111111111,
              "#46039f"
             ],
             [
              0.2222222222222222,
              "#7201a8"
             ],
             [
              0.3333333333333333,
              "#9c179e"
             ],
             [
              0.4444444444444444,
              "#bd3786"
             ],
             [
              0.5555555555555556,
              "#d8576b"
             ],
             [
              0.6666666666666666,
              "#ed7953"
             ],
             [
              0.7777777777777778,
              "#fb9f3a"
             ],
             [
              0.8888888888888888,
              "#fdca26"
             ],
             [
              1,
              "#f0f921"
             ]
            ],
            "type": "histogram2dcontour"
           }
          ],
          "mesh3d": [
           {
            "colorbar": {
             "outlinewidth": 0,
             "ticks": ""
            },
            "type": "mesh3d"
           }
          ],
          "parcoords": [
           {
            "line": {
             "colorbar": {
              "outlinewidth": 0,
              "ticks": ""
             }
            },
            "type": "parcoords"
           }
          ],
          "pie": [
           {
            "automargin": true,
            "type": "pie"
           }
          ],
          "scatter": [
           {
            "fillpattern": {
             "fillmode": "overlay",
             "size": 10,
             "solidity": 0.2
            },
            "type": "scatter"
           }
          ],
          "scatter3d": [
           {
            "line": {
             "colorbar": {
              "outlinewidth": 0,
              "ticks": ""
             }
            },
            "marker": {
             "colorbar": {
              "outlinewidth": 0,
              "ticks": ""
             }
            },
            "type": "scatter3d"
           }
          ],
          "scattercarpet": [
           {
            "marker": {
             "colorbar": {
              "outlinewidth": 0,
              "ticks": ""
             }
            },
            "type": "scattercarpet"
           }
          ],
          "scattergeo": [
           {
            "marker": {
             "colorbar": {
              "outlinewidth": 0,
              "ticks": ""
             }
            },
            "type": "scattergeo"
           }
          ],
          "scattergl": [
           {
            "marker": {
             "colorbar": {
              "outlinewidth": 0,
              "ticks": ""
             }
            },
            "type": "scattergl"
           }
          ],
          "scattermapbox": [
           {
            "marker": {
             "colorbar": {
              "outlinewidth": 0,
              "ticks": ""
             }
            },
            "type": "scattermapbox"
           }
          ],
          "scatterpolar": [
           {
            "marker": {
             "colorbar": {
              "outlinewidth": 0,
              "ticks": ""
             }
            },
            "type": "scatterpolar"
           }
          ],
          "scatterpolargl": [
           {
            "marker": {
             "colorbar": {
              "outlinewidth": 0,
              "ticks": ""
             }
            },
            "type": "scatterpolargl"
           }
          ],
          "scatterternary": [
           {
            "marker": {
             "colorbar": {
              "outlinewidth": 0,
              "ticks": ""
             }
            },
            "type": "scatterternary"
           }
          ],
          "surface": [
           {
            "colorbar": {
             "outlinewidth": 0,
             "ticks": ""
            },
            "colorscale": [
             [
              0,
              "#0d0887"
             ],
             [
              0.1111111111111111,
              "#46039f"
             ],
             [
              0.2222222222222222,
              "#7201a8"
             ],
             [
              0.3333333333333333,
              "#9c179e"
             ],
             [
              0.4444444444444444,
              "#bd3786"
             ],
             [
              0.5555555555555556,
              "#d8576b"
             ],
             [
              0.6666666666666666,
              "#ed7953"
             ],
             [
              0.7777777777777778,
              "#fb9f3a"
             ],
             [
              0.8888888888888888,
              "#fdca26"
             ],
             [
              1,
              "#f0f921"
             ]
            ],
            "type": "surface"
           }
          ],
          "table": [
           {
            "cells": {
             "fill": {
              "color": "#EBF0F8"
             },
             "line": {
              "color": "white"
             }
            },
            "header": {
             "fill": {
              "color": "#C8D4E3"
             },
             "line": {
              "color": "white"
             }
            },
            "type": "table"
           }
          ]
         },
         "layout": {
          "annotationdefaults": {
           "arrowcolor": "#2a3f5f",
           "arrowhead": 0,
           "arrowwidth": 1
          },
          "autotypenumbers": "strict",
          "coloraxis": {
           "colorbar": {
            "outlinewidth": 0,
            "ticks": ""
           }
          },
          "colorscale": {
           "diverging": [
            [
             0,
             "#8e0152"
            ],
            [
             0.1,
             "#c51b7d"
            ],
            [
             0.2,
             "#de77ae"
            ],
            [
             0.3,
             "#f1b6da"
            ],
            [
             0.4,
             "#fde0ef"
            ],
            [
             0.5,
             "#f7f7f7"
            ],
            [
             0.6,
             "#e6f5d0"
            ],
            [
             0.7,
             "#b8e186"
            ],
            [
             0.8,
             "#7fbc41"
            ],
            [
             0.9,
             "#4d9221"
            ],
            [
             1,
             "#276419"
            ]
           ],
           "sequential": [
            [
             0,
             "#0d0887"
            ],
            [
             0.1111111111111111,
             "#46039f"
            ],
            [
             0.2222222222222222,
             "#7201a8"
            ],
            [
             0.3333333333333333,
             "#9c179e"
            ],
            [
             0.4444444444444444,
             "#bd3786"
            ],
            [
             0.5555555555555556,
             "#d8576b"
            ],
            [
             0.6666666666666666,
             "#ed7953"
            ],
            [
             0.7777777777777778,
             "#fb9f3a"
            ],
            [
             0.8888888888888888,
             "#fdca26"
            ],
            [
             1,
             "#f0f921"
            ]
           ],
           "sequentialminus": [
            [
             0,
             "#0d0887"
            ],
            [
             0.1111111111111111,
             "#46039f"
            ],
            [
             0.2222222222222222,
             "#7201a8"
            ],
            [
             0.3333333333333333,
             "#9c179e"
            ],
            [
             0.4444444444444444,
             "#bd3786"
            ],
            [
             0.5555555555555556,
             "#d8576b"
            ],
            [
             0.6666666666666666,
             "#ed7953"
            ],
            [
             0.7777777777777778,
             "#fb9f3a"
            ],
            [
             0.8888888888888888,
             "#fdca26"
            ],
            [
             1,
             "#f0f921"
            ]
           ]
          },
          "colorway": [
           "#636efa",
           "#EF553B",
           "#00cc96",
           "#ab63fa",
           "#FFA15A",
           "#19d3f3",
           "#FF6692",
           "#B6E880",
           "#FF97FF",
           "#FECB52"
          ],
          "font": {
           "color": "#2a3f5f"
          },
          "geo": {
           "bgcolor": "white",
           "lakecolor": "white",
           "landcolor": "white",
           "showlakes": true,
           "showland": true,
           "subunitcolor": "#C8D4E3"
          },
          "hoverlabel": {
           "align": "left"
          },
          "hovermode": "closest",
          "mapbox": {
           "style": "light"
          },
          "paper_bgcolor": "white",
          "plot_bgcolor": "white",
          "polar": {
           "angularaxis": {
            "gridcolor": "#EBF0F8",
            "linecolor": "#EBF0F8",
            "ticks": ""
           },
           "bgcolor": "white",
           "radialaxis": {
            "gridcolor": "#EBF0F8",
            "linecolor": "#EBF0F8",
            "ticks": ""
           }
          },
          "scene": {
           "xaxis": {
            "backgroundcolor": "white",
            "gridcolor": "#DFE8F3",
            "gridwidth": 2,
            "linecolor": "#EBF0F8",
            "showbackground": true,
            "ticks": "",
            "zerolinecolor": "#EBF0F8"
           },
           "yaxis": {
            "backgroundcolor": "white",
            "gridcolor": "#DFE8F3",
            "gridwidth": 2,
            "linecolor": "#EBF0F8",
            "showbackground": true,
            "ticks": "",
            "zerolinecolor": "#EBF0F8"
           },
           "zaxis": {
            "backgroundcolor": "white",
            "gridcolor": "#DFE8F3",
            "gridwidth": 2,
            "linecolor": "#EBF0F8",
            "showbackground": true,
            "ticks": "",
            "zerolinecolor": "#EBF0F8"
           }
          },
          "shapedefaults": {
           "line": {
            "color": "#2a3f5f"
           }
          },
          "ternary": {
           "aaxis": {
            "gridcolor": "#DFE8F3",
            "linecolor": "#A2B1C6",
            "ticks": ""
           },
           "baxis": {
            "gridcolor": "#DFE8F3",
            "linecolor": "#A2B1C6",
            "ticks": ""
           },
           "bgcolor": "white",
           "caxis": {
            "gridcolor": "#DFE8F3",
            "linecolor": "#A2B1C6",
            "ticks": ""
           }
          },
          "title": {
           "x": 0.05
          },
          "xaxis": {
           "automargin": true,
           "gridcolor": "#EBF0F8",
           "linecolor": "#EBF0F8",
           "ticks": "",
           "title": {
            "standoff": 15
           },
           "zerolinecolor": "#EBF0F8",
           "zerolinewidth": 2
          },
          "yaxis": {
           "automargin": true,
           "gridcolor": "#EBF0F8",
           "linecolor": "#EBF0F8",
           "ticks": "",
           "title": {
            "standoff": 15
           },
           "zerolinecolor": "#EBF0F8",
           "zerolinewidth": 2
          }
         }
        },
        "width": 700,
        "xaxis": {
         "anchor": "y",
         "domain": [
          0,
          0.175
         ]
        },
        "xaxis10": {
         "anchor": "y10",
         "domain": [
          0.275,
          0.45
         ]
        },
        "xaxis11": {
         "anchor": "y11",
         "domain": [
          0.55,
          0.7250000000000001
         ]
        },
        "xaxis12": {
         "anchor": "y12",
         "domain": [
          0.825,
          1
         ]
        },
        "xaxis2": {
         "anchor": "y2",
         "domain": [
          0.275,
          0.45
         ]
        },
        "xaxis3": {
         "anchor": "y3",
         "domain": [
          0.55,
          0.7250000000000001
         ]
        },
        "xaxis4": {
         "anchor": "y4",
         "domain": [
          0.825,
          1
         ]
        },
        "xaxis5": {
         "anchor": "y5",
         "domain": [
          0,
          0.175
         ]
        },
        "xaxis6": {
         "anchor": "y6",
         "domain": [
          0.275,
          0.45
         ]
        },
        "xaxis7": {
         "anchor": "y7",
         "domain": [
          0.55,
          0.7250000000000001
         ]
        },
        "xaxis8": {
         "anchor": "y8",
         "domain": [
          0.825,
          1
         ]
        },
        "xaxis9": {
         "anchor": "y9",
         "domain": [
          0,
          0.175
         ]
        },
        "yaxis": {
         "anchor": "x",
         "domain": [
          0.7555555555555555,
          1
         ],
         "dtick": 1
        },
        "yaxis10": {
         "anchor": "x10",
         "domain": [
          0,
          0.24444444444444446
         ],
         "dtick": 1
        },
        "yaxis11": {
         "anchor": "x11",
         "domain": [
          0,
          0.24444444444444446
         ],
         "dtick": 1
        },
        "yaxis12": {
         "anchor": "x12",
         "domain": [
          0,
          0.24444444444444446
         ],
         "dtick": 1
        },
        "yaxis2": {
         "anchor": "x2",
         "domain": [
          0.7555555555555555,
          1
         ],
         "dtick": 1
        },
        "yaxis3": {
         "anchor": "x3",
         "domain": [
          0.7555555555555555,
          1
         ],
         "dtick": 1
        },
        "yaxis4": {
         "anchor": "x4",
         "domain": [
          0.7555555555555555,
          1
         ],
         "dtick": 1
        },
        "yaxis5": {
         "anchor": "x5",
         "domain": [
          0.37777777777777777,
          0.6222222222222222
         ],
         "dtick": 1
        },
        "yaxis6": {
         "anchor": "x6",
         "domain": [
          0.37777777777777777,
          0.6222222222222222
         ],
         "dtick": 1
        },
        "yaxis7": {
         "anchor": "x7",
         "domain": [
          0.37777777777777777,
          0.6222222222222222
         ],
         "dtick": 1
        },
        "yaxis8": {
         "anchor": "x8",
         "domain": [
          0.37777777777777777,
          0.6222222222222222
         ],
         "dtick": 1
        },
        "yaxis9": {
         "anchor": "x9",
         "domain": [
          0,
          0.24444444444444446
         ],
         "dtick": 1
        }
       }
      }
     },
     "metadata": {},
     "output_type": "display_data"
    }
   ],
   "source": [
    "fig = file_util.get_topics_html(\"NMF\")\n",
    "fig.update_layout(width = 700, height = 550)"
   ]
  },
  {
   "attachments": {},
   "cell_type": "markdown",
   "metadata": {},
   "source": [
    "# Test"
   ]
  },
  {
   "cell_type": "code",
   "execution_count": 26,
   "metadata": {},
   "outputs": [],
   "source": [
    "from src.models.predict import predict_sentiment_topic"
   ]
  },
  {
   "cell_type": "code",
   "execution_count": null,
   "metadata": {},
   "outputs": [],
   "source": [
    "test = predict_sentiment_topic(test)"
   ]
  },
  {
   "cell_type": "code",
   "execution_count": null,
   "metadata": {},
   "outputs": [],
   "source": [
    "test.head()"
   ]
  },
  {
   "attachments": {},
   "cell_type": "markdown",
   "metadata": {},
   "source": [
    "## Visualizations"
   ]
  },
  {
   "cell_type": "code",
   "execution_count": 4,
   "metadata": {},
   "outputs": [],
   "source": [
    "import pandas as pd\n",
    "from src.visualisation.dashboard_viz import *\n",
    "\n",
    "test = pd.read_csv(\"data/predicted/reviews.csv\")\n",
    "vis_df = reformat_data(test)\n",
    "pio.renderers.default = \"svg\"\n",
    "# Later we will predict the test directly in this notebook and not loading the data from predicted folder\n",
    "# But for now, can take the test directly from predicted folder to make the visualizations"
   ]
  },
  {
   "attachments": {},
   "cell_type": "markdown",
   "metadata": {},
   "source": [
    "### Visualizations for sentiments"
   ]
  },
  {
   "cell_type": "code",
   "execution_count": 5,
   "metadata": {},
   "outputs": [
    {
     "data": {
      "image/svg+xml": [
       "<svg class=\"main-svg\" xmlns=\"http://www.w3.org/2000/svg\" xmlns:xlink=\"http://www.w3.org/1999/xlink\" width=\"500\" height=\"300\" style=\"\" viewBox=\"0 0 500 300\"><rect x=\"0\" y=\"0\" width=\"500\" height=\"300\" style=\"fill: rgb(255, 255, 255); fill-opacity: 1;\"/><defs id=\"defs-9ca944\"><g class=\"clips\"/><g class=\"gradients\"/><g class=\"patterns\"/></defs><g class=\"bglayer\"/><g class=\"layer-below\"><g class=\"imagelayer\"/><g class=\"shapelayer\"/></g><g class=\"cartesianlayer\"/><g class=\"polarlayer\"/><g class=\"smithlayer\"/><g class=\"ternarylayer\"/><g class=\"geolayer\"/><g class=\"funnelarealayer\"/><g class=\"pielayer\"><g class=\"trace\" stroke-linejoin=\"round\" style=\"opacity: 1;\"><g class=\"slice\"><path class=\"surface\" d=\"M209,166.5l0,-113.5a113.5,113.5 0 1 1 -113.49727861407199,112.71403104405029Z\" style=\"pointer-events: none; stroke-width: 0; fill: rgb(0, 204, 150); fill-opacity: 1; stroke: rgb(68, 68, 68); stroke-opacity: 1;\"/><g class=\"slicetext\"><text data-notex=\"1\" class=\"slicetext\" transform=\"translate(248.63756496531818,211.26701112030216)\" text-anchor=\"middle\" x=\"0\" y=\"0\" style=\"font-family: 'Century Gothic'; font-size: 12px; fill: rgb(68, 68, 68); fill-opacity: 1; white-space: pre;\">75.1%</text></g></g><g class=\"slice\"><path class=\"surface\" d=\"M209,166.5l-113.49727861407199,-0.7859689559497918a113.5,113.5 0 0 1 113.49727861407199,-112.7140310440502Z\" style=\"pointer-events: none; stroke-width: 0; fill: rgb(239, 85, 59); fill-opacity: 1; stroke: rgb(68, 68, 68); stroke-opacity: 1;\"/><g class=\"slicetext\"><text data-notex=\"1\" class=\"slicetext\" transform=\"translate(161.73085527412354,123.7563884241897)\" text-anchor=\"middle\" x=\"0\" y=\"0\" style=\"font-family: 'Century Gothic'; font-size: 12px; fill: rgb(68, 68, 68); fill-opacity: 1; white-space: pre;\">24.9%</text></g></g></g></g><g class=\"iciclelayer\"/><g class=\"treemaplayer\"/><g class=\"sunburstlayer\"/><g class=\"glimages\"/><defs id=\"topdefs-9ca944\"><g class=\"clips\"/><clipPath id=\"legend9ca944\"><rect width=\"98\" height=\"48\" x=\"0\" y=\"0\"/></clipPath></defs><g class=\"layer-above\"><g class=\"imagelayer\"/><g class=\"shapelayer\"/></g><g class=\"infolayer\"><g class=\"legend\" pointer-events=\"all\" transform=\"translate(396.59999999999997,5)\"><rect class=\"bg\" shape-rendering=\"crispEdges\" style=\"stroke: rgb(68, 68, 68); stroke-opacity: 1; fill: rgb(255, 255, 255); fill-opacity: 1; stroke-width: 0px;\" width=\"98\" height=\"48\" x=\"0\" y=\"0\"/><g class=\"scrollbox\" transform=\"\" clip-path=\"url(#legend9ca944)\"><g class=\"groups\"><g class=\"traces\" transform=\"translate(0,14.5)\" style=\"opacity: 1;\"><text class=\"legendtext\" text-anchor=\"start\" x=\"40\" y=\"4.680000000000001\" style=\"font-family: 'Century Gothic'; font-size: 12px; fill: rgb(42, 63, 95); fill-opacity: 1; white-space: pre;\">positive</text><g class=\"layers\" style=\"opacity: 1;\"><g class=\"legendfill\"/><g class=\"legendlines\"/><g class=\"legendsymbols\"><g class=\"legendpoints\"><path class=\"legendpie\" d=\"M6,6H-6V-6H6Z\" transform=\"translate(20,0)\" style=\"stroke-width: 0; fill: rgb(0, 204, 150); fill-opacity: 1; stroke: rgb(68, 68, 68); stroke-opacity: 1;\"/></g></g></g><rect class=\"legendtoggle\" x=\"0\" y=\"-9.5\" width=\"92.515625\" height=\"19\" style=\"fill: rgb(0, 0, 0); fill-opacity: 0;\"/></g><g class=\"traces\" transform=\"translate(0,33.5)\" style=\"opacity: 1;\"><text class=\"legendtext\" text-anchor=\"start\" x=\"40\" y=\"4.680000000000001\" style=\"font-family: 'Century Gothic'; font-size: 12px; fill: rgb(42, 63, 95); fill-opacity: 1; white-space: pre;\">negative</text><g class=\"layers\" style=\"opacity: 1;\"><g class=\"legendfill\"/><g class=\"legendlines\"/><g class=\"legendsymbols\"><g class=\"legendpoints\"><path class=\"legendpie\" d=\"M6,6H-6V-6H6Z\" transform=\"translate(20,0)\" style=\"stroke-width: 0; fill: rgb(239, 85, 59); fill-opacity: 1; stroke: rgb(68, 68, 68); stroke-opacity: 1;\"/></g></g></g><rect class=\"legendtoggle\" x=\"0\" y=\"-9.5\" width=\"92.515625\" height=\"19\" style=\"fill: rgb(0, 0, 0); fill-opacity: 0;\"/></g></g></g><rect class=\"scrollbar\" rx=\"20\" ry=\"3\" width=\"0\" height=\"0\" style=\"fill: rgb(128, 139, 164); fill-opacity: 1;\" x=\"0\" y=\"0\"/></g><g class=\"g-gtitle\"><text class=\"gtitle\" x=\"25\" y=\"26.5\" text-anchor=\"start\" dy=\"0em\" style=\"font-family: 'Century Gothic'; font-size: 17px; fill: rgb(42, 63, 95); opacity: 1; font-weight: normal; white-space: pre;\">Overall Sentiment Breakdown</text></g></g></svg>"
      ]
     },
     "metadata": {},
     "output_type": "display_data"
    },
    {
     "data": {
      "image/svg+xml": [
       "<svg class=\"main-svg\" xmlns=\"http://www.w3.org/2000/svg\" xmlns:xlink=\"http://www.w3.org/1999/xlink\" width=\"700\" height=\"500\" style=\"\" viewBox=\"0 0 700 500\"><rect x=\"0\" y=\"0\" width=\"700\" height=\"500\" style=\"fill: rgb(255, 255, 255); fill-opacity: 1;\"/><defs id=\"defs-823c51\"><g class=\"clips\"><clipPath id=\"clip823c51xyplot\" class=\"plotclip\"><rect width=\"543\" height=\"382\"/></clipPath><clipPath class=\"axesclip\" id=\"clip823c51x\"><rect x=\"44\" y=\"0\" width=\"543\" height=\"500\"/></clipPath><clipPath class=\"axesclip\" id=\"clip823c51y\"><rect x=\"0\" y=\"72\" width=\"700\" height=\"382\"/></clipPath><clipPath class=\"axesclip\" id=\"clip823c51xy\"><rect x=\"44\" y=\"72\" width=\"543\" height=\"382\"/></clipPath></g><g class=\"gradients\"/><g class=\"patterns\"/></defs><g class=\"bglayer\"/><g class=\"layer-below\"><g class=\"imagelayer\"/><g class=\"shapelayer\"/></g><g class=\"cartesianlayer\"><g class=\"subplot xy\"><g class=\"layer-subplot\"><g class=\"shapelayer\"/><g class=\"imagelayer\"/></g><g class=\"minor-gridlayer\"><g class=\"x\"/><g class=\"y\"/></g><g class=\"gridlayer\"><g class=\"x\"><path class=\"xgrid crisp\" transform=\"translate(102.27000000000001,0)\" d=\"M0,72v382\" style=\"stroke: rgb(235, 240, 248); stroke-opacity: 1; stroke-width: 1px;\"/><path class=\"xgrid crisp\" transform=\"translate(225.22,0)\" d=\"M0,72v382\" style=\"stroke: rgb(235, 240, 248); stroke-opacity: 1; stroke-width: 1px;\"/><path class=\"xgrid crisp\" transform=\"translate(348.17,0)\" d=\"M0,72v382\" style=\"stroke: rgb(235, 240, 248); stroke-opacity: 1; stroke-width: 1px;\"/><path class=\"xgrid crisp\" transform=\"translate(471.46,0)\" d=\"M0,72v382\" style=\"stroke: rgb(235, 240, 248); stroke-opacity: 1; stroke-width: 1px;\"/></g><g class=\"y\"><path class=\"ygrid crisp\" transform=\"translate(0,395.73)\" d=\"M44,0h543\" style=\"stroke: rgb(235, 240, 248); stroke-opacity: 1; stroke-width: 1px;\"/><path class=\"ygrid crisp\" transform=\"translate(0,352.21)\" d=\"M44,0h543\" style=\"stroke: rgb(235, 240, 248); stroke-opacity: 1; stroke-width: 1px;\"/><path class=\"ygrid crisp\" transform=\"translate(0,308.69)\" d=\"M44,0h543\" style=\"stroke: rgb(235, 240, 248); stroke-opacity: 1; stroke-width: 1px;\"/><path class=\"ygrid crisp\" transform=\"translate(0,265.18)\" d=\"M44,0h543\" style=\"stroke: rgb(235, 240, 248); stroke-opacity: 1; stroke-width: 1px;\"/><path class=\"ygrid crisp\" transform=\"translate(0,221.66)\" d=\"M44,0h543\" style=\"stroke: rgb(235, 240, 248); stroke-opacity: 1; stroke-width: 1px;\"/><path class=\"ygrid crisp\" transform=\"translate(0,178.14)\" d=\"M44,0h543\" style=\"stroke: rgb(235, 240, 248); stroke-opacity: 1; stroke-width: 1px;\"/><path class=\"ygrid crisp\" transform=\"translate(0,134.62)\" d=\"M44,0h543\" style=\"stroke: rgb(235, 240, 248); stroke-opacity: 1; stroke-width: 1px;\"/><path class=\"ygrid crisp\" transform=\"translate(0,91.1)\" d=\"M44,0h543\" style=\"stroke: rgb(235, 240, 248); stroke-opacity: 1; stroke-width: 1px;\"/></g></g><g class=\"zerolinelayer\"><path class=\"yzl zl crisp\" transform=\"translate(0,439.25)\" d=\"M44,0h543\" style=\"stroke: rgb(235, 240, 248); stroke-opacity: 1; stroke-width: 2px;\"/></g><path class=\"xlines-below\"/><path class=\"ylines-below\"/><g class=\"overlines-below\"/><g class=\"xaxislayer-below\"/><g class=\"yaxislayer-below\"/><g class=\"overaxes-below\"/><g class=\"plot\" transform=\"translate(44,72)\" clip-path=\"url(#clip823c51xyplot)\"><g class=\"scatterlayer mlayer\"><g class=\"trace scatter trace4ce772\" style=\"stroke-miterlimit: 2; opacity: 1;\"><g class=\"fills\"/><g class=\"errorbars\"/><g class=\"lines\"><path class=\"js-line\" d=\"M0,358.55L60.3,306.33L63.33,349.84L72.09,362.9L75.12,362.9L76.13,358.55L77.48,358.55L85.56,358.55L104.42,336.79L113.52,358.55L119.92,362.9L124.63,358.55L140.47,354.2L140.8,315.03L144.17,362.9L152.59,297.62L154.61,362.9L171.46,358.55L186.28,345.49L189.98,358.55L200.42,362.9L202.45,354.2L203.46,362.9L216.26,358.55L225.35,358.55L226.03,354.2L229.39,358.55L244.55,362.9L247.92,362.9L249.27,301.97L256,358.55L262.07,358.55L262.74,354.2L276.55,354.2L277.23,362.9L278.57,349.84L279.92,349.84L287.33,362.9L288.68,358.55L290.03,323.73L292.38,358.55L297.44,358.55L299.46,310.68L302.15,358.55L304.85,328.08L305.18,349.84L306.53,354.2L307.88,362.9L308.22,362.9L308.89,354.2L310.24,315.03L313.94,358.55L314.95,306.33L315.96,362.9L317.31,358.55L317.99,349.84L318.32,332.44L319.33,362.9L320.68,358.55L322.36,354.2L323.37,354.2L325.4,358.55L326.74,345.49L329.77,358.55L332.81,354.2L333.14,358.55L334.15,358.55L334.49,358.55L334.83,362.9L337.19,349.84L337.86,358.55L340.22,362.9L340.89,358.55L345.27,358.55L348.64,362.9L348.98,349.84L350.32,354.2L352.34,354.2L354.36,362.9L355.71,354.2L356.39,362.9L359.42,323.73L361.1,354.2L364.47,362.9L366.15,362.9L367.84,358.55L369.19,358.55L369.86,362.9L371.21,362.9L372.22,354.2L373.57,358.55L375.59,315.03L377.27,345.49L377.94,358.55L378.28,354.2L378.62,354.2L382.32,358.55L385.35,358.55L389.4,358.55L390.07,354.2L390.41,345.49L391.08,362.9L393.1,358.55L394.45,358.55L394.79,345.49L395.46,354.2L396.13,358.55L397.14,358.55L400.85,358.55L401.86,341.14L402.53,358.55L406.24,358.55L411.97,358.55L413.99,349.84L414.32,349.84L417.02,358.55L421.4,297.62L422.41,354.2L427.12,354.2L427.46,358.55L428.13,345.49L428.47,306.33L429.15,310.68L429.48,345.49L430.49,358.55L431.84,310.68L433.19,358.55L433.86,358.55L434.2,349.84L434.87,358.55L435.88,358.55L436.22,341.14L437.23,328.08L439.25,328.08L439.92,358.55L440.26,297.62L440.93,354.2L441.95,349.84L443.97,315.03L444.3,358.55L444.98,362.9L445.65,349.84L446.32,358.55L449.02,354.2L449.69,358.55L450.37,354.2L455.76,345.49L456.43,358.55L456.77,341.14L459.8,306.33L460.14,284.57L460.47,358.55L462.16,362.9L462.49,358.55L463.17,219.29L464.18,332.44L464.51,315.03L464.85,328.08L465.52,362.9L465.86,332.44L466.54,358.55L467.88,349.84L468.89,362.9L469.57,328.08L469.9,362.9L470.58,349.84L471.92,358.55L472.26,362.9L473.61,354.2L473.95,362.9L474.96,354.2L475.63,341.14L475.97,267.16L477.65,349.84L478.66,358.55L479,332.44L479.67,354.2L480.01,354.2L480.35,336.79L480.68,358.55L481.02,341.14L483.04,315.03L483.71,362.9L484.05,284.57L484.39,354.2L485.4,341.14L486.07,354.2L486.41,332.44L487.08,345.49L487.76,319.38L488.43,345.49L488.77,328.08L490.45,280.21L490.79,362.9L491.13,262.81L491.46,358.55L492.47,341.14L493.48,358.55L494.16,358.55L495.17,341.14L495.5,345.49L495.84,345.49L496.51,358.55L497.53,345.49L497.86,362.9L498.2,345.49L498.54,349.84L499.21,354.2L499.55,358.55L500.56,328.08L500.89,328.08L501.23,354.2L502.92,358.55L503.25,341.14L503.59,362.9L504.6,362.9L505.27,306.33L506.28,358.55L506.96,345.49L508.98,349.84L509.32,362.9L511.34,301.97L512.35,345.49L513.36,345.49L514.37,358.55L514.7,362.9L516.73,345.49L517.4,354.2L518.41,332.44L518.75,358.55L519.42,349.84L519.76,362.9L520.09,241.05L520.43,354.2L521.44,319.38L522.45,354.2L523.46,332.44L523.8,336.79L524.14,358.55L525.15,349.84L525.48,301.97L526.49,358.55L526.83,354.2L527.17,306.33L527.5,358.55L529.86,362.9L530.54,354.2L531.55,306.33L531.88,358.55L532.56,271.51L532.89,354.2L540.31,362.9L542.66,358.55L543,349.84\" style=\"vector-effect: none; fill: none; stroke: rgb(239, 85, 59); stroke-opacity: 1; stroke-width: 2px; opacity: 1;\"/></g><g class=\"points\"/><g class=\"text\"/></g><g class=\"trace scatter trace3580a3\" style=\"stroke-miterlimit: 2; opacity: 1;\"><g class=\"fills\"/><g class=\"errorbars\"/><g class=\"lines\"><path class=\"js-line\" d=\"M0,341.14L60.3,193.18L63.33,345.49L72.09,336.79L75.12,336.79L76.13,341.14L77.48,341.14L85.56,341.14L104.42,223.64L113.52,341.14L119.92,336.79L124.63,336.79L140.47,345.49L140.8,210.58L144.17,332.44L149.22,332.44L152.59,201.88L154.61,336.79L171.46,341.14L186.28,310.68L188.97,332.44L189.98,341.14L200.42,336.79L202.45,345.49L203.46,336.79L216.26,341.14L225.35,336.79L226.03,345.49L229.39,341.14L244.55,336.79L247.92,336.79L249.27,197.53L251.63,332.44L256,341.14L262.07,341.14L262.74,341.14L276.55,310.68L277.23,332.44L278.57,345.49L279.92,345.49L287.33,336.79L288.68,336.79L290.03,201.88L292.38,336.79L297.44,336.79L299.46,201.88L302.15,341.14L304.85,158.36L305.18,345.49L306.53,341.14L306.87,336.79L308.22,336.79L308.89,341.14L310.24,197.53L313.94,336.79L314.95,193.18L315.96,336.79L317.31,336.79L317.65,341.14L317.99,345.49L318.32,193.18L319.33,332.44L320.68,336.79L322.36,345.49L323.37,341.14L325.4,341.14L326.74,280.21L329.77,341.14L332.81,345.49L334.15,336.79L334.49,336.79L334.83,332.44L337.19,315.03L337.86,336.79L340.22,336.79L340.89,341.14L343.59,336.79L348.64,336.79L348.98,349.84L352.34,341.14L354.36,336.79L355.71,345.49L356.39,336.79L359.42,167.06L361.1,341.14L364.47,336.79L366.15,336.79L367.84,341.14L369.19,341.14L369.86,336.79L371.21,336.79L372.22,310.68L373.57,336.79L374.58,188.82L375.59,210.58L377.27,315.03L377.94,301.97L378.28,310.68L378.62,306.33L382.32,336.79L385.35,341.14L385.69,336.79L387.71,341.14L389.06,336.79L389.4,341.14L390.07,310.68L390.41,349.84L391.08,332.44L393.1,341.14L394.45,336.79L394.79,315.03L395.46,341.14L397.14,341.14L398.49,336.79L400.85,341.14L401.86,319.38L402.53,341.14L406.24,336.79L411.97,336.79L413.65,332.44L413.99,306.33L414.32,310.68L417.02,336.79L421.4,154.01L422.41,345.49L427.12,345.49L427.46,341.14L428.47,188.82L429.15,262.81L429.48,267.16L429.82,336.79L430.49,336.79L431.84,271.51L432.18,280.21L433.19,341.14L433.86,341.14L434.2,301.97L435.55,341.14L435.88,336.79L437.23,249.75L439.25,323.73L439.92,336.79L440.26,201.88L440.93,336.79L441.95,301.97L443.97,167.06L444.3,341.14L444.98,336.79L445.65,306.33L445.99,341.14L446.32,336.79L449.02,336.79L449.69,332.44L450.37,341.14L455.08,345.49L455.76,310.68L456.43,341.14L456.77,310.68L459.8,154.01L460.14,175.77L460.47,336.79L461.82,336.79L462.49,336.79L463.17,19.1L464.85,284.57L465.52,336.79L465.86,284.57L466.54,341.14L466.87,310.68L467.88,349.84L468.89,332.44L469.23,310.68L469.57,197.53L469.9,336.79L470.24,349.84L470.58,306.33L471.92,341.14L472.26,332.44L473.61,332.44L473.95,332.44L474.96,301.97L475.63,310.68L475.97,136.6L478.66,341.14L479,284.57L479.67,297.62L480.01,345.49L480.35,284.57L480.68,336.79L481.02,315.03L483.04,184.47L483.71,336.79L484.05,154.01L484.39,301.97L485.4,271.51L486.07,306.33L486.41,284.57L487.08,345.49L487.76,167.06L488.43,306.33L488.77,288.92L490.45,149.66L490.79,336.79L491.46,332.44L492.47,232.34L493.48,336.79L494.16,336.79L494.83,301.97L495.17,306.33L495.5,306.33L495.84,306.33L496.51,341.14L497.53,306.33L497.86,336.79L498.2,310.68L498.54,315.03L499.21,345.49L499.55,336.79L500.56,249.75L501.23,341.14L502.92,341.14L503.25,310.68L503.59,336.79L504.6,336.79L505.27,306.33L506.28,336.79L506.62,301.97L506.96,306.33L507.29,332.44L508.98,310.68L509.32,332.44L511.34,145.31L512.35,315.03L513.36,301.97L513.69,306.33L514.03,332.44L514.37,341.14L514.7,336.79L515.72,341.14L516.05,341.14L516.39,310.68L516.73,345.49L517.4,301.97L518.07,310.68L518.41,241.05L519.42,341.14L519.76,336.79L520.09,45.21L520.43,341.14L521.44,258.45L522.45,345.49L523.46,275.86L523.8,280.21L524.14,336.79L524.47,341.14L525.15,271.51L525.48,193.18L525.82,319.38L526.16,345.49L526.83,341.14L527.17,232.34L527.5,306.33L529.86,336.79L530.54,341.14L531.55,193.18L531.88,332.44L532.56,45.21L532.89,341.14L540.31,336.79L542.33,341.14L542.66,336.79L543,306.33\" style=\"vector-effect: none; fill: none; stroke: rgb(0, 204, 150); stroke-opacity: 1; stroke-width: 2px; opacity: 1;\"/></g><g class=\"points\"/><g class=\"text\"/></g></g></g><g class=\"overplot\"/><path class=\"xlines-above crisp\" d=\"M0,0\" style=\"fill: none;\"/><path class=\"ylines-above crisp\" d=\"M0,0\" style=\"fill: none;\"/><g class=\"overlines-above\"/><g class=\"xaxislayer-above\"><g class=\"xtick\"><text text-anchor=\"middle\" x=\"0\" y=\"467\" transform=\"translate(102.27000000000001,0)\" style=\"font-family: 'Century Gothic'; font-size: 12px; fill: rgb(42, 63, 95); fill-opacity: 1; white-space: pre; opacity: 1;\">2018</text></g><g class=\"xtick\"><text text-anchor=\"middle\" x=\"0\" y=\"467\" style=\"font-family: 'Century Gothic'; font-size: 12px; fill: rgb(42, 63, 95); fill-opacity: 1; white-space: pre; opacity: 1;\" transform=\"translate(225.22,0)\">2019</text></g><g class=\"xtick\"><text text-anchor=\"middle\" x=\"0\" y=\"467\" style=\"font-family: 'Century Gothic'; font-size: 12px; fill: rgb(42, 63, 95); fill-opacity: 1; white-space: pre; opacity: 1;\" transform=\"translate(348.17,0)\">2020</text></g><g class=\"xtick\"><text text-anchor=\"middle\" x=\"0\" y=\"467\" style=\"font-family: 'Century Gothic'; font-size: 12px; fill: rgb(42, 63, 95); fill-opacity: 1; white-space: pre; opacity: 1;\" transform=\"translate(471.46,0)\">2021</text></g></g><g class=\"yaxislayer-above\"><g class=\"ytick\"><text text-anchor=\"end\" x=\"43\" y=\"4.199999999999999\" transform=\"translate(0,439.25)\" style=\"font-family: 'Century Gothic'; font-size: 12px; fill: rgb(42, 63, 95); fill-opacity: 1; white-space: pre; opacity: 1;\">0</text></g><g class=\"ytick\"><text text-anchor=\"end\" x=\"43\" y=\"4.199999999999999\" style=\"font-family: 'Century Gothic'; font-size: 12px; fill: rgb(42, 63, 95); fill-opacity: 1; white-space: pre; opacity: 1;\" transform=\"translate(0,395.73)\">10</text></g><g class=\"ytick\"><text text-anchor=\"end\" x=\"43\" y=\"4.199999999999999\" style=\"font-family: 'Century Gothic'; font-size: 12px; fill: rgb(42, 63, 95); fill-opacity: 1; white-space: pre; opacity: 1;\" transform=\"translate(0,352.21)\">20</text></g><g class=\"ytick\"><text text-anchor=\"end\" x=\"43\" y=\"4.199999999999999\" style=\"font-family: 'Century Gothic'; font-size: 12px; fill: rgb(42, 63, 95); fill-opacity: 1; white-space: pre; opacity: 1;\" transform=\"translate(0,308.69)\">30</text></g><g class=\"ytick\"><text text-anchor=\"end\" x=\"43\" y=\"4.199999999999999\" style=\"font-family: 'Century Gothic'; font-size: 12px; fill: rgb(42, 63, 95); fill-opacity: 1; white-space: pre; opacity: 1;\" transform=\"translate(0,265.18)\">40</text></g><g class=\"ytick\"><text text-anchor=\"end\" x=\"43\" y=\"4.199999999999999\" style=\"font-family: 'Century Gothic'; font-size: 12px; fill: rgb(42, 63, 95); fill-opacity: 1; white-space: pre; opacity: 1;\" transform=\"translate(0,221.66)\">50</text></g><g class=\"ytick\"><text text-anchor=\"end\" x=\"43\" y=\"4.199999999999999\" style=\"font-family: 'Century Gothic'; font-size: 12px; fill: rgb(42, 63, 95); fill-opacity: 1; white-space: pre; opacity: 1;\" transform=\"translate(0,178.14)\">60</text></g><g class=\"ytick\"><text text-anchor=\"end\" x=\"43\" y=\"4.199999999999999\" style=\"font-family: 'Century Gothic'; font-size: 12px; fill: rgb(42, 63, 95); fill-opacity: 1; white-space: pre; opacity: 1;\" transform=\"translate(0,134.62)\">70</text></g><g class=\"ytick\"><text text-anchor=\"end\" x=\"43\" y=\"4.199999999999999\" style=\"font-family: 'Century Gothic'; font-size: 12px; fill: rgb(42, 63, 95); fill-opacity: 1; white-space: pre; opacity: 1;\" transform=\"translate(0,91.1)\">80</text></g></g><g class=\"overaxes-above\"/></g></g><g class=\"polarlayer\"/><g class=\"smithlayer\"/><g class=\"ternarylayer\"/><g class=\"geolayer\"/><g class=\"funnelarealayer\"/><g class=\"pielayer\"/><g class=\"iciclelayer\"/><g class=\"treemaplayer\"/><g class=\"sunburstlayer\"/><g class=\"glimages\"/><defs id=\"topdefs-823c51\"><g class=\"clips\"/><clipPath id=\"legend823c51\"><rect width=\"98\" height=\"67\" x=\"0\" y=\"0\"/></clipPath></defs><g class=\"layer-above\"><g class=\"imagelayer\"/><g class=\"shapelayer\"/></g><g class=\"infolayer\"><g class=\"legend\" pointer-events=\"all\" transform=\"translate(597.6,5)\"><rect class=\"bg\" shape-rendering=\"crispEdges\" style=\"stroke: rgb(68, 68, 68); stroke-opacity: 1; fill: rgb(255, 255, 255); fill-opacity: 1; stroke-width: 0px;\" width=\"98\" height=\"67\" x=\"0\" y=\"0\"/><g class=\"scrollbox\" transform=\"\" clip-path=\"url(#legend823c51)\"><text class=\"legendtitletext\" text-anchor=\"start\" x=\"2\" y=\"18.2\" style=\"font-family: 'Century Gothic'; font-size: 14px; fill: rgb(42, 63, 95); fill-opacity: 1; white-space: pre;\">sentiment</text><g class=\"groups\" transform=\"\"><g class=\"traces\" transform=\"translate(0,32.7)\" style=\"opacity: 1;\"><text class=\"legendtext\" text-anchor=\"start\" x=\"40\" y=\"4.680000000000001\" style=\"font-family: 'Century Gothic'; font-size: 12px; fill: rgb(42, 63, 95); fill-opacity: 1; white-space: pre;\">negative</text><g class=\"layers\" style=\"opacity: 1;\"><g class=\"legendfill\"/><g class=\"legendlines\"><path class=\"js-line\" d=\"M5,0h30\" style=\"fill: none; stroke: rgb(239, 85, 59); stroke-opacity: 1; stroke-width: 2px;\"/></g><g class=\"legendsymbols\"><g class=\"legendpoints\"/></g></g><rect class=\"legendtoggle\" x=\"0\" y=\"-9.5\" width=\"92.515625\" height=\"19\" style=\"fill: rgb(0, 0, 0); fill-opacity: 0;\"/></g></g><g class=\"groups\" transform=\"\"><g class=\"traces\" transform=\"translate(0,51.7)\" style=\"opacity: 1;\"><text class=\"legendtext\" text-anchor=\"start\" x=\"40\" y=\"4.680000000000001\" style=\"font-family: 'Century Gothic'; font-size: 12px; fill: rgb(42, 63, 95); fill-opacity: 1; white-space: pre;\">positive</text><g class=\"layers\" style=\"opacity: 1;\"><g class=\"legendfill\"/><g class=\"legendlines\"><path class=\"js-line\" d=\"M5,0h30\" style=\"fill: none; stroke: rgb(0, 204, 150); stroke-opacity: 1; stroke-width: 2px;\"/></g><g class=\"legendsymbols\"><g class=\"legendpoints\"/></g></g><rect class=\"legendtoggle\" x=\"0\" y=\"-9.5\" width=\"92.515625\" height=\"19\" style=\"fill: rgb(0, 0, 0); fill-opacity: 0;\"/></g></g></g><rect class=\"scrollbar\" rx=\"20\" ry=\"3\" width=\"0\" height=\"0\" x=\"0\" y=\"0\" style=\"fill: rgb(128, 139, 164); fill-opacity: 1;\"/></g><g class=\"g-gtitle\"><text class=\"gtitle\" x=\"35\" y=\"36\" text-anchor=\"start\" dy=\"0em\" style=\"font-family: 'Century Gothic'; font-size: 17px; fill: rgb(42, 63, 95); opacity: 1; font-weight: normal; white-space: pre;\">Sentiment trend</text></g><g class=\"g-xtitle\"><text class=\"xtitle\" x=\"315.5\" y=\"494.3\" text-anchor=\"middle\" style=\"font-family: 'Century Gothic'; font-size: 14px; fill: rgb(42, 63, 95); opacity: 1; font-weight: normal; white-space: pre;\">Date</text></g><g class=\"g-ytitle\" transform=\"translate(8.6123046875,0)\"><text class=\"ytitle\" transform=\"rotate(-90,5.387500000000003,263)\" x=\"5.387500000000003\" y=\"263\" text-anchor=\"middle\" style=\"font-family: 'Century Gothic'; font-size: 14px; fill: rgb(42, 63, 95); opacity: 1; font-weight: normal; white-space: pre;\">Number of Reviews</text></g></g></svg>"
      ]
     },
     "metadata": {},
     "output_type": "display_data"
    },
    {
     "data": {
      "image/svg+xml": [
       "<svg class=\"main-svg\" xmlns=\"http://www.w3.org/2000/svg\" xmlns:xlink=\"http://www.w3.org/1999/xlink\" width=\"700\" height=\"500\" style=\"\" viewBox=\"0 0 700 500\"><rect x=\"0\" y=\"0\" width=\"700\" height=\"500\" style=\"fill: rgb(255, 255, 255); fill-opacity: 1;\"/><defs id=\"defs-ae31ff\"><g class=\"clips\"><clipPath id=\"clipae31ffxyplot\" class=\"plotclip\"><rect width=\"537\" height=\"336\"/></clipPath><clipPath class=\"axesclip\" id=\"clipae31ffx\"><rect x=\"51\" y=\"0\" width=\"537\" height=\"500\"/></clipPath><clipPath class=\"axesclip\" id=\"clipae31ffy\"><rect x=\"0\" y=\"72\" width=\"700\" height=\"336\"/></clipPath><clipPath class=\"axesclip\" id=\"clipae31ffxy\"><rect x=\"51\" y=\"72\" width=\"537\" height=\"336\"/></clipPath></g><g class=\"gradients\"/><g class=\"patterns\"/></defs><g class=\"bglayer\"/><g class=\"layer-below\"><g class=\"imagelayer\"/><g class=\"shapelayer\"/></g><g class=\"cartesianlayer\"><g class=\"subplot xy\"><g class=\"layer-subplot\"><g class=\"shapelayer\"/><g class=\"imagelayer\"/></g><g class=\"minor-gridlayer\"><g class=\"x\"/><g class=\"y\"/></g><g class=\"gridlayer\"><g class=\"x\"/><g class=\"y\"><path class=\"ygrid crisp\" transform=\"translate(0,344.16)\" d=\"M51,0h537\" style=\"stroke: rgb(235, 240, 248); stroke-opacity: 1; stroke-width: 1px;\"/><path class=\"ygrid crisp\" transform=\"translate(0,280.32)\" d=\"M51,0h537\" style=\"stroke: rgb(235, 240, 248); stroke-opacity: 1; stroke-width: 1px;\"/><path class=\"ygrid crisp\" transform=\"translate(0,216.48)\" d=\"M51,0h537\" style=\"stroke: rgb(235, 240, 248); stroke-opacity: 1; stroke-width: 1px;\"/><path class=\"ygrid crisp\" transform=\"translate(0,152.64)\" d=\"M51,0h537\" style=\"stroke: rgb(235, 240, 248); stroke-opacity: 1; stroke-width: 1px;\"/><path class=\"ygrid crisp\" transform=\"translate(0,88.8)\" d=\"M51,0h537\" style=\"stroke: rgb(235, 240, 248); stroke-opacity: 1; stroke-width: 1px;\"/></g></g><g class=\"zerolinelayer\"><path class=\"yzl zl crisp\" transform=\"translate(0,408)\" d=\"M51,0h537\" style=\"stroke: rgb(235, 240, 248); stroke-opacity: 1; stroke-width: 2px;\"/></g><path class=\"xlines-below\"/><path class=\"ylines-below\"/><g class=\"overlines-below\"/><g class=\"xaxislayer-below\"/><g class=\"yaxislayer-below\"/><g class=\"overaxes-below\"/><g class=\"plot\" transform=\"translate(51,72)\" clip-path=\"url(#clipae31ffxyplot)\"><g class=\"barlayer mlayer\"><g class=\"trace bars\" style=\"opacity: 1;\"><g class=\"points\"><g class=\"point\"><path d=\"M7.67,336V251.41H69.04V336Z\" style=\"vector-effect: none; opacity: 1; stroke-width: 0.5px; fill: rgb(239, 85, 59); fill-opacity: 1; stroke: rgb(255, 255, 255); stroke-opacity: 1;\"/></g><g class=\"point\"><path d=\"M84.39,336V266.73H145.76V336Z\" style=\"vector-effect: none; opacity: 1; stroke-width: 0.5px; fill: rgb(239, 85, 59); fill-opacity: 1; stroke: rgb(255, 255, 255); stroke-opacity: 1;\"/></g><g class=\"point\"><path d=\"M161.1,336V250.45H222.47V336Z\" style=\"vector-effect: none; opacity: 1; stroke-width: 0.5px; fill: rgb(239, 85, 59); fill-opacity: 1; stroke: rgb(255, 255, 255); stroke-opacity: 1;\"/></g><g class=\"point\"><path d=\"M237.81,336V242.16H299.19V336Z\" style=\"vector-effect: none; opacity: 1; stroke-width: 0.5px; fill: rgb(239, 85, 59); fill-opacity: 1; stroke: rgb(255, 255, 255); stroke-opacity: 1;\"/></g><g class=\"point\"><path d=\"M314.53,336V260.67H375.9V336Z\" style=\"vector-effect: none; opacity: 1; stroke-width: 0.5px; fill: rgb(239, 85, 59); fill-opacity: 1; stroke: rgb(255, 255, 255); stroke-opacity: 1;\"/></g><g class=\"point\"><path d=\"M391.24,336V185.98H452.61V336Z\" style=\"vector-effect: none; opacity: 1; stroke-width: 0.5px; fill: rgb(239, 85, 59); fill-opacity: 1; stroke: rgb(255, 255, 255); stroke-opacity: 1;\"/></g><g class=\"point\"><path d=\"M467.96,336V287.8H529.33V336Z\" style=\"vector-effect: none; opacity: 1; stroke-width: 0.5px; fill: rgb(239, 85, 59); fill-opacity: 1; stroke: rgb(255, 255, 255); stroke-opacity: 1;\"/></g></g></g><g class=\"trace bars\" style=\"opacity: 1;\"><g class=\"points\"><g class=\"point\"><path d=\"M7.67,251.41V16.8H69.04V251.41Z\" style=\"vector-effect: none; opacity: 1; stroke-width: 0.5px; fill: rgb(0, 204, 150); fill-opacity: 1; stroke: rgb(255, 255, 255); stroke-opacity: 1;\"/></g><g class=\"point\"><path d=\"M84.39,266.73V16.8H145.76V266.73Z\" style=\"vector-effect: none; opacity: 1; stroke-width: 0.5px; fill: rgb(0, 204, 150); fill-opacity: 1; stroke: rgb(255, 255, 255); stroke-opacity: 1;\"/></g><g class=\"point\"><path d=\"M161.1,250.45V16.8H222.47V250.45Z\" style=\"vector-effect: none; opacity: 1; stroke-width: 0.5px; fill: rgb(0, 204, 150); fill-opacity: 1; stroke: rgb(255, 255, 255); stroke-opacity: 1;\"/></g><g class=\"point\"><path d=\"M237.81,242.16V16.8H299.19V242.16Z\" style=\"vector-effect: none; opacity: 1; stroke-width: 0.5px; fill: rgb(0, 204, 150); fill-opacity: 1; stroke: rgb(255, 255, 255); stroke-opacity: 1;\"/></g><g class=\"point\"><path d=\"M314.53,260.67V16.8H375.9V260.67Z\" style=\"vector-effect: none; opacity: 1; stroke-width: 0.5px; fill: rgb(0, 204, 150); fill-opacity: 1; stroke: rgb(255, 255, 255); stroke-opacity: 1;\"/></g><g class=\"point\"><path d=\"M391.24,185.98V16.8H452.61V185.98Z\" style=\"vector-effect: none; opacity: 1; stroke-width: 0.5px; fill: rgb(0, 204, 150); fill-opacity: 1; stroke: rgb(255, 255, 255); stroke-opacity: 1;\"/></g><g class=\"point\"><path d=\"M467.96,287.8V16.8H529.33V287.8Z\" style=\"vector-effect: none; opacity: 1; stroke-width: 0.5px; fill: rgb(0, 204, 150); fill-opacity: 1; stroke: rgb(255, 255, 255); stroke-opacity: 1;\"/></g></g></g></g></g><g class=\"overplot\"/><path class=\"xlines-above crisp\" d=\"M0,0\" style=\"fill: none;\"/><path class=\"ylines-above crisp\" d=\"M0,0\" style=\"fill: none;\"/><g class=\"overlines-above\"/><g class=\"xaxislayer-above\"><g class=\"xtick\"><text text-anchor=\"start\" x=\"0\" y=\"421\" transform=\"translate(89.36,0) rotate(30,0,415)\" style=\"font-family: 'Century Gothic'; font-size: 12px; fill: rgb(42, 63, 95); fill-opacity: 1; white-space: pre; opacity: 1;\">Baked Goods</text></g><g class=\"xtick\"><text text-anchor=\"start\" x=\"0\" y=\"421\" transform=\"translate(166.07,0) rotate(30,0,415)\" style=\"font-family: 'Century Gothic'; font-size: 12px; fill: rgb(42, 63, 95); fill-opacity: 1; white-space: pre; opacity: 1;\">Drinks</text></g><g class=\"xtick\"><text text-anchor=\"start\" x=\"0\" y=\"421\" transform=\"translate(242.79,0) rotate(30,0,415)\" style=\"font-family: 'Century Gothic'; font-size: 12px; fill: rgb(42, 63, 95); fill-opacity: 1; white-space: pre; opacity: 1;\">Flavour</text></g><g class=\"xtick\"><text text-anchor=\"start\" x=\"0\" y=\"421\" transform=\"translate(319.5,0) rotate(30,0,415)\" style=\"font-family: 'Century Gothic'; font-size: 12px; fill: rgb(42, 63, 95); fill-opacity: 1; white-space: pre; opacity: 1;\">Ingredients</text></g><g class=\"xtick\"><text text-anchor=\"start\" x=\"0\" y=\"421\" transform=\"translate(396.21,0) rotate(30,0,415)\" style=\"font-family: 'Century Gothic'; font-size: 12px; fill: rgb(42, 63, 95); fill-opacity: 1; white-space: pre; opacity: 1;\">Noodles &amp; Pasta</text></g><g class=\"xtick\"><text text-anchor=\"start\" x=\"0\" y=\"421\" transform=\"translate(472.93,0) rotate(30,0,415)\" style=\"font-family: 'Century Gothic'; font-size: 12px; fill: rgb(42, 63, 95); fill-opacity: 1; white-space: pre; opacity: 1;\">Pet Food</text></g><g class=\"xtick\"><text text-anchor=\"start\" x=\"0\" y=\"421\" transform=\"translate(549.64,0) rotate(30,0,415)\" style=\"font-family: 'Century Gothic'; font-size: 12px; fill: rgb(42, 63, 95); fill-opacity: 1; white-space: pre; opacity: 1;\">Snacks</text></g></g><g class=\"yaxislayer-above\"><g class=\"ytick\"><text text-anchor=\"end\" x=\"50\" y=\"4.199999999999999\" transform=\"translate(0,408)\" style=\"font-family: 'Century Gothic'; font-size: 12px; fill: rgb(42, 63, 95); fill-opacity: 1; white-space: pre; opacity: 1;\">0</text></g><g class=\"ytick\"><text text-anchor=\"end\" x=\"50\" y=\"4.199999999999999\" style=\"font-family: 'Century Gothic'; font-size: 12px; fill: rgb(42, 63, 95); fill-opacity: 1; white-space: pre; opacity: 1;\" transform=\"translate(0,344.16)\">20</text></g><g class=\"ytick\"><text text-anchor=\"end\" x=\"50\" y=\"4.199999999999999\" style=\"font-family: 'Century Gothic'; font-size: 12px; fill: rgb(42, 63, 95); fill-opacity: 1; white-space: pre; opacity: 1;\" transform=\"translate(0,280.32)\">40</text></g><g class=\"ytick\"><text text-anchor=\"end\" x=\"50\" y=\"4.199999999999999\" style=\"font-family: 'Century Gothic'; font-size: 12px; fill: rgb(42, 63, 95); fill-opacity: 1; white-space: pre; opacity: 1;\" transform=\"translate(0,216.48)\">60</text></g><g class=\"ytick\"><text text-anchor=\"end\" x=\"50\" y=\"4.199999999999999\" style=\"font-family: 'Century Gothic'; font-size: 12px; fill: rgb(42, 63, 95); fill-opacity: 1; white-space: pre; opacity: 1;\" transform=\"translate(0,152.64)\">80</text></g><g class=\"ytick\"><text text-anchor=\"end\" x=\"50\" y=\"4.199999999999999\" style=\"font-family: 'Century Gothic'; font-size: 12px; fill: rgb(42, 63, 95); fill-opacity: 1; white-space: pre; opacity: 1;\" transform=\"translate(0,88.8)\">100</text></g></g><g class=\"overaxes-above\"/></g></g><g class=\"polarlayer\"/><g class=\"smithlayer\"/><g class=\"ternarylayer\"/><g class=\"geolayer\"/><g class=\"funnelarealayer\"/><g class=\"pielayer\"/><g class=\"iciclelayer\"/><g class=\"treemaplayer\"/><g class=\"sunburstlayer\"/><g class=\"glimages\"/><defs id=\"topdefs-ae31ff\"><g class=\"clips\"/><clipPath id=\"legendae31ff\"><rect width=\"98\" height=\"67\" x=\"0\" y=\"0\"/></clipPath></defs><g class=\"layer-above\"><g class=\"imagelayer\"/><g class=\"shapelayer\"/></g><g class=\"infolayer\"><g class=\"legend\" pointer-events=\"all\" transform=\"translate(597.4,5)\"><rect class=\"bg\" shape-rendering=\"crispEdges\" width=\"98\" height=\"67\" x=\"0\" y=\"0\" style=\"stroke: rgb(68, 68, 68); stroke-opacity: 1; fill: rgb(255, 255, 255); fill-opacity: 1; stroke-width: 0px;\"/><g class=\"scrollbox\" transform=\"\" clip-path=\"url(#legendae31ff)\"><text class=\"legendtitletext\" text-anchor=\"start\" x=\"2\" y=\"18.2\" style=\"font-family: 'Century Gothic'; font-size: 14px; fill: rgb(42, 63, 95); fill-opacity: 1; white-space: pre;\">sentiment</text><g class=\"groups\" transform=\"\"><g class=\"traces\" transform=\"translate(0,32.7)\" style=\"opacity: 1;\"><text class=\"legendtext\" text-anchor=\"start\" x=\"40\" y=\"4.680000000000001\" style=\"font-family: 'Century Gothic'; font-size: 12px; fill: rgb(42, 63, 95); fill-opacity: 1; white-space: pre;\">negative</text><g class=\"layers\" style=\"opacity: 1;\"><g class=\"legendfill\"/><g class=\"legendlines\"/><g class=\"legendsymbols\"><g class=\"legendpoints\"><path class=\"legendundefined\" d=\"M6,6H-6V-6H6Z\" transform=\"translate(20,0)\" style=\"stroke-width: 0.5px; fill: rgb(239, 85, 59); fill-opacity: 1; stroke: rgb(255, 255, 255); stroke-opacity: 1;\"/></g></g></g><rect class=\"legendtoggle\" x=\"0\" y=\"-9.5\" width=\"92.515625\" height=\"19\" style=\"fill: rgb(0, 0, 0); fill-opacity: 0;\"/></g></g><g class=\"groups\" transform=\"\"><g class=\"traces\" transform=\"translate(0,51.7)\" style=\"opacity: 1;\"><text class=\"legendtext\" text-anchor=\"start\" x=\"40\" y=\"4.680000000000001\" style=\"font-family: 'Century Gothic'; font-size: 12px; fill: rgb(42, 63, 95); fill-opacity: 1; white-space: pre;\">positive</text><g class=\"layers\" style=\"opacity: 1;\"><g class=\"legendfill\"/><g class=\"legendlines\"/><g class=\"legendsymbols\"><g class=\"legendpoints\"><path class=\"legendundefined\" d=\"M6,6H-6V-6H6Z\" transform=\"translate(20,0)\" style=\"stroke-width: 0.5px; fill: rgb(0, 204, 150); fill-opacity: 1; stroke: rgb(255, 255, 255); stroke-opacity: 1;\"/></g></g></g><rect class=\"legendtoggle\" x=\"0\" y=\"-9.5\" width=\"92.515625\" height=\"19\" style=\"fill: rgb(0, 0, 0); fill-opacity: 0;\"/></g></g></g><rect class=\"scrollbar\" rx=\"20\" ry=\"3\" width=\"0\" height=\"0\" x=\"0\" y=\"0\" style=\"fill: rgb(128, 139, 164); fill-opacity: 1;\"/></g><g class=\"g-gtitle\"><text class=\"gtitle\" x=\"35\" y=\"36\" text-anchor=\"start\" dy=\"0em\" style=\"font-family: 'Century Gothic'; font-size: 17px; fill: rgb(42, 63, 95); opacity: 1; font-weight: normal; white-space: pre;\">Topics by Sentiment</text></g><g class=\"g-xtitle\"><text class=\"xtitle\" x=\"319.5\" y=\"494.9064453125\" text-anchor=\"middle\" style=\"font-family: 'Century Gothic'; font-size: 14px; fill: rgb(42, 63, 95); opacity: 1; font-weight: normal; white-space: pre;\">Topic</text></g><g class=\"g-ytitle\" transform=\"translate(8.2529296875,0)\"><text class=\"ytitle\" transform=\"rotate(-90,5.746875000000003,240)\" x=\"5.746875000000003\" y=\"240\" text-anchor=\"middle\" style=\"font-family: 'Century Gothic'; font-size: 14px; fill: rgb(42, 63, 95); opacity: 1; font-weight: normal; white-space: pre;\">Percentage(%)</text></g></g></svg>"
      ]
     },
     "metadata": {},
     "output_type": "display_data"
    }
   ],
   "source": [
    "# need Weiqing or Madeline help\n",
    "\n",
    "sentiment_pie_chart_fig = sentiment_pie_chart(vis_df)\n",
    "sentiment_trend_fig = sentiment_line_chart_over_time(vis_df)\n",
    "topics_sentiment_fig = topics_bar_chart(vis_df)\n",
    "\n",
    "display(sentiment_pie_chart_fig.update_layout(width = 500, height = 300, title='Overall Sentiment Breakdown'))\n",
    "display(sentiment_trend_fig.update_layout(title='Sentiment trend'))\n",
    "display(topics_sentiment_fig.update_layout(title='Topics by Sentiment'))"
   ]
  },
  {
   "attachments": {},
   "cell_type": "markdown",
   "metadata": {},
   "source": [
    "### Visualizations for topics"
   ]
  },
  {
   "cell_type": "code",
   "execution_count": 6,
   "metadata": {},
   "outputs": [
    {
     "data": {
      "image/svg+xml": [
       "<svg class=\"main-svg\" xmlns=\"http://www.w3.org/2000/svg\" xmlns:xlink=\"http://www.w3.org/1999/xlink\" width=\"500\" height=\"300\" style=\"\" viewBox=\"0 0 500 300\"><rect x=\"0\" y=\"0\" width=\"500\" height=\"300\" style=\"fill: rgb(255, 255, 255); fill-opacity: 1;\"/><defs id=\"defs-36ead0\"><g class=\"clips\"/><g class=\"gradients\"/><g class=\"patterns\"/></defs><g class=\"bglayer\"/><g class=\"layer-below\"><g class=\"imagelayer\"/><g class=\"shapelayer\"/></g><g class=\"cartesianlayer\"/><g class=\"polarlayer\"/><g class=\"smithlayer\"/><g class=\"ternarylayer\"/><g class=\"geolayer\"/><g class=\"funnelarealayer\"/><g class=\"pielayer\"><g class=\"trace\" stroke-linejoin=\"round\" style=\"opacity: 1;\"><g class=\"slice\"><path class=\"surface\" d=\"M180,157.5l0,-122.5a122.5,122.5 0 0 1 121.08114731632813,141.09047510317163Z\" style=\"pointer-events: none; stroke-width: 0; fill: rgb(99, 110, 250); fill-opacity: 1; stroke: rgb(68, 68, 68); stroke-opacity: 1;\"/><g class=\"slicetext\"><text data-notex=\"1\" class=\"slicetext\" transform=\"translate(232.50133900963908,116.64265075934856)\" text-anchor=\"middle\" x=\"0\" y=\"0\" style=\"font-family: 'Century Gothic'; font-size: 12px; fill: rgb(255, 255, 255); fill-opacity: 1; white-space: pre;\">27.4%</text></g></g><g class=\"slice\"><path class=\"surface\" d=\"M180,157.5l121.08114731632813,18.590475103171627a122.5,122.5 0 0 1 -101.6526507939135,102.35903305158905Z\" style=\"pointer-events: none; stroke-width: 0; fill: rgb(239, 85, 59); fill-opacity: 1; stroke: rgb(68, 68, 68); stroke-opacity: 1;\"/><g class=\"slicetext\"><text data-notex=\"1\" class=\"slicetext\" transform=\"translate(234.35597161464503,216.32999604782594)\" text-anchor=\"middle\" x=\"0\" y=\"0\" style=\"font-family: 'Century Gothic'; font-size: 12px; fill: rgb(68, 68, 68); fill-opacity: 1; white-space: pre;\">20%</text></g></g><g class=\"slice\"><path class=\"surface\" d=\"M180,157.5l19.428496522414637,120.94950815476068a122.5,122.5 0 0 1 -133.51456012193117,-76.33314240891505Z\" style=\"pointer-events: none; stroke-width: 0; fill: rgb(0, 204, 150); fill-opacity: 1; stroke: rgb(68, 68, 68); stroke-opacity: 1;\"/><g class=\"slicetext\"><text data-notex=\"1\" class=\"slicetext\" transform=\"translate(142.29560053688328,227.33397471992834)\" text-anchor=\"middle\" x=\"0\" y=\"0\" style=\"font-family: 'Century Gothic'; font-size: 12px; fill: rgb(68, 68, 68); fill-opacity: 1; white-space: pre;\">21.6%</text></g></g><g class=\"slice\"><path class=\"surface\" d=\"M180,157.5l-114.08606359951654,44.61636574584563a122.5,122.5 0 0 1 7.8803286378252295,-105.6621834670211Z\" style=\"pointer-events: none; stroke-width: 0; fill: rgb(171, 99, 250); fill-opacity: 1; stroke: rgb(68, 68, 68); stroke-opacity: 1;\"/><g class=\"slicetext\"><text data-notex=\"1\" class=\"slicetext\" transform=\"translate(94.36877451961013,155.6398080338913)\" text-anchor=\"middle\" x=\"0\" y=\"0\" style=\"font-family: 'Century Gothic'; font-size: 12px; fill: rgb(68, 68, 68); fill-opacity: 1; white-space: pre;\">14.2%</text></g></g><g class=\"slice\"><path class=\"surface\" d=\"M180,157.5l-106.2057349616913,-61.045817721175474a122.5,122.5 0 0 1 20.136747396237467,-26.12286575779965Z\" style=\"pointer-events: none; stroke-width: 0; fill: rgb(255, 161, 90); fill-opacity: 1; stroke: rgb(68, 68, 68); stroke-opacity: 1;\"/><g class=\"slicetext\"><text data-notex=\"1\" class=\"slicetext\" transform=\"translate(96.08202664804307,98.4938189073394)rotate(37.62674504041138)\" text-anchor=\"middle\" x=\"0\" y=\"0\" style=\"font-family: 'Century Gothic'; font-size: 12px; fill: rgb(68, 68, 68); fill-opacity: 1; white-space: pre;\">4.3%</text></g></g><g class=\"slice\"><path class=\"surface\" d=\"M180,157.5l-86.06898756545384,-87.16868347897513a122.5,122.5 0 0 1 33.154917768878654,-23.313673563057478Z\" style=\"pointer-events: none; stroke-width: 0; fill: rgb(25, 211, 243); fill-opacity: 1; stroke: rgb(68, 68, 68); stroke-opacity: 1;\"/><g class=\"slicetext\"><text data-notex=\"1\" class=\"slicetext\" transform=\"translate(120.94600644823501,81.34125912583193)rotate(54.88611315209391)\" text-anchor=\"middle\" x=\"0\" y=\"0\" style=\"font-family: 'Century Gothic'; font-size: 12px; fill: rgb(68, 68, 68); fill-opacity: 1; white-space: pre;\">5.29%</text></g></g><g class=\"slice\"><path class=\"surface\" d=\"M180,157.5l-52.914069796575184,-110.4823570420326a122.5,122.5 0 0 1 52.914069796574935,-12.017642957967396Z\" style=\"pointer-events: none; stroke-width: 0; fill: rgb(255, 102, 146); fill-opacity: 1; stroke: rgb(68, 68, 68); stroke-opacity: 1;\"/><g class=\"slicetext\"><text data-notex=\"1\" class=\"slicetext\" transform=\"translate(157.43694363561346,64.2020756701588)\" text-anchor=\"middle\" x=\"0\" y=\"0\" style=\"font-family: 'Century Gothic'; font-size: 12px; fill: rgb(68, 68, 68); fill-opacity: 1; white-space: pre;\">7.11%</text></g></g></g></g><g class=\"iciclelayer\"/><g class=\"treemaplayer\"/><g class=\"sunburstlayer\"/><g class=\"glimages\"/><defs id=\"topdefs-36ead0\"><g class=\"clips\"/><clipPath id=\"legend36ead0\"><rect width=\"141\" height=\"143\" x=\"0\" y=\"0\"/></clipPath></defs><g class=\"layer-above\"><g class=\"imagelayer\"/><g class=\"shapelayer\"/></g><g class=\"infolayer\"><g class=\"legend\" pointer-events=\"all\" transform=\"translate(353.99999999999994,35)\"><rect class=\"bg\" shape-rendering=\"crispEdges\" style=\"stroke: rgb(68, 68, 68); stroke-opacity: 1; fill: rgb(255, 255, 255); fill-opacity: 1; stroke-width: 0px;\" width=\"141\" height=\"143\" x=\"0\" y=\"0\"/><g class=\"scrollbox\" transform=\"\" clip-path=\"url(#legend36ead0)\"><g class=\"groups\"><g class=\"traces\" transform=\"translate(0,14.5)\" style=\"opacity: 1;\"><text class=\"legendtext\" text-anchor=\"start\" x=\"40\" y=\"4.680000000000001\" style=\"font-family: 'Century Gothic'; font-size: 12px; fill: rgb(42, 63, 95); fill-opacity: 1; white-space: pre;\">Drinks</text><g class=\"layers\" style=\"opacity: 1;\"><g class=\"legendfill\"/><g class=\"legendlines\"/><g class=\"legendsymbols\"><g class=\"legendpoints\"><path class=\"legendpie\" d=\"M6,6H-6V-6H6Z\" transform=\"translate(20,0)\" style=\"stroke-width: 0; fill: rgb(99, 110, 250); fill-opacity: 1; stroke: rgb(68, 68, 68); stroke-opacity: 1;\"/></g></g></g><rect class=\"legendtoggle\" x=\"0\" y=\"-9.5\" width=\"135.625\" height=\"19\" style=\"fill: rgb(0, 0, 0); fill-opacity: 0;\"/></g><g class=\"traces\" transform=\"translate(0,33.5)\" style=\"opacity: 1;\"><text class=\"legendtext\" text-anchor=\"start\" x=\"40\" y=\"4.680000000000001\" style=\"font-family: 'Century Gothic'; font-size: 12px; fill: rgb(42, 63, 95); fill-opacity: 1; white-space: pre;\">Snacks</text><g class=\"layers\" style=\"opacity: 1;\"><g class=\"legendfill\"/><g class=\"legendlines\"/><g class=\"legendsymbols\"><g class=\"legendpoints\"><path class=\"legendpie\" d=\"M6,6H-6V-6H6Z\" transform=\"translate(20,0)\" style=\"stroke-width: 0; fill: rgb(239, 85, 59); fill-opacity: 1; stroke: rgb(68, 68, 68); stroke-opacity: 1;\"/></g></g></g><rect class=\"legendtoggle\" x=\"0\" y=\"-9.5\" width=\"135.625\" height=\"19\" style=\"fill: rgb(0, 0, 0); fill-opacity: 0;\"/></g><g class=\"traces\" transform=\"translate(0,52.5)\" style=\"opacity: 1;\"><text class=\"legendtext\" text-anchor=\"start\" x=\"40\" y=\"4.680000000000001\" style=\"font-family: 'Century Gothic'; font-size: 12px; fill: rgb(42, 63, 95); fill-opacity: 1; white-space: pre;\">Ingredients</text><g class=\"layers\" style=\"opacity: 1;\"><g class=\"legendfill\"/><g class=\"legendlines\"/><g class=\"legendsymbols\"><g class=\"legendpoints\"><path class=\"legendpie\" d=\"M6,6H-6V-6H6Z\" transform=\"translate(20,0)\" style=\"stroke-width: 0; fill: rgb(0, 204, 150); fill-opacity: 1; stroke: rgb(68, 68, 68); stroke-opacity: 1;\"/></g></g></g><rect class=\"legendtoggle\" x=\"0\" y=\"-9.5\" width=\"135.625\" height=\"19\" style=\"fill: rgb(0, 0, 0); fill-opacity: 0;\"/></g><g class=\"traces\" transform=\"translate(0,71.5)\" style=\"opacity: 1;\"><text class=\"legendtext\" text-anchor=\"start\" x=\"40\" y=\"4.680000000000001\" style=\"font-family: 'Century Gothic'; font-size: 12px; fill: rgb(42, 63, 95); fill-opacity: 1; white-space: pre;\">Flavour</text><g class=\"layers\" style=\"opacity: 1;\"><g class=\"legendfill\"/><g class=\"legendlines\"/><g class=\"legendsymbols\"><g class=\"legendpoints\"><path class=\"legendpie\" d=\"M6,6H-6V-6H6Z\" transform=\"translate(20,0)\" style=\"stroke-width: 0; fill: rgb(171, 99, 250); fill-opacity: 1; stroke: rgb(68, 68, 68); stroke-opacity: 1;\"/></g></g></g><rect class=\"legendtoggle\" x=\"0\" y=\"-9.5\" width=\"135.625\" height=\"19\" style=\"fill: rgb(0, 0, 0); fill-opacity: 0;\"/></g><g class=\"traces\" transform=\"translate(0,90.5)\" style=\"opacity: 1;\"><text class=\"legendtext\" text-anchor=\"start\" x=\"40\" y=\"4.680000000000001\" style=\"font-family: 'Century Gothic'; font-size: 12px; fill: rgb(42, 63, 95); fill-opacity: 1; white-space: pre;\">Baked Goods</text><g class=\"layers\" style=\"opacity: 1;\"><g class=\"legendfill\"/><g class=\"legendlines\"/><g class=\"legendsymbols\"><g class=\"legendpoints\"><path class=\"legendpie\" d=\"M6,6H-6V-6H6Z\" transform=\"translate(20,0)\" style=\"stroke-width: 0; fill: rgb(255, 161, 90); fill-opacity: 1; stroke: rgb(68, 68, 68); stroke-opacity: 1;\"/></g></g></g><rect class=\"legendtoggle\" x=\"0\" y=\"-9.5\" width=\"135.625\" height=\"19\" style=\"fill: rgb(0, 0, 0); fill-opacity: 0;\"/></g><g class=\"traces\" transform=\"translate(0,109.5)\" style=\"opacity: 1;\"><text class=\"legendtext\" text-anchor=\"start\" x=\"40\" y=\"4.680000000000001\" style=\"font-family: 'Century Gothic'; font-size: 12px; fill: rgb(42, 63, 95); fill-opacity: 1; white-space: pre;\">Noodles &amp; Pasta</text><g class=\"layers\" style=\"opacity: 1;\"><g class=\"legendfill\"/><g class=\"legendlines\"/><g class=\"legendsymbols\"><g class=\"legendpoints\"><path class=\"legendpie\" d=\"M6,6H-6V-6H6Z\" transform=\"translate(20,0)\" style=\"stroke-width: 0; fill: rgb(25, 211, 243); fill-opacity: 1; stroke: rgb(68, 68, 68); stroke-opacity: 1;\"/></g></g></g><rect class=\"legendtoggle\" x=\"0\" y=\"-9.5\" width=\"135.625\" height=\"19\" style=\"fill: rgb(0, 0, 0); fill-opacity: 0;\"/></g><g class=\"traces\" transform=\"translate(0,128.5)\" style=\"opacity: 1;\"><text class=\"legendtext\" text-anchor=\"start\" x=\"40\" y=\"4.680000000000001\" style=\"font-family: 'Century Gothic'; font-size: 12px; fill: rgb(42, 63, 95); fill-opacity: 1; white-space: pre;\">Pet Food</text><g class=\"layers\" style=\"opacity: 1;\"><g class=\"legendfill\"/><g class=\"legendlines\"/><g class=\"legendsymbols\"><g class=\"legendpoints\"><path class=\"legendpie\" d=\"M6,6H-6V-6H6Z\" transform=\"translate(20,0)\" style=\"stroke-width: 0; fill: rgb(255, 102, 146); fill-opacity: 1; stroke: rgb(68, 68, 68); stroke-opacity: 1;\"/></g></g></g><rect class=\"legendtoggle\" x=\"0\" y=\"-9.5\" width=\"135.625\" height=\"19\" style=\"fill: rgb(0, 0, 0); fill-opacity: 0;\"/></g></g></g><rect class=\"scrollbar\" rx=\"20\" ry=\"3\" width=\"0\" height=\"0\" style=\"fill: rgb(128, 139, 164); fill-opacity: 1;\" x=\"0\" y=\"0\"/></g><g class=\"g-gtitle\"><text class=\"gtitle\" x=\"25\" y=\"17.5\" text-anchor=\"start\" dy=\"0em\" style=\"font-family: 'Century Gothic'; font-size: 17px; fill: rgb(42, 63, 95); opacity: 1; font-weight: normal; white-space: pre;\">Frequency of topics</text></g></g></svg>"
      ]
     },
     "metadata": {},
     "output_type": "display_data"
    },
    {
     "data": {
      "image/svg+xml": [
       "<svg class=\"main-svg\" xmlns=\"http://www.w3.org/2000/svg\" xmlns:xlink=\"http://www.w3.org/1999/xlink\" width=\"700\" height=\"500\" style=\"\" viewBox=\"0 0 700 500\"><rect x=\"0\" y=\"0\" width=\"700\" height=\"500\" style=\"fill: rgb(255, 255, 255); fill-opacity: 1;\"/><defs id=\"defs-a52840\"><g class=\"clips\"><clipPath id=\"clipa52840xyplot\" class=\"plotclip\"><rect width=\"537\" height=\"266\"/></clipPath><clipPath class=\"axesclip\" id=\"clipa52840x\"><rect x=\"51\" y=\"0\" width=\"537\" height=\"500\"/></clipPath><clipPath class=\"axesclip\" id=\"clipa52840y\"><rect x=\"0\" y=\"167\" width=\"700\" height=\"266\"/></clipPath><clipPath class=\"axesclip\" id=\"clipa52840xy\"><rect x=\"51\" y=\"167\" width=\"537\" height=\"266\"/></clipPath></g><g class=\"gradients\"/><g class=\"patterns\"/></defs><g class=\"bglayer\"/><g class=\"layer-below\"><g class=\"imagelayer\"/><g class=\"shapelayer\"/></g><g class=\"cartesianlayer\"><g class=\"subplot xy\"><g class=\"layer-subplot\"><g class=\"shapelayer\"/><g class=\"imagelayer\"/></g><g class=\"minor-gridlayer\"><g class=\"x\"/><g class=\"y\"/></g><g class=\"gridlayer\"><g class=\"x\"/><g class=\"y\"><path class=\"ygrid crisp\" transform=\"translate(0,396.48)\" d=\"M51,0h537\" style=\"stroke: rgb(235, 240, 248); stroke-opacity: 1; stroke-width: 1px;\"/><path class=\"ygrid crisp\" transform=\"translate(0,359.97)\" d=\"M51,0h537\" style=\"stroke: rgb(235, 240, 248); stroke-opacity: 1; stroke-width: 1px;\"/><path class=\"ygrid crisp\" transform=\"translate(0,323.45)\" d=\"M51,0h537\" style=\"stroke: rgb(235, 240, 248); stroke-opacity: 1; stroke-width: 1px;\"/><path class=\"ygrid crisp\" transform=\"translate(0,286.93)\" d=\"M51,0h537\" style=\"stroke: rgb(235, 240, 248); stroke-opacity: 1; stroke-width: 1px;\"/><path class=\"ygrid crisp\" transform=\"translate(0,250.41)\" d=\"M51,0h537\" style=\"stroke: rgb(235, 240, 248); stroke-opacity: 1; stroke-width: 1px;\"/><path class=\"ygrid crisp\" transform=\"translate(0,213.9)\" d=\"M51,0h537\" style=\"stroke: rgb(235, 240, 248); stroke-opacity: 1; stroke-width: 1px;\"/><path class=\"ygrid crisp\" transform=\"translate(0,177.38)\" d=\"M51,0h537\" style=\"stroke: rgb(235, 240, 248); stroke-opacity: 1; stroke-width: 1px;\"/></g></g><g class=\"zerolinelayer\"><path class=\"yzl zl crisp\" transform=\"translate(0,433)\" d=\"M51,0h537\" style=\"stroke: rgb(235, 240, 248); stroke-opacity: 1; stroke-width: 2px;\"/></g><path class=\"xlines-below\"/><path class=\"ylines-below\"/><g class=\"overlines-below\"/><g class=\"xaxislayer-below\"/><g class=\"yaxislayer-below\"/><g class=\"overaxes-below\"/><g class=\"plot\" transform=\"translate(51,167)\" clip-path=\"url(#clipa52840xyplot)\"><g class=\"barlayer mlayer\"><g class=\"trace bars\" style=\"opacity: 1;\"><g class=\"points\"><g class=\"point\"><path d=\"M34.75,266V244.09H38.36V266Z\" style=\"vector-effect: none; opacity: 1; stroke-width: 0.5px; fill: rgb(99, 110, 250); fill-opacity: 1; stroke: rgb(255, 255, 255); stroke-opacity: 1;\"/></g><g class=\"point\"><path d=\"M66.34,266V256.51H69.95V266Z\" style=\"vector-effect: none; opacity: 1; stroke-width: 0.5px; fill: rgb(99, 110, 250); fill-opacity: 1; stroke: rgb(255, 255, 255); stroke-opacity: 1;\"/></g><g class=\"point\"><path d=\"M97.92,266V243.36H101.53V266Z\" style=\"vector-effect: none; opacity: 1; stroke-width: 0.5px; fill: rgb(99, 110, 250); fill-opacity: 1; stroke: rgb(255, 255, 255); stroke-opacity: 1;\"/></g><g class=\"point\"><path d=\"M129.51,266V255.04H133.12V266Z\" style=\"vector-effect: none; opacity: 1; stroke-width: 0.5px; fill: rgb(99, 110, 250); fill-opacity: 1; stroke: rgb(255, 255, 255); stroke-opacity: 1;\"/></g><g class=\"point\"><path d=\"M161.1,266V254.31H164.71V266Z\" style=\"vector-effect: none; opacity: 1; stroke-width: 0.5px; fill: rgb(99, 110, 250); fill-opacity: 1; stroke: rgb(255, 255, 255); stroke-opacity: 1;\"/></g><g class=\"point\"><path d=\"M192.69,266V260.16H196.3V266Z\" style=\"vector-effect: none; opacity: 1; stroke-width: 0.5px; fill: rgb(99, 110, 250); fill-opacity: 1; stroke: rgb(255, 255, 255); stroke-opacity: 1;\"/></g><g class=\"point\"><path d=\"M224.28,266V243.36H227.89V266Z\" style=\"vector-effect: none; opacity: 1; stroke-width: 0.5px; fill: rgb(99, 110, 250); fill-opacity: 1; stroke: rgb(255, 255, 255); stroke-opacity: 1;\"/></g><g class=\"point\"><path d=\"M255.86,266V220.72H259.47V266Z\" style=\"vector-effect: none; opacity: 1; stroke-width: 0.5px; fill: rgb(99, 110, 250); fill-opacity: 1; stroke: rgb(255, 255, 255); stroke-opacity: 1;\"/></g><g class=\"point\"><path d=\"M287.45,266V178.36H291.06V266Z\" style=\"vector-effect: none; opacity: 1; stroke-width: 0.5px; fill: rgb(99, 110, 250); fill-opacity: 1; stroke: rgb(255, 255, 255); stroke-opacity: 1;\"/></g><g class=\"point\"><path d=\"M319.04,266V221.45H322.65V266Z\" style=\"vector-effect: none; opacity: 1; stroke-width: 0.5px; fill: rgb(99, 110, 250); fill-opacity: 1; stroke: rgb(255, 255, 255); stroke-opacity: 1;\"/></g><g class=\"point\"><path d=\"M350.63,266V192.97H354.24V266Z\" style=\"vector-effect: none; opacity: 1; stroke-width: 0.5px; fill: rgb(99, 110, 250); fill-opacity: 1; stroke: rgb(255, 255, 255); stroke-opacity: 1;\"/></g><g class=\"point\"><path d=\"M382.22,266V230.94H385.83V266Z\" style=\"vector-effect: none; opacity: 1; stroke-width: 0.5px; fill: rgb(99, 110, 250); fill-opacity: 1; stroke: rgb(255, 255, 255); stroke-opacity: 1;\"/></g><g class=\"point\"><path d=\"M413.81,266V135.27H417.42V266Z\" style=\"vector-effect: none; opacity: 1; stroke-width: 0.5px; fill: rgb(99, 110, 250); fill-opacity: 1; stroke: rgb(255, 255, 255); stroke-opacity: 1;\"/></g><g class=\"point\"><path d=\"M445.39,266V13.3H449V266Z\" style=\"vector-effect: none; opacity: 1; stroke-width: 0.5px; fill: rgb(99, 110, 250); fill-opacity: 1; stroke: rgb(255, 255, 255); stroke-opacity: 1;\"/></g><g class=\"point\"><path d=\"M476.98,266V74.65H480.59V266Z\" style=\"vector-effect: none; opacity: 1; stroke-width: 0.5px; fill: rgb(99, 110, 250); fill-opacity: 1; stroke: rgb(255, 255, 255); stroke-opacity: 1;\"/></g><g class=\"point\"><path d=\"M508.57,266V141.11H512.18V266Z\" style=\"vector-effect: none; opacity: 1; stroke-width: 0.5px; fill: rgb(99, 110, 250); fill-opacity: 1; stroke: rgb(255, 255, 255); stroke-opacity: 1;\"/></g></g></g><g class=\"trace bars\" style=\"opacity: 1;\"><g class=\"points\"><g class=\"point\"><path d=\"M6.77,266V264.54H10.38V266Z\" style=\"vector-effect: none; opacity: 1; stroke-width: 0.5px; fill: rgb(239, 85, 59); fill-opacity: 1; stroke: rgb(255, 255, 255); stroke-opacity: 1;\"/></g><g class=\"point\"><path d=\"M38.36,266V247.01H41.97V266Z\" style=\"vector-effect: none; opacity: 1; stroke-width: 0.5px; fill: rgb(239, 85, 59); fill-opacity: 1; stroke: rgb(255, 255, 255); stroke-opacity: 1;\"/></g><g class=\"point\"><path d=\"M69.95,266V258.7H73.56V266Z\" style=\"vector-effect: none; opacity: 1; stroke-width: 0.5px; fill: rgb(239, 85, 59); fill-opacity: 1; stroke: rgb(255, 255, 255); stroke-opacity: 1;\"/></g><g class=\"point\"><path d=\"M101.53,266V254.31H105.14V266Z\" style=\"vector-effect: none; opacity: 1; stroke-width: 0.5px; fill: rgb(239, 85, 59); fill-opacity: 1; stroke: rgb(255, 255, 255); stroke-opacity: 1;\"/></g><g class=\"point\"><path d=\"M133.12,266V251.39H136.73V266Z\" style=\"vector-effect: none; opacity: 1; stroke-width: 0.5px; fill: rgb(239, 85, 59); fill-opacity: 1; stroke: rgb(255, 255, 255); stroke-opacity: 1;\"/></g><g class=\"point\"><path d=\"M164.71,266V255.78H168.32V266Z\" style=\"vector-effect: none; opacity: 1; stroke-width: 0.5px; fill: rgb(239, 85, 59); fill-opacity: 1; stroke: rgb(255, 255, 255); stroke-opacity: 1;\"/></g><g class=\"point\"><path d=\"M196.3,266V260.16H199.91V266Z\" style=\"vector-effect: none; opacity: 1; stroke-width: 0.5px; fill: rgb(239, 85, 59); fill-opacity: 1; stroke: rgb(255, 255, 255); stroke-opacity: 1;\"/></g><g class=\"point\"><path d=\"M227.89,266V247.01H231.5V266Z\" style=\"vector-effect: none; opacity: 1; stroke-width: 0.5px; fill: rgb(239, 85, 59); fill-opacity: 1; stroke: rgb(255, 255, 255); stroke-opacity: 1;\"/></g><g class=\"point\"><path d=\"M259.47,266V241.9H263.08V266Z\" style=\"vector-effect: none; opacity: 1; stroke-width: 0.5px; fill: rgb(239, 85, 59); fill-opacity: 1; stroke: rgb(255, 255, 255); stroke-opacity: 1;\"/></g><g class=\"point\"><path d=\"M291.06,266V208.3H294.67V266Z\" style=\"vector-effect: none; opacity: 1; stroke-width: 0.5px; fill: rgb(239, 85, 59); fill-opacity: 1; stroke: rgb(255, 255, 255); stroke-opacity: 1;\"/></g><g class=\"point\"><path d=\"M322.65,266V242.63H326.26V266Z\" style=\"vector-effect: none; opacity: 1; stroke-width: 0.5px; fill: rgb(239, 85, 59); fill-opacity: 1; stroke: rgb(255, 255, 255); stroke-opacity: 1;\"/></g><g class=\"point\"><path d=\"M354.24,266V209.76H357.85V266Z\" style=\"vector-effect: none; opacity: 1; stroke-width: 0.5px; fill: rgb(239, 85, 59); fill-opacity: 1; stroke: rgb(255, 255, 255); stroke-opacity: 1;\"/></g><g class=\"point\"><path d=\"M385.83,266V230.21H389.44V266Z\" style=\"vector-effect: none; opacity: 1; stroke-width: 0.5px; fill: rgb(239, 85, 59); fill-opacity: 1; stroke: rgb(255, 255, 255); stroke-opacity: 1;\"/></g><g class=\"point\"><path d=\"M417.42,266V167.4H421.03V266Z\" style=\"vector-effect: none; opacity: 1; stroke-width: 0.5px; fill: rgb(239, 85, 59); fill-opacity: 1; stroke: rgb(255, 255, 255); stroke-opacity: 1;\"/></g><g class=\"point\"><path d=\"M449,266V103.86H452.61V266Z\" style=\"vector-effect: none; opacity: 1; stroke-width: 0.5px; fill: rgb(239, 85, 59); fill-opacity: 1; stroke: rgb(255, 255, 255); stroke-opacity: 1;\"/></g><g class=\"point\"><path d=\"M480.59,266V104.59H484.2V266Z\" style=\"vector-effect: none; opacity: 1; stroke-width: 0.5px; fill: rgb(239, 85, 59); fill-opacity: 1; stroke: rgb(255, 255, 255); stroke-opacity: 1;\"/></g><g class=\"point\"><path d=\"M512.18,266V177.63H515.79V266Z\" style=\"vector-effect: none; opacity: 1; stroke-width: 0.5px; fill: rgb(239, 85, 59); fill-opacity: 1; stroke: rgb(255, 255, 255); stroke-opacity: 1;\"/></g></g></g><g class=\"trace bars\" style=\"opacity: 1;\"><g class=\"points\"><g class=\"point\"><path d=\"M10.38,266V263.08H13.99V266Z\" style=\"vector-effect: none; opacity: 1; stroke-width: 0.5px; fill: rgb(0, 204, 150); fill-opacity: 1; stroke: rgb(255, 255, 255); stroke-opacity: 1;\"/></g><g class=\"point\"><path d=\"M41.97,266V242.63H45.58V266Z\" style=\"vector-effect: none; opacity: 1; stroke-width: 0.5px; fill: rgb(0, 204, 150); fill-opacity: 1; stroke: rgb(255, 255, 255); stroke-opacity: 1;\"/></g><g class=\"point\"><path d=\"M73.56,266V255.04H77.17V266Z\" style=\"vector-effect: none; opacity: 1; stroke-width: 0.5px; fill: rgb(0, 204, 150); fill-opacity: 1; stroke: rgb(255, 255, 255); stroke-opacity: 1;\"/></g><g class=\"point\"><path d=\"M105.14,266V248.47H108.75V266Z\" style=\"vector-effect: none; opacity: 1; stroke-width: 0.5px; fill: rgb(0, 204, 150); fill-opacity: 1; stroke: rgb(255, 255, 255); stroke-opacity: 1;\"/></g><g class=\"point\"><path d=\"M136.73,266V252.12H140.34V266Z\" style=\"vector-effect: none; opacity: 1; stroke-width: 0.5px; fill: rgb(0, 204, 150); fill-opacity: 1; stroke: rgb(255, 255, 255); stroke-opacity: 1;\"/></g><g class=\"point\"><path d=\"M168.32,266V257.24H171.93V266Z\" style=\"vector-effect: none; opacity: 1; stroke-width: 0.5px; fill: rgb(0, 204, 150); fill-opacity: 1; stroke: rgb(255, 255, 255); stroke-opacity: 1;\"/></g><g class=\"point\"><path d=\"M199.91,266V259.43H203.52V266Z\" style=\"vector-effect: none; opacity: 1; stroke-width: 0.5px; fill: rgb(0, 204, 150); fill-opacity: 1; stroke: rgb(255, 255, 255); stroke-opacity: 1;\"/></g><g class=\"point\"><path d=\"M231.5,266V248.47H235.11V266Z\" style=\"vector-effect: none; opacity: 1; stroke-width: 0.5px; fill: rgb(0, 204, 150); fill-opacity: 1; stroke: rgb(255, 255, 255); stroke-opacity: 1;\"/></g><g class=\"point\"><path d=\"M263.08,266V238.25H266.69V266Z\" style=\"vector-effect: none; opacity: 1; stroke-width: 0.5px; fill: rgb(0, 204, 150); fill-opacity: 1; stroke: rgb(255, 255, 255); stroke-opacity: 1;\"/></g><g class=\"point\"><path d=\"M294.67,266V187.85H298.28V266Z\" style=\"vector-effect: none; opacity: 1; stroke-width: 0.5px; fill: rgb(0, 204, 150); fill-opacity: 1; stroke: rgb(255, 255, 255); stroke-opacity: 1;\"/></g><g class=\"point\"><path d=\"M326.26,266V229.48H329.87V266Z\" style=\"vector-effect: none; opacity: 1; stroke-width: 0.5px; fill: rgb(0, 204, 150); fill-opacity: 1; stroke: rgb(255, 255, 255); stroke-opacity: 1;\"/></g><g class=\"point\"><path d=\"M357.85,266V205.38H361.46V266Z\" style=\"vector-effect: none; opacity: 1; stroke-width: 0.5px; fill: rgb(0, 204, 150); fill-opacity: 1; stroke: rgb(255, 255, 255); stroke-opacity: 1;\"/></g><g class=\"point\"><path d=\"M389.44,266V236.06H393.05V266Z\" style=\"vector-effect: none; opacity: 1; stroke-width: 0.5px; fill: rgb(0, 204, 150); fill-opacity: 1; stroke: rgb(255, 255, 255); stroke-opacity: 1;\"/></g><g class=\"point\"><path d=\"M421.03,266V163.02H424.64V266Z\" style=\"vector-effect: none; opacity: 1; stroke-width: 0.5px; fill: rgb(0, 204, 150); fill-opacity: 1; stroke: rgb(255, 255, 255); stroke-opacity: 1;\"/></g><g class=\"point\"><path d=\"M452.61,266V105.32H456.22V266Z\" style=\"vector-effect: none; opacity: 1; stroke-width: 0.5px; fill: rgb(0, 204, 150); fill-opacity: 1; stroke: rgb(255, 255, 255); stroke-opacity: 1;\"/></g><g class=\"point\"><path d=\"M484.2,266V117.01H487.81V266Z\" style=\"vector-effect: none; opacity: 1; stroke-width: 0.5px; fill: rgb(0, 204, 150); fill-opacity: 1; stroke: rgb(255, 255, 255); stroke-opacity: 1;\"/></g><g class=\"point\"><path d=\"M515.79,266V154.26H519.4V266Z\" style=\"vector-effect: none; opacity: 1; stroke-width: 0.5px; fill: rgb(0, 204, 150); fill-opacity: 1; stroke: rgb(255, 255, 255); stroke-opacity: 1;\"/></g></g></g><g class=\"trace bars\" style=\"opacity: 1;\"><g class=\"points\"><g class=\"point\"><path d=\"M45.58,266V256.51H49.19V266Z\" style=\"vector-effect: none; opacity: 1; stroke-width: 0.5px; fill: rgb(171, 99, 250); fill-opacity: 1; stroke: rgb(255, 255, 255); stroke-opacity: 1;\"/></g><g class=\"point\"><path d=\"M77.17,266V261.62H80.78V266Z\" style=\"vector-effect: none; opacity: 1; stroke-width: 0.5px; fill: rgb(171, 99, 250); fill-opacity: 1; stroke: rgb(255, 255, 255); stroke-opacity: 1;\"/></g><g class=\"point\"><path d=\"M108.75,266V257.97H112.36V266Z\" style=\"vector-effect: none; opacity: 1; stroke-width: 0.5px; fill: rgb(171, 99, 250); fill-opacity: 1; stroke: rgb(255, 255, 255); stroke-opacity: 1;\"/></g><g class=\"point\"><path d=\"M140.34,266V260.16H143.95V266Z\" style=\"vector-effect: none; opacity: 1; stroke-width: 0.5px; fill: rgb(171, 99, 250); fill-opacity: 1; stroke: rgb(255, 255, 255); stroke-opacity: 1;\"/></g><g class=\"point\"><path d=\"M171.93,266V260.89H175.54V266Z\" style=\"vector-effect: none; opacity: 1; stroke-width: 0.5px; fill: rgb(171, 99, 250); fill-opacity: 1; stroke: rgb(255, 255, 255); stroke-opacity: 1;\"/></g><g class=\"point\"><path d=\"M203.52,266V260.89H207.13V266Z\" style=\"vector-effect: none; opacity: 1; stroke-width: 0.5px; fill: rgb(171, 99, 250); fill-opacity: 1; stroke: rgb(255, 255, 255); stroke-opacity: 1;\"/></g><g class=\"point\"><path d=\"M235.11,266V255.78H238.72V266Z\" style=\"vector-effect: none; opacity: 1; stroke-width: 0.5px; fill: rgb(171, 99, 250); fill-opacity: 1; stroke: rgb(255, 255, 255); stroke-opacity: 1;\"/></g><g class=\"point\"><path d=\"M266.69,266V251.39H270.31V266Z\" style=\"vector-effect: none; opacity: 1; stroke-width: 0.5px; fill: rgb(171, 99, 250); fill-opacity: 1; stroke: rgb(255, 255, 255); stroke-opacity: 1;\"/></g><g class=\"point\"><path d=\"M298.28,266V225.1H301.89V266Z\" style=\"vector-effect: none; opacity: 1; stroke-width: 0.5px; fill: rgb(171, 99, 250); fill-opacity: 1; stroke: rgb(255, 255, 255); stroke-opacity: 1;\"/></g><g class=\"point\"><path d=\"M329.87,266V244.82H333.48V266Z\" style=\"vector-effect: none; opacity: 1; stroke-width: 0.5px; fill: rgb(171, 99, 250); fill-opacity: 1; stroke: rgb(255, 255, 255); stroke-opacity: 1;\"/></g><g class=\"point\"><path d=\"M361.46,266V225.83H365.07V266Z\" style=\"vector-effect: none; opacity: 1; stroke-width: 0.5px; fill: rgb(171, 99, 250); fill-opacity: 1; stroke: rgb(255, 255, 255); stroke-opacity: 1;\"/></g><g class=\"point\"><path d=\"M393.05,266V246.28H396.66V266Z\" style=\"vector-effect: none; opacity: 1; stroke-width: 0.5px; fill: rgb(171, 99, 250); fill-opacity: 1; stroke: rgb(255, 255, 255); stroke-opacity: 1;\"/></g><g class=\"point\"><path d=\"M424.64,266V181.28H428.25V266Z\" style=\"vector-effect: none; opacity: 1; stroke-width: 0.5px; fill: rgb(171, 99, 250); fill-opacity: 1; stroke: rgb(255, 255, 255); stroke-opacity: 1;\"/></g><g class=\"point\"><path d=\"M456.22,266V153.53H459.83V266Z\" style=\"vector-effect: none; opacity: 1; stroke-width: 0.5px; fill: rgb(171, 99, 250); fill-opacity: 1; stroke: rgb(255, 255, 255); stroke-opacity: 1;\"/></g><g class=\"point\"><path d=\"M487.81,266V155.72H491.42V266Z\" style=\"vector-effect: none; opacity: 1; stroke-width: 0.5px; fill: rgb(171, 99, 250); fill-opacity: 1; stroke: rgb(255, 255, 255); stroke-opacity: 1;\"/></g><g class=\"point\"><path d=\"M519.4,266V192.23H523.01V266Z\" style=\"vector-effect: none; opacity: 1; stroke-width: 0.5px; fill: rgb(171, 99, 250); fill-opacity: 1; stroke: rgb(255, 255, 255); stroke-opacity: 1;\"/></g></g></g><g class=\"trace bars\" style=\"opacity: 1;\"><g class=\"points\"><g class=\"point\"><path d=\"M17.6,266V265.27H21.21V266Z\" style=\"vector-effect: none; opacity: 1; stroke-width: 0.5px; fill: rgb(255, 161, 90); fill-opacity: 1; stroke: rgb(255, 255, 255); stroke-opacity: 1;\"/></g><g class=\"point\"><path d=\"M80.78,266V264.54H84.39V266Z\" style=\"vector-effect: none; opacity: 1; stroke-width: 0.5px; fill: rgb(255, 161, 90); fill-opacity: 1; stroke: rgb(255, 255, 255); stroke-opacity: 1;\"/></g><g class=\"point\"><path d=\"M112.36,266V264.54H115.97V266Z\" style=\"vector-effect: none; opacity: 1; stroke-width: 0.5px; fill: rgb(255, 161, 90); fill-opacity: 1; stroke: rgb(255, 255, 255); stroke-opacity: 1;\"/></g><g class=\"point\"><path d=\"M143.95,266V264.54H147.56V266Z\" style=\"vector-effect: none; opacity: 1; stroke-width: 0.5px; fill: rgb(255, 161, 90); fill-opacity: 1; stroke: rgb(255, 255, 255); stroke-opacity: 1;\"/></g><g class=\"point\"><path d=\"M175.54,266V263.08H179.15V266Z\" style=\"vector-effect: none; opacity: 1; stroke-width: 0.5px; fill: rgb(255, 161, 90); fill-opacity: 1; stroke: rgb(255, 255, 255); stroke-opacity: 1;\"/></g><g class=\"point\"><path d=\"M270.31,266V261.62H273.92V266Z\" style=\"vector-effect: none; opacity: 1; stroke-width: 0.5px; fill: rgb(255, 161, 90); fill-opacity: 1; stroke: rgb(255, 255, 255); stroke-opacity: 1;\"/></g><g class=\"point\"><path d=\"M301.89,266V252.85H305.5V266Z\" style=\"vector-effect: none; opacity: 1; stroke-width: 0.5px; fill: rgb(255, 161, 90); fill-opacity: 1; stroke: rgb(255, 255, 255); stroke-opacity: 1;\"/></g><g class=\"point\"><path d=\"M333.48,266V259.43H337.09V266Z\" style=\"vector-effect: none; opacity: 1; stroke-width: 0.5px; fill: rgb(255, 161, 90); fill-opacity: 1; stroke: rgb(255, 255, 255); stroke-opacity: 1;\"/></g><g class=\"point\"><path d=\"M365.07,266V255.78H368.68V266Z\" style=\"vector-effect: none; opacity: 1; stroke-width: 0.5px; fill: rgb(255, 161, 90); fill-opacity: 1; stroke: rgb(255, 255, 255); stroke-opacity: 1;\"/></g><g class=\"point\"><path d=\"M396.66,266V260.16H400.27V266Z\" style=\"vector-effect: none; opacity: 1; stroke-width: 0.5px; fill: rgb(255, 161, 90); fill-opacity: 1; stroke: rgb(255, 255, 255); stroke-opacity: 1;\"/></g><g class=\"point\"><path d=\"M428.25,266V243.36H431.86V266Z\" style=\"vector-effect: none; opacity: 1; stroke-width: 0.5px; fill: rgb(255, 161, 90); fill-opacity: 1; stroke: rgb(255, 255, 255); stroke-opacity: 1;\"/></g><g class=\"point\"><path d=\"M459.83,266V225.1H463.44V266Z\" style=\"vector-effect: none; opacity: 1; stroke-width: 0.5px; fill: rgb(255, 161, 90); fill-opacity: 1; stroke: rgb(255, 255, 255); stroke-opacity: 1;\"/></g><g class=\"point\"><path d=\"M491.42,266V225.83H495.03V266Z\" style=\"vector-effect: none; opacity: 1; stroke-width: 0.5px; fill: rgb(255, 161, 90); fill-opacity: 1; stroke: rgb(255, 255, 255); stroke-opacity: 1;\"/></g><g class=\"point\"><path d=\"M523.01,266V247.01H526.62V266Z\" style=\"vector-effect: none; opacity: 1; stroke-width: 0.5px; fill: rgb(255, 161, 90); fill-opacity: 1; stroke: rgb(255, 255, 255); stroke-opacity: 1;\"/></g></g></g><g class=\"trace bars\" style=\"opacity: 1;\"><g class=\"points\"><g class=\"point\"><path d=\"M21.21,266V265.27H24.82V266Z\" style=\"vector-effect: none; opacity: 1; stroke-width: 0.5px; fill: rgb(25, 211, 243); fill-opacity: 1; stroke: rgb(255, 255, 255); stroke-opacity: 1;\"/></g><g class=\"point\"><path d=\"M52.8,266V262.35H56.41V266Z\" style=\"vector-effect: none; opacity: 1; stroke-width: 0.5px; fill: rgb(25, 211, 243); fill-opacity: 1; stroke: rgb(255, 255, 255); stroke-opacity: 1;\"/></g><g class=\"point\"><path d=\"M84.39,266V265.27H88V266Z\" style=\"vector-effect: none; opacity: 1; stroke-width: 0.5px; fill: rgb(25, 211, 243); fill-opacity: 1; stroke: rgb(255, 255, 255); stroke-opacity: 1;\"/></g><g class=\"point\"><path d=\"M115.97,266V263.08H119.58V266Z\" style=\"vector-effect: none; opacity: 1; stroke-width: 0.5px; fill: rgb(25, 211, 243); fill-opacity: 1; stroke: rgb(255, 255, 255); stroke-opacity: 1;\"/></g><g class=\"point\"><path d=\"M147.56,266V263.08H151.17V266Z\" style=\"vector-effect: none; opacity: 1; stroke-width: 0.5px; fill: rgb(25, 211, 243); fill-opacity: 1; stroke: rgb(255, 255, 255); stroke-opacity: 1;\"/></g><g class=\"point\"><path d=\"M179.15,266V265.27H182.76V266Z\" style=\"vector-effect: none; opacity: 1; stroke-width: 0.5px; fill: rgb(25, 211, 243); fill-opacity: 1; stroke: rgb(255, 255, 255); stroke-opacity: 1;\"/></g><g class=\"point\"><path d=\"M210.74,266V265.27H214.35V266Z\" style=\"vector-effect: none; opacity: 1; stroke-width: 0.5px; fill: rgb(25, 211, 243); fill-opacity: 1; stroke: rgb(255, 255, 255); stroke-opacity: 1;\"/></g><g class=\"point\"><path d=\"M242.33,266V263.08H245.94V266Z\" style=\"vector-effect: none; opacity: 1; stroke-width: 0.5px; fill: rgb(25, 211, 243); fill-opacity: 1; stroke: rgb(255, 255, 255); stroke-opacity: 1;\"/></g><g class=\"point\"><path d=\"M273.92,266V255.04H277.53V266Z\" style=\"vector-effect: none; opacity: 1; stroke-width: 0.5px; fill: rgb(25, 211, 243); fill-opacity: 1; stroke: rgb(255, 255, 255); stroke-opacity: 1;\"/></g><g class=\"point\"><path d=\"M305.5,266V248.47H309.11V266Z\" style=\"vector-effect: none; opacity: 1; stroke-width: 0.5px; fill: rgb(25, 211, 243); fill-opacity: 1; stroke: rgb(255, 255, 255); stroke-opacity: 1;\"/></g><g class=\"point\"><path d=\"M337.09,266V260.89H340.7V266Z\" style=\"vector-effect: none; opacity: 1; stroke-width: 0.5px; fill: rgb(25, 211, 243); fill-opacity: 1; stroke: rgb(255, 255, 255); stroke-opacity: 1;\"/></g><g class=\"point\"><path d=\"M368.68,266V252.85H372.29V266Z\" style=\"vector-effect: none; opacity: 1; stroke-width: 0.5px; fill: rgb(25, 211, 243); fill-opacity: 1; stroke: rgb(255, 255, 255); stroke-opacity: 1;\"/></g><g class=\"point\"><path d=\"M400.27,266V255.78H403.88V266Z\" style=\"vector-effect: none; opacity: 1; stroke-width: 0.5px; fill: rgb(25, 211, 243); fill-opacity: 1; stroke: rgb(255, 255, 255); stroke-opacity: 1;\"/></g><g class=\"point\"><path d=\"M431.86,266V240.44H435.47V266Z\" style=\"vector-effect: none; opacity: 1; stroke-width: 0.5px; fill: rgb(25, 211, 243); fill-opacity: 1; stroke: rgb(255, 255, 255); stroke-opacity: 1;\"/></g><g class=\"point\"><path d=\"M463.44,266V219.99H467.05V266Z\" style=\"vector-effect: none; opacity: 1; stroke-width: 0.5px; fill: rgb(25, 211, 243); fill-opacity: 1; stroke: rgb(255, 255, 255); stroke-opacity: 1;\"/></g><g class=\"point\"><path d=\"M495.03,266V224.37H498.64V266Z\" style=\"vector-effect: none; opacity: 1; stroke-width: 0.5px; fill: rgb(25, 211, 243); fill-opacity: 1; stroke: rgb(255, 255, 255); stroke-opacity: 1;\"/></g><g class=\"point\"><path d=\"M526.62,266V241.17H530.23V266Z\" style=\"vector-effect: none; opacity: 1; stroke-width: 0.5px; fill: rgb(25, 211, 243); fill-opacity: 1; stroke: rgb(255, 255, 255); stroke-opacity: 1;\"/></g></g></g><g class=\"trace bars\" style=\"opacity: 1;\"><g class=\"points\"><g class=\"point\"><path d=\"M56.41,266V262.35H60.02V266Z\" style=\"vector-effect: none; opacity: 1; stroke-width: 0.5px; fill: rgb(255, 102, 146); fill-opacity: 1; stroke: rgb(255, 255, 255); stroke-opacity: 1;\"/></g><g class=\"point\"><path d=\"M88,266V265.27H91.61V266Z\" style=\"vector-effect: none; opacity: 1; stroke-width: 0.5px; fill: rgb(255, 102, 146); fill-opacity: 1; stroke: rgb(255, 255, 255); stroke-opacity: 1;\"/></g><g class=\"point\"><path d=\"M119.58,266V264.54H123.19V266Z\" style=\"vector-effect: none; opacity: 1; stroke-width: 0.5px; fill: rgb(255, 102, 146); fill-opacity: 1; stroke: rgb(255, 255, 255); stroke-opacity: 1;\"/></g><g class=\"point\"><path d=\"M151.17,266V264.54H154.78V266Z\" style=\"vector-effect: none; opacity: 1; stroke-width: 0.5px; fill: rgb(255, 102, 146); fill-opacity: 1; stroke: rgb(255, 255, 255); stroke-opacity: 1;\"/></g><g class=\"point\"><path d=\"M182.76,266V263.08H186.37V266Z\" style=\"vector-effect: none; opacity: 1; stroke-width: 0.5px; fill: rgb(255, 102, 146); fill-opacity: 1; stroke: rgb(255, 255, 255); stroke-opacity: 1;\"/></g><g class=\"point\"><path d=\"M245.94,266V263.08H249.55V266Z\" style=\"vector-effect: none; opacity: 1; stroke-width: 0.5px; fill: rgb(255, 102, 146); fill-opacity: 1; stroke: rgb(255, 255, 255); stroke-opacity: 1;\"/></g><g class=\"point\"><path d=\"M277.53,266V257.97H281.14V266Z\" style=\"vector-effect: none; opacity: 1; stroke-width: 0.5px; fill: rgb(255, 102, 146); fill-opacity: 1; stroke: rgb(255, 255, 255); stroke-opacity: 1;\"/></g><g class=\"point\"><path d=\"M309.11,266V245.55H312.72V266Z\" style=\"vector-effect: none; opacity: 1; stroke-width: 0.5px; fill: rgb(255, 102, 146); fill-opacity: 1; stroke: rgb(255, 255, 255); stroke-opacity: 1;\"/></g><g class=\"point\"><path d=\"M340.7,266V258.7H344.31V266Z\" style=\"vector-effect: none; opacity: 1; stroke-width: 0.5px; fill: rgb(255, 102, 146); fill-opacity: 1; stroke: rgb(255, 255, 255); stroke-opacity: 1;\"/></g><g class=\"point\"><path d=\"M372.29,266V253.58H375.9V266Z\" style=\"vector-effect: none; opacity: 1; stroke-width: 0.5px; fill: rgb(255, 102, 146); fill-opacity: 1; stroke: rgb(255, 255, 255); stroke-opacity: 1;\"/></g><g class=\"point\"><path d=\"M403.88,266V255.78H407.49V266Z\" style=\"vector-effect: none; opacity: 1; stroke-width: 0.5px; fill: rgb(255, 102, 146); fill-opacity: 1; stroke: rgb(255, 255, 255); stroke-opacity: 1;\"/></g><g class=\"point\"><path d=\"M435.47,266V227.29H439.08V266Z\" style=\"vector-effect: none; opacity: 1; stroke-width: 0.5px; fill: rgb(255, 102, 146); fill-opacity: 1; stroke: rgb(255, 255, 255); stroke-opacity: 1;\"/></g><g class=\"point\"><path d=\"M467.05,266V185.66H470.66V266Z\" style=\"vector-effect: none; opacity: 1; stroke-width: 0.5px; fill: rgb(255, 102, 146); fill-opacity: 1; stroke: rgb(255, 255, 255); stroke-opacity: 1;\"/></g><g class=\"point\"><path d=\"M498.64,266V220.72H502.25V266Z\" style=\"vector-effect: none; opacity: 1; stroke-width: 0.5px; fill: rgb(255, 102, 146); fill-opacity: 1; stroke: rgb(255, 255, 255); stroke-opacity: 1;\"/></g><g class=\"point\"><path d=\"M530.23,266V219.26H533.84V266Z\" style=\"vector-effect: none; opacity: 1; stroke-width: 0.5px; fill: rgb(255, 102, 146); fill-opacity: 1; stroke: rgb(255, 255, 255); stroke-opacity: 1;\"/></g></g></g></g></g><g class=\"overplot\"/><path class=\"xlines-above crisp\" d=\"M0,0\" style=\"fill: none;\"/><path class=\"ylines-above crisp\" d=\"M0,0\" style=\"fill: none;\"/><g class=\"overlines-above\"/><g class=\"xaxislayer-above\"><g class=\"xtick\"><text text-anchor=\"start\" x=\"0\" y=\"446\" transform=\"translate(66.78999999999999,0) rotate(30,0,440)\" style=\"font-family: 'Century Gothic'; font-size: 12px; fill: rgb(42, 63, 95); fill-opacity: 1; white-space: pre; opacity: 1;\">2017Q3</text></g><g class=\"xtick\"><text text-anchor=\"start\" x=\"0\" y=\"446\" transform=\"translate(98.38,0) rotate(30,0,440)\" style=\"font-family: 'Century Gothic'; font-size: 12px; fill: rgb(42, 63, 95); fill-opacity: 1; white-space: pre; opacity: 1;\">2018Q1</text></g><g class=\"xtick\"><text text-anchor=\"start\" x=\"0\" y=\"446\" transform=\"translate(129.97,0) rotate(30,0,440)\" style=\"font-family: 'Century Gothic'; font-size: 12px; fill: rgb(42, 63, 95); fill-opacity: 1; white-space: pre; opacity: 1;\">2018Q2</text></g><g class=\"xtick\"><text text-anchor=\"start\" x=\"0\" y=\"446\" transform=\"translate(161.56,0) rotate(30,0,440)\" style=\"font-family: 'Century Gothic'; font-size: 12px; fill: rgb(42, 63, 95); fill-opacity: 1; white-space: pre; opacity: 1;\">2018Q3</text></g><g class=\"xtick\"><text text-anchor=\"start\" x=\"0\" y=\"446\" transform=\"translate(193.15,0) rotate(30,0,440)\" style=\"font-family: 'Century Gothic'; font-size: 12px; fill: rgb(42, 63, 95); fill-opacity: 1; white-space: pre; opacity: 1;\">2018Q4</text></g><g class=\"xtick\"><text text-anchor=\"start\" x=\"0\" y=\"446\" transform=\"translate(224.74,0) rotate(30,0,440)\" style=\"font-family: 'Century Gothic'; font-size: 12px; fill: rgb(42, 63, 95); fill-opacity: 1; white-space: pre; opacity: 1;\">2019Q1</text></g><g class=\"xtick\"><text text-anchor=\"start\" x=\"0\" y=\"446\" transform=\"translate(256.32,0) rotate(30,0,440)\" style=\"font-family: 'Century Gothic'; font-size: 12px; fill: rgb(42, 63, 95); fill-opacity: 1; white-space: pre; opacity: 1;\">2019Q2</text></g><g class=\"xtick\"><text text-anchor=\"start\" x=\"0\" y=\"446\" transform=\"translate(287.90999999999997,0) rotate(30,0,440)\" style=\"font-family: 'Century Gothic'; font-size: 12px; fill: rgb(42, 63, 95); fill-opacity: 1; white-space: pre; opacity: 1;\">2019Q3</text></g><g class=\"xtick\"><text text-anchor=\"start\" x=\"0\" y=\"446\" transform=\"translate(319.5,0) rotate(30,0,440)\" style=\"font-family: 'Century Gothic'; font-size: 12px; fill: rgb(42, 63, 95); fill-opacity: 1; white-space: pre; opacity: 1;\">2019Q4</text></g><g class=\"xtick\"><text text-anchor=\"start\" x=\"0\" y=\"446\" transform=\"translate(351.09,0) rotate(30,0,440)\" style=\"font-family: 'Century Gothic'; font-size: 12px; fill: rgb(42, 63, 95); fill-opacity: 1; white-space: pre; opacity: 1;\">2020Q1</text></g><g class=\"xtick\"><text text-anchor=\"start\" x=\"0\" y=\"446\" transform=\"translate(382.68,0) rotate(30,0,440)\" style=\"font-family: 'Century Gothic'; font-size: 12px; fill: rgb(42, 63, 95); fill-opacity: 1; white-space: pre; opacity: 1;\">2020Q2</text></g><g class=\"xtick\"><text text-anchor=\"start\" x=\"0\" y=\"446\" transform=\"translate(414.26,0) rotate(30,0,440)\" style=\"font-family: 'Century Gothic'; font-size: 12px; fill: rgb(42, 63, 95); fill-opacity: 1; white-space: pre; opacity: 1;\">2020Q3</text></g><g class=\"xtick\"><text text-anchor=\"start\" x=\"0\" y=\"446\" transform=\"translate(445.85,0) rotate(30,0,440)\" style=\"font-family: 'Century Gothic'; font-size: 12px; fill: rgb(42, 63, 95); fill-opacity: 1; white-space: pre; opacity: 1;\">2020Q4</text></g><g class=\"xtick\"><text text-anchor=\"start\" x=\"0\" y=\"446\" transform=\"translate(477.44,0) rotate(30,0,440)\" style=\"font-family: 'Century Gothic'; font-size: 12px; fill: rgb(42, 63, 95); fill-opacity: 1; white-space: pre; opacity: 1;\">2021Q1</text></g><g class=\"xtick\"><text text-anchor=\"start\" x=\"0\" y=\"446\" transform=\"translate(509.03,0) rotate(30,0,440)\" style=\"font-family: 'Century Gothic'; font-size: 12px; fill: rgb(42, 63, 95); fill-opacity: 1; white-space: pre; opacity: 1;\">2021Q2</text></g><g class=\"xtick\"><text text-anchor=\"start\" x=\"0\" y=\"446\" transform=\"translate(540.62,0) rotate(30,0,440)\" style=\"font-family: 'Century Gothic'; font-size: 12px; fill: rgb(42, 63, 95); fill-opacity: 1; white-space: pre; opacity: 1;\">2021Q3</text></g><g class=\"xtick\"><text text-anchor=\"start\" x=\"0\" y=\"446\" transform=\"translate(572.21,0) rotate(30,0,440)\" style=\"font-family: 'Century Gothic'; font-size: 12px; fill: rgb(42, 63, 95); fill-opacity: 1; white-space: pre; opacity: 1;\">2021Q4</text></g></g><g class=\"yaxislayer-above\"><g class=\"ytick\"><text text-anchor=\"end\" x=\"50\" y=\"4.199999999999999\" transform=\"translate(0,433)\" style=\"font-family: 'Century Gothic'; font-size: 12px; fill: rgb(42, 63, 95); fill-opacity: 1; white-space: pre; opacity: 1;\">0</text></g><g class=\"ytick\"><text text-anchor=\"end\" x=\"50\" y=\"4.199999999999999\" style=\"font-family: 'Century Gothic'; font-size: 12px; fill: rgb(42, 63, 95); fill-opacity: 1; white-space: pre; opacity: 1;\" transform=\"translate(0,396.48)\">50</text></g><g class=\"ytick\"><text text-anchor=\"end\" x=\"50\" y=\"4.199999999999999\" style=\"font-family: 'Century Gothic'; font-size: 12px; fill: rgb(42, 63, 95); fill-opacity: 1; white-space: pre; opacity: 1;\" transform=\"translate(0,359.97)\">100</text></g><g class=\"ytick\"><text text-anchor=\"end\" x=\"50\" y=\"4.199999999999999\" style=\"font-family: 'Century Gothic'; font-size: 12px; fill: rgb(42, 63, 95); fill-opacity: 1; white-space: pre; opacity: 1;\" transform=\"translate(0,323.45)\">150</text></g><g class=\"ytick\"><text text-anchor=\"end\" x=\"50\" y=\"4.199999999999999\" style=\"font-family: 'Century Gothic'; font-size: 12px; fill: rgb(42, 63, 95); fill-opacity: 1; white-space: pre; opacity: 1;\" transform=\"translate(0,286.93)\">200</text></g><g class=\"ytick\"><text text-anchor=\"end\" x=\"50\" y=\"4.199999999999999\" style=\"font-family: 'Century Gothic'; font-size: 12px; fill: rgb(42, 63, 95); fill-opacity: 1; white-space: pre; opacity: 1;\" transform=\"translate(0,250.41)\">250</text></g><g class=\"ytick\"><text text-anchor=\"end\" x=\"50\" y=\"4.199999999999999\" style=\"font-family: 'Century Gothic'; font-size: 12px; fill: rgb(42, 63, 95); fill-opacity: 1; white-space: pre; opacity: 1;\" transform=\"translate(0,213.9)\">300</text></g><g class=\"ytick\"><text text-anchor=\"end\" x=\"50\" y=\"4.199999999999999\" style=\"font-family: 'Century Gothic'; font-size: 12px; fill: rgb(42, 63, 95); fill-opacity: 1; white-space: pre; opacity: 1;\" transform=\"translate(0,177.38)\">350</text></g></g><g class=\"overaxes-above\"/></g></g><g class=\"polarlayer\"/><g class=\"smithlayer\"/><g class=\"ternarylayer\"/><g class=\"geolayer\"/><g class=\"funnelarealayer\"/><g class=\"pielayer\"/><g class=\"iciclelayer\"/><g class=\"treemaplayer\"/><g class=\"sunburstlayer\"/><g class=\"glimages\"/><defs id=\"topdefs-a52840\"><g class=\"clips\"/><clipPath id=\"legenda52840\"><rect width=\"141\" height=\"162\" x=\"0\" y=\"0\"/></clipPath></defs><g class=\"layer-above\"><g class=\"imagelayer\"/><g class=\"shapelayer\"/></g><g class=\"infolayer\"><g class=\"legend\" pointer-events=\"all\" transform=\"translate(554.4,5)\"><rect class=\"bg\" shape-rendering=\"crispEdges\" style=\"stroke: rgb(68, 68, 68); stroke-opacity: 1; fill: rgb(255, 255, 255); fill-opacity: 1; stroke-width: 0px;\" width=\"141\" height=\"162\" x=\"0\" y=\"0\"/><g class=\"scrollbox\" transform=\"\" clip-path=\"url(#legenda52840)\"><text class=\"legendtitletext\" text-anchor=\"start\" x=\"2\" y=\"18.2\" style=\"font-family: 'Century Gothic'; font-size: 14px; fill: rgb(42, 63, 95); fill-opacity: 1; white-space: pre;\">Topic</text><g class=\"groups\" transform=\"\"><g class=\"traces\" transform=\"translate(0,32.7)\" style=\"opacity: 1;\"><text class=\"legendtext\" text-anchor=\"start\" x=\"40\" y=\"4.680000000000001\" style=\"font-family: 'Century Gothic'; font-size: 12px; fill: rgb(42, 63, 95); fill-opacity: 1; white-space: pre;\">Drinks</text><g class=\"layers\" style=\"opacity: 1;\"><g class=\"legendfill\"/><g class=\"legendlines\"/><g class=\"legendsymbols\"><g class=\"legendpoints\"><path class=\"legendundefined\" d=\"M6,6H-6V-6H6Z\" transform=\"translate(20,0)\" style=\"stroke-width: 0.5px; fill: rgb(99, 110, 250); fill-opacity: 1; stroke: rgb(255, 255, 255); stroke-opacity: 1;\"/></g></g></g><rect class=\"legendtoggle\" x=\"0\" y=\"-9.5\" width=\"135.625\" height=\"19\" style=\"fill: rgb(0, 0, 0); fill-opacity: 0;\"/></g></g><g class=\"groups\" transform=\"\"><g class=\"traces\" transform=\"translate(0,51.7)\" style=\"opacity: 1;\"><text class=\"legendtext\" text-anchor=\"start\" x=\"40\" y=\"4.680000000000001\" style=\"font-family: 'Century Gothic'; font-size: 12px; fill: rgb(42, 63, 95); fill-opacity: 1; white-space: pre;\">Snacks</text><g class=\"layers\" style=\"opacity: 1;\"><g class=\"legendfill\"/><g class=\"legendlines\"/><g class=\"legendsymbols\"><g class=\"legendpoints\"><path class=\"legendundefined\" d=\"M6,6H-6V-6H6Z\" transform=\"translate(20,0)\" style=\"stroke-width: 0.5px; fill: rgb(239, 85, 59); fill-opacity: 1; stroke: rgb(255, 255, 255); stroke-opacity: 1;\"/></g></g></g><rect class=\"legendtoggle\" x=\"0\" y=\"-9.5\" width=\"135.625\" height=\"19\" style=\"fill: rgb(0, 0, 0); fill-opacity: 0;\"/></g></g><g class=\"groups\" transform=\"\"><g class=\"traces\" transform=\"translate(0,70.7)\" style=\"opacity: 1;\"><text class=\"legendtext\" text-anchor=\"start\" x=\"40\" y=\"4.680000000000001\" style=\"font-family: 'Century Gothic'; font-size: 12px; fill: rgb(42, 63, 95); fill-opacity: 1; white-space: pre;\">Ingredients</text><g class=\"layers\" style=\"opacity: 1;\"><g class=\"legendfill\"/><g class=\"legendlines\"/><g class=\"legendsymbols\"><g class=\"legendpoints\"><path class=\"legendundefined\" d=\"M6,6H-6V-6H6Z\" transform=\"translate(20,0)\" style=\"stroke-width: 0.5px; fill: rgb(0, 204, 150); fill-opacity: 1; stroke: rgb(255, 255, 255); stroke-opacity: 1;\"/></g></g></g><rect class=\"legendtoggle\" x=\"0\" y=\"-9.5\" width=\"135.625\" height=\"19\" style=\"fill: rgb(0, 0, 0); fill-opacity: 0;\"/></g></g><g class=\"groups\" transform=\"\"><g class=\"traces\" transform=\"translate(0,89.7)\" style=\"opacity: 1;\"><text class=\"legendtext\" text-anchor=\"start\" x=\"40\" y=\"4.680000000000001\" style=\"font-family: 'Century Gothic'; font-size: 12px; fill: rgb(42, 63, 95); fill-opacity: 1; white-space: pre;\">Flavour</text><g class=\"layers\" style=\"opacity: 1;\"><g class=\"legendfill\"/><g class=\"legendlines\"/><g class=\"legendsymbols\"><g class=\"legendpoints\"><path class=\"legendundefined\" d=\"M6,6H-6V-6H6Z\" transform=\"translate(20,0)\" style=\"stroke-width: 0.5px; fill: rgb(171, 99, 250); fill-opacity: 1; stroke: rgb(255, 255, 255); stroke-opacity: 1;\"/></g></g></g><rect class=\"legendtoggle\" x=\"0\" y=\"-9.5\" width=\"135.625\" height=\"19\" style=\"fill: rgb(0, 0, 0); fill-opacity: 0;\"/></g></g><g class=\"groups\" transform=\"\"><g class=\"traces\" transform=\"translate(0,108.7)\" style=\"opacity: 1;\"><text class=\"legendtext\" text-anchor=\"start\" x=\"40\" y=\"4.680000000000001\" style=\"font-family: 'Century Gothic'; font-size: 12px; fill: rgb(42, 63, 95); fill-opacity: 1; white-space: pre;\">Baked Goods</text><g class=\"layers\" style=\"opacity: 1;\"><g class=\"legendfill\"/><g class=\"legendlines\"/><g class=\"legendsymbols\"><g class=\"legendpoints\"><path class=\"legendundefined\" d=\"M6,6H-6V-6H6Z\" transform=\"translate(20,0)\" style=\"stroke-width: 0.5px; fill: rgb(255, 161, 90); fill-opacity: 1; stroke: rgb(255, 255, 255); stroke-opacity: 1;\"/></g></g></g><rect class=\"legendtoggle\" x=\"0\" y=\"-9.5\" width=\"135.625\" height=\"19\" style=\"fill: rgb(0, 0, 0); fill-opacity: 0;\"/></g></g><g class=\"groups\" transform=\"\"><g class=\"traces\" transform=\"translate(0,127.7)\" style=\"opacity: 1;\"><text class=\"legendtext\" text-anchor=\"start\" x=\"40\" y=\"4.680000000000001\" style=\"font-family: 'Century Gothic'; font-size: 12px; fill: rgb(42, 63, 95); fill-opacity: 1; white-space: pre;\">Noodles &amp; Pasta</text><g class=\"layers\" style=\"opacity: 1;\"><g class=\"legendfill\"/><g class=\"legendlines\"/><g class=\"legendsymbols\"><g class=\"legendpoints\"><path class=\"legendundefined\" d=\"M6,6H-6V-6H6Z\" transform=\"translate(20,0)\" style=\"stroke-width: 0.5px; fill: rgb(25, 211, 243); fill-opacity: 1; stroke: rgb(255, 255, 255); stroke-opacity: 1;\"/></g></g></g><rect class=\"legendtoggle\" x=\"0\" y=\"-9.5\" width=\"135.625\" height=\"19\" style=\"fill: rgb(0, 0, 0); fill-opacity: 0;\"/></g></g><g class=\"groups\" transform=\"\"><g class=\"traces\" transform=\"translate(0,146.7)\" style=\"opacity: 1;\"><text class=\"legendtext\" text-anchor=\"start\" x=\"40\" y=\"4.680000000000001\" style=\"font-family: 'Century Gothic'; font-size: 12px; fill: rgb(42, 63, 95); fill-opacity: 1; white-space: pre;\">Pet Food</text><g class=\"layers\" style=\"opacity: 1;\"><g class=\"legendfill\"/><g class=\"legendlines\"/><g class=\"legendsymbols\"><g class=\"legendpoints\"><path class=\"legendundefined\" d=\"M6,6H-6V-6H6Z\" transform=\"translate(20,0)\" style=\"stroke-width: 0.5px; fill: rgb(255, 102, 146); fill-opacity: 1; stroke: rgb(255, 255, 255); stroke-opacity: 1;\"/></g></g></g><rect class=\"legendtoggle\" x=\"0\" y=\"-9.5\" width=\"135.625\" height=\"19\" style=\"fill: rgb(0, 0, 0); fill-opacity: 0;\"/></g></g></g><rect class=\"scrollbar\" rx=\"20\" ry=\"3\" width=\"0\" height=\"0\" x=\"0\" y=\"0\" style=\"fill: rgb(128, 139, 164); fill-opacity: 1;\"/></g><g class=\"g-gtitle\"><text class=\"gtitle\" x=\"35\" y=\"83.5\" text-anchor=\"start\" dy=\"0em\" style=\"font-family: 'Century Gothic'; font-size: 17px; fill: rgb(42, 63, 95); opacity: 1; font-weight: normal; white-space: pre;\">Topics over Time</text></g><g class=\"g-xtitle\"><text class=\"xtitle\" x=\"319.5\" y=\"494.1251953125\" text-anchor=\"middle\" style=\"font-family: 'Century Gothic'; font-size: 14px; fill: rgb(42, 63, 95); opacity: 1; font-weight: normal; white-space: pre;\">Time</text></g><g class=\"g-ytitle\" transform=\"translate(8.2529296875,0)\"><text class=\"ytitle\" transform=\"rotate(-90,5.746875000000003,300)\" x=\"5.746875000000003\" y=\"300\" text-anchor=\"middle\" style=\"font-family: 'Century Gothic'; font-size: 14px; fill: rgb(42, 63, 95); opacity: 1; font-weight: normal; white-space: pre;\">Number of reviews</text></g></g></svg>"
      ]
     },
     "metadata": {},
     "output_type": "display_data"
    },
    {
     "data": {
      "image/svg+xml": [
       "<svg class=\"main-svg\" xmlns=\"http://www.w3.org/2000/svg\" xmlns:xlink=\"http://www.w3.org/1999/xlink\" width=\"700\" height=\"500\" style=\"\" viewBox=\"0 0 700 500\"><rect x=\"0\" y=\"0\" width=\"700\" height=\"500\" style=\"fill: rgb(255, 255, 255); fill-opacity: 1;\"/><defs id=\"defs-8288d2\"><g class=\"clips\"><clipPath id=\"clip8288d2xyplot\" class=\"plotclip\"><rect width=\"111.64999999999999\" height=\"183.59999999999997\"/></clipPath><clipPath id=\"clip8288d2x2y2plot\" class=\"plotclip\"><rect width=\"111.64999999999999\" height=\"183.59999999999997\"/></clipPath><clipPath id=\"clip8288d2x3y3plot\" class=\"plotclip\"><rect width=\"111.65000000000003\" height=\"183.59999999999997\"/></clipPath><clipPath id=\"clip8288d2x4y4plot\" class=\"plotclip\"><rect width=\"111.65000000000003\" height=\"183.59999999999997\"/></clipPath><clipPath id=\"clip8288d2x5y5plot\" class=\"plotclip\"><rect width=\"111.64999999999999\" height=\"183.60000000000002\"/></clipPath><clipPath id=\"clip8288d2x6y6plot\" class=\"plotclip\"><rect width=\"111.64999999999999\" height=\"183.60000000000002\"/></clipPath><clipPath id=\"clip8288d2x7y7plot\" class=\"plotclip\"><rect width=\"111.65000000000003\" height=\"183.60000000000002\"/></clipPath><clipPath class=\"axesclip\" id=\"clip8288d2x\"><rect x=\"54\" y=\"0\" width=\"111.64999999999999\" height=\"500\"/></clipPath><clipPath class=\"axesclip\" id=\"clip8288d2y\"><rect x=\"0\" y=\"20\" width=\"700\" height=\"183.59999999999997\"/></clipPath><clipPath class=\"axesclip\" id=\"clip8288d2xy\"><rect x=\"54\" y=\"20\" width=\"111.64999999999999\" height=\"183.59999999999997\"/></clipPath><clipPath class=\"axesclip\" id=\"clip8288d2y2\"><rect x=\"0\" y=\"20\" width=\"700\" height=\"183.59999999999997\"/></clipPath><clipPath class=\"axesclip\" id=\"clip8288d2xy2\"><rect x=\"54\" y=\"20\" width=\"111.64999999999999\" height=\"183.59999999999997\"/></clipPath><clipPath class=\"axesclip\" id=\"clip8288d2y3\"><rect x=\"0\" y=\"20\" width=\"700\" height=\"183.59999999999997\"/></clipPath><clipPath class=\"axesclip\" id=\"clip8288d2xy3\"><rect x=\"54\" y=\"20\" width=\"111.64999999999999\" height=\"183.59999999999997\"/></clipPath><clipPath class=\"axesclip\" id=\"clip8288d2y4\"><rect x=\"0\" y=\"20\" width=\"700\" height=\"183.59999999999997\"/></clipPath><clipPath class=\"axesclip\" id=\"clip8288d2xy4\"><rect x=\"54\" y=\"20\" width=\"111.64999999999999\" height=\"183.59999999999997\"/></clipPath><clipPath class=\"axesclip\" id=\"clip8288d2y5\"><rect x=\"0\" y=\"295.4\" width=\"700\" height=\"183.60000000000002\"/></clipPath><clipPath class=\"axesclip\" id=\"clip8288d2xy5\"><rect x=\"54\" y=\"295.4\" width=\"111.64999999999999\" height=\"183.60000000000002\"/></clipPath><clipPath class=\"axesclip\" id=\"clip8288d2y6\"><rect x=\"0\" y=\"295.4\" width=\"700\" height=\"183.60000000000002\"/></clipPath><clipPath class=\"axesclip\" id=\"clip8288d2xy6\"><rect x=\"54\" y=\"295.4\" width=\"111.64999999999999\" height=\"183.60000000000002\"/></clipPath><clipPath class=\"axesclip\" id=\"clip8288d2y7\"><rect x=\"0\" y=\"295.4\" width=\"700\" height=\"183.60000000000002\"/></clipPath><clipPath class=\"axesclip\" id=\"clip8288d2xy7\"><rect x=\"54\" y=\"295.4\" width=\"111.64999999999999\" height=\"183.60000000000002\"/></clipPath><clipPath class=\"axesclip\" id=\"clip8288d2x2\"><rect x=\"229.45000000000002\" y=\"0\" width=\"111.64999999999999\" height=\"500\"/></clipPath><clipPath class=\"axesclip\" id=\"clip8288d2x2y\"><rect x=\"229.45000000000002\" y=\"20\" width=\"111.64999999999999\" height=\"183.59999999999997\"/></clipPath><clipPath class=\"axesclip\" id=\"clip8288d2x2y2\"><rect x=\"229.45000000000002\" y=\"20\" width=\"111.64999999999999\" height=\"183.59999999999997\"/></clipPath><clipPath class=\"axesclip\" id=\"clip8288d2x2y3\"><rect x=\"229.45000000000002\" y=\"20\" width=\"111.64999999999999\" height=\"183.59999999999997\"/></clipPath><clipPath class=\"axesclip\" id=\"clip8288d2x2y4\"><rect x=\"229.45000000000002\" y=\"20\" width=\"111.64999999999999\" height=\"183.59999999999997\"/></clipPath><clipPath class=\"axesclip\" id=\"clip8288d2x2y5\"><rect x=\"229.45000000000002\" y=\"295.4\" width=\"111.64999999999999\" height=\"183.60000000000002\"/></clipPath><clipPath class=\"axesclip\" id=\"clip8288d2x2y6\"><rect x=\"229.45000000000002\" y=\"295.4\" width=\"111.64999999999999\" height=\"183.60000000000002\"/></clipPath><clipPath class=\"axesclip\" id=\"clip8288d2x2y7\"><rect x=\"229.45000000000002\" y=\"295.4\" width=\"111.64999999999999\" height=\"183.60000000000002\"/></clipPath><clipPath class=\"axesclip\" id=\"clip8288d2x3\"><rect x=\"404.90000000000003\" y=\"0\" width=\"111.65000000000003\" height=\"500\"/></clipPath><clipPath class=\"axesclip\" id=\"clip8288d2x3y\"><rect x=\"404.90000000000003\" y=\"20\" width=\"111.65000000000003\" height=\"183.59999999999997\"/></clipPath><clipPath class=\"axesclip\" id=\"clip8288d2x3y2\"><rect x=\"404.90000000000003\" y=\"20\" width=\"111.65000000000003\" height=\"183.59999999999997\"/></clipPath><clipPath class=\"axesclip\" id=\"clip8288d2x3y3\"><rect x=\"404.90000000000003\" y=\"20\" width=\"111.65000000000003\" height=\"183.59999999999997\"/></clipPath><clipPath class=\"axesclip\" id=\"clip8288d2x3y4\"><rect x=\"404.90000000000003\" y=\"20\" width=\"111.65000000000003\" height=\"183.59999999999997\"/></clipPath><clipPath class=\"axesclip\" id=\"clip8288d2x3y5\"><rect x=\"404.90000000000003\" y=\"295.4\" width=\"111.65000000000003\" height=\"183.60000000000002\"/></clipPath><clipPath class=\"axesclip\" id=\"clip8288d2x3y6\"><rect x=\"404.90000000000003\" y=\"295.4\" width=\"111.65000000000003\" height=\"183.60000000000002\"/></clipPath><clipPath class=\"axesclip\" id=\"clip8288d2x3y7\"><rect x=\"404.90000000000003\" y=\"295.4\" width=\"111.65000000000003\" height=\"183.60000000000002\"/></clipPath><clipPath class=\"axesclip\" id=\"clip8288d2x4\"><rect x=\"580.35\" y=\"0\" width=\"111.65000000000003\" height=\"500\"/></clipPath><clipPath class=\"axesclip\" id=\"clip8288d2x4y\"><rect x=\"580.35\" y=\"20\" width=\"111.65000000000003\" height=\"183.59999999999997\"/></clipPath><clipPath class=\"axesclip\" id=\"clip8288d2x4y2\"><rect x=\"580.35\" y=\"20\" width=\"111.65000000000003\" height=\"183.59999999999997\"/></clipPath><clipPath class=\"axesclip\" id=\"clip8288d2x4y3\"><rect x=\"580.35\" y=\"20\" width=\"111.65000000000003\" height=\"183.59999999999997\"/></clipPath><clipPath class=\"axesclip\" id=\"clip8288d2x4y4\"><rect x=\"580.35\" y=\"20\" width=\"111.65000000000003\" height=\"183.59999999999997\"/></clipPath><clipPath class=\"axesclip\" id=\"clip8288d2x4y5\"><rect x=\"580.35\" y=\"295.4\" width=\"111.65000000000003\" height=\"183.60000000000002\"/></clipPath><clipPath class=\"axesclip\" id=\"clip8288d2x4y6\"><rect x=\"580.35\" y=\"295.4\" width=\"111.65000000000003\" height=\"183.60000000000002\"/></clipPath><clipPath class=\"axesclip\" id=\"clip8288d2x4y7\"><rect x=\"580.35\" y=\"295.4\" width=\"111.65000000000003\" height=\"183.60000000000002\"/></clipPath><clipPath class=\"axesclip\" id=\"clip8288d2x5\"><rect x=\"54\" y=\"0\" width=\"111.64999999999999\" height=\"500\"/></clipPath><clipPath class=\"axesclip\" id=\"clip8288d2x5y\"><rect x=\"54\" y=\"20\" width=\"111.64999999999999\" height=\"183.59999999999997\"/></clipPath><clipPath class=\"axesclip\" id=\"clip8288d2x5y2\"><rect x=\"54\" y=\"20\" width=\"111.64999999999999\" height=\"183.59999999999997\"/></clipPath><clipPath class=\"axesclip\" id=\"clip8288d2x5y3\"><rect x=\"54\" y=\"20\" width=\"111.64999999999999\" height=\"183.59999999999997\"/></clipPath><clipPath class=\"axesclip\" id=\"clip8288d2x5y4\"><rect x=\"54\" y=\"20\" width=\"111.64999999999999\" height=\"183.59999999999997\"/></clipPath><clipPath class=\"axesclip\" id=\"clip8288d2x5y5\"><rect x=\"54\" y=\"295.4\" width=\"111.64999999999999\" height=\"183.60000000000002\"/></clipPath><clipPath class=\"axesclip\" id=\"clip8288d2x5y6\"><rect x=\"54\" y=\"295.4\" width=\"111.64999999999999\" height=\"183.60000000000002\"/></clipPath><clipPath class=\"axesclip\" id=\"clip8288d2x5y7\"><rect x=\"54\" y=\"295.4\" width=\"111.64999999999999\" height=\"183.60000000000002\"/></clipPath><clipPath class=\"axesclip\" id=\"clip8288d2x6\"><rect x=\"229.45000000000002\" y=\"0\" width=\"111.64999999999999\" height=\"500\"/></clipPath><clipPath class=\"axesclip\" id=\"clip8288d2x6y\"><rect x=\"229.45000000000002\" y=\"20\" width=\"111.64999999999999\" height=\"183.59999999999997\"/></clipPath><clipPath class=\"axesclip\" id=\"clip8288d2x6y2\"><rect x=\"229.45000000000002\" y=\"20\" width=\"111.64999999999999\" height=\"183.59999999999997\"/></clipPath><clipPath class=\"axesclip\" id=\"clip8288d2x6y3\"><rect x=\"229.45000000000002\" y=\"20\" width=\"111.64999999999999\" height=\"183.59999999999997\"/></clipPath><clipPath class=\"axesclip\" id=\"clip8288d2x6y4\"><rect x=\"229.45000000000002\" y=\"20\" width=\"111.64999999999999\" height=\"183.59999999999997\"/></clipPath><clipPath class=\"axesclip\" id=\"clip8288d2x6y5\"><rect x=\"229.45000000000002\" y=\"295.4\" width=\"111.64999999999999\" height=\"183.60000000000002\"/></clipPath><clipPath class=\"axesclip\" id=\"clip8288d2x6y6\"><rect x=\"229.45000000000002\" y=\"295.4\" width=\"111.64999999999999\" height=\"183.60000000000002\"/></clipPath><clipPath class=\"axesclip\" id=\"clip8288d2x6y7\"><rect x=\"229.45000000000002\" y=\"295.4\" width=\"111.64999999999999\" height=\"183.60000000000002\"/></clipPath><clipPath class=\"axesclip\" id=\"clip8288d2x7\"><rect x=\"404.90000000000003\" y=\"0\" width=\"111.65000000000003\" height=\"500\"/></clipPath><clipPath class=\"axesclip\" id=\"clip8288d2x7y\"><rect x=\"404.90000000000003\" y=\"20\" width=\"111.65000000000003\" height=\"183.59999999999997\"/></clipPath><clipPath class=\"axesclip\" id=\"clip8288d2x7y2\"><rect x=\"404.90000000000003\" y=\"20\" width=\"111.65000000000003\" height=\"183.59999999999997\"/></clipPath><clipPath class=\"axesclip\" id=\"clip8288d2x7y3\"><rect x=\"404.90000000000003\" y=\"20\" width=\"111.65000000000003\" height=\"183.59999999999997\"/></clipPath><clipPath class=\"axesclip\" id=\"clip8288d2x7y4\"><rect x=\"404.90000000000003\" y=\"20\" width=\"111.65000000000003\" height=\"183.59999999999997\"/></clipPath><clipPath class=\"axesclip\" id=\"clip8288d2x7y5\"><rect x=\"404.90000000000003\" y=\"295.4\" width=\"111.65000000000003\" height=\"183.60000000000002\"/></clipPath><clipPath class=\"axesclip\" id=\"clip8288d2x7y6\"><rect x=\"404.90000000000003\" y=\"295.4\" width=\"111.65000000000003\" height=\"183.60000000000002\"/></clipPath><clipPath class=\"axesclip\" id=\"clip8288d2x7y7\"><rect x=\"404.90000000000003\" y=\"295.4\" width=\"111.65000000000003\" height=\"183.60000000000002\"/></clipPath></g><g class=\"gradients\"/><g class=\"patterns\"/></defs><g class=\"bglayer\"/><g class=\"layer-below\"><g class=\"imagelayer\"/><g class=\"shapelayer\"/></g><g class=\"cartesianlayer\"><g class=\"subplot xy\"><g class=\"layer-subplot\"><g class=\"shapelayer\"/><g class=\"imagelayer\"/></g><g class=\"minor-gridlayer\"><g class=\"x\"/><g class=\"y\"/></g><g class=\"gridlayer\"><g class=\"x\"><path class=\"xgrid crisp\" transform=\"translate(79.21000000000001,0)\" d=\"M0,20v183.59999999999997\" style=\"stroke: rgb(235, 240, 248); stroke-opacity: 1; stroke-width: 1px;\"/><path class=\"xgrid crisp\" transform=\"translate(104.42,0)\" d=\"M0,20v183.59999999999997\" style=\"stroke: rgb(235, 240, 248); stroke-opacity: 1; stroke-width: 1px;\"/><path class=\"xgrid crisp\" transform=\"translate(129.63,0)\" d=\"M0,20v183.59999999999997\" style=\"stroke: rgb(235, 240, 248); stroke-opacity: 1; stroke-width: 1px;\"/><path class=\"xgrid crisp\" transform=\"translate(154.84,0)\" d=\"M0,20v183.59999999999997\" style=\"stroke: rgb(235, 240, 248); stroke-opacity: 1; stroke-width: 1px;\"/></g><g class=\"y\"/></g><g class=\"zerolinelayer\"><path class=\"xzl zl crisp\" transform=\"translate(54,0)\" d=\"M0,20v183.59999999999997\" style=\"stroke: rgb(235, 240, 248); stroke-opacity: 1; stroke-width: 2px;\"/></g><path class=\"xlines-below\"/><path class=\"ylines-below\"/><g class=\"overlines-below\"/><g class=\"xaxislayer-below\"/><g class=\"yaxislayer-below\"/><g class=\"overaxes-below\"/><g class=\"plot\" transform=\"translate(54,20)\" clip-path=\"url(#clip8288d2xyplot)\"><g class=\"barlayer mlayer\"><g class=\"trace bars\" style=\"opacity: 1;\"><g class=\"points\"><g class=\"point\"><path d=\"M0,180.54V156.06H39.49V180.54Z\" style=\"vector-effect: none; opacity: 1; stroke-width: 0.5px; fill: rgb(99, 110, 250); fill-opacity: 1; stroke: rgb(255, 255, 255); stroke-opacity: 1;\"/></g><g class=\"point\"><path d=\"M0,149.94V125.46H40.32V149.94Z\" style=\"vector-effect: none; opacity: 1; stroke-width: 0.5px; fill: rgb(99, 110, 250); fill-opacity: 1; stroke: rgb(255, 255, 255); stroke-opacity: 1;\"/></g><g class=\"point\"><path d=\"M0,119.34V94.86H41.62V119.34Z\" style=\"vector-effect: none; opacity: 1; stroke-width: 0.5px; fill: rgb(99, 110, 250); fill-opacity: 1; stroke: rgb(255, 255, 255); stroke-opacity: 1;\"/></g><g class=\"point\"><path d=\"M0,88.74V64.26H48.09V88.74Z\" style=\"vector-effect: none; opacity: 1; stroke-width: 0.5px; fill: rgb(99, 110, 250); fill-opacity: 1; stroke: rgb(255, 255, 255); stroke-opacity: 1;\"/></g><g class=\"point\"><path d=\"M0,58.14V33.66H96.33V58.14Z\" style=\"vector-effect: none; opacity: 1; stroke-width: 0.5px; fill: rgb(99, 110, 250); fill-opacity: 1; stroke: rgb(255, 255, 255); stroke-opacity: 1;\"/></g><g class=\"point\"><path d=\"M0,27.54V3.06H106.07V27.54Z\" style=\"vector-effect: none; opacity: 1; stroke-width: 0.5px; fill: rgb(99, 110, 250); fill-opacity: 1; stroke: rgb(255, 255, 255); stroke-opacity: 1;\"/></g></g></g></g></g><g class=\"overplot\"/><path class=\"xlines-above crisp\" d=\"M0,0\" style=\"fill: none;\"/><path class=\"ylines-above crisp\" d=\"M0,0\" style=\"fill: none;\"/><g class=\"overlines-above\"/><g class=\"xaxislayer-above\"><g class=\"xtick\"><text text-anchor=\"middle\" x=\"0\" y=\"216.59999999999997\" transform=\"translate(54,0)\" style=\"font-family: 'Century Gothic'; font-size: 12px; fill: rgb(42, 63, 95); fill-opacity: 1; white-space: pre; opacity: 1;\">0</text></g><g class=\"xtick\"><text text-anchor=\"middle\" x=\"0\" y=\"216.59999999999997\" style=\"font-family: 'Century Gothic'; font-size: 12px; fill: rgb(42, 63, 95); fill-opacity: 1; white-space: pre; opacity: 1;\" transform=\"translate(79.21000000000001,0)\">20</text></g><g class=\"xtick\"><text text-anchor=\"middle\" x=\"0\" y=\"216.59999999999997\" style=\"font-family: 'Century Gothic'; font-size: 12px; fill: rgb(42, 63, 95); fill-opacity: 1; white-space: pre; opacity: 1;\" transform=\"translate(104.42,0)\">40</text></g><g class=\"xtick\"><text text-anchor=\"middle\" x=\"0\" y=\"216.59999999999997\" style=\"font-family: 'Century Gothic'; font-size: 12px; fill: rgb(42, 63, 95); fill-opacity: 1; white-space: pre; opacity: 1;\" transform=\"translate(129.63,0)\">60</text></g><g class=\"xtick\"><text text-anchor=\"middle\" x=\"0\" y=\"216.59999999999997\" style=\"font-family: 'Century Gothic'; font-size: 12px; fill: rgb(42, 63, 95); fill-opacity: 1; white-space: pre; opacity: 1;\" transform=\"translate(154.84,0)\">80</text></g></g><g class=\"yaxislayer-above\"><g class=\"ytick\"><text text-anchor=\"end\" x=\"53\" y=\"4.199999999999999\" transform=\"translate(0,188.3)\" style=\"font-family: 'Century Gothic'; font-size: 12px; fill: rgb(42, 63, 95); fill-opacity: 1; white-space: pre; opacity: 1;\">cup</text></g><g class=\"ytick\"><text text-anchor=\"end\" x=\"53\" y=\"4.199999999999999\" transform=\"translate(0,157.7)\" style=\"font-family: 'Century Gothic'; font-size: 12px; fill: rgb(42, 63, 95); fill-opacity: 1; white-space: pre; opacity: 1;\">price</text></g><g class=\"ytick\"><text text-anchor=\"end\" x=\"53\" y=\"4.199999999999999\" transform=\"translate(0,127.1)\" style=\"font-family: 'Century Gothic'; font-size: 12px; fill: rgb(42, 63, 95); fill-opacity: 1; white-space: pre; opacity: 1;\">water</text></g><g class=\"ytick\"><text text-anchor=\"end\" x=\"53\" y=\"4.199999999999999\" transform=\"translate(0,96.5)\" style=\"font-family: 'Century Gothic'; font-size: 12px; fill: rgb(42, 63, 95); fill-opacity: 1; white-space: pre; opacity: 1;\">drink</text></g><g class=\"ytick\"><text text-anchor=\"end\" x=\"53\" y=\"4.199999999999999\" transform=\"translate(0,65.9)\" style=\"font-family: 'Century Gothic'; font-size: 12px; fill: rgb(42, 63, 95); fill-opacity: 1; white-space: pre; opacity: 1;\">tea</text></g><g class=\"ytick\"><text text-anchor=\"end\" x=\"53\" y=\"4.199999999999999\" transform=\"translate(0,35.3)\" style=\"font-family: 'Century Gothic'; font-size: 12px; fill: rgb(42, 63, 95); fill-opacity: 1; white-space: pre; opacity: 1;\">coffee</text></g></g><g class=\"overaxes-above\"/></g><g class=\"subplot x2y2\"><g class=\"layer-subplot\"><g class=\"shapelayer\"/><g class=\"imagelayer\"/></g><g class=\"minor-gridlayer\"><g class=\"x2\"/><g class=\"y2\"/></g><g class=\"gridlayer\"><g class=\"x2\"><path class=\"x2grid crisp\" transform=\"translate(264.1,0)\" d=\"M0,20v183.59999999999997\" style=\"stroke: rgb(235, 240, 248); stroke-opacity: 1; stroke-width: 1px;\"/><path class=\"x2grid crisp\" transform=\"translate(298.76,0)\" d=\"M0,20v183.59999999999997\" style=\"stroke: rgb(235, 240, 248); stroke-opacity: 1; stroke-width: 1px;\"/><path class=\"x2grid crisp\" transform=\"translate(333.41,0)\" d=\"M0,20v183.59999999999997\" style=\"stroke: rgb(235, 240, 248); stroke-opacity: 1; stroke-width: 1px;\"/></g><g class=\"y2\"/></g><g class=\"zerolinelayer\"><path class=\"x2zl zl crisp\" transform=\"translate(229.45000000000002,0)\" d=\"M0,20v183.59999999999997\" style=\"stroke: rgb(235, 240, 248); stroke-opacity: 1; stroke-width: 2px;\"/></g><path class=\"xlines-below\"/><path class=\"ylines-below\"/><g class=\"overlines-below\"/><g class=\"xaxislayer-below\"/><g class=\"yaxislayer-below\"/><g class=\"overaxes-below\"/><g class=\"plot\" transform=\"translate(229.45000000000002,20)\" clip-path=\"url(#clip8288d2x2y2plot)\"><g class=\"barlayer mlayer\"><g class=\"trace bars\" style=\"opacity: 1;\"><g class=\"points\"><g class=\"point\"><path d=\"M0,180.54V156.06H76.01V180.54Z\" style=\"vector-effect: none; opacity: 1; stroke-width: 0.5px; fill: rgb(239, 85, 59); fill-opacity: 1; stroke: rgb(255, 255, 255); stroke-opacity: 1;\"/></g><g class=\"point\"><path d=\"M0,149.94V125.46H77.69V149.94Z\" style=\"vector-effect: none; opacity: 1; stroke-width: 0.5px; fill: rgb(239, 85, 59); fill-opacity: 1; stroke: rgb(255, 255, 255); stroke-opacity: 1;\"/></g><g class=\"point\"><path d=\"M0,119.34V94.86H82.37V119.34Z\" style=\"vector-effect: none; opacity: 1; stroke-width: 0.5px; fill: rgb(239, 85, 59); fill-opacity: 1; stroke: rgb(255, 255, 255); stroke-opacity: 1;\"/></g><g class=\"point\"><path d=\"M0,88.74V64.26H83.59V88.74Z\" style=\"vector-effect: none; opacity: 1; stroke-width: 0.5px; fill: rgb(239, 85, 59); fill-opacity: 1; stroke: rgb(255, 255, 255); stroke-opacity: 1;\"/></g><g class=\"point\"><path d=\"M0,58.14V33.66H103.73V58.14Z\" style=\"vector-effect: none; opacity: 1; stroke-width: 0.5px; fill: rgb(239, 85, 59); fill-opacity: 1; stroke: rgb(255, 255, 255); stroke-opacity: 1;\"/></g><g class=\"point\"><path d=\"M0,27.54V3.06H106.07V27.54Z\" style=\"vector-effect: none; opacity: 1; stroke-width: 0.5px; fill: rgb(239, 85, 59); fill-opacity: 1; stroke: rgb(255, 255, 255); stroke-opacity: 1;\"/></g></g></g></g></g><g class=\"overplot\"/><path class=\"xlines-above crisp\" d=\"M0,0\" style=\"fill: none;\"/><path class=\"ylines-above crisp\" d=\"M0,0\" style=\"fill: none;\"/><g class=\"overlines-above\"/><g class=\"xaxislayer-above\"><g class=\"x2tick\"><text text-anchor=\"middle\" x=\"0\" y=\"216.59999999999997\" transform=\"translate(229.45000000000002,0)\" style=\"font-family: 'Century Gothic'; font-size: 12px; fill: rgb(42, 63, 95); fill-opacity: 1; white-space: pre; opacity: 1;\">0</text></g><g class=\"x2tick\"><text text-anchor=\"middle\" x=\"0\" y=\"216.59999999999997\" style=\"font-family: 'Century Gothic'; font-size: 12px; fill: rgb(42, 63, 95); fill-opacity: 1; white-space: pre; opacity: 1;\" transform=\"translate(264.1,0)\">10</text></g><g class=\"x2tick\"><text text-anchor=\"middle\" x=\"0\" y=\"216.59999999999997\" style=\"font-family: 'Century Gothic'; font-size: 12px; fill: rgb(42, 63, 95); fill-opacity: 1; white-space: pre; opacity: 1;\" transform=\"translate(298.76,0)\">20</text></g><g class=\"x2tick\"><text text-anchor=\"middle\" x=\"0\" y=\"216.59999999999997\" style=\"font-family: 'Century Gothic'; font-size: 12px; fill: rgb(42, 63, 95); fill-opacity: 1; white-space: pre; opacity: 1;\" transform=\"translate(333.41,0)\">30</text></g></g><g class=\"yaxislayer-above\"><g class=\"y2tick\"><text text-anchor=\"end\" x=\"228.45000000000002\" y=\"4.199999999999999\" transform=\"translate(0,188.3)\" style=\"font-family: 'Century Gothic'; font-size: 12px; fill: rgb(42, 63, 95); fill-opacity: 1; white-space: pre; opacity: 1;\">healthy</text></g><g class=\"y2tick\"><text text-anchor=\"end\" x=\"228.45000000000002\" y=\"4.199999999999999\" transform=\"translate(0,157.7)\" style=\"font-family: 'Century Gothic'; font-size: 12px; fill: rgb(42, 63, 95); fill-opacity: 1; white-space: pre; opacity: 1;\">bars</text></g><g class=\"y2tick\"><text text-anchor=\"end\" x=\"228.45000000000002\" y=\"4.199999999999999\" transform=\"translate(0,127.1)\" style=\"font-family: 'Century Gothic'; font-size: 12px; fill: rgb(42, 63, 95); fill-opacity: 1; white-space: pre; opacity: 1;\">tasty</text></g><g class=\"y2tick\"><text text-anchor=\"end\" x=\"228.45000000000002\" y=\"4.199999999999999\" transform=\"translate(0,96.5)\" style=\"font-family: 'Century Gothic'; font-size: 12px; fill: rgb(42, 63, 95); fill-opacity: 1; white-space: pre; opacity: 1;\">price</text></g><g class=\"y2tick\"><text text-anchor=\"end\" x=\"228.45000000000002\" y=\"4.199999999999999\" transform=\"translate(0,65.9)\" style=\"font-family: 'Century Gothic'; font-size: 12px; fill: rgb(42, 63, 95); fill-opacity: 1; white-space: pre; opacity: 1;\">chips</text></g><g class=\"y2tick\"><text text-anchor=\"end\" x=\"228.45000000000002\" y=\"4.199999999999999\" transform=\"translate(0,35.3)\" style=\"font-family: 'Century Gothic'; font-size: 12px; fill: rgb(42, 63, 95); fill-opacity: 1; white-space: pre; opacity: 1;\">snack</text></g></g><g class=\"overaxes-above\"/></g><g class=\"subplot x3y3\"><g class=\"layer-subplot\"><g class=\"shapelayer\"/><g class=\"imagelayer\"/></g><g class=\"minor-gridlayer\"><g class=\"x3\"/><g class=\"y3\"/></g><g class=\"gridlayer\"><g class=\"x3\"><path class=\"x3grid crisp\" transform=\"translate(440.85,0)\" d=\"M0,20v183.59999999999997\" style=\"stroke: rgb(235, 240, 248); stroke-opacity: 1; stroke-width: 1px;\"/><path class=\"x3grid crisp\" transform=\"translate(476.79,0)\" d=\"M0,20v183.59999999999997\" style=\"stroke: rgb(235, 240, 248); stroke-opacity: 1; stroke-width: 1px;\"/><path class=\"x3grid crisp\" transform=\"translate(512.74,0)\" d=\"M0,20v183.59999999999997\" style=\"stroke: rgb(235, 240, 248); stroke-opacity: 1; stroke-width: 1px;\"/></g><g class=\"y3\"/></g><g class=\"zerolinelayer\"><path class=\"x3zl zl crisp\" transform=\"translate(404.90000000000003,0)\" d=\"M0,20v183.59999999999997\" style=\"stroke: rgb(235, 240, 248); stroke-opacity: 1; stroke-width: 2px;\"/></g><path class=\"xlines-below\"/><path class=\"ylines-below\"/><g class=\"overlines-below\"/><g class=\"xaxislayer-below\"/><g class=\"yaxislayer-below\"/><g class=\"overaxes-below\"/><g class=\"plot\" transform=\"translate(404.90000000000003,20)\" clip-path=\"url(#clip8288d2x3y3plot)\"><g class=\"barlayer mlayer\"><g class=\"trace bars\" style=\"opacity: 1;\"><g class=\"points\"><g class=\"point\"><path d=\"M0,180.54V156.06H75.17V180.54Z\" style=\"vector-effect: none; opacity: 1; stroke-width: 0.5px; fill: rgb(0, 204, 150); fill-opacity: 1; stroke: rgb(255, 255, 255); stroke-opacity: 1;\"/></g><g class=\"point\"><path d=\"M0,149.94V125.46H82.05V149.94Z\" style=\"vector-effect: none; opacity: 1; stroke-width: 0.5px; fill: rgb(0, 204, 150); fill-opacity: 1; stroke: rgb(255, 255, 255); stroke-opacity: 1;\"/></g><g class=\"point\"><path d=\"M0,119.34V94.86H87.64V119.34Z\" style=\"vector-effect: none; opacity: 1; stroke-width: 0.5px; fill: rgb(0, 204, 150); fill-opacity: 1; stroke: rgb(255, 255, 255); stroke-opacity: 1;\"/></g><g class=\"point\"><path d=\"M0,88.74V64.26H91.98V88.74Z\" style=\"vector-effect: none; opacity: 1; stroke-width: 0.5px; fill: rgb(0, 204, 150); fill-opacity: 1; stroke: rgb(255, 255, 255); stroke-opacity: 1;\"/></g><g class=\"point\"><path d=\"M0,58.14V33.66H100.94V58.14Z\" style=\"vector-effect: none; opacity: 1; stroke-width: 0.5px; fill: rgb(0, 204, 150); fill-opacity: 1; stroke: rgb(255, 255, 255); stroke-opacity: 1;\"/></g><g class=\"point\"><path d=\"M0,27.54V3.06H106.07V27.54Z\" style=\"vector-effect: none; opacity: 1; stroke-width: 0.5px; fill: rgb(0, 204, 150); fill-opacity: 1; stroke: rgb(255, 255, 255); stroke-opacity: 1;\"/></g></g></g></g></g><g class=\"overplot\"/><path class=\"xlines-above crisp\" d=\"M0,0\" style=\"fill: none;\"/><path class=\"ylines-above crisp\" d=\"M0,0\" style=\"fill: none;\"/><g class=\"overlines-above\"/><g class=\"xaxislayer-above\"><g class=\"x3tick\"><text text-anchor=\"middle\" x=\"0\" y=\"216.59999999999997\" transform=\"translate(404.90000000000003,0)\" style=\"font-family: 'Century Gothic'; font-size: 12px; fill: rgb(42, 63, 95); fill-opacity: 1; white-space: pre; opacity: 1;\">0</text></g><g class=\"x3tick\"><text text-anchor=\"middle\" x=\"0\" y=\"216.59999999999997\" style=\"font-family: 'Century Gothic'; font-size: 12px; fill: rgb(42, 63, 95); fill-opacity: 1; white-space: pre; opacity: 1;\" transform=\"translate(440.85,0)\">10</text></g><g class=\"x3tick\"><text text-anchor=\"middle\" x=\"0\" y=\"216.59999999999997\" style=\"font-family: 'Century Gothic'; font-size: 12px; fill: rgb(42, 63, 95); fill-opacity: 1; white-space: pre; opacity: 1;\" transform=\"translate(476.79,0)\">20</text></g><g class=\"x3tick\"><text text-anchor=\"middle\" x=\"0\" y=\"216.59999999999997\" style=\"font-family: 'Century Gothic'; font-size: 12px; fill: rgb(42, 63, 95); fill-opacity: 1; white-space: pre; opacity: 1;\" transform=\"translate(512.74,0)\">30</text></g></g><g class=\"yaxislayer-above\"><g class=\"y3tick\"><text text-anchor=\"end\" x=\"403.90000000000003\" y=\"4.199999999999999\" transform=\"translate(0,188.3)\" style=\"font-family: 'Century Gothic'; font-size: 12px; fill: rgb(42, 63, 95); fill-opacity: 1; white-space: pre; opacity: 1;\">price</text></g><g class=\"y3tick\"><text text-anchor=\"end\" x=\"403.90000000000003\" y=\"4.199999999999999\" transform=\"translate(0,157.7)\" style=\"font-family: 'Century Gothic'; font-size: 12px; fill: rgb(42, 63, 95); fill-opacity: 1; white-space: pre; opacity: 1;\">salt</text></g><g class=\"y3tick\"><text text-anchor=\"end\" x=\"403.90000000000003\" y=\"4.199999999999999\" transform=\"translate(0,127.1)\" style=\"font-family: 'Century Gothic'; font-size: 12px; fill: rgb(42, 63, 95); fill-opacity: 1; white-space: pre; opacity: 1;\">chocolate</text></g><g class=\"y3tick\"><text text-anchor=\"end\" x=\"403.90000000000003\" y=\"4.199999999999999\" transform=\"translate(0,96.5)\" style=\"font-family: 'Century Gothic'; font-size: 12px; fill: rgb(42, 63, 95); fill-opacity: 1; white-space: pre; opacity: 1;\">gluten</text></g><g class=\"y3tick\"><text text-anchor=\"end\" x=\"403.90000000000003\" y=\"4.199999999999999\" transform=\"translate(0,65.9)\" style=\"font-family: 'Century Gothic'; font-size: 12px; fill: rgb(42, 63, 95); fill-opacity: 1; white-space: pre; opacity: 1;\">sugar</text></g><g class=\"y3tick\"><text text-anchor=\"end\" x=\"403.90000000000003\" y=\"4.199999999999999\" transform=\"translate(0,35.3)\" style=\"font-family: 'Century Gothic'; font-size: 12px; fill: rgb(42, 63, 95); fill-opacity: 1; white-space: pre; opacity: 1;\">free</text></g></g><g class=\"overaxes-above\"/></g><g class=\"subplot x4y4\"><g class=\"layer-subplot\"><g class=\"shapelayer\"/><g class=\"imagelayer\"/></g><g class=\"minor-gridlayer\"><g class=\"x4\"/><g class=\"y4\"/></g><g class=\"gridlayer\"><g class=\"x4\"><path class=\"x4grid crisp\" transform=\"translate(604.33,0)\" d=\"M0,20v183.59999999999997\" style=\"stroke: rgb(235, 240, 248); stroke-opacity: 1; stroke-width: 1px;\"/><path class=\"x4grid crisp\" transform=\"translate(628.32,0)\" d=\"M0,20v183.59999999999997\" style=\"stroke: rgb(235, 240, 248); stroke-opacity: 1; stroke-width: 1px;\"/><path class=\"x4grid crisp\" transform=\"translate(652.3000000000001,0)\" d=\"M0,20v183.59999999999997\" style=\"stroke: rgb(235, 240, 248); stroke-opacity: 1; stroke-width: 1px;\"/><path class=\"x4grid crisp\" transform=\"translate(676.29,0)\" d=\"M0,20v183.59999999999997\" style=\"stroke: rgb(235, 240, 248); stroke-opacity: 1; stroke-width: 1px;\"/></g><g class=\"y4\"/></g><g class=\"zerolinelayer\"><path class=\"x4zl zl crisp\" transform=\"translate(580.35,0)\" d=\"M0,20v183.59999999999997\" style=\"stroke: rgb(235, 240, 248); stroke-opacity: 1; stroke-width: 2px;\"/></g><path class=\"xlines-below\"/><path class=\"ylines-below\"/><g class=\"overlines-below\"/><g class=\"xaxislayer-below\"/><g class=\"yaxislayer-below\"/><g class=\"overaxes-below\"/><g class=\"plot\" transform=\"translate(580.35,20)\" clip-path=\"url(#clip8288d2x4y4plot)\"><g class=\"barlayer mlayer\"><g class=\"trace bars\" style=\"opacity: 1;\"><g class=\"points\"><g class=\"point\"><path d=\"M0,180.54V156.06H52.76V180.54Z\" style=\"vector-effect: none; opacity: 1; stroke-width: 0.5px; fill: rgb(171, 99, 250); fill-opacity: 1; stroke: rgb(255, 255, 255); stroke-opacity: 1;\"/></g><g class=\"point\"><path d=\"M0,149.94V125.46H55.22V149.94Z\" style=\"vector-effect: none; opacity: 1; stroke-width: 0.5px; fill: rgb(171, 99, 250); fill-opacity: 1; stroke: rgb(255, 255, 255); stroke-opacity: 1;\"/></g><g class=\"point\"><path d=\"M0,119.34V94.86H57.28V119.34Z\" style=\"vector-effect: none; opacity: 1; stroke-width: 0.5px; fill: rgb(171, 99, 250); fill-opacity: 1; stroke: rgb(255, 255, 255); stroke-opacity: 1;\"/></g><g class=\"point\"><path d=\"M0,88.74V64.26H58.46V88.74Z\" style=\"vector-effect: none; opacity: 1; stroke-width: 0.5px; fill: rgb(171, 99, 250); fill-opacity: 1; stroke: rgb(255, 255, 255); stroke-opacity: 1;\"/></g><g class=\"point\"><path d=\"M0,58.14V33.66H79.69V58.14Z\" style=\"vector-effect: none; opacity: 1; stroke-width: 0.5px; fill: rgb(171, 99, 250); fill-opacity: 1; stroke: rgb(255, 255, 255); stroke-opacity: 1;\"/></g><g class=\"point\"><path d=\"M0,27.54V3.06H106.07V27.54Z\" style=\"vector-effect: none; opacity: 1; stroke-width: 0.5px; fill: rgb(171, 99, 250); fill-opacity: 1; stroke: rgb(255, 255, 255); stroke-opacity: 1;\"/></g></g></g></g></g><g class=\"overplot\"/><path class=\"xlines-above crisp\" d=\"M0,0\" style=\"fill: none;\"/><path class=\"ylines-above crisp\" d=\"M0,0\" style=\"fill: none;\"/><g class=\"overlines-above\"/><g class=\"xaxislayer-above\"><g class=\"x4tick\"><text text-anchor=\"middle\" x=\"0\" y=\"216.59999999999997\" transform=\"translate(580.35,0)\" style=\"font-family: 'Century Gothic'; font-size: 12px; fill: rgb(42, 63, 95); fill-opacity: 1; white-space: pre; opacity: 1;\">0</text></g><g class=\"x4tick\"><text text-anchor=\"middle\" x=\"0\" y=\"216.59999999999997\" style=\"font-family: 'Century Gothic'; font-size: 12px; fill: rgb(42, 63, 95); fill-opacity: 1; white-space: pre; opacity: 1;\" transform=\"translate(604.33,0)\">5</text></g><g class=\"x4tick\"><text text-anchor=\"middle\" x=\"0\" y=\"216.59999999999997\" style=\"font-family: 'Century Gothic'; font-size: 12px; fill: rgb(42, 63, 95); fill-opacity: 1; white-space: pre; opacity: 1;\" transform=\"translate(628.32,0)\">10</text></g><g class=\"x4tick\"><text text-anchor=\"middle\" x=\"0\" y=\"216.59999999999997\" style=\"font-family: 'Century Gothic'; font-size: 12px; fill: rgb(42, 63, 95); fill-opacity: 1; white-space: pre; opacity: 1;\" transform=\"translate(652.3000000000001,0)\">15</text></g><g class=\"x4tick\"><text text-anchor=\"middle\" x=\"0\" y=\"216.59999999999997\" style=\"font-family: 'Century Gothic'; font-size: 12px; fill: rgb(42, 63, 95); fill-opacity: 1; white-space: pre; opacity: 1;\" transform=\"translate(676.29,0)\">20</text></g></g><g class=\"yaxislayer-above\"><g class=\"y4tick\"><text text-anchor=\"end\" x=\"579.35\" y=\"4.199999999999999\" transform=\"translate(0,188.3)\" style=\"font-family: 'Century Gothic'; font-size: 12px; fill: rgb(42, 63, 95); fill-opacity: 1; white-space: pre; opacity: 1;\">time</text></g><g class=\"y4tick\"><text text-anchor=\"end\" x=\"579.35\" y=\"4.199999999999999\" transform=\"translate(0,157.7)\" style=\"font-family: 'Century Gothic'; font-size: 12px; fill: rgb(42, 63, 95); fill-opacity: 1; white-space: pre; opacity: 1;\">order</text></g><g class=\"y4tick\"><text text-anchor=\"end\" x=\"579.35\" y=\"4.199999999999999\" transform=\"translate(0,127.1)\" style=\"font-family: 'Century Gothic'; font-size: 12px; fill: rgb(42, 63, 95); fill-opacity: 1; white-space: pre; opacity: 1;\">amazon</text></g><g class=\"y4tick\"><text text-anchor=\"end\" x=\"579.35\" y=\"4.199999999999999\" transform=\"translate(0,96.5)\" style=\"font-family: 'Century Gothic'; font-size: 12px; fill: rgb(42, 63, 95); fill-opacity: 1; white-space: pre; opacity: 1;\">little</text></g><g class=\"y4tick\"><text text-anchor=\"end\" x=\"579.35\" y=\"4.199999999999999\" transform=\"translate(0,65.9)\" style=\"font-family: 'Century Gothic'; font-size: 12px; fill: rgb(42, 63, 95); fill-opacity: 1; white-space: pre; opacity: 1;\">sauce</text></g><g class=\"y4tick\"><text text-anchor=\"end\" x=\"579.35\" y=\"4.199999999999999\" transform=\"translate(0,35.3)\" style=\"font-family: 'Century Gothic'; font-size: 12px; fill: rgb(42, 63, 95); fill-opacity: 1; white-space: pre; opacity: 1;\">price</text></g></g><g class=\"overaxes-above\"/></g><g class=\"subplot x5y5\"><g class=\"layer-subplot\"><g class=\"shapelayer\"/><g class=\"imagelayer\"/></g><g class=\"minor-gridlayer\"><g class=\"x5\"/><g class=\"y5\"/></g><g class=\"gridlayer\"><g class=\"x5\"><path class=\"x5grid crisp\" transform=\"translate(83.86,0)\" d=\"M0,295.4v183.60000000000002\" style=\"stroke: rgb(235, 240, 248); stroke-opacity: 1; stroke-width: 1px;\"/><path class=\"x5grid crisp\" transform=\"translate(113.71000000000001,0)\" d=\"M0,295.4v183.60000000000002\" style=\"stroke: rgb(235, 240, 248); stroke-opacity: 1; stroke-width: 1px;\"/><path class=\"x5grid crisp\" transform=\"translate(143.57,0)\" d=\"M0,295.4v183.60000000000002\" style=\"stroke: rgb(235, 240, 248); stroke-opacity: 1; stroke-width: 1px;\"/></g><g class=\"y5\"/></g><g class=\"zerolinelayer\"><path class=\"x5zl zl crisp\" transform=\"translate(54,0)\" d=\"M0,295.4v183.60000000000002\" style=\"stroke: rgb(235, 240, 248); stroke-opacity: 1; stroke-width: 2px;\"/></g><path class=\"xlines-below\"/><path class=\"ylines-below\"/><g class=\"overlines-below\"/><g class=\"xaxislayer-below\"/><g class=\"yaxislayer-below\"/><g class=\"overaxes-below\"/><g class=\"plot\" transform=\"translate(54,295.4)\" clip-path=\"url(#clip8288d2x5y5plot)\"><g class=\"barlayer mlayer\"><g class=\"trace bars\" style=\"opacity: 1;\"><g class=\"points\"><g class=\"point\"><path d=\"M0,180.54V156.06H76.79V180.54Z\" style=\"vector-effect: none; opacity: 1; stroke-width: 0.5px; fill: rgb(255, 161, 90); fill-opacity: 1; stroke: rgb(255, 255, 255); stroke-opacity: 1;\"/></g><g class=\"point\"><path d=\"M0,149.94V125.46H77.5V149.94Z\" style=\"vector-effect: none; opacity: 1; stroke-width: 0.5px; fill: rgb(255, 161, 90); fill-opacity: 1; stroke: rgb(255, 255, 255); stroke-opacity: 1;\"/></g><g class=\"point\"><path d=\"M0,119.34V94.86H82.06V119.34Z\" style=\"vector-effect: none; opacity: 1; stroke-width: 0.5px; fill: rgb(255, 161, 90); fill-opacity: 1; stroke: rgb(255, 255, 255); stroke-opacity: 1;\"/></g><g class=\"point\"><path d=\"M0,88.74V64.26H91.04V88.74Z\" style=\"vector-effect: none; opacity: 1; stroke-width: 0.5px; fill: rgb(255, 161, 90); fill-opacity: 1; stroke: rgb(255, 255, 255); stroke-opacity: 1;\"/></g><g class=\"point\"><path d=\"M0,58.14V33.66H99.65V58.14Z\" style=\"vector-effect: none; opacity: 1; stroke-width: 0.5px; fill: rgb(255, 161, 90); fill-opacity: 1; stroke: rgb(255, 255, 255); stroke-opacity: 1;\"/></g><g class=\"point\"><path d=\"M0,27.54V3.06H106.07V27.54Z\" style=\"vector-effect: none; opacity: 1; stroke-width: 0.5px; fill: rgb(255, 161, 90); fill-opacity: 1; stroke: rgb(255, 255, 255); stroke-opacity: 1;\"/></g></g></g></g></g><g class=\"overplot\"/><path class=\"xlines-above crisp\" d=\"M0,0\" style=\"fill: none;\"/><path class=\"ylines-above crisp\" d=\"M0,0\" style=\"fill: none;\"/><g class=\"overlines-above\"/><g class=\"xaxislayer-above\"><g class=\"x5tick\"><text text-anchor=\"middle\" x=\"0\" y=\"492\" transform=\"translate(54,0)\" style=\"font-family: 'Century Gothic'; font-size: 12px; fill: rgb(42, 63, 95); fill-opacity: 1; white-space: pre; opacity: 1;\">0</text></g><g class=\"x5tick\"><text text-anchor=\"middle\" x=\"0\" y=\"492\" style=\"font-family: 'Century Gothic'; font-size: 12px; fill: rgb(42, 63, 95); fill-opacity: 1; white-space: pre; opacity: 1;\" transform=\"translate(83.86,0)\">2</text></g><g class=\"x5tick\"><text text-anchor=\"middle\" x=\"0\" y=\"492\" style=\"font-family: 'Century Gothic'; font-size: 12px; fill: rgb(42, 63, 95); fill-opacity: 1; white-space: pre; opacity: 1;\" transform=\"translate(113.71000000000001,0)\">4</text></g><g class=\"x5tick\"><text text-anchor=\"middle\" x=\"0\" y=\"492\" style=\"font-family: 'Century Gothic'; font-size: 12px; fill: rgb(42, 63, 95); fill-opacity: 1; white-space: pre; opacity: 1;\" transform=\"translate(143.57,0)\">6</text></g></g><g class=\"yaxislayer-above\"><g class=\"y5tick\"><text text-anchor=\"end\" x=\"53\" y=\"4.199999999999999\" transform=\"translate(0,463.7)\" style=\"font-family: 'Century Gothic'; font-size: 12px; fill: rgb(42, 63, 95); fill-opacity: 1; white-space: pre; opacity: 1;\">amazon</text></g><g class=\"y5tick\"><text text-anchor=\"end\" x=\"53\" y=\"4.199999999999999\" transform=\"translate(0,433.09999999999997)\" style=\"font-family: 'Century Gothic'; font-size: 12px; fill: rgb(42, 63, 95); fill-opacity: 1; white-space: pre; opacity: 1;\">local</text></g><g class=\"y5tick\"><text text-anchor=\"end\" x=\"53\" y=\"4.199999999999999\" transform=\"translate(0,402.5)\" style=\"font-family: 'Century Gothic'; font-size: 12px; fill: rgb(42, 63, 95); fill-opacity: 1; white-space: pre; opacity: 1;\">cake</text></g><g class=\"y5tick\"><text text-anchor=\"end\" x=\"53\" y=\"4.199999999999999\" transform=\"translate(0,371.9)\" style=\"font-family: 'Century Gothic'; font-size: 12px; fill: rgb(42, 63, 95); fill-opacity: 1; white-space: pre; opacity: 1;\">store</text></g><g class=\"y5tick\"><text text-anchor=\"end\" x=\"53\" y=\"4.199999999999999\" transform=\"translate(0,341.29999999999995)\" style=\"font-family: 'Century Gothic'; font-size: 12px; fill: rgb(42, 63, 95); fill-opacity: 1; white-space: pre; opacity: 1;\">price</text></g><g class=\"y5tick\"><text text-anchor=\"end\" x=\"53\" y=\"4.199999999999999\" transform=\"translate(0,310.7)\" style=\"font-family: 'Century Gothic'; font-size: 12px; fill: rgb(42, 63, 95); fill-opacity: 1; white-space: pre; opacity: 1;\">bread</text></g></g><g class=\"overaxes-above\"/></g><g class=\"subplot x6y6\"><g class=\"layer-subplot\"><g class=\"shapelayer\"/><g class=\"imagelayer\"/></g><g class=\"minor-gridlayer\"><g class=\"x6\"/><g class=\"y6\"/></g><g class=\"gridlayer\"><g class=\"x6\"><path class=\"x6grid crisp\" transform=\"translate(252.19000000000003,0)\" d=\"M0,295.4v183.60000000000002\" style=\"stroke: rgb(235, 240, 248); stroke-opacity: 1; stroke-width: 1px;\"/><path class=\"x6grid crisp\" transform=\"translate(274.92,0)\" d=\"M0,295.4v183.60000000000002\" style=\"stroke: rgb(235, 240, 248); stroke-opacity: 1; stroke-width: 1px;\"/><path class=\"x6grid crisp\" transform=\"translate(297.66,0)\" d=\"M0,295.4v183.60000000000002\" style=\"stroke: rgb(235, 240, 248); stroke-opacity: 1; stroke-width: 1px;\"/><path class=\"x6grid crisp\" transform=\"translate(320.39,0)\" d=\"M0,295.4v183.60000000000002\" style=\"stroke: rgb(235, 240, 248); stroke-opacity: 1; stroke-width: 1px;\"/></g><g class=\"y6\"/></g><g class=\"zerolinelayer\"><path class=\"x6zl zl crisp\" transform=\"translate(229.45000000000002,0)\" d=\"M0,295.4v183.60000000000002\" style=\"stroke: rgb(235, 240, 248); stroke-opacity: 1; stroke-width: 2px;\"/></g><path class=\"xlines-below\"/><path class=\"ylines-below\"/><g class=\"overlines-below\"/><g class=\"xaxislayer-below\"/><g class=\"yaxislayer-below\"/><g class=\"overaxes-below\"/><g class=\"plot\" transform=\"translate(229.45000000000002,295.4)\" clip-path=\"url(#clip8288d2x6y6plot)\"><g class=\"barlayer mlayer\"><g class=\"trace bars\" style=\"opacity: 1;\"><g class=\"points\"><g class=\"point\"><path d=\"M0,180.54V156.06H65.8V180.54Z\" style=\"vector-effect: none; opacity: 1; stroke-width: 0.5px; fill: rgb(25, 211, 243); fill-opacity: 1; stroke: rgb(255, 255, 255); stroke-opacity: 1;\"/></g><g class=\"point\"><path d=\"M0,149.94V125.46H71.1V149.94Z\" style=\"vector-effect: none; opacity: 1; stroke-width: 0.5px; fill: rgb(25, 211, 243); fill-opacity: 1; stroke: rgb(255, 255, 255); stroke-opacity: 1;\"/></g><g class=\"point\"><path d=\"M0,119.34V94.86H79.77V119.34Z\" style=\"vector-effect: none; opacity: 1; stroke-width: 0.5px; fill: rgb(25, 211, 243); fill-opacity: 1; stroke: rgb(255, 255, 255); stroke-opacity: 1;\"/></g><g class=\"point\"><path d=\"M0,88.74V64.26H80.21V88.74Z\" style=\"vector-effect: none; opacity: 1; stroke-width: 0.5px; fill: rgb(25, 211, 243); fill-opacity: 1; stroke: rgb(255, 255, 255); stroke-opacity: 1;\"/></g><g class=\"point\"><path d=\"M0,58.14V33.66H89.83V58.14Z\" style=\"vector-effect: none; opacity: 1; stroke-width: 0.5px; fill: rgb(25, 211, 243); fill-opacity: 1; stroke: rgb(255, 255, 255); stroke-opacity: 1;\"/></g><g class=\"point\"><path d=\"M0,27.54V3.06H106.07V27.54Z\" style=\"vector-effect: none; opacity: 1; stroke-width: 0.5px; fill: rgb(25, 211, 243); fill-opacity: 1; stroke: rgb(255, 255, 255); stroke-opacity: 1;\"/></g></g></g></g></g><g class=\"overplot\"/><path class=\"xlines-above crisp\" d=\"M0,0\" style=\"fill: none;\"/><path class=\"ylines-above crisp\" d=\"M0,0\" style=\"fill: none;\"/><g class=\"overlines-above\"/><g class=\"xaxislayer-above\"><g class=\"x6tick\"><text text-anchor=\"middle\" x=\"0\" y=\"492\" transform=\"translate(229.45000000000002,0)\" style=\"font-family: 'Century Gothic'; font-size: 12px; fill: rgb(42, 63, 95); fill-opacity: 1; white-space: pre; opacity: 1;\">0</text></g><g class=\"x6tick\"><text text-anchor=\"middle\" x=\"0\" y=\"492\" style=\"font-family: 'Century Gothic'; font-size: 12px; fill: rgb(42, 63, 95); fill-opacity: 1; white-space: pre; opacity: 1;\" transform=\"translate(252.19000000000003,0)\">2</text></g><g class=\"x6tick\"><text text-anchor=\"middle\" x=\"0\" y=\"492\" style=\"font-family: 'Century Gothic'; font-size: 12px; fill: rgb(42, 63, 95); fill-opacity: 1; white-space: pre; opacity: 1;\" transform=\"translate(274.92,0)\">4</text></g><g class=\"x6tick\"><text text-anchor=\"middle\" x=\"0\" y=\"492\" style=\"font-family: 'Century Gothic'; font-size: 12px; fill: rgb(42, 63, 95); fill-opacity: 1; white-space: pre; opacity: 1;\" transform=\"translate(297.66,0)\">6</text></g><g class=\"x6tick\"><text text-anchor=\"middle\" x=\"0\" y=\"492\" style=\"font-family: 'Century Gothic'; font-size: 12px; fill: rgb(42, 63, 95); fill-opacity: 1; white-space: pre; opacity: 1;\" transform=\"translate(320.39,0)\">8</text></g></g><g class=\"yaxislayer-above\"><g class=\"y6tick\"><text text-anchor=\"end\" x=\"228.45000000000002\" y=\"4.199999999999999\" transform=\"translate(0,463.7)\" style=\"font-family: 'Century Gothic'; font-size: 12px; fill: rgb(42, 63, 95); fill-opacity: 1; white-space: pre; opacity: 1;\">easy</text></g><g class=\"y6tick\"><text text-anchor=\"end\" x=\"228.45000000000002\" y=\"4.199999999999999\" transform=\"translate(0,433.09999999999997)\" style=\"font-family: 'Century Gothic'; font-size: 12px; fill: rgb(42, 63, 95); fill-opacity: 1; white-space: pre; opacity: 1;\">soup</text></g><g class=\"y6tick\"><text text-anchor=\"end\" x=\"228.45000000000002\" y=\"4.199999999999999\" transform=\"translate(0,402.5)\" style=\"font-family: 'Century Gothic'; font-size: 12px; fill: rgb(42, 63, 95); fill-opacity: 1; white-space: pre; opacity: 1;\">rice</text></g><g class=\"y6tick\"><text text-anchor=\"end\" x=\"228.45000000000002\" y=\"4.199999999999999\" transform=\"translate(0,371.9)\" style=\"font-family: 'Century Gothic'; font-size: 12px; fill: rgb(42, 63, 95); fill-opacity: 1; white-space: pre; opacity: 1;\">tasty</text></g><g class=\"y6tick\"><text text-anchor=\"end\" x=\"228.45000000000002\" y=\"4.199999999999999\" transform=\"translate(0,341.29999999999995)\" style=\"font-family: 'Century Gothic'; font-size: 12px; fill: rgb(42, 63, 95); fill-opacity: 1; white-space: pre; opacity: 1;\">pasta</text></g><g class=\"y6tick\"><text text-anchor=\"end\" x=\"228.45000000000002\" y=\"4.199999999999999\" transform=\"translate(0,310.7)\" style=\"font-family: 'Century Gothic'; font-size: 12px; fill: rgb(42, 63, 95); fill-opacity: 1; white-space: pre; opacity: 1;\">noodles</text></g></g><g class=\"overaxes-above\"/></g><g class=\"subplot x7y7\"><g class=\"layer-subplot\"><g class=\"shapelayer\"/><g class=\"imagelayer\"/></g><g class=\"minor-gridlayer\"><g class=\"x7\"/><g class=\"y7\"/></g><g class=\"gridlayer\"><g class=\"x7\"><path class=\"x7grid crisp\" transform=\"translate(433.8,0)\" d=\"M0,295.4v183.60000000000002\" style=\"stroke: rgb(235, 240, 248); stroke-opacity: 1; stroke-width: 1px;\"/><path class=\"x7grid crisp\" transform=\"translate(462.70000000000005,0)\" d=\"M0,295.4v183.60000000000002\" style=\"stroke: rgb(235, 240, 248); stroke-opacity: 1; stroke-width: 1px;\"/><path class=\"x7grid crisp\" transform=\"translate(491.6,0)\" d=\"M0,295.4v183.60000000000002\" style=\"stroke: rgb(235, 240, 248); stroke-opacity: 1; stroke-width: 1px;\"/></g><g class=\"y7\"/></g><g class=\"zerolinelayer\"><path class=\"x7zl zl crisp\" transform=\"translate(404.90000000000003,0)\" d=\"M0,295.4v183.60000000000002\" style=\"stroke: rgb(235, 240, 248); stroke-opacity: 1; stroke-width: 2px;\"/></g><path class=\"xlines-below\"/><path class=\"ylines-below\"/><g class=\"overlines-below\"/><g class=\"xaxislayer-below\"/><g class=\"yaxislayer-below\"/><g class=\"overaxes-below\"/><g class=\"plot\" transform=\"translate(404.90000000000003,295.4)\" clip-path=\"url(#clip8288d2x7y7plot)\"><g class=\"barlayer mlayer\"><g class=\"trace bars\" style=\"opacity: 1;\"><g class=\"points\"><g class=\"point\"><path d=\"M0,180.54V156.06H52.9V180.54Z\" style=\"vector-effect: none; opacity: 1; stroke-width: 0.5px; fill: rgb(255, 102, 146); fill-opacity: 1; stroke: rgb(255, 255, 255); stroke-opacity: 1;\"/></g><g class=\"point\"><path d=\"M0,149.94V125.46H53.47V149.94Z\" style=\"vector-effect: none; opacity: 1; stroke-width: 0.5px; fill: rgb(255, 102, 146); fill-opacity: 1; stroke: rgb(255, 255, 255); stroke-opacity: 1;\"/></g><g class=\"point\"><path d=\"M0,119.34V94.86H56.64V119.34Z\" style=\"vector-effect: none; opacity: 1; stroke-width: 0.5px; fill: rgb(255, 102, 146); fill-opacity: 1; stroke: rgb(255, 255, 255); stroke-opacity: 1;\"/></g><g class=\"point\"><path d=\"M0,88.74V64.26H66.29V88.74Z\" style=\"vector-effect: none; opacity: 1; stroke-width: 0.5px; fill: rgb(255, 102, 146); fill-opacity: 1; stroke: rgb(255, 255, 255); stroke-opacity: 1;\"/></g><g class=\"point\"><path d=\"M0,58.14V33.66H75.72V58.14Z\" style=\"vector-effect: none; opacity: 1; stroke-width: 0.5px; fill: rgb(255, 102, 146); fill-opacity: 1; stroke: rgb(255, 255, 255); stroke-opacity: 1;\"/></g><g class=\"point\"><path d=\"M0,27.54V3.06H106.07V27.54Z\" style=\"vector-effect: none; opacity: 1; stroke-width: 0.5px; fill: rgb(255, 102, 146); fill-opacity: 1; stroke: rgb(255, 255, 255); stroke-opacity: 1;\"/></g></g></g></g></g><g class=\"overplot\"/><path class=\"xlines-above crisp\" d=\"M0,0\" style=\"fill: none;\"/><path class=\"ylines-above crisp\" d=\"M0,0\" style=\"fill: none;\"/><g class=\"overlines-above\"/><g class=\"xaxislayer-above\"><g class=\"x7tick\"><text text-anchor=\"middle\" x=\"0\" y=\"492\" transform=\"translate(404.90000000000003,0)\" style=\"font-family: 'Century Gothic'; font-size: 12px; fill: rgb(42, 63, 95); fill-opacity: 1; white-space: pre; opacity: 1;\">0</text></g><g class=\"x7tick\"><text text-anchor=\"middle\" x=\"0\" y=\"492\" style=\"font-family: 'Century Gothic'; font-size: 12px; fill: rgb(42, 63, 95); fill-opacity: 1; white-space: pre; opacity: 1;\" transform=\"translate(433.8,0)\">5</text></g><g class=\"x7tick\"><text text-anchor=\"middle\" x=\"0\" y=\"492\" style=\"font-family: 'Century Gothic'; font-size: 12px; fill: rgb(42, 63, 95); fill-opacity: 1; white-space: pre; opacity: 1;\" transform=\"translate(462.70000000000005,0)\">10</text></g><g class=\"x7tick\"><text text-anchor=\"middle\" x=\"0\" y=\"492\" style=\"font-family: 'Century Gothic'; font-size: 12px; fill: rgb(42, 63, 95); fill-opacity: 1; white-space: pre; opacity: 1;\" transform=\"translate(491.6,0)\">15</text></g></g><g class=\"yaxislayer-above\"><g class=\"y7tick\"><text text-anchor=\"end\" x=\"403.90000000000003\" y=\"4.199999999999999\" transform=\"translate(0,463.7)\" style=\"font-family: 'Century Gothic'; font-size: 12px; fill: rgb(42, 63, 95); fill-opacity: 1; white-space: pre; opacity: 1;\">price</text></g><g class=\"y7tick\"><text text-anchor=\"end\" x=\"403.90000000000003\" y=\"4.199999999999999\" transform=\"translate(0,433.09999999999997)\" style=\"font-family: 'Century Gothic'; font-size: 12px; fill: rgb(42, 63, 95); fill-opacity: 1; white-space: pre; opacity: 1;\">cat</text></g><g class=\"y7tick\"><text text-anchor=\"end\" x=\"403.90000000000003\" y=\"4.199999999999999\" transform=\"translate(0,402.5)\" style=\"font-family: 'Century Gothic'; font-size: 12px; fill: rgb(42, 63, 95); fill-opacity: 1; white-space: pre; opacity: 1;\">cats</text></g><g class=\"y7tick\"><text text-anchor=\"end\" x=\"403.90000000000003\" y=\"4.199999999999999\" transform=\"translate(0,371.9)\" style=\"font-family: 'Century Gothic'; font-size: 12px; fill: rgb(42, 63, 95); fill-opacity: 1; white-space: pre; opacity: 1;\">treats</text></g><g class=\"y7tick\"><text text-anchor=\"end\" x=\"403.90000000000003\" y=\"4.199999999999999\" transform=\"translate(0,341.29999999999995)\" style=\"font-family: 'Century Gothic'; font-size: 12px; fill: rgb(42, 63, 95); fill-opacity: 1; white-space: pre; opacity: 1;\">dogs</text></g><g class=\"y7tick\"><text text-anchor=\"end\" x=\"403.90000000000003\" y=\"4.199999999999999\" transform=\"translate(0,310.7)\" style=\"font-family: 'Century Gothic'; font-size: 12px; fill: rgb(42, 63, 95); fill-opacity: 1; white-space: pre; opacity: 1;\">dog</text></g></g><g class=\"overaxes-above\"/></g></g><g class=\"polarlayer\"/><g class=\"smithlayer\"/><g class=\"ternarylayer\"/><g class=\"geolayer\"/><g class=\"funnelarealayer\"/><g class=\"pielayer\"/><g class=\"iciclelayer\"/><g class=\"treemaplayer\"/><g class=\"sunburstlayer\"/><g class=\"glimages\"/><defs id=\"topdefs-8288d2\"><g class=\"clips\"/></defs><g class=\"layer-above\"><g class=\"imagelayer\"/><g class=\"shapelayer\"/></g><g class=\"infolayer\"><g class=\"g-gtitle\"/><g class=\"g-xtitle\"/><g class=\"g-x2title\"/><g class=\"g-x3title\"/><g class=\"g-x4title\"/><g class=\"g-x5title\"/><g class=\"g-x6title\"/><g class=\"g-x7title\"/><g class=\"g-ytitle\"/><g class=\"g-y2title\"/><g class=\"g-y3title\"/><g class=\"g-y4title\"/><g class=\"g-y5title\"/><g class=\"g-y6title\"/><g class=\"g-y7title\"/><g class=\"annotation\" data-index=\"0\" style=\"opacity: 1;\"><g class=\"annotation-text-g\" transform=\"rotate(0,109.82499999999999,7.999999999999998)\"><g class=\"cursor-pointer\" transform=\"translate(86,-4)\"><rect class=\"bg\" x=\"0.5\" y=\"0.5\" width=\"47\" height=\"23\" style=\"stroke-width: 1px; stroke: rgb(0, 0, 0); stroke-opacity: 0; fill: rgb(0, 0, 0); fill-opacity: 0;\"/><text class=\"annotation-text\" text-anchor=\"middle\" x=\"23.96875\" y=\"18\" style=\"font-family: 'Century Gothic'; font-size: 16px; fill: rgb(42, 63, 95); fill-opacity: 1; white-space: pre;\">Drinks</text></g></g></g><g class=\"annotation\" data-index=\"1\" style=\"opacity: 1;\"><g class=\"annotation-text-g\" transform=\"rotate(0,285.27500000000003,7.999999999999998)\"><g class=\"cursor-pointer\" transform=\"translate(256,-4)\"><rect class=\"bg\" x=\"0.5\" y=\"0.5\" width=\"57\" height=\"23\" style=\"stroke-width: 1px; stroke: rgb(0, 0, 0); stroke-opacity: 0; fill: rgb(0, 0, 0); fill-opacity: 0;\"/><text class=\"annotation-text\" text-anchor=\"middle\" x=\"29.625\" y=\"18\" style=\"font-family: 'Century Gothic'; font-size: 16px; fill: rgb(42, 63, 95); fill-opacity: 1; white-space: pre;\">Snacks</text></g></g></g><g class=\"annotation\" data-index=\"2\" style=\"opacity: 1;\"><g class=\"annotation-text-g\" transform=\"rotate(0,460.725,7.9999999999999964)\"><g class=\"cursor-pointer\" transform=\"translate(416,-4)\"><rect class=\"bg\" x=\"0.5\" y=\"0.5\" width=\"88\" height=\"23\" style=\"stroke-width: 1px; stroke: rgb(0, 0, 0); stroke-opacity: 0; fill: rgb(0, 0, 0); fill-opacity: 0;\"/><text class=\"annotation-text\" text-anchor=\"middle\" x=\"44.65625\" y=\"18\" style=\"font-family: 'Century Gothic'; font-size: 16px; fill: rgb(42, 63, 95); fill-opacity: 1; white-space: pre;\">Ingredients</text></g></g></g><g class=\"annotation\" data-index=\"3\" style=\"opacity: 1;\"><g class=\"annotation-text-g\" transform=\"rotate(0,636.175,7.999999999999998)\"><g class=\"cursor-pointer\" transform=\"translate(606,-4)\"><rect class=\"bg\" x=\"0.5\" y=\"0.5\" width=\"60\" height=\"23\" style=\"stroke-width: 1px; stroke: rgb(0, 0, 0); stroke-opacity: 0; fill: rgb(0, 0, 0); fill-opacity: 0;\"/><text class=\"annotation-text\" text-anchor=\"middle\" x=\"29.890625\" y=\"18\" style=\"font-family: 'Century Gothic'; font-size: 16px; fill: rgb(42, 63, 95); fill-opacity: 1; white-space: pre;\">Flavour</text></g></g></g><g class=\"annotation\" data-index=\"4\" style=\"opacity: 1;\"><g class=\"annotation-text-g\" transform=\"rotate(0,109.82499999999999,283.4)\"><g class=\"cursor-pointer\" transform=\"translate(55,271)\"><rect class=\"bg\" x=\"0.5\" y=\"0.5\" width=\"109\" height=\"23\" style=\"stroke-width: 1px; stroke: rgb(0, 0, 0); stroke-opacity: 0; fill: rgb(0, 0, 0); fill-opacity: 0;\"/><text class=\"annotation-text\" text-anchor=\"middle\" x=\"55.015625\" y=\"18\" style=\"font-family: 'Century Gothic'; font-size: 16px; fill: rgb(42, 63, 95); fill-opacity: 1; white-space: pre;\">Baked Goods</text></g></g></g><g class=\"annotation\" data-index=\"5\" style=\"opacity: 1;\"><g class=\"annotation-text-g\" transform=\"rotate(0,285.27500000000003,283.4)\"><g class=\"cursor-pointer\" transform=\"translate(219,271)\"><rect class=\"bg\" x=\"0.5\" y=\"0.5\" width=\"131\" height=\"23\" style=\"stroke-width: 1px; stroke: rgb(0, 0, 0); stroke-opacity: 0; fill: rgb(0, 0, 0); fill-opacity: 0;\"/><text class=\"annotation-text\" text-anchor=\"middle\" x=\"65.75\" y=\"18\" style=\"font-family: 'Century Gothic'; font-size: 16px; fill: rgb(42, 63, 95); fill-opacity: 1; white-space: pre;\">Noodles &amp; Pasta</text></g></g></g><g class=\"annotation\" data-index=\"6\" style=\"opacity: 1;\"><g class=\"annotation-text-g\" transform=\"rotate(0,460.725,283.4)\"><g class=\"cursor-pointer\" transform=\"translate(424,271)\"><rect class=\"bg\" x=\"0.5\" y=\"0.5\" width=\"72\" height=\"23\" style=\"stroke-width: 1px; stroke: rgb(0, 0, 0); stroke-opacity: 0; fill: rgb(0, 0, 0); fill-opacity: 0;\"/><text class=\"annotation-text\" text-anchor=\"middle\" x=\"36.703125\" y=\"18\" style=\"font-family: 'Century Gothic'; font-size: 16px; fill: rgb(42, 63, 95); fill-opacity: 1; white-space: pre;\">Pet Food</text></g></g></g></g></svg>"
      ]
     },
     "metadata": {},
     "output_type": "display_data"
    }
   ],
   "source": [
    "topics_pie_chart_fig = topics_pie_chart(vis_df)\n",
    "topics_bar_chart_fig = topics_bar_chart_over_time(vis_df, time_frame='Q')\n",
    "top_key_words_fig = visualise_all_topics(vis_df)\n",
    "\n",
    "display(topics_pie_chart_fig.update_layout(width = 500, height = 300, title='Frequency of topics'))\n",
    "display(topics_bar_chart_fig.update_layout(title='Topics over Time'))\n",
    "display(top_key_words_fig)"
   ]
  },
  {
   "attachments": {},
   "cell_type": "markdown",
   "metadata": {},
   "source": [
    "### Visualizations for specific topic"
   ]
  },
  {
   "cell_type": "code",
   "execution_count": 7,
   "metadata": {},
   "outputs": [
    {
     "data": {
      "image/svg+xml": [
       "<svg class=\"main-svg\" xmlns=\"http://www.w3.org/2000/svg\" xmlns:xlink=\"http://www.w3.org/1999/xlink\" width=\"500\" height=\"300\" style=\"\" viewBox=\"0 0 500 300\"><rect x=\"0\" y=\"0\" width=\"500\" height=\"300\" style=\"fill: rgb(255, 255, 255); fill-opacity: 1;\"/><defs id=\"defs-8fa300\"><g class=\"clips\"/><g class=\"gradients\"/><g class=\"patterns\"/></defs><g class=\"bglayer\"/><g class=\"layer-below\"><g class=\"imagelayer\"/><g class=\"shapelayer\"/></g><g class=\"cartesianlayer\"/><g class=\"polarlayer\"/><g class=\"smithlayer\"/><g class=\"ternarylayer\"/><g class=\"geolayer\"/><g class=\"funnelarealayer\"/><g class=\"pielayer\"><g class=\"trace\" stroke-linejoin=\"round\" style=\"opacity: 1;\"><g class=\"slice\"><path class=\"surface\" d=\"M209,166.5l0,-113.5a113.5,113.5 0 1 1 -111.07080058751288,90.14347506907443Z\" style=\"pointer-events: none; stroke-width: 0; fill: rgb(0, 204, 150); fill-opacity: 1; stroke: rgb(68, 68, 68); stroke-opacity: 1;\"/><g class=\"slicetext\"><text data-notex=\"1\" class=\"slicetext\" transform=\"translate(244.41029640781537,215.0641798682048)\" text-anchor=\"middle\" x=\"0\" y=\"0\" style=\"font-family: 'Century Gothic'; font-size: 12px; fill: rgb(68, 68, 68); fill-opacity: 1; white-space: pre;\">78.3%</text></g></g><g class=\"slice\"><path class=\"surface\" d=\"M209,166.5l-111.07080058751288,-23.356524930925605a113.5,113.5 0 0 1 111.07080058751288,-90.1434750690744Z\" style=\"pointer-events: none; stroke-width: 0; fill: rgb(239, 85, 59); fill-opacity: 1; stroke: rgb(68, 68, 68); stroke-opacity: 1;\"/><g class=\"slicetext\"><text data-notex=\"1\" class=\"slicetext\" transform=\"translate(164.7732950700802,116.93899123760077)\" text-anchor=\"middle\" x=\"0\" y=\"0\" style=\"font-family: 'Century Gothic'; font-size: 12px; fill: rgb(68, 68, 68); fill-opacity: 1; white-space: pre;\">21.7%</text></g></g></g></g><g class=\"iciclelayer\"/><g class=\"treemaplayer\"/><g class=\"sunburstlayer\"/><g class=\"glimages\"/><defs id=\"topdefs-8fa300\"><g class=\"clips\"/><clipPath id=\"legend8fa300\"><rect width=\"98\" height=\"48\" x=\"0\" y=\"0\"/></clipPath></defs><g class=\"layer-above\"><g class=\"imagelayer\"/><g class=\"shapelayer\"/></g><g class=\"infolayer\"><g class=\"legend\" pointer-events=\"all\" transform=\"translate(396.59999999999997,5)\"><rect class=\"bg\" shape-rendering=\"crispEdges\" width=\"98\" height=\"48\" x=\"0\" y=\"0\" style=\"stroke: rgb(68, 68, 68); stroke-opacity: 1; fill: rgb(255, 255, 255); fill-opacity: 1; stroke-width: 0px;\"/><g class=\"scrollbox\" transform=\"\" clip-path=\"url(#legend8fa300)\"><g class=\"groups\"><g class=\"traces\" transform=\"translate(0,14.5)\" style=\"opacity: 1;\"><text class=\"legendtext\" text-anchor=\"start\" x=\"40\" y=\"4.680000000000001\" style=\"font-family: 'Century Gothic'; font-size: 12px; fill: rgb(42, 63, 95); fill-opacity: 1; white-space: pre;\">positive</text><g class=\"layers\" style=\"opacity: 1;\"><g class=\"legendfill\"/><g class=\"legendlines\"/><g class=\"legendsymbols\"><g class=\"legendpoints\"><path class=\"legendpie\" d=\"M6,6H-6V-6H6Z\" transform=\"translate(20,0)\" style=\"stroke-width: 0; fill: rgb(0, 204, 150); fill-opacity: 1; stroke: rgb(68, 68, 68); stroke-opacity: 1;\"/></g></g></g><rect class=\"legendtoggle\" x=\"0\" y=\"-9.5\" width=\"92.515625\" height=\"19\" style=\"fill: rgb(0, 0, 0); fill-opacity: 0;\"/></g><g class=\"traces\" transform=\"translate(0,33.5)\" style=\"opacity: 1;\"><text class=\"legendtext\" text-anchor=\"start\" x=\"40\" y=\"4.680000000000001\" style=\"font-family: 'Century Gothic'; font-size: 12px; fill: rgb(42, 63, 95); fill-opacity: 1; white-space: pre;\">negative</text><g class=\"layers\" style=\"opacity: 1;\"><g class=\"legendfill\"/><g class=\"legendlines\"/><g class=\"legendsymbols\"><g class=\"legendpoints\"><path class=\"legendpie\" d=\"M6,6H-6V-6H6Z\" transform=\"translate(20,0)\" style=\"stroke-width: 0; fill: rgb(239, 85, 59); fill-opacity: 1; stroke: rgb(68, 68, 68); stroke-opacity: 1;\"/></g></g></g><rect class=\"legendtoggle\" x=\"0\" y=\"-9.5\" width=\"92.515625\" height=\"19\" style=\"fill: rgb(0, 0, 0); fill-opacity: 0;\"/></g></g></g><rect class=\"scrollbar\" rx=\"20\" ry=\"3\" width=\"0\" height=\"0\" x=\"0\" y=\"0\" style=\"fill: rgb(128, 139, 164); fill-opacity: 1;\"/></g><g class=\"g-gtitle\"><text class=\"gtitle\" x=\"25\" y=\"26.5\" text-anchor=\"start\" dy=\"0em\" style=\"font-family: 'Century Gothic'; font-size: 17px; fill: rgb(42, 63, 95); opacity: 1; font-weight: normal; white-space: pre;\">Sentiment Breakdown for Drinks</text></g></g></svg>"
      ]
     },
     "metadata": {},
     "output_type": "display_data"
    },
    {
     "data": {
      "image/svg+xml": [
       "<svg class=\"main-svg\" xmlns=\"http://www.w3.org/2000/svg\" xmlns:xlink=\"http://www.w3.org/1999/xlink\" width=\"500\" height=\"300\" style=\"\" viewBox=\"0 0 500 300\"><rect x=\"0\" y=\"0\" width=\"500\" height=\"300\" style=\"fill: rgb(255, 255, 255); fill-opacity: 1;\"/><defs id=\"defs-532bcf\"><g class=\"clips\"><clipPath id=\"clip532bcfxyplot\" class=\"plotclip\"><rect width=\"423\" height=\"234\"/></clipPath><clipPath class=\"axesclip\" id=\"clip532bcfx\"><rect x=\"72\" y=\"0\" width=\"423\" height=\"300\"/></clipPath><clipPath class=\"axesclip\" id=\"clip532bcfy\"><rect x=\"0\" y=\"20\" width=\"500\" height=\"234\"/></clipPath><clipPath class=\"axesclip\" id=\"clip532bcfxy\"><rect x=\"72\" y=\"20\" width=\"423\" height=\"234\"/></clipPath></g><g class=\"gradients\"/><g class=\"patterns\"/></defs><g class=\"bglayer\"/><g class=\"layer-below\"><g class=\"imagelayer\"/><g class=\"shapelayer\"/></g><g class=\"cartesianlayer\"><g class=\"subplot xy\"><g class=\"layer-subplot\"><g class=\"shapelayer\"/><g class=\"imagelayer\"/></g><g class=\"minor-gridlayer\"><g class=\"x\"/><g class=\"y\"/></g><g class=\"gridlayer\"><g class=\"x\"><path class=\"xgrid crisp\" transform=\"translate(148.54000000000002,0)\" d=\"M0,20v234\" style=\"stroke: rgb(235, 240, 248); stroke-opacity: 1; stroke-width: 1px;\"/><path class=\"xgrid crisp\" transform=\"translate(225.09,0)\" d=\"M0,20v234\" style=\"stroke: rgb(235, 240, 248); stroke-opacity: 1; stroke-width: 1px;\"/><path class=\"xgrid crisp\" transform=\"translate(301.63,0)\" d=\"M0,20v234\" style=\"stroke: rgb(235, 240, 248); stroke-opacity: 1; stroke-width: 1px;\"/><path class=\"xgrid crisp\" transform=\"translate(378.17,0)\" d=\"M0,20v234\" style=\"stroke: rgb(235, 240, 248); stroke-opacity: 1; stroke-width: 1px;\"/><path class=\"xgrid crisp\" transform=\"translate(454.71,0)\" d=\"M0,20v234\" style=\"stroke: rgb(235, 240, 248); stroke-opacity: 1; stroke-width: 1px;\"/></g><g class=\"y\"/></g><g class=\"zerolinelayer\"><path class=\"xzl zl crisp\" transform=\"translate(72,0)\" d=\"M0,20v234\" style=\"stroke: rgb(235, 240, 248); stroke-opacity: 1; stroke-width: 2px;\"/></g><path class=\"xlines-below\"/><path class=\"ylines-below\"/><g class=\"overlines-below\"/><g class=\"xaxislayer-below\"/><g class=\"yaxislayer-below\"/><g class=\"overaxes-below\"/><g class=\"plot\" transform=\"translate(72,20)\" clip-path=\"url(#clip532bcfxyplot)\"><g class=\"barlayer mlayer\"><g class=\"trace bars\" style=\"opacity: 1;\"><g class=\"points\"><g class=\"point\"><path d=\"M0,229.32V191.88H98.74V229.32Z\" style=\"vector-effect: none; opacity: 1; stroke-width: 0.5px; fill: rgb(99, 110, 250); fill-opacity: 1; stroke: rgb(255, 255, 255); stroke-opacity: 1;\"/></g><g class=\"point\"><path d=\"M0,182.52V145.08H167.63V182.52Z\" style=\"vector-effect: none; opacity: 1; stroke-width: 0.5px; fill: rgb(99, 110, 250); fill-opacity: 1; stroke: rgb(255, 255, 255); stroke-opacity: 1;\"/></g><g class=\"point\"><path d=\"M0,135.72V98.28H228.1V135.72Z\" style=\"vector-effect: none; opacity: 1; stroke-width: 0.5px; fill: rgb(99, 110, 250); fill-opacity: 1; stroke: rgb(255, 255, 255); stroke-opacity: 1;\"/></g><g class=\"point\"><path d=\"M0,88.92V51.48H246.47V88.92Z\" style=\"vector-effect: none; opacity: 1; stroke-width: 0.5px; fill: rgb(99, 110, 250); fill-opacity: 1; stroke: rgb(255, 255, 255); stroke-opacity: 1;\"/></g><g class=\"point\"><path d=\"M0,42.12V4.68H401.85V42.12Z\" style=\"vector-effect: none; opacity: 1; stroke-width: 0.5px; fill: rgb(99, 110, 250); fill-opacity: 1; stroke: rgb(255, 255, 255); stroke-opacity: 1;\"/></g></g></g></g></g><g class=\"overplot\"/><path class=\"xlines-above crisp\" d=\"M0,0\" style=\"fill: none;\"/><path class=\"ylines-above crisp\" d=\"M0,0\" style=\"fill: none;\"/><g class=\"overlines-above\"/><g class=\"xaxislayer-above\"><g class=\"xtick\"><text text-anchor=\"middle\" x=\"0\" y=\"267\" transform=\"translate(72,0)\" style=\"font-family: 'Century Gothic'; font-size: 12px; fill: rgb(42, 63, 95); fill-opacity: 1; white-space: pre; opacity: 1;\">0</text></g><g class=\"xtick\"><text text-anchor=\"middle\" x=\"0\" y=\"267\" style=\"font-family: 'Century Gothic'; font-size: 12px; fill: rgb(42, 63, 95); fill-opacity: 1; white-space: pre; opacity: 1;\" transform=\"translate(148.54000000000002,0)\">100</text></g><g class=\"xtick\"><text text-anchor=\"middle\" x=\"0\" y=\"267\" style=\"font-family: 'Century Gothic'; font-size: 12px; fill: rgb(42, 63, 95); fill-opacity: 1; white-space: pre; opacity: 1;\" transform=\"translate(225.09,0)\">200</text></g><g class=\"xtick\"><text text-anchor=\"middle\" x=\"0\" y=\"267\" style=\"font-family: 'Century Gothic'; font-size: 12px; fill: rgb(42, 63, 95); fill-opacity: 1; white-space: pre; opacity: 1;\" transform=\"translate(301.63,0)\">300</text></g><g class=\"xtick\"><text text-anchor=\"middle\" x=\"0\" y=\"267\" style=\"font-family: 'Century Gothic'; font-size: 12px; fill: rgb(42, 63, 95); fill-opacity: 1; white-space: pre; opacity: 1;\" transform=\"translate(378.17,0)\">400</text></g><g class=\"xtick\"><text text-anchor=\"middle\" x=\"0\" y=\"267\" style=\"font-family: 'Century Gothic'; font-size: 12px; fill: rgb(42, 63, 95); fill-opacity: 1; white-space: pre; opacity: 1;\" transform=\"translate(454.71,0)\">500</text></g></g><g class=\"yaxislayer-above\"><g class=\"ytick\"><text text-anchor=\"end\" x=\"71\" y=\"4.199999999999999\" transform=\"translate(0,230.6)\" style=\"font-family: 'Century Gothic'; font-size: 12px; fill: rgb(42, 63, 95); fill-opacity: 1; white-space: pre; opacity: 1;\">Soda</text></g><g class=\"ytick\"><text text-anchor=\"end\" x=\"71\" y=\"4.199999999999999\" transform=\"translate(0,183.8)\" style=\"font-family: 'Century Gothic'; font-size: 12px; fill: rgb(42, 63, 95); fill-opacity: 1; white-space: pre; opacity: 1;\">Juice</text></g><g class=\"ytick\"><text text-anchor=\"end\" x=\"71\" y=\"4.199999999999999\" transform=\"translate(0,137)\" style=\"font-family: 'Century Gothic'; font-size: 12px; fill: rgb(42, 63, 95); fill-opacity: 1; white-space: pre; opacity: 1;\">Drinks</text></g><g class=\"ytick\"><text text-anchor=\"end\" x=\"71\" y=\"4.199999999999999\" transform=\"translate(0,90.2)\" style=\"font-family: 'Century Gothic'; font-size: 12px; fill: rgb(42, 63, 95); fill-opacity: 1; white-space: pre; opacity: 1;\">Tea</text></g><g class=\"ytick\"><text text-anchor=\"end\" x=\"71\" y=\"4.199999999999999\" transform=\"translate(0,43.4)\" style=\"font-family: 'Century Gothic'; font-size: 12px; fill: rgb(42, 63, 95); fill-opacity: 1; white-space: pre; opacity: 1;\">Coffee</text></g></g><g class=\"overaxes-above\"/></g></g><g class=\"polarlayer\"/><g class=\"smithlayer\"/><g class=\"ternarylayer\"/><g class=\"geolayer\"/><g class=\"funnelarealayer\"/><g class=\"pielayer\"/><g class=\"iciclelayer\"/><g class=\"treemaplayer\"/><g class=\"sunburstlayer\"/><g class=\"glimages\"/><defs id=\"topdefs-532bcf\"><g class=\"clips\"/></defs><g class=\"layer-above\"><g class=\"imagelayer\"/><g class=\"shapelayer\"/></g><g class=\"infolayer\"><g class=\"g-gtitle\"/><g class=\"g-xtitle\"><text class=\"xtitle\" x=\"283.5\" y=\"294.3\" text-anchor=\"middle\" style=\"font-family: 'Century Gothic'; font-size: 14px; fill: rgb(42, 63, 95); opacity: 1; font-weight: normal; white-space: pre;\">Number of Reviews</text></g><g class=\"g-ytitle\" transform=\"translate(8.0498046875,0)\"><text class=\"ytitle\" transform=\"rotate(-90,5.950000000000003,137)\" x=\"5.950000000000003\" y=\"137\" text-anchor=\"middle\" style=\"font-family: 'Century Gothic'; font-size: 14px; fill: rgb(42, 63, 95); opacity: 1; font-weight: normal; white-space: pre;\">Subtopic</text></g></g></svg>"
      ]
     },
     "metadata": {},
     "output_type": "display_data"
    }
   ],
   "source": [
    "# Subtopics in each topic\n",
    "select_topic = 'Drinks'\n",
    "\n",
    "subtopic_fig = get_subtopics(vis_df, topic=select_topic)\n",
    "subtopic_sentiment_fig = sentiment_pie_chart(vis_df[vis_df[\"topic\"]==select_topic])\n",
    "\n",
    "display(subtopic_sentiment_fig.update_layout(width = 500, height = 300,  title=f'Sentiment Breakdown for {select_topic}'))\n",
    "display(subtopic_fig.update_layout(width = 500, height = 300))"
   ]
  },
  {
   "attachments": {},
   "cell_type": "markdown",
   "metadata": {},
   "source": [
    "# Unit Testing"
   ]
  },
  {
   "cell_type": "code",
   "execution_count": 27,
   "metadata": {},
   "outputs": [],
   "source": [
    "import src.unittest.unit_testing\n",
    "from src.unittest.unit_testing import unit_test"
   ]
  },
  {
   "cell_type": "code",
   "execution_count": 88,
   "metadata": {},
   "outputs": [
    {
     "name": "stdout",
     "output_type": "stream",
     "text": [
      "Methods in unit testing: ['test_apply_cleaning_test', 'test_apply_cleaning_train', 'test_bert_module', 'test_bertopic_module', 'test_cleaning_punctuation_and_html_tags', 'test_cleaning_when_date_is_datetime', 'test_cleaning_when_date_is_string', 'test_convert_sentiment_df', 'test_expand_contractions_df', 'test_lbl2vec_module', 'test_lda_module', 'test_logreg_module', 'test_lowercase_string_df', 'test_lstm_module', 'test_nmf_module', 'test_predict_sentiment', 'test_predict_sentiment_topic', 'test_predict_topic', 'test_predict_when_all_stopwords', 'test_predict_when_empty_review', 'test_predict_when_null_reviews', 'test_remove_empty_reviews_df', 'test_remove_numbers_df', 'test_remove_punctuations_df', 'test_remove_stopwords_df', 'test_remove_trailing_leading_spaces_df', 'test_rename_column_df', 'test_replace_multiple_spaces_df', 'test_replace_multiple_spaces_df_for_tabs', 'test_sentiment_analysis_train_module', 'test_strip_html_tags_df', 'test_topic_modelling_train_module', 'test_zeroshot_module']\n"
     ]
    }
   ],
   "source": [
    "print(\"Methods in unit testing:\", [method for method in dir(src.unittest.unit_testing) if method[:4] == \"test\"])"
   ]
  },
  {
   "cell_type": "code",
   "execution_count": 29,
   "metadata": {},
   "outputs": [
    {
     "name": "stderr",
     "output_type": "stream",
     "text": [
      "All model checkpoint layers were used when initializing TFBertForSequenceClassification.\n",
      "\n",
      "All the layers of TFBertForSequenceClassification were initialized from the model checkpoint at c:\\Users\\clift\\github\\h2o2.ai\\src/models/sentiment_analysis\\train\\bert_model.\n",
      "If your task is similar to the task the model of the checkpoint was trained on, you can already use TFBertForSequenceClassification for predictions without further training.\n",
      "Some layers from the model checkpoint at c:\\Users\\clift\\github\\h2o2.ai\\src/models/sentiment_analysis\\train\\bert_model were not used when initializing TFBertForSequenceClassification: ['dropout_37']\n",
      "- This IS expected if you are initializing TFBertForSequenceClassification from the checkpoint of a model trained on another task or with another architecture (e.g. initializing a BertForSequenceClassification model from a BertForPreTraining model).\n",
      "- This IS NOT expected if you are initializing TFBertForSequenceClassification from the checkpoint of a model that you expect to be exactly identical (initializing a BertForSequenceClassification model from a BertForSequenceClassification model).\n",
      "All the layers of TFBertForSequenceClassification were initialized from the model checkpoint at c:\\Users\\clift\\github\\h2o2.ai\\src/models/sentiment_analysis\\train\\bert_model.\n",
      "If your task is similar to the task the model of the checkpoint was trained on, you can already use TFBertForSequenceClassification for predictions without further training.\n",
      "2023-04-03 22:58:02,014 - Lbl2TransformerVec - INFO - Compute keyword embeddings\n",
      "2023-04-03 22:58:02,685 - Lbl2TransformerVec - INFO - Compute document embeddings\n",
      "2023-04-03 22:58:21,085 - Lbl2TransformerVec - INFO - Train label embeddings\n",
      "2023-04-03 22:58:21,172 - Lbl2TransformerVec - INFO - Get document embeddings from model\n",
      "2023-04-03 22:58:21,173 - Lbl2TransformerVec - INFO - Calculate document<->label similarities\n",
      "2023-04-03 22:58:21,260 - Lbl2TransformerVec - INFO - Compute keyword embeddings\n",
      "2023-04-03 22:58:21,260 - Lbl2TransformerVec - INFO - Compute keyword embeddings\n",
      "2023-04-03 22:58:21,611 - Lbl2TransformerVec - INFO - Compute document embeddings\n",
      "2023-04-03 22:58:21,611 - Lbl2TransformerVec - INFO - Compute document embeddings\n",
      "2023-04-03 22:58:39,613 - Lbl2TransformerVec - INFO - Train label embeddings\n",
      "2023-04-03 22:58:39,613 - Lbl2TransformerVec - INFO - Train label embeddings\n",
      "2023-04-03 22:58:39,720 - Lbl2TransformerVec - INFO - Get document embeddings from model\n",
      "2023-04-03 22:58:39,720 - Lbl2TransformerVec - INFO - Get document embeddings from model\n",
      "2023-04-03 22:58:39,721 - Lbl2TransformerVec - INFO - Calculate document<->label similarities\n",
      "2023-04-03 22:58:39,721 - Lbl2TransformerVec - INFO - Calculate document<->label similarities\n",
      "c:\\Users\\clift\\github\\h2o2.ai\\src\\models\\predict.py:23: UserWarning:\n",
      "\n",
      "No entries in dataframe. Returning empty dataframe.\n",
      "\n"
     ]
    }
   ],
   "source": [
    "unit_test()"
   ]
  },
  {
   "attachments": {},
   "cell_type": "markdown",
   "metadata": {},
   "source": [
    "# Modular Code"
   ]
  },
  {
   "cell_type": "code",
   "execution_count": 81,
   "metadata": {},
   "outputs": [],
   "source": [
    "import os\n",
    "\n",
    "def list_files(startpath):\n",
    "    for root, dirs, files in os.walk(startpath):\n",
    "        level = root.replace(startpath, '').count(os.sep)\n",
    "        indent = ' ' * 4 * (level)\n",
    "        if os.path.basename(root) == \"__pycache__\":\n",
    "            continue\n",
    "        print('{}{}/'.format(indent, os.path.basename(root)))\n",
    "        subindent = ' ' * 4 * (level + 1)\n",
    "        for f in files:\n",
    "            print('{}{}'.format(subindent, f))"
   ]
  },
  {
   "cell_type": "code",
   "execution_count": 82,
   "metadata": {},
   "outputs": [
    {
     "name": "stdout",
     "output_type": "stream",
     "text": [
      "src/\n",
      "    __init__.py\n",
      "    app/\n",
      "        app.py\n",
      "        helper.py\n",
      "        home.py\n",
      "        sentiments.py\n",
      "        topics.py\n",
      "        topic_playground.py\n",
      "    models/\n",
      "        classifier.py\n",
      "        predict.py\n",
      "        sentiment_analysis/\n",
      "            eval/\n",
      "                bert_training.png\n",
      "                metrics.json\n",
      "            test/\n",
      "                predict.py\n",
      "            train/\n",
      "                bert.py\n",
      "                train.py\n",
      "                bert_model/\n",
      "                    config.json\n",
      "                    tf_model.h5\n",
      "        topic_modelling/\n",
      "            eval/\n",
      "                bertopic_topics.html\n",
      "                lda_topics.html\n",
      "                nmf_topics.html\n",
      "            test/\n",
      "                lbl2vec.py\n",
      "                predict.py\n",
      "                zero_shot.py\n",
      "            train/\n",
      "                bertopic.py\n",
      "                lda.py\n",
      "                nmf.py\n",
      "                train.py\n",
      "    preprocessing/\n",
      "        preprocessing_utils.py\n",
      "        transformations.py\n",
      "    unittest/\n",
      "        unit_testing.py\n",
      "    utils/\n",
      "        file_util.py\n",
      "    visualisation/\n",
      "        dashboard_viz.py\n",
      "        visualise_topics.py\n"
     ]
    }
   ],
   "source": [
    "list_files(\"src\")"
   ]
  },
  {
   "attachments": {},
   "cell_type": "markdown",
   "metadata": {},
   "source": [
    "# OOP"
   ]
  },
  {
   "cell_type": "code",
   "execution_count": 62,
   "metadata": {},
   "outputs": [
    {
     "name": "stdout",
     "output_type": "stream",
     "text": [
      "Methods in FileUtil: ['check_dir_exists', 'check_filepath_exists', 'create_dir_if_not_exists', 'get_config', 'get_csv', 'get_json', 'get_metrics', 'get_pkl', 'get_processed_train_data', 'get_raw_train_data', 'get_topic_model', 'get_topics_html', 'get_yml', 'put_csv', 'put_json', 'put_metrics', 'put_pkl', 'put_predicted_df', 'put_processed_train_data', 'put_topic_model', 'put_topics_html']\n",
      "Attributes in FileUtil: ['PROJECT_DIR', 'CONFIG_FILE_NAME', 'CONFIG_PARAMS', 'TEST_FILE_NAME', 'TRAIN_FILE_NAME', 'MODEL_FILE_NAME', 'METRICS_FILE_NAME', 'BERT_TRAINING_GRAPH_FILENAME', 'LDA_TOPIC_FILE_NAME', 'BERTOPIC_TOPIC_FILE_NAME', 'NMF_TOPIC_FILE_NAME', 'RAW_DATA_DIR', 'PROCESSED_DATA_DIR', 'PREDICTED_DATA_DIR', 'SENTIMENT_ANALYSIS_DIR', 'TOPIC_MODELLING_DIR', 'SENTIMENT_ANALYSIS_TRAIN_DIR', 'SENTIMENT_ANALYSIS_EVAL_DIR', 'BERT_SENTIMENT_MODEL_DIR', 'BERT_TRAINING_GRAPH_FILE_PATH', 'TOPIC_MODELLING_TRAIN_DIR', 'TOPIC_MODELLING_EVAL_DIR', 'LDA_TOPIC_FILE_PATH', 'BERTOPIC_TOPIC_FILE_PATH', 'NMF_TOPIC_FILE_PATH']\n"
     ]
    }
   ],
   "source": [
    "from src.utils.file_util import FileUtil\n",
    "print(\"Methods in FileUtil:\", [func for func in dir(FileUtil) if callable(getattr(FileUtil, func)) and not func.startswith(\"__\")])\n",
    "print(\"Attributes in FileUtil:\", list(FileUtil().__dict__.keys()))"
   ]
  },
  {
   "cell_type": "code",
   "execution_count": 63,
   "metadata": {},
   "outputs": [
    {
     "name": "stdout",
     "output_type": "stream",
     "text": [
      "Methods in BERT: ['convert_data_to_examples', 'convert_examples_to_tf_dataset', 'evaluate', 'fit', 'plot_training_acc_loss', 'predict']\n",
      "Attributes in BERT: ['load_model', 'saved_model_path', 'tokenizer', 'bert_config', 'batch_size', 'target_col', 'text_col', 'config_layer', 'model', 'optimizer', 'loss', 'metrics', 'callback']\n"
     ]
    }
   ],
   "source": [
    "from src.models.sentiment_analysis.train.bert import BERT\n",
    "print(\"Methods in BERT:\", [func for func in dir(BERT) if callable(getattr(BERT, func)) and not func.startswith(\"__\")])\n",
    "print(\"Attributes in BERT:\", list(BERT().__dict__.keys()))"
   ]
  },
  {
   "cell_type": "code",
   "execution_count": 65,
   "metadata": {},
   "outputs": [
    {
     "name": "stdout",
     "output_type": "stream",
     "text": [
      "Methods in LDA: ['bigrams', 'evaluate', 'fit', 'generate_bigrams', 'get_corpus', 'lemmatize', 'predict', 'preprocess', 'remove_common_words', 'sent_to_words']\n",
      "Attributes in LDA: ['config_params', 'lda_config', 'common_words', 'num_topics', 'ngram', 'bi_min', 'no_below', 'no_above', 'min_prob']\n"
     ]
    }
   ],
   "source": [
    "from src.models.topic_modelling.train.lda import LDA\n",
    "print(\"Methods in LDA:\", [func for func in dir(LDA) if callable(getattr(LDA, func)) and not func.startswith(\"__\")])\n",
    "print(\"Attributes in LDA:\", list(LDA().__dict__.keys()))"
   ]
  },
  {
   "cell_type": "code",
   "execution_count": 66,
   "metadata": {},
   "outputs": [
    {
     "name": "stdout",
     "output_type": "stream",
     "text": [
      "Methods in BERTopic_Module: ['evaluate', 'fit', 'predict']\n",
      "Attributes in BERTopic_Module: ['config_params', 'custom_stopwords', 'bertopic_config', 'nr_topics', 'vectorizer_model', 'vectorizer_args', 'hdbscan_args']\n"
     ]
    }
   ],
   "source": [
    "from src.models.topic_modelling.train.bertopic import BERTopic_Module\n",
    "print(\"Methods in BERTopic_Module:\", [func for func in dir(BERTopic_Module) if callable(getattr(BERTopic_Module, func)) and not func.startswith(\"__\")])\n",
    "print(\"Attributes in BERTopic_Module:\", list(BERTopic_Module().__dict__.keys()))"
   ]
  },
  {
   "attachments": {},
   "cell_type": "markdown",
   "metadata": {},
   "source": [
    "# Docstrings Examples"
   ]
  },
  {
   "cell_type": "code",
   "execution_count": 45,
   "metadata": {},
   "outputs": [
    {
     "name": "stdout",
     "output_type": "stream",
     "text": [
      "Help on function put_csv in module src.utils.file_util:\n",
      "\n",
      "put_csv(self, filepath: str, df: pandas.core.frame.DataFrame) -> None\n",
      "    Put the dataframe to csv in filepath.\n",
      "    \n",
      "    Args:\n",
      "      filepath (str): csv filepath\n",
      "      df (pd.Dataframe): dataframe of the csv\n",
      "    \n",
      "    Raises:\n",
      "      InvalidExtensionException: If filepath doesn't have csv extension\n",
      "      TypeError: If df is not a pandas DataFrame object\n",
      "\n"
     ]
    }
   ],
   "source": [
    "help(FileUtil.put_csv)"
   ]
  },
  {
   "cell_type": "code",
   "execution_count": 44,
   "metadata": {},
   "outputs": [
    {
     "name": "stdout",
     "output_type": "stream",
     "text": [
      "None\n"
     ]
    }
   ],
   "source": [
    "print(predict_sentiment_topic.__doc__)"
   ]
  },
  {
   "cell_type": "code",
   "execution_count": 41,
   "metadata": {},
   "outputs": [
    {
     "name": "stdout",
     "output_type": "stream",
     "text": [
      "Help on function sentiment_analysis_train in module src.models.sentiment_analysis.train.train:\n",
      "\n",
      "sentiment_analysis_train()\n",
      "    Train sentiment analysis models on training data.\n",
      "    \n",
      "    Processed dataset will be split into 80% train and 20% valid.\n",
      "    BERT, Logistic Regression, and LSTM models will be fitted on\n",
      "    training data and evaluated on validation data.\n",
      "    All 3 models and metrics, and BERT training graph will be saved to storage.\n",
      "\n"
     ]
    }
   ],
   "source": [
    "help(sentiment_analysis_train)"
   ]
  },
  {
   "cell_type": "code",
   "execution_count": 42,
   "metadata": {},
   "outputs": [
    {
     "name": "stdout",
     "output_type": "stream",
     "text": [
      "Help on function topic_modelling_train in module src.models.topic_modelling.train.train:\n",
      "\n",
      "topic_modelling_train()\n",
      "    Train topic models on training data.\n",
      "    \n",
      "    LDA, BERTopic, and NMF models will be fitted on training data.\n",
      "    All 3 models' topics plot will be saved to eval folder.\n",
      "\n"
     ]
    }
   ],
   "source": [
    "help(topic_modelling_train)"
   ]
  }
 ],
 "metadata": {
  "kernelspec": {
   "display_name": "Python 3",
   "language": "python",
   "name": "python3"
  },
  "language_info": {
   "codemirror_mode": {
    "name": "ipython",
    "version": 3
   },
   "file_extension": ".py",
   "mimetype": "text/x-python",
   "name": "python",
   "nbconvert_exporter": "python",
   "pygments_lexer": "ipython3",
   "version": "3.9.16"
  },
  "orig_nbformat": 4
 },
 "nbformat": 4,
 "nbformat_minor": 2
}
