{
 "cells": [
  {
   "cell_type": "code",
   "execution_count": 1,
   "metadata": {},
   "outputs": [
    {
     "name": "stdout",
     "output_type": "stream",
     "text": [
      "c:\\Users\\clift\\github\\h2o2.ai\n"
     ]
    }
   ],
   "source": [
    "cd .."
   ]
  },
  {
   "attachments": {},
   "cell_type": "markdown",
   "metadata": {},
   "source": [
    "# FileUtil Initialization"
   ]
  },
  {
   "cell_type": "code",
   "execution_count": 2,
   "metadata": {},
   "outputs": [],
   "source": [
    "from src.utils.file_util import FileUtil\n",
    "\n",
    "file_util = FileUtil()"
   ]
  },
  {
   "attachments": {},
   "cell_type": "markdown",
   "metadata": {},
   "source": [
    "# Retrieve Raw Train, Test Data"
   ]
  },
  {
   "cell_type": "code",
   "execution_count": 25,
   "metadata": {},
   "outputs": [],
   "source": [
    "train = file_util.get_raw_train_data()\n",
    "test = file_util.get_raw_train_data() #we use raw train as test"
   ]
  },
  {
   "cell_type": "code",
   "execution_count": 4,
   "metadata": {},
   "outputs": [
    {
     "data": {
      "text/html": [
       "<div>\n",
       "<style scoped>\n",
       "    .dataframe tbody tr th:only-of-type {\n",
       "        vertical-align: middle;\n",
       "    }\n",
       "\n",
       "    .dataframe tbody tr th {\n",
       "        vertical-align: top;\n",
       "    }\n",
       "\n",
       "    .dataframe thead th {\n",
       "        text-align: right;\n",
       "    }\n",
       "</style>\n",
       "<table border=\"1\" class=\"dataframe\">\n",
       "  <thead>\n",
       "    <tr style=\"text-align: right;\">\n",
       "      <th></th>\n",
       "      <th>Sentiment</th>\n",
       "      <th>Time</th>\n",
       "      <th>Text</th>\n",
       "    </tr>\n",
       "  </thead>\n",
       "  <tbody>\n",
       "    <tr>\n",
       "      <th>0</th>\n",
       "      <td>positive</td>\n",
       "      <td>18/6/21</td>\n",
       "      <td>This is a very healthy dog food. Good for thei...</td>\n",
       "    </tr>\n",
       "    <tr>\n",
       "      <th>1</th>\n",
       "      <td>positive</td>\n",
       "      <td>7/7/21</td>\n",
       "      <td>I've been very pleased with the Natural Balanc...</td>\n",
       "    </tr>\n",
       "    <tr>\n",
       "      <th>2</th>\n",
       "      <td>positive</td>\n",
       "      <td>18/6/21</td>\n",
       "      <td>Before I was educated about feline nutrition, ...</td>\n",
       "    </tr>\n",
       "    <tr>\n",
       "      <th>3</th>\n",
       "      <td>positive</td>\n",
       "      <td>7/7/21</td>\n",
       "      <td>My holistic vet recommended this, along with a...</td>\n",
       "    </tr>\n",
       "    <tr>\n",
       "      <th>4</th>\n",
       "      <td>positive</td>\n",
       "      <td>1/7/21</td>\n",
       "      <td>I bought this coffee because its much cheaper ...</td>\n",
       "    </tr>\n",
       "  </tbody>\n",
       "</table>\n",
       "</div>"
      ],
      "text/plain": [
       "  Sentiment     Time                                               Text\n",
       "0  positive  18/6/21  This is a very healthy dog food. Good for thei...\n",
       "1  positive   7/7/21  I've been very pleased with the Natural Balanc...\n",
       "2  positive  18/6/21  Before I was educated about feline nutrition, ...\n",
       "3  positive   7/7/21  My holistic vet recommended this, along with a...\n",
       "4  positive   1/7/21  I bought this coffee because its much cheaper ..."
      ]
     },
     "execution_count": 4,
     "metadata": {},
     "output_type": "execute_result"
    }
   ],
   "source": [
    "train.head()"
   ]
  },
  {
   "attachments": {},
   "cell_type": "markdown",
   "metadata": {},
   "source": [
    "# Preprocessing"
   ]
  },
  {
   "cell_type": "code",
   "execution_count": 5,
   "metadata": {},
   "outputs": [],
   "source": [
    "from src.preprocessing.transformations import apply_cleaning_train"
   ]
  },
  {
   "cell_type": "code",
   "execution_count": 6,
   "metadata": {},
   "outputs": [],
   "source": [
    "train = apply_cleaning_train(train)"
   ]
  },
  {
   "cell_type": "code",
   "execution_count": 7,
   "metadata": {},
   "outputs": [
    {
     "data": {
      "text/html": [
       "<div>\n",
       "<style scoped>\n",
       "    .dataframe tbody tr th:only-of-type {\n",
       "        vertical-align: middle;\n",
       "    }\n",
       "\n",
       "    .dataframe tbody tr th {\n",
       "        vertical-align: top;\n",
       "    }\n",
       "\n",
       "    .dataframe thead th {\n",
       "        text-align: right;\n",
       "    }\n",
       "</style>\n",
       "<table border=\"1\" class=\"dataframe\">\n",
       "  <thead>\n",
       "    <tr style=\"text-align: right;\">\n",
       "      <th></th>\n",
       "      <th>date</th>\n",
       "      <th>partially_cleaned_text</th>\n",
       "      <th>sentiment</th>\n",
       "      <th>cleaned_text</th>\n",
       "    </tr>\n",
       "  </thead>\n",
       "  <tbody>\n",
       "    <tr>\n",
       "      <th>0</th>\n",
       "      <td>18/6/21</td>\n",
       "      <td>This is a very healthy dog food. Good for thei...</td>\n",
       "      <td>1</td>\n",
       "      <td>healthy dog food good digestion also good smal...</td>\n",
       "    </tr>\n",
       "    <tr>\n",
       "      <th>1</th>\n",
       "      <td>7/7/21</td>\n",
       "      <td>I've been very pleased with the Natural Balanc...</td>\n",
       "      <td>1</td>\n",
       "      <td>pleased natural balance dog food dogs issues d...</td>\n",
       "    </tr>\n",
       "    <tr>\n",
       "      <th>2</th>\n",
       "      <td>18/6/21</td>\n",
       "      <td>Before I was educated about feline nutrition, ...</td>\n",
       "      <td>1</td>\n",
       "      <td>educated feline nutrition allowed cats become ...</td>\n",
       "    </tr>\n",
       "    <tr>\n",
       "      <th>3</th>\n",
       "      <td>7/7/21</td>\n",
       "      <td>My holistic vet recommended this, along with a...</td>\n",
       "      <td>1</td>\n",
       "      <td>holistic vet recommended along brands tried ca...</td>\n",
       "    </tr>\n",
       "    <tr>\n",
       "      <th>4</th>\n",
       "      <td>1/7/21</td>\n",
       "      <td>I bought this coffee because its much cheaper ...</td>\n",
       "      <td>1</td>\n",
       "      <td>bought coffee much cheaper ganocafe organic re...</td>\n",
       "    </tr>\n",
       "  </tbody>\n",
       "</table>\n",
       "</div>"
      ],
      "text/plain": [
       "      date                             partially_cleaned_text  sentiment  \\\n",
       "0  18/6/21  This is a very healthy dog food. Good for thei...          1   \n",
       "1   7/7/21  I've been very pleased with the Natural Balanc...          1   \n",
       "2  18/6/21  Before I was educated about feline nutrition, ...          1   \n",
       "3   7/7/21  My holistic vet recommended this, along with a...          1   \n",
       "4   1/7/21  I bought this coffee because its much cheaper ...          1   \n",
       "\n",
       "                                        cleaned_text  \n",
       "0  healthy dog food good digestion also good smal...  \n",
       "1  pleased natural balance dog food dogs issues d...  \n",
       "2  educated feline nutrition allowed cats become ...  \n",
       "3  holistic vet recommended along brands tried ca...  \n",
       "4  bought coffee much cheaper ganocafe organic re...  "
      ]
     },
     "execution_count": 7,
     "metadata": {},
     "output_type": "execute_result"
    }
   ],
   "source": [
    "train.head()"
   ]
  },
  {
   "attachments": {},
   "cell_type": "markdown",
   "metadata": {},
   "source": [
    "# Training"
   ]
  },
  {
   "attachments": {},
   "cell_type": "markdown",
   "metadata": {},
   "source": [
    "## Sentiment Analysis"
   ]
  },
  {
   "cell_type": "code",
   "execution_count": 8,
   "metadata": {},
   "outputs": [
    {
     "name": "stderr",
     "output_type": "stream",
     "text": [
      "c:\\Users\\clift\\AppData\\Local\\Programs\\Python\\Python39\\lib\\site-packages\\tqdm\\auto.py:22: TqdmWarning: IProgress not found. Please update jupyter and ipywidgets. See https://ipywidgets.readthedocs.io/en/stable/user_install.html\n",
      "  from .autonotebook import tqdm as notebook_tqdm\n"
     ]
    }
   ],
   "source": [
    "from src.models.sentiment_analysis.train.train import sentiment_analysis_train"
   ]
  },
  {
   "cell_type": "code",
   "execution_count": null,
   "metadata": {},
   "outputs": [],
   "source": [
    "sentiment_analysis_train()"
   ]
  },
  {
   "attachments": {},
   "cell_type": "markdown",
   "metadata": {},
   "source": [
    "## Topic Modelling"
   ]
  },
  {
   "cell_type": "code",
   "execution_count": 24,
   "metadata": {},
   "outputs": [],
   "source": [
    "from src.models.topic_modelling.train.train import topic_modelling_train"
   ]
  },
  {
   "cell_type": "code",
   "execution_count": null,
   "metadata": {},
   "outputs": [],
   "source": [
    "topic_modelling_train()"
   ]
  },
  {
   "attachments": {},
   "cell_type": "markdown",
   "metadata": {},
   "source": [
    "# Evaluation"
   ]
  },
  {
   "attachments": {},
   "cell_type": "markdown",
   "metadata": {},
   "source": [
    "## Sentiment Analysis"
   ]
  },
  {
   "cell_type": "code",
   "execution_count": null,
   "metadata": {},
   "outputs": [
    {
     "data": {
      "text/plain": [
       "{'BERT': {'PR AUC': 0.9650676330441036,\n",
       "  'Average Precision': 0.9651006951280032}}"
      ]
     },
     "metadata": {},
     "output_type": "display_data"
    }
   ],
   "source": [
    "metrics = file_util.get_metrics(\"sentiment_analysis\")\n",
    "metrics"
   ]
  },
  {
   "cell_type": "code",
   "execution_count": null,
   "metadata": {},
   "outputs": [
    {
     "name": "stdout",
     "output_type": "stream",
     "text": [
      "Best model is BERT with PR-AUC 0.9650676330441036\n"
     ]
    }
   ],
   "source": [
    "models_prauc = sorted(list(map(lambda item: (item[0], item[1][\"PR AUC\"]), metrics.items())), key = lambda x: x[1])\n",
    "print(\"Best model is {} with PR-AUC {}\".format(models_prauc[-1][0], models_prauc[-1][1]))"
   ]
  },
  {
   "attachments": {},
   "cell_type": "markdown",
   "metadata": {},
   "source": [
    "## Topic Modelling"
   ]
  },
  {
   "cell_type": "code",
   "execution_count": 17,
   "metadata": {},
   "outputs": [
    {
     "data": {
      "application/vnd.plotly.v1+json": {
       "config": {
        "plotlyServerURL": "https://plot.ly"
       },
       "data": [
        {
         "marker": {
          "color": "#636EFA"
         },
         "orientation": "h",
         "type": "bar",
         "x": [
          5.607429771921958,
          6.3293862264266485,
          6.329598846117748,
          6.5469056399597045,
          6.919860817961661,
          9.93593674843612
         ],
         "xaxis": "x",
         "y": [
          "recommend",
          "gluten",
          "bought",
          "chocolate",
          "free",
          "cookies"
         ],
         "yaxis": "y"
        },
        {
         "marker": {
          "color": "#EF553B"
         },
         "orientation": "h",
         "type": "bar",
         "x": [
          3.9903115883577946,
          4.379752200637607,
          5.253219716175475,
          5.533105242666337,
          6.296351632881535,
          7.2450657459833065
         ],
         "xaxis": "x2",
         "y": [
          "tasty",
          "tasting",
          "sweet",
          "snack",
          "chocolate",
          "hot"
         ],
         "yaxis": "y2"
        },
        {
         "marker": {
          "color": "#00CC96"
         },
         "orientation": "h",
         "type": "bar",
         "x": [
          4.689449554751874,
          4.696601228801295,
          4.904595285533166,
          4.949200057079043,
          5.018929725159371,
          7.549065257370921
         ],
         "xaxis": "x3",
         "y": [
          "way",
          "gum",
          "used",
          "sweet",
          "time",
          "stuff"
         ],
         "yaxis": "y3"
        },
        {
         "marker": {
          "color": "#AB63FA"
         },
         "orientation": "h",
         "type": "bar",
         "x": [
          4.441112236420996,
          4.670123488588937,
          4.691409818613636,
          4.929592059008087,
          5.027868836445932,
          6.400206355814293
         ],
         "xaxis": "x4",
         "y": [
          "local",
          "stores",
          "grocery",
          "time",
          "water",
          "store"
         ],
         "yaxis": "y4"
        },
        {
         "marker": {
          "color": "#FFA15A"
         },
         "orientation": "h",
         "type": "bar",
         "x": [
          4.01282430849754,
          4.015669391035955,
          4.065744571360912,
          4.351089225584882,
          5.642483266683926,
          6.594403376131451
         ],
         "xaxis": "x5",
         "y": [
          "bad",
          "oil",
          "tasty",
          "free",
          "sugar",
          "bought"
         ],
         "yaxis": "y5"
        },
        {
         "marker": {
          "color": "#19D3F3"
         },
         "orientation": "h",
         "type": "bar",
         "x": [
          4.364298216882965,
          4.436707113007371,
          5.067151648087907,
          5.818469226132368,
          5.8215197859830194,
          5.886631689729222
         ],
         "xaxis": "x6",
         "y": [
          "box",
          "mix",
          "gluten",
          "green",
          "tasty",
          "free"
         ],
         "yaxis": "y6"
        },
        {
         "marker": {
          "color": "#FF6692"
         },
         "orientation": "h",
         "type": "bar",
         "x": [
          3.4640266530084753,
          3.6236330596521684,
          4.171217354824833,
          5.785121152866179,
          6.29867542763987,
          7.31399346468151
         ],
         "xaxis": "x7",
         "y": [
          "try",
          "sauce",
          "water",
          "easy",
          "chocolate",
          "drink"
         ],
         "yaxis": "y7"
        },
        {
         "marker": {
          "color": "#B6E880"
         },
         "orientation": "h",
         "type": "bar",
         "x": [
          3.9969532515251363,
          4.0935455590831165,
          4.254940440253278,
          4.871298410044024,
          5.5642632815758395,
          5.821054171692687
         ],
         "xaxis": "x8",
         "y": [
          "bought",
          "cat",
          "little",
          "water",
          "sauce",
          "time"
         ],
         "yaxis": "y8"
        },
        {
         "marker": {
          "color": "#FF97FF"
         },
         "orientation": "h",
         "type": "bar",
         "x": [
          4.982671447650964,
          5.018233011664878,
          5.179853125061049,
          5.219828073201537,
          5.3820176831932605,
          7.330441925856158
         ],
         "xaxis": "x9",
         "y": [
          "right",
          "sugar",
          "bought",
          "chips",
          "water",
          "chocolate"
         ],
         "yaxis": "y9"
        },
        {
         "marker": {
          "color": "#FECB52"
         },
         "orientation": "h",
         "type": "bar",
         "x": [
          5.229488475171462,
          5.275873727958291,
          5.3167607054937855,
          5.548858491290193,
          5.651966412731414,
          5.9625965257373
         ],
         "xaxis": "x10",
         "y": [
          "purchase",
          "tasting",
          "item",
          "tasty",
          "healthy",
          "china"
         ],
         "yaxis": "y10"
        },
        {
         "marker": {
          "color": "#636EFA"
         },
         "orientation": "h",
         "type": "bar",
         "x": [
          5.259711474293148,
          5.306786577257545,
          5.3959038491301925,
          5.498633754189336,
          5.5467978693693984,
          5.659558540457234
         ],
         "xaxis": "x11",
         "y": [
          "treat",
          "order",
          "fresh",
          "time",
          "healthy",
          "snack"
         ],
         "yaxis": "y11"
        },
        {
         "marker": {
          "color": "#EF553B"
         },
         "orientation": "h",
         "type": "bar",
         "x": [
          2.548042334402226,
          2.574261761653538,
          2.736126529440342,
          2.7464131968900887,
          3.063238048991475,
          4.208146882666781
         ],
         "xaxis": "x12",
         "y": [
          "tasted",
          "excellent",
          "fresh",
          "low",
          "tasty",
          "little"
         ],
         "yaxis": "y12"
        },
        {
         "marker": {
          "color": "#00CC96"
         },
         "orientation": "h",
         "type": "bar",
         "x": [
          3.713813014699174,
          3.7299593066056698,
          3.743616534426251,
          3.7794131272937355,
          4.196374599039251,
          4.687794897256802
         ],
         "xaxis": "x13",
         "y": [
          "eating",
          "think",
          "try",
          "pack",
          "order",
          "water"
         ],
         "yaxis": "y13"
        },
        {
         "marker": {
          "color": "#AB63FA"
         },
         "orientation": "h",
         "type": "bar",
         "x": [
          4.769780188774536,
          4.787845921656541,
          5.262245860939879,
          5.578577134632921,
          8.570796477038671,
          9.453077118111178
         ],
         "xaxis": "x14",
         "y": [
          "strong",
          "easy",
          "delicious",
          "water",
          "free",
          "gluten"
         ],
         "yaxis": "y14"
        },
        {
         "marker": {
          "color": "#FFA15A"
         },
         "orientation": "h",
         "type": "bar",
         "x": [
          7.158035009822655,
          8.532436972322083,
          8.626900159219819,
          8.63967798334878,
          8.849868570042206,
          10.351498524129715
         ],
         "xaxis": "x15",
         "y": [
          "cereal",
          "drink",
          "tasting",
          "sweet",
          "bars",
          "sugar"
         ],
         "yaxis": "y15"
        },
        {
         "marker": {
          "color": "#19D3F3"
         },
         "orientation": "h",
         "type": "bar",
         "x": [
          3.4941770310130376,
          3.7189964217041376,
          3.948387886737938,
          4.067217841284915,
          4.085336034742148,
          7.687429473811749
         ],
         "xaxis": "x16",
         "y": [
          "healthy",
          "tasty",
          "perfect",
          "purchase",
          "tasting",
          "chips"
         ],
         "yaxis": "y16"
        },
        {
         "marker": {
          "color": "#FF6692"
         },
         "orientation": "h",
         "type": "bar",
         "x": [
          4.780227881399939,
          4.9325783033310575,
          5.3206000696739455,
          5.454787411366581,
          5.45769955522022,
          12.202849853181172
         ],
         "xaxis": "x17",
         "y": [
          "store",
          "tasty",
          "little",
          "popcorn",
          "time",
          "salt"
         ],
         "yaxis": "y17"
        },
        {
         "marker": {
          "color": "#B6E880"
         },
         "orientation": "h",
         "type": "bar",
         "x": [
          4.094924552179306,
          4.238156893332164,
          4.350372948450032,
          4.637090171534905,
          4.645637496879643,
          5.211088493766039
         ],
         "xaxis": "x18",
         "y": [
          "bought",
          "hot",
          "nice",
          "quality",
          "time",
          "sugar"
         ],
         "yaxis": "y18"
        },
        {
         "marker": {
          "color": "#FF97FF"
         },
         "orientation": "h",
         "type": "bar",
         "x": [
          5.3912794702065785,
          5.404369205593331,
          5.491253321539105,
          5.667753225482001,
          6.492257584872001,
          7.2926483413486505
         ],
         "xaxis": "x19",
         "y": [
          "got",
          "pack",
          "time",
          "try",
          "bought",
          "quality"
         ],
         "yaxis": "y19"
        },
        {
         "marker": {
          "color": "#FECB52"
         },
         "orientation": "h",
         "type": "bar",
         "x": [
          5.056278616471602,
          5.1229151701515745,
          5.238184760330144,
          6.004310898793013,
          6.224777669194985,
          7.451520897554611
         ],
         "xaxis": "x20",
         "y": [
          "used",
          "sugar",
          "mix",
          "milk",
          "nice",
          "little"
         ],
         "yaxis": "y20"
        }
       ],
       "layout": {
        "annotations": [
         {
          "font": {
           "size": 16
          },
          "showarrow": false,
          "text": "0",
          "x": 0.0875,
          "xanchor": "center",
          "xref": "paper",
          "y": 0.9999999999999999,
          "yanchor": "bottom",
          "yref": "paper"
         },
         {
          "font": {
           "size": 16
          },
          "showarrow": false,
          "text": "1",
          "x": 0.36250000000000004,
          "xanchor": "center",
          "xref": "paper",
          "y": 0.9999999999999999,
          "yanchor": "bottom",
          "yref": "paper"
         },
         {
          "font": {
           "size": 16
          },
          "showarrow": false,
          "text": "10",
          "x": 0.6375000000000001,
          "xanchor": "center",
          "xref": "paper",
          "y": 0.9999999999999999,
          "yanchor": "bottom",
          "yref": "paper"
         },
         {
          "font": {
           "size": 16
          },
          "showarrow": false,
          "text": "11",
          "x": 0.9125,
          "xanchor": "center",
          "xref": "paper",
          "y": 0.9999999999999999,
          "yanchor": "bottom",
          "yref": "paper"
         },
         {
          "font": {
           "size": 16
          },
          "showarrow": false,
          "text": "12",
          "x": 0.0875,
          "xanchor": "center",
          "xref": "paper",
          "y": 0.7839999999999999,
          "yanchor": "bottom",
          "yref": "paper"
         },
         {
          "font": {
           "size": 16
          },
          "showarrow": false,
          "text": "13",
          "x": 0.36250000000000004,
          "xanchor": "center",
          "xref": "paper",
          "y": 0.7839999999999999,
          "yanchor": "bottom",
          "yref": "paper"
         },
         {
          "font": {
           "size": 16
          },
          "showarrow": false,
          "text": "14",
          "x": 0.6375000000000001,
          "xanchor": "center",
          "xref": "paper",
          "y": 0.7839999999999999,
          "yanchor": "bottom",
          "yref": "paper"
         },
         {
          "font": {
           "size": 16
          },
          "showarrow": false,
          "text": "15",
          "x": 0.9125,
          "xanchor": "center",
          "xref": "paper",
          "y": 0.7839999999999999,
          "yanchor": "bottom",
          "yref": "paper"
         },
         {
          "font": {
           "size": 16
          },
          "showarrow": false,
          "text": "16",
          "x": 0.0875,
          "xanchor": "center",
          "xref": "paper",
          "y": 0.568,
          "yanchor": "bottom",
          "yref": "paper"
         },
         {
          "font": {
           "size": 16
          },
          "showarrow": false,
          "text": "17",
          "x": 0.36250000000000004,
          "xanchor": "center",
          "xref": "paper",
          "y": 0.568,
          "yanchor": "bottom",
          "yref": "paper"
         },
         {
          "font": {
           "size": 16
          },
          "showarrow": false,
          "text": "18",
          "x": 0.6375000000000001,
          "xanchor": "center",
          "xref": "paper",
          "y": 0.568,
          "yanchor": "bottom",
          "yref": "paper"
         },
         {
          "font": {
           "size": 16
          },
          "showarrow": false,
          "text": "19",
          "x": 0.9125,
          "xanchor": "center",
          "xref": "paper",
          "y": 0.568,
          "yanchor": "bottom",
          "yref": "paper"
         },
         {
          "font": {
           "size": 16
          },
          "showarrow": false,
          "text": "2",
          "x": 0.0875,
          "xanchor": "center",
          "xref": "paper",
          "y": 0.352,
          "yanchor": "bottom",
          "yref": "paper"
         },
         {
          "font": {
           "size": 16
          },
          "showarrow": false,
          "text": "3",
          "x": 0.36250000000000004,
          "xanchor": "center",
          "xref": "paper",
          "y": 0.352,
          "yanchor": "bottom",
          "yref": "paper"
         },
         {
          "font": {
           "size": 16
          },
          "showarrow": false,
          "text": "4",
          "x": 0.6375000000000001,
          "xanchor": "center",
          "xref": "paper",
          "y": 0.352,
          "yanchor": "bottom",
          "yref": "paper"
         },
         {
          "font": {
           "size": 16
          },
          "showarrow": false,
          "text": "5",
          "x": 0.9125,
          "xanchor": "center",
          "xref": "paper",
          "y": 0.352,
          "yanchor": "bottom",
          "yref": "paper"
         },
         {
          "font": {
           "size": 16
          },
          "showarrow": false,
          "text": "6",
          "x": 0.0875,
          "xanchor": "center",
          "xref": "paper",
          "y": 0.13599999999999998,
          "yanchor": "bottom",
          "yref": "paper"
         },
         {
          "font": {
           "size": 16
          },
          "showarrow": false,
          "text": "7",
          "x": 0.36250000000000004,
          "xanchor": "center",
          "xref": "paper",
          "y": 0.13599999999999998,
          "yanchor": "bottom",
          "yref": "paper"
         },
         {
          "font": {
           "size": 16
          },
          "showarrow": false,
          "text": "8",
          "x": 0.6375000000000001,
          "xanchor": "center",
          "xref": "paper",
          "y": 0.13599999999999998,
          "yanchor": "bottom",
          "yref": "paper"
         },
         {
          "font": {
           "size": 16
          },
          "showarrow": false,
          "text": "9",
          "x": 0.9125,
          "xanchor": "center",
          "xref": "paper",
          "y": 0.13599999999999998,
          "yanchor": "bottom",
          "yref": "paper"
         }
        ],
        "height": 800,
        "hoverlabel": {
         "bgcolor": "white",
         "font": {
          "family": "Rockwell",
          "size": 16
         }
        },
        "showlegend": false,
        "template": {
         "data": {
          "bar": [
           {
            "error_x": {
             "color": "#2a3f5f"
            },
            "error_y": {
             "color": "#2a3f5f"
            },
            "marker": {
             "line": {
              "color": "white",
              "width": 0.5
             },
             "pattern": {
              "fillmode": "overlay",
              "size": 10,
              "solidity": 0.2
             }
            },
            "type": "bar"
           }
          ],
          "barpolar": [
           {
            "marker": {
             "line": {
              "color": "white",
              "width": 0.5
             },
             "pattern": {
              "fillmode": "overlay",
              "size": 10,
              "solidity": 0.2
             }
            },
            "type": "barpolar"
           }
          ],
          "carpet": [
           {
            "aaxis": {
             "endlinecolor": "#2a3f5f",
             "gridcolor": "#C8D4E3",
             "linecolor": "#C8D4E3",
             "minorgridcolor": "#C8D4E3",
             "startlinecolor": "#2a3f5f"
            },
            "baxis": {
             "endlinecolor": "#2a3f5f",
             "gridcolor": "#C8D4E3",
             "linecolor": "#C8D4E3",
             "minorgridcolor": "#C8D4E3",
             "startlinecolor": "#2a3f5f"
            },
            "type": "carpet"
           }
          ],
          "choropleth": [
           {
            "colorbar": {
             "outlinewidth": 0,
             "ticks": ""
            },
            "type": "choropleth"
           }
          ],
          "contour": [
           {
            "colorbar": {
             "outlinewidth": 0,
             "ticks": ""
            },
            "colorscale": [
             [
              0,
              "#0d0887"
             ],
             [
              0.1111111111111111,
              "#46039f"
             ],
             [
              0.2222222222222222,
              "#7201a8"
             ],
             [
              0.3333333333333333,
              "#9c179e"
             ],
             [
              0.4444444444444444,
              "#bd3786"
             ],
             [
              0.5555555555555556,
              "#d8576b"
             ],
             [
              0.6666666666666666,
              "#ed7953"
             ],
             [
              0.7777777777777778,
              "#fb9f3a"
             ],
             [
              0.8888888888888888,
              "#fdca26"
             ],
             [
              1,
              "#f0f921"
             ]
            ],
            "type": "contour"
           }
          ],
          "contourcarpet": [
           {
            "colorbar": {
             "outlinewidth": 0,
             "ticks": ""
            },
            "type": "contourcarpet"
           }
          ],
          "heatmap": [
           {
            "colorbar": {
             "outlinewidth": 0,
             "ticks": ""
            },
            "colorscale": [
             [
              0,
              "#0d0887"
             ],
             [
              0.1111111111111111,
              "#46039f"
             ],
             [
              0.2222222222222222,
              "#7201a8"
             ],
             [
              0.3333333333333333,
              "#9c179e"
             ],
             [
              0.4444444444444444,
              "#bd3786"
             ],
             [
              0.5555555555555556,
              "#d8576b"
             ],
             [
              0.6666666666666666,
              "#ed7953"
             ],
             [
              0.7777777777777778,
              "#fb9f3a"
             ],
             [
              0.8888888888888888,
              "#fdca26"
             ],
             [
              1,
              "#f0f921"
             ]
            ],
            "type": "heatmap"
           }
          ],
          "heatmapgl": [
           {
            "colorbar": {
             "outlinewidth": 0,
             "ticks": ""
            },
            "colorscale": [
             [
              0,
              "#0d0887"
             ],
             [
              0.1111111111111111,
              "#46039f"
             ],
             [
              0.2222222222222222,
              "#7201a8"
             ],
             [
              0.3333333333333333,
              "#9c179e"
             ],
             [
              0.4444444444444444,
              "#bd3786"
             ],
             [
              0.5555555555555556,
              "#d8576b"
             ],
             [
              0.6666666666666666,
              "#ed7953"
             ],
             [
              0.7777777777777778,
              "#fb9f3a"
             ],
             [
              0.8888888888888888,
              "#fdca26"
             ],
             [
              1,
              "#f0f921"
             ]
            ],
            "type": "heatmapgl"
           }
          ],
          "histogram": [
           {
            "marker": {
             "pattern": {
              "fillmode": "overlay",
              "size": 10,
              "solidity": 0.2
             }
            },
            "type": "histogram"
           }
          ],
          "histogram2d": [
           {
            "colorbar": {
             "outlinewidth": 0,
             "ticks": ""
            },
            "colorscale": [
             [
              0,
              "#0d0887"
             ],
             [
              0.1111111111111111,
              "#46039f"
             ],
             [
              0.2222222222222222,
              "#7201a8"
             ],
             [
              0.3333333333333333,
              "#9c179e"
             ],
             [
              0.4444444444444444,
              "#bd3786"
             ],
             [
              0.5555555555555556,
              "#d8576b"
             ],
             [
              0.6666666666666666,
              "#ed7953"
             ],
             [
              0.7777777777777778,
              "#fb9f3a"
             ],
             [
              0.8888888888888888,
              "#fdca26"
             ],
             [
              1,
              "#f0f921"
             ]
            ],
            "type": "histogram2d"
           }
          ],
          "histogram2dcontour": [
           {
            "colorbar": {
             "outlinewidth": 0,
             "ticks": ""
            },
            "colorscale": [
             [
              0,
              "#0d0887"
             ],
             [
              0.1111111111111111,
              "#46039f"
             ],
             [
              0.2222222222222222,
              "#7201a8"
             ],
             [
              0.3333333333333333,
              "#9c179e"
             ],
             [
              0.4444444444444444,
              "#bd3786"
             ],
             [
              0.5555555555555556,
              "#d8576b"
             ],
             [
              0.6666666666666666,
              "#ed7953"
             ],
             [
              0.7777777777777778,
              "#fb9f3a"
             ],
             [
              0.8888888888888888,
              "#fdca26"
             ],
             [
              1,
              "#f0f921"
             ]
            ],
            "type": "histogram2dcontour"
           }
          ],
          "mesh3d": [
           {
            "colorbar": {
             "outlinewidth": 0,
             "ticks": ""
            },
            "type": "mesh3d"
           }
          ],
          "parcoords": [
           {
            "line": {
             "colorbar": {
              "outlinewidth": 0,
              "ticks": ""
             }
            },
            "type": "parcoords"
           }
          ],
          "pie": [
           {
            "automargin": true,
            "type": "pie"
           }
          ],
          "scatter": [
           {
            "fillpattern": {
             "fillmode": "overlay",
             "size": 10,
             "solidity": 0.2
            },
            "type": "scatter"
           }
          ],
          "scatter3d": [
           {
            "line": {
             "colorbar": {
              "outlinewidth": 0,
              "ticks": ""
             }
            },
            "marker": {
             "colorbar": {
              "outlinewidth": 0,
              "ticks": ""
             }
            },
            "type": "scatter3d"
           }
          ],
          "scattercarpet": [
           {
            "marker": {
             "colorbar": {
              "outlinewidth": 0,
              "ticks": ""
             }
            },
            "type": "scattercarpet"
           }
          ],
          "scattergeo": [
           {
            "marker": {
             "colorbar": {
              "outlinewidth": 0,
              "ticks": ""
             }
            },
            "type": "scattergeo"
           }
          ],
          "scattergl": [
           {
            "marker": {
             "colorbar": {
              "outlinewidth": 0,
              "ticks": ""
             }
            },
            "type": "scattergl"
           }
          ],
          "scattermapbox": [
           {
            "marker": {
             "colorbar": {
              "outlinewidth": 0,
              "ticks": ""
             }
            },
            "type": "scattermapbox"
           }
          ],
          "scatterpolar": [
           {
            "marker": {
             "colorbar": {
              "outlinewidth": 0,
              "ticks": ""
             }
            },
            "type": "scatterpolar"
           }
          ],
          "scatterpolargl": [
           {
            "marker": {
             "colorbar": {
              "outlinewidth": 0,
              "ticks": ""
             }
            },
            "type": "scatterpolargl"
           }
          ],
          "scatterternary": [
           {
            "marker": {
             "colorbar": {
              "outlinewidth": 0,
              "ticks": ""
             }
            },
            "type": "scatterternary"
           }
          ],
          "surface": [
           {
            "colorbar": {
             "outlinewidth": 0,
             "ticks": ""
            },
            "colorscale": [
             [
              0,
              "#0d0887"
             ],
             [
              0.1111111111111111,
              "#46039f"
             ],
             [
              0.2222222222222222,
              "#7201a8"
             ],
             [
              0.3333333333333333,
              "#9c179e"
             ],
             [
              0.4444444444444444,
              "#bd3786"
             ],
             [
              0.5555555555555556,
              "#d8576b"
             ],
             [
              0.6666666666666666,
              "#ed7953"
             ],
             [
              0.7777777777777778,
              "#fb9f3a"
             ],
             [
              0.8888888888888888,
              "#fdca26"
             ],
             [
              1,
              "#f0f921"
             ]
            ],
            "type": "surface"
           }
          ],
          "table": [
           {
            "cells": {
             "fill": {
              "color": "#EBF0F8"
             },
             "line": {
              "color": "white"
             }
            },
            "header": {
             "fill": {
              "color": "#C8D4E3"
             },
             "line": {
              "color": "white"
             }
            },
            "type": "table"
           }
          ]
         },
         "layout": {
          "annotationdefaults": {
           "arrowcolor": "#2a3f5f",
           "arrowhead": 0,
           "arrowwidth": 1
          },
          "autotypenumbers": "strict",
          "coloraxis": {
           "colorbar": {
            "outlinewidth": 0,
            "ticks": ""
           }
          },
          "colorscale": {
           "diverging": [
            [
             0,
             "#8e0152"
            ],
            [
             0.1,
             "#c51b7d"
            ],
            [
             0.2,
             "#de77ae"
            ],
            [
             0.3,
             "#f1b6da"
            ],
            [
             0.4,
             "#fde0ef"
            ],
            [
             0.5,
             "#f7f7f7"
            ],
            [
             0.6,
             "#e6f5d0"
            ],
            [
             0.7,
             "#b8e186"
            ],
            [
             0.8,
             "#7fbc41"
            ],
            [
             0.9,
             "#4d9221"
            ],
            [
             1,
             "#276419"
            ]
           ],
           "sequential": [
            [
             0,
             "#0d0887"
            ],
            [
             0.1111111111111111,
             "#46039f"
            ],
            [
             0.2222222222222222,
             "#7201a8"
            ],
            [
             0.3333333333333333,
             "#9c179e"
            ],
            [
             0.4444444444444444,
             "#bd3786"
            ],
            [
             0.5555555555555556,
             "#d8576b"
            ],
            [
             0.6666666666666666,
             "#ed7953"
            ],
            [
             0.7777777777777778,
             "#fb9f3a"
            ],
            [
             0.8888888888888888,
             "#fdca26"
            ],
            [
             1,
             "#f0f921"
            ]
           ],
           "sequentialminus": [
            [
             0,
             "#0d0887"
            ],
            [
             0.1111111111111111,
             "#46039f"
            ],
            [
             0.2222222222222222,
             "#7201a8"
            ],
            [
             0.3333333333333333,
             "#9c179e"
            ],
            [
             0.4444444444444444,
             "#bd3786"
            ],
            [
             0.5555555555555556,
             "#d8576b"
            ],
            [
             0.6666666666666666,
             "#ed7953"
            ],
            [
             0.7777777777777778,
             "#fb9f3a"
            ],
            [
             0.8888888888888888,
             "#fdca26"
            ],
            [
             1,
             "#f0f921"
            ]
           ]
          },
          "colorway": [
           "#636efa",
           "#EF553B",
           "#00cc96",
           "#ab63fa",
           "#FFA15A",
           "#19d3f3",
           "#FF6692",
           "#B6E880",
           "#FF97FF",
           "#FECB52"
          ],
          "font": {
           "color": "#2a3f5f"
          },
          "geo": {
           "bgcolor": "white",
           "lakecolor": "white",
           "landcolor": "white",
           "showlakes": true,
           "showland": true,
           "subunitcolor": "#C8D4E3"
          },
          "hoverlabel": {
           "align": "left"
          },
          "hovermode": "closest",
          "mapbox": {
           "style": "light"
          },
          "paper_bgcolor": "white",
          "plot_bgcolor": "white",
          "polar": {
           "angularaxis": {
            "gridcolor": "#EBF0F8",
            "linecolor": "#EBF0F8",
            "ticks": ""
           },
           "bgcolor": "white",
           "radialaxis": {
            "gridcolor": "#EBF0F8",
            "linecolor": "#EBF0F8",
            "ticks": ""
           }
          },
          "scene": {
           "xaxis": {
            "backgroundcolor": "white",
            "gridcolor": "#DFE8F3",
            "gridwidth": 2,
            "linecolor": "#EBF0F8",
            "showbackground": true,
            "ticks": "",
            "zerolinecolor": "#EBF0F8"
           },
           "yaxis": {
            "backgroundcolor": "white",
            "gridcolor": "#DFE8F3",
            "gridwidth": 2,
            "linecolor": "#EBF0F8",
            "showbackground": true,
            "ticks": "",
            "zerolinecolor": "#EBF0F8"
           },
           "zaxis": {
            "backgroundcolor": "white",
            "gridcolor": "#DFE8F3",
            "gridwidth": 2,
            "linecolor": "#EBF0F8",
            "showbackground": true,
            "ticks": "",
            "zerolinecolor": "#EBF0F8"
           }
          },
          "shapedefaults": {
           "line": {
            "color": "#2a3f5f"
           }
          },
          "ternary": {
           "aaxis": {
            "gridcolor": "#DFE8F3",
            "linecolor": "#A2B1C6",
            "ticks": ""
           },
           "baxis": {
            "gridcolor": "#DFE8F3",
            "linecolor": "#A2B1C6",
            "ticks": ""
           },
           "bgcolor": "white",
           "caxis": {
            "gridcolor": "#DFE8F3",
            "linecolor": "#A2B1C6",
            "ticks": ""
           }
          },
          "title": {
           "x": 0.05
          },
          "xaxis": {
           "automargin": true,
           "gridcolor": "#EBF0F8",
           "linecolor": "#EBF0F8",
           "ticks": "",
           "title": {
            "standoff": 15
           },
           "zerolinecolor": "#EBF0F8",
           "zerolinewidth": 2
          },
          "yaxis": {
           "automargin": true,
           "gridcolor": "#EBF0F8",
           "linecolor": "#EBF0F8",
           "ticks": "",
           "title": {
            "standoff": 15
           },
           "zerolinecolor": "#EBF0F8",
           "zerolinewidth": 2
          }
         }
        },
        "width": 700,
        "xaxis": {
         "anchor": "y",
         "domain": [
          0,
          0.175
         ]
        },
        "xaxis10": {
         "anchor": "y10",
         "domain": [
          0.275,
          0.45
         ]
        },
        "xaxis11": {
         "anchor": "y11",
         "domain": [
          0.55,
          0.7250000000000001
         ]
        },
        "xaxis12": {
         "anchor": "y12",
         "domain": [
          0.825,
          1
         ]
        },
        "xaxis13": {
         "anchor": "y13",
         "domain": [
          0,
          0.175
         ]
        },
        "xaxis14": {
         "anchor": "y14",
         "domain": [
          0.275,
          0.45
         ]
        },
        "xaxis15": {
         "anchor": "y15",
         "domain": [
          0.55,
          0.7250000000000001
         ]
        },
        "xaxis16": {
         "anchor": "y16",
         "domain": [
          0.825,
          1
         ]
        },
        "xaxis17": {
         "anchor": "y17",
         "domain": [
          0,
          0.175
         ]
        },
        "xaxis18": {
         "anchor": "y18",
         "domain": [
          0.275,
          0.45
         ]
        },
        "xaxis19": {
         "anchor": "y19",
         "domain": [
          0.55,
          0.7250000000000001
         ]
        },
        "xaxis2": {
         "anchor": "y2",
         "domain": [
          0.275,
          0.45
         ]
        },
        "xaxis20": {
         "anchor": "y20",
         "domain": [
          0.825,
          1
         ]
        },
        "xaxis3": {
         "anchor": "y3",
         "domain": [
          0.55,
          0.7250000000000001
         ]
        },
        "xaxis4": {
         "anchor": "y4",
         "domain": [
          0.825,
          1
         ]
        },
        "xaxis5": {
         "anchor": "y5",
         "domain": [
          0,
          0.175
         ]
        },
        "xaxis6": {
         "anchor": "y6",
         "domain": [
          0.275,
          0.45
         ]
        },
        "xaxis7": {
         "anchor": "y7",
         "domain": [
          0.55,
          0.7250000000000001
         ]
        },
        "xaxis8": {
         "anchor": "y8",
         "domain": [
          0.825,
          1
         ]
        },
        "xaxis9": {
         "anchor": "y9",
         "domain": [
          0,
          0.175
         ]
        },
        "yaxis": {
         "anchor": "x",
         "domain": [
          0.8639999999999999,
          0.9999999999999999
         ],
         "dtick": 1
        },
        "yaxis10": {
         "anchor": "x10",
         "domain": [
          0.43199999999999994,
          0.568
         ],
         "dtick": 1
        },
        "yaxis11": {
         "anchor": "x11",
         "domain": [
          0.43199999999999994,
          0.568
         ],
         "dtick": 1
        },
        "yaxis12": {
         "anchor": "x12",
         "domain": [
          0.43199999999999994,
          0.568
         ],
         "dtick": 1
        },
        "yaxis13": {
         "anchor": "x13",
         "domain": [
          0.21599999999999997,
          0.352
         ],
         "dtick": 1
        },
        "yaxis14": {
         "anchor": "x14",
         "domain": [
          0.21599999999999997,
          0.352
         ],
         "dtick": 1
        },
        "yaxis15": {
         "anchor": "x15",
         "domain": [
          0.21599999999999997,
          0.352
         ],
         "dtick": 1
        },
        "yaxis16": {
         "anchor": "x16",
         "domain": [
          0.21599999999999997,
          0.352
         ],
         "dtick": 1
        },
        "yaxis17": {
         "anchor": "x17",
         "domain": [
          0,
          0.13599999999999998
         ],
         "dtick": 1
        },
        "yaxis18": {
         "anchor": "x18",
         "domain": [
          0,
          0.13599999999999998
         ],
         "dtick": 1
        },
        "yaxis19": {
         "anchor": "x19",
         "domain": [
          0,
          0.13599999999999998
         ],
         "dtick": 1
        },
        "yaxis2": {
         "anchor": "x2",
         "domain": [
          0.8639999999999999,
          0.9999999999999999
         ],
         "dtick": 1
        },
        "yaxis20": {
         "anchor": "x20",
         "domain": [
          0,
          0.13599999999999998
         ],
         "dtick": 1
        },
        "yaxis3": {
         "anchor": "x3",
         "domain": [
          0.8639999999999999,
          0.9999999999999999
         ],
         "dtick": 1
        },
        "yaxis4": {
         "anchor": "x4",
         "domain": [
          0.8639999999999999,
          0.9999999999999999
         ],
         "dtick": 1
        },
        "yaxis5": {
         "anchor": "x5",
         "domain": [
          0.6479999999999999,
          0.7839999999999999
         ],
         "dtick": 1
        },
        "yaxis6": {
         "anchor": "x6",
         "domain": [
          0.6479999999999999,
          0.7839999999999999
         ],
         "dtick": 1
        },
        "yaxis7": {
         "anchor": "x7",
         "domain": [
          0.6479999999999999,
          0.7839999999999999
         ],
         "dtick": 1
        },
        "yaxis8": {
         "anchor": "x8",
         "domain": [
          0.6479999999999999,
          0.7839999999999999
         ],
         "dtick": 1
        },
        "yaxis9": {
         "anchor": "x9",
         "domain": [
          0.43199999999999994,
          0.568
         ],
         "dtick": 1
        }
       }
      }
     },
     "metadata": {},
     "output_type": "display_data"
    }
   ],
   "source": [
    "fig = file_util.get_topics_html(\"LDA\")\n",
    "fig.update_layout(width = 700, height = 800)"
   ]
  },
  {
   "cell_type": "code",
   "execution_count": 19,
   "metadata": {},
   "outputs": [
    {
     "data": {
      "application/vnd.plotly.v1+json": {
       "config": {
        "plotlyServerURL": "https://plot.ly"
       },
       "data": [
        {
         "marker": {
          "color": "#636EFA"
         },
         "orientation": "h",
         "type": "bar",
         "x": [
          6.685963642230471,
          8.74962326355505,
          8.877395092093437,
          9.522606700142623,
          11.365374473998642,
          37.29533627890566
         ],
         "xaxis": "x",
         "y": [
          "iced",
          "price",
          "teas",
          "drink",
          "green",
          "tea"
         ],
         "yaxis": "y"
        },
        {
         "marker": {
          "color": "#EF553B"
         },
         "orientation": "h",
         "type": "bar",
         "x": [
          7.1926043417922205,
          7.628795525550684,
          8.223395047025681,
          10.769807988504944,
          11.80459586355295,
          33.71139003417554
         ],
         "xaxis": "x2",
         "y": [
          "flavored",
          "amazon",
          "strong",
          "cup",
          "price",
          "coffee"
         ],
         "yaxis": "y2"
        },
        {
         "marker": {
          "color": "#00CC96"
         },
         "orientation": "h",
         "type": "bar",
         "x": [
          8.68763762321184,
          11.407576632859309,
          11.913322252874831,
          12.34384856384528,
          13.806851895627844,
          15.344263388404817
         ],
         "xaxis": "x3",
         "y": [
          "energy",
          "juice",
          "soda",
          "orange",
          "water",
          "drink"
         ],
         "yaxis": "y3"
        },
        {
         "marker": {
          "color": "#AB63FA"
         },
         "orientation": "h",
         "type": "bar",
         "x": [
          6.161227992411585,
          6.410208064206556,
          6.867917540120419,
          7.650949444893468,
          7.670811280247691,
          10.186858541228599
         ],
         "xaxis": "x4",
         "y": [
          "healthy",
          "fruit",
          "loves",
          "tasty",
          "snacks",
          "snack"
         ],
         "yaxis": "y4"
        },
        {
         "marker": {
          "color": "#FFA15A"
         },
         "orientation": "h",
         "type": "bar",
         "x": [
          2.7025847638176472,
          3.102647814462596,
          3.2392620116245774,
          3.326326403761276,
          3.522550045849207,
          3.8657786316508895
         ],
         "xaxis": "x5",
         "y": [
          "little",
          "easy",
          "used",
          "bought",
          "price",
          "time"
         ],
         "yaxis": "y5"
        },
        {
         "marker": {
          "color": "#19D3F3"
         },
         "orientation": "h",
         "type": "bar",
         "x": [
          4.3588195998915475,
          5.393955275766627,
          6.674557956444298,
          6.726012902459867,
          9.901598630965703,
          10.49371148134018
         ],
         "xaxis": "x6",
         "y": [
          "flour",
          "pancakes",
          "mix",
          "bread",
          "free",
          "gluten"
         ],
         "yaxis": "y6"
        },
        {
         "marker": {
          "color": "#FF6692"
         },
         "orientation": "h",
         "type": "bar",
         "x": [
          4.125758348550399,
          4.440052065512255,
          4.4772008397793055,
          4.545942194264941,
          5.649467338605684,
          13.84057320441317
         ],
         "xaxis": "x7",
         "y": [
          "kettle",
          "potato",
          "salt",
          "chip",
          "bag",
          "chips"
         ],
         "yaxis": "y7"
        },
        {
         "marker": {
          "color": "#B6E880"
         },
         "orientation": "h",
         "type": "bar",
         "x": [
          3.5137758334938676,
          3.8957943019973613,
          3.9716887570535255,
          4.281060742697358,
          5.448042074742132,
          10.845289758349443
         ],
         "xaxis": "x8",
         "y": [
          "milk",
          "sweet",
          "coffee",
          "free",
          "stevia",
          "sugar"
         ],
         "yaxis": "y8"
        },
        {
         "marker": {
          "color": "#FF97FF"
         },
         "orientation": "h",
         "type": "bar",
         "x": [
          4.643594433500296,
          5.017941582286055,
          5.564360265121403,
          6.338318876794773,
          8.413930668709876,
          11.610178455380556
         ],
         "xaxis": "x9",
         "y": [
          "tasty",
          "sweet",
          "protein",
          "snack",
          "bar",
          "bars"
         ],
         "yaxis": "y9"
        },
        {
         "marker": {
          "color": "#FECB52"
         },
         "orientation": "h",
         "type": "bar",
         "x": [
          3.0856552787392126,
          3.2605998996951704,
          3.473559701600432,
          4.531462421988453,
          6.397719528534842,
          10.364055316298398
         ],
         "xaxis": "x10",
         "y": [
          "box",
          "tasty",
          "sweet",
          "chocolate",
          "cookie",
          "cookies"
         ],
         "yaxis": "y10"
        },
        {
         "marker": {
          "color": "#636EFA"
         },
         "orientation": "h",
         "type": "bar",
         "x": [
          4.186090008153322,
          4.58534076375344,
          4.589878046855023,
          5.38244152566297,
          5.445299531587746,
          7.426466782894455
         ],
         "xaxis": "x11",
         "y": [
          "box",
          "pack",
          "amazon",
          "store",
          "grocery",
          "price"
         ],
         "yaxis": "y11"
        },
        {
         "marker": {
          "color": "#EF553B"
         },
         "orientation": "h",
         "type": "bar",
         "x": [
          2.7730158006610592,
          2.778272423325111,
          4.089756133102794,
          4.615525490398651,
          6.169489691040993,
          8.013040824493215
         ],
         "xaxis": "x12",
         "y": [
          "chili",
          "tasty",
          "chicken",
          "spicy",
          "hot",
          "sauce"
         ],
         "yaxis": "y12"
        },
        {
         "marker": {
          "color": "#00CC96"
         },
         "orientation": "h",
         "type": "bar",
         "x": [
          2.575222582494465,
          2.7021482489194395,
          3.580836537940458,
          5.416671907902323,
          7.0330471212101155,
          9.02839977347846
         ],
         "xaxis": "x13",
         "y": [
          "drink",
          "pineapple",
          "olive",
          "water",
          "oil",
          "coconut"
         ],
         "yaxis": "y13"
        },
        {
         "marker": {
          "color": "#AB63FA"
         },
         "orientation": "h",
         "type": "bar",
         "x": [
          2.8531792236305513,
          3.036274716685097,
          3.3159766434760294,
          3.579984478305128,
          5.990667260181596,
          6.337039433950639
         ],
         "xaxis": "x14",
         "y": [
          "salt",
          "snack",
          "fresh",
          "cashews",
          "almonds",
          "nuts"
         ],
         "yaxis": "y14"
        },
        {
         "marker": {
          "color": "#FFA15A"
         },
         "orientation": "h",
         "type": "bar",
         "x": [
          2.5673330682788933,
          3.037003413484839,
          4.745639094700129,
          6.36700873765589,
          6.437306304301819,
          8.365097534623274
         ],
         "xaxis": "x15",
         "y": [
          "tea",
          "price",
          "keurig",
          "cups",
          "cup",
          "coffee"
         ],
         "yaxis": "y15"
        },
        {
         "marker": {
          "color": "#19D3F3"
         },
         "orientation": "h",
         "type": "bar",
         "x": [
          3.0657467527752806,
          3.1295681833542237,
          3.258500614142375,
          3.363174992761094,
          3.379477411197102,
          7.297548335880718
         ],
         "xaxis": "x16",
         "y": [
          "eating",
          "milk",
          "cereals",
          "healthy",
          "fiber",
          "cereal"
         ],
         "yaxis": "y16"
        },
        {
         "marker": {
          "color": "#FF6692"
         },
         "orientation": "h",
         "type": "bar",
         "x": [
          2.591678907275733,
          3.0293997663606316,
          3.1446462546911436,
          4.022996996061553,
          4.49891677908414,
          5.094492830986781
         ],
         "xaxis": "x17",
         "y": [
          "treat",
          "loves",
          "treats",
          "price",
          "dogs",
          "dog"
         ],
         "yaxis": "y17"
        },
        {
         "marker": {
          "color": "#B6E880"
         },
         "orientation": "h",
         "type": "bar",
         "x": [
          2.3281994850839345,
          2.7272927282934134,
          3.1772471932863002,
          4.984569775614923,
          6.599908829291752,
          7.81347513434389
         ],
         "xaxis": "x18",
         "y": [
          "dark",
          "milk",
          "cup",
          "cocoa",
          "hot",
          "chocolate"
         ],
         "yaxis": "y18"
        },
        {
         "marker": {
          "color": "#FF97FF"
         },
         "orientation": "h",
         "type": "bar",
         "x": [
          1.9333526936958205,
          2.064978560373076,
          2.1814374568862216,
          2.328286503663013,
          3.652331977185962,
          6.48666389249626
         ],
         "xaxis": "x19",
         "y": [
          "ingredients",
          "loves",
          "quality",
          "healthy",
          "dogs",
          "dog"
         ],
         "yaxis": "y19"
        },
        {
         "marker": {
          "color": "#FECB52"
         },
         "orientation": "h",
         "type": "bar",
         "x": [
          1.8338169690088182,
          1.8706240339824562,
          1.9063686713676717,
          2.0875663173855594,
          5.5297824909595334,
          5.586133647894572
         ],
         "xaxis": "x20",
         "y": [
          "felidae",
          "free",
          "quality",
          "time",
          "cats",
          "cat"
         ],
         "yaxis": "y20"
        },
        {
         "marker": {
          "color": "#636EFA"
         },
         "orientation": "h",
         "type": "bar",
         "x": [
          1.8802670384207365,
          1.982553343046031,
          2.114353429487822,
          3.054109927241995,
          3.2077805419399517,
          5.181278754585312
         ],
         "xaxis": "x21",
         "y": [
          "boxes",
          "tasty",
          "healthy",
          "graham",
          "cracker",
          "crackers"
         ],
         "yaxis": "y21"
        },
        {
         "marker": {
          "color": "#EF553B"
         },
         "orientation": "h",
         "type": "bar",
         "x": [
          1.6250255914008278,
          1.6315341285920288,
          1.8769163513397136,
          2.5641430215495373,
          5.646646314951252,
          5.84919815716969
         ],
         "xaxis": "x22",
         "y": [
          "fat",
          "price",
          "almond",
          "pb",
          "peanut",
          "butter"
         ],
         "yaxis": "y22"
        },
        {
         "marker": {
          "color": "#00CC96"
         },
         "orientation": "h",
         "type": "bar",
         "x": [
          1.9193011385642502,
          1.9753444467503676,
          2.2718539628758934,
          2.3309089256754807,
          2.3756063992484586,
          5.560231194165509
         ],
         "xaxis": "x23",
         "y": [
          "chicken",
          "noodle",
          "ramen",
          "soup",
          "tasty",
          "noodles"
         ],
         "yaxis": "y23"
        },
        {
         "marker": {
          "color": "#AB63FA"
         },
         "orientation": "h",
         "type": "bar",
         "x": [
          2.5891389779819995,
          3.197887812965002,
          3.4814278544492323,
          3.758211630429547,
          4.260281453052705,
          4.823653628036314
         ],
         "xaxis": "x24",
         "y": [
          "products",
          "chicken",
          "dogs",
          "dog",
          "treats",
          "china"
         ],
         "yaxis": "y24"
        },
        {
         "marker": {
          "color": "#FFA15A"
         },
         "orientation": "h",
         "type": "bar",
         "x": [
          1.780994336727576,
          1.8507561524281595,
          1.852342493848234,
          2.3116267928133443,
          2.521454453789207,
          3.105237830470301
         ],
         "xaxis": "x25",
         "y": [
          "company",
          "shipping",
          "gift",
          "bought",
          "item",
          "price"
         ],
         "yaxis": "y25"
        },
        {
         "marker": {
          "color": "#19D3F3"
         },
         "orientation": "h",
         "type": "bar",
         "x": [
          1.5497788880027685,
          1.5766599078698191,
          1.6714299980052656,
          1.686355468666425,
          1.710507505644606,
          6.406966663667958
         ],
         "xaxis": "x26",
         "y": [
          "movie",
          "corn",
          "theater",
          "oil",
          "salt",
          "popcorn"
         ],
         "yaxis": "y26"
        },
        {
         "marker": {
          "color": "#FF6692"
         },
         "orientation": "h",
         "type": "bar",
         "x": [
          1.9040005253380772,
          2.001227788266799,
          2.2535357867413395,
          2.355126298227189,
          2.561542763224787,
          7.662965653394893
         ],
         "xaxis": "x27",
         "y": [
          "salty",
          "add",
          "table",
          "sodium",
          "sea",
          "salt"
         ],
         "yaxis": "y27"
        }
       ],
       "layout": {
        "annotations": [
         {
          "font": {
           "size": 16
          },
          "showarrow": false,
          "text": "0",
          "x": 0.0875,
          "xanchor": "center",
          "xref": "paper",
          "y": 1,
          "yanchor": "bottom",
          "yref": "paper"
         },
         {
          "font": {
           "size": 16
          },
          "showarrow": false,
          "text": "1",
          "x": 0.36250000000000004,
          "xanchor": "center",
          "xref": "paper",
          "y": 1,
          "yanchor": "bottom",
          "yref": "paper"
         },
         {
          "font": {
           "size": 16
          },
          "showarrow": false,
          "text": "2",
          "x": 0.6375000000000001,
          "xanchor": "center",
          "xref": "paper",
          "y": 1,
          "yanchor": "bottom",
          "yref": "paper"
         },
         {
          "font": {
           "size": 16
          },
          "showarrow": false,
          "text": "3",
          "x": 0.9125,
          "xanchor": "center",
          "xref": "paper",
          "y": 1,
          "yanchor": "bottom",
          "yref": "paper"
         },
         {
          "font": {
           "size": 16
          },
          "showarrow": false,
          "text": "4",
          "x": 0.0875,
          "xanchor": "center",
          "xref": "paper",
          "y": 0.8489795918367348,
          "yanchor": "bottom",
          "yref": "paper"
         },
         {
          "font": {
           "size": 16
          },
          "showarrow": false,
          "text": "5",
          "x": 0.36250000000000004,
          "xanchor": "center",
          "xref": "paper",
          "y": 0.8489795918367348,
          "yanchor": "bottom",
          "yref": "paper"
         },
         {
          "font": {
           "size": 16
          },
          "showarrow": false,
          "text": "6",
          "x": 0.6375000000000001,
          "xanchor": "center",
          "xref": "paper",
          "y": 0.8489795918367348,
          "yanchor": "bottom",
          "yref": "paper"
         },
         {
          "font": {
           "size": 16
          },
          "showarrow": false,
          "text": "7",
          "x": 0.9125,
          "xanchor": "center",
          "xref": "paper",
          "y": 0.8489795918367348,
          "yanchor": "bottom",
          "yref": "paper"
         },
         {
          "font": {
           "size": 16
          },
          "showarrow": false,
          "text": "8",
          "x": 0.0875,
          "xanchor": "center",
          "xref": "paper",
          "y": 0.6979591836734694,
          "yanchor": "bottom",
          "yref": "paper"
         },
         {
          "font": {
           "size": 16
          },
          "showarrow": false,
          "text": "9",
          "x": 0.36250000000000004,
          "xanchor": "center",
          "xref": "paper",
          "y": 0.6979591836734694,
          "yanchor": "bottom",
          "yref": "paper"
         },
         {
          "font": {
           "size": 16
          },
          "showarrow": false,
          "text": "10",
          "x": 0.6375000000000001,
          "xanchor": "center",
          "xref": "paper",
          "y": 0.6979591836734694,
          "yanchor": "bottom",
          "yref": "paper"
         },
         {
          "font": {
           "size": 16
          },
          "showarrow": false,
          "text": "11",
          "x": 0.9125,
          "xanchor": "center",
          "xref": "paper",
          "y": 0.6979591836734694,
          "yanchor": "bottom",
          "yref": "paper"
         },
         {
          "font": {
           "size": 16
          },
          "showarrow": false,
          "text": "12",
          "x": 0.0875,
          "xanchor": "center",
          "xref": "paper",
          "y": 0.5469387755102041,
          "yanchor": "bottom",
          "yref": "paper"
         },
         {
          "font": {
           "size": 16
          },
          "showarrow": false,
          "text": "13",
          "x": 0.36250000000000004,
          "xanchor": "center",
          "xref": "paper",
          "y": 0.5469387755102041,
          "yanchor": "bottom",
          "yref": "paper"
         },
         {
          "font": {
           "size": 16
          },
          "showarrow": false,
          "text": "14",
          "x": 0.6375000000000001,
          "xanchor": "center",
          "xref": "paper",
          "y": 0.5469387755102041,
          "yanchor": "bottom",
          "yref": "paper"
         },
         {
          "font": {
           "size": 16
          },
          "showarrow": false,
          "text": "15",
          "x": 0.9125,
          "xanchor": "center",
          "xref": "paper",
          "y": 0.5469387755102041,
          "yanchor": "bottom",
          "yref": "paper"
         },
         {
          "font": {
           "size": 16
          },
          "showarrow": false,
          "text": "16",
          "x": 0.0875,
          "xanchor": "center",
          "xref": "paper",
          "y": 0.3959183673469388,
          "yanchor": "bottom",
          "yref": "paper"
         },
         {
          "font": {
           "size": 16
          },
          "showarrow": false,
          "text": "17",
          "x": 0.36250000000000004,
          "xanchor": "center",
          "xref": "paper",
          "y": 0.3959183673469388,
          "yanchor": "bottom",
          "yref": "paper"
         },
         {
          "font": {
           "size": 16
          },
          "showarrow": false,
          "text": "18",
          "x": 0.6375000000000001,
          "xanchor": "center",
          "xref": "paper",
          "y": 0.3959183673469388,
          "yanchor": "bottom",
          "yref": "paper"
         },
         {
          "font": {
           "size": 16
          },
          "showarrow": false,
          "text": "19",
          "x": 0.9125,
          "xanchor": "center",
          "xref": "paper",
          "y": 0.3959183673469388,
          "yanchor": "bottom",
          "yref": "paper"
         },
         {
          "font": {
           "size": 16
          },
          "showarrow": false,
          "text": "20",
          "x": 0.0875,
          "xanchor": "center",
          "xref": "paper",
          "y": 0.24489795918367346,
          "yanchor": "bottom",
          "yref": "paper"
         },
         {
          "font": {
           "size": 16
          },
          "showarrow": false,
          "text": "21",
          "x": 0.36250000000000004,
          "xanchor": "center",
          "xref": "paper",
          "y": 0.24489795918367346,
          "yanchor": "bottom",
          "yref": "paper"
         },
         {
          "font": {
           "size": 16
          },
          "showarrow": false,
          "text": "22",
          "x": 0.6375000000000001,
          "xanchor": "center",
          "xref": "paper",
          "y": 0.24489795918367346,
          "yanchor": "bottom",
          "yref": "paper"
         },
         {
          "font": {
           "size": 16
          },
          "showarrow": false,
          "text": "23",
          "x": 0.9125,
          "xanchor": "center",
          "xref": "paper",
          "y": 0.24489795918367346,
          "yanchor": "bottom",
          "yref": "paper"
         },
         {
          "font": {
           "size": 16
          },
          "showarrow": false,
          "text": "24",
          "x": 0.0875,
          "xanchor": "center",
          "xref": "paper",
          "y": 0.09387755102040816,
          "yanchor": "bottom",
          "yref": "paper"
         },
         {
          "font": {
           "size": 16
          },
          "showarrow": false,
          "text": "25",
          "x": 0.36250000000000004,
          "xanchor": "center",
          "xref": "paper",
          "y": 0.09387755102040816,
          "yanchor": "bottom",
          "yref": "paper"
         },
         {
          "font": {
           "size": 16
          },
          "showarrow": false,
          "text": "26",
          "x": 0.6375000000000001,
          "xanchor": "center",
          "xref": "paper",
          "y": 0.09387755102040816,
          "yanchor": "bottom",
          "yref": "paper"
         }
        ],
        "height": 1000,
        "hoverlabel": {
         "bgcolor": "white",
         "font": {
          "family": "Rockwell",
          "size": 16
         }
        },
        "showlegend": false,
        "template": {
         "data": {
          "bar": [
           {
            "error_x": {
             "color": "#2a3f5f"
            },
            "error_y": {
             "color": "#2a3f5f"
            },
            "marker": {
             "line": {
              "color": "white",
              "width": 0.5
             },
             "pattern": {
              "fillmode": "overlay",
              "size": 10,
              "solidity": 0.2
             }
            },
            "type": "bar"
           }
          ],
          "barpolar": [
           {
            "marker": {
             "line": {
              "color": "white",
              "width": 0.5
             },
             "pattern": {
              "fillmode": "overlay",
              "size": 10,
              "solidity": 0.2
             }
            },
            "type": "barpolar"
           }
          ],
          "carpet": [
           {
            "aaxis": {
             "endlinecolor": "#2a3f5f",
             "gridcolor": "#C8D4E3",
             "linecolor": "#C8D4E3",
             "minorgridcolor": "#C8D4E3",
             "startlinecolor": "#2a3f5f"
            },
            "baxis": {
             "endlinecolor": "#2a3f5f",
             "gridcolor": "#C8D4E3",
             "linecolor": "#C8D4E3",
             "minorgridcolor": "#C8D4E3",
             "startlinecolor": "#2a3f5f"
            },
            "type": "carpet"
           }
          ],
          "choropleth": [
           {
            "colorbar": {
             "outlinewidth": 0,
             "ticks": ""
            },
            "type": "choropleth"
           }
          ],
          "contour": [
           {
            "colorbar": {
             "outlinewidth": 0,
             "ticks": ""
            },
            "colorscale": [
             [
              0,
              "#0d0887"
             ],
             [
              0.1111111111111111,
              "#46039f"
             ],
             [
              0.2222222222222222,
              "#7201a8"
             ],
             [
              0.3333333333333333,
              "#9c179e"
             ],
             [
              0.4444444444444444,
              "#bd3786"
             ],
             [
              0.5555555555555556,
              "#d8576b"
             ],
             [
              0.6666666666666666,
              "#ed7953"
             ],
             [
              0.7777777777777778,
              "#fb9f3a"
             ],
             [
              0.8888888888888888,
              "#fdca26"
             ],
             [
              1,
              "#f0f921"
             ]
            ],
            "type": "contour"
           }
          ],
          "contourcarpet": [
           {
            "colorbar": {
             "outlinewidth": 0,
             "ticks": ""
            },
            "type": "contourcarpet"
           }
          ],
          "heatmap": [
           {
            "colorbar": {
             "outlinewidth": 0,
             "ticks": ""
            },
            "colorscale": [
             [
              0,
              "#0d0887"
             ],
             [
              0.1111111111111111,
              "#46039f"
             ],
             [
              0.2222222222222222,
              "#7201a8"
             ],
             [
              0.3333333333333333,
              "#9c179e"
             ],
             [
              0.4444444444444444,
              "#bd3786"
             ],
             [
              0.5555555555555556,
              "#d8576b"
             ],
             [
              0.6666666666666666,
              "#ed7953"
             ],
             [
              0.7777777777777778,
              "#fb9f3a"
             ],
             [
              0.8888888888888888,
              "#fdca26"
             ],
             [
              1,
              "#f0f921"
             ]
            ],
            "type": "heatmap"
           }
          ],
          "heatmapgl": [
           {
            "colorbar": {
             "outlinewidth": 0,
             "ticks": ""
            },
            "colorscale": [
             [
              0,
              "#0d0887"
             ],
             [
              0.1111111111111111,
              "#46039f"
             ],
             [
              0.2222222222222222,
              "#7201a8"
             ],
             [
              0.3333333333333333,
              "#9c179e"
             ],
             [
              0.4444444444444444,
              "#bd3786"
             ],
             [
              0.5555555555555556,
              "#d8576b"
             ],
             [
              0.6666666666666666,
              "#ed7953"
             ],
             [
              0.7777777777777778,
              "#fb9f3a"
             ],
             [
              0.8888888888888888,
              "#fdca26"
             ],
             [
              1,
              "#f0f921"
             ]
            ],
            "type": "heatmapgl"
           }
          ],
          "histogram": [
           {
            "marker": {
             "pattern": {
              "fillmode": "overlay",
              "size": 10,
              "solidity": 0.2
             }
            },
            "type": "histogram"
           }
          ],
          "histogram2d": [
           {
            "colorbar": {
             "outlinewidth": 0,
             "ticks": ""
            },
            "colorscale": [
             [
              0,
              "#0d0887"
             ],
             [
              0.1111111111111111,
              "#46039f"
             ],
             [
              0.2222222222222222,
              "#7201a8"
             ],
             [
              0.3333333333333333,
              "#9c179e"
             ],
             [
              0.4444444444444444,
              "#bd3786"
             ],
             [
              0.5555555555555556,
              "#d8576b"
             ],
             [
              0.6666666666666666,
              "#ed7953"
             ],
             [
              0.7777777777777778,
              "#fb9f3a"
             ],
             [
              0.8888888888888888,
              "#fdca26"
             ],
             [
              1,
              "#f0f921"
             ]
            ],
            "type": "histogram2d"
           }
          ],
          "histogram2dcontour": [
           {
            "colorbar": {
             "outlinewidth": 0,
             "ticks": ""
            },
            "colorscale": [
             [
              0,
              "#0d0887"
             ],
             [
              0.1111111111111111,
              "#46039f"
             ],
             [
              0.2222222222222222,
              "#7201a8"
             ],
             [
              0.3333333333333333,
              "#9c179e"
             ],
             [
              0.4444444444444444,
              "#bd3786"
             ],
             [
              0.5555555555555556,
              "#d8576b"
             ],
             [
              0.6666666666666666,
              "#ed7953"
             ],
             [
              0.7777777777777778,
              "#fb9f3a"
             ],
             [
              0.8888888888888888,
              "#fdca26"
             ],
             [
              1,
              "#f0f921"
             ]
            ],
            "type": "histogram2dcontour"
           }
          ],
          "mesh3d": [
           {
            "colorbar": {
             "outlinewidth": 0,
             "ticks": ""
            },
            "type": "mesh3d"
           }
          ],
          "parcoords": [
           {
            "line": {
             "colorbar": {
              "outlinewidth": 0,
              "ticks": ""
             }
            },
            "type": "parcoords"
           }
          ],
          "pie": [
           {
            "automargin": true,
            "type": "pie"
           }
          ],
          "scatter": [
           {
            "fillpattern": {
             "fillmode": "overlay",
             "size": 10,
             "solidity": 0.2
            },
            "type": "scatter"
           }
          ],
          "scatter3d": [
           {
            "line": {
             "colorbar": {
              "outlinewidth": 0,
              "ticks": ""
             }
            },
            "marker": {
             "colorbar": {
              "outlinewidth": 0,
              "ticks": ""
             }
            },
            "type": "scatter3d"
           }
          ],
          "scattercarpet": [
           {
            "marker": {
             "colorbar": {
              "outlinewidth": 0,
              "ticks": ""
             }
            },
            "type": "scattercarpet"
           }
          ],
          "scattergeo": [
           {
            "marker": {
             "colorbar": {
              "outlinewidth": 0,
              "ticks": ""
             }
            },
            "type": "scattergeo"
           }
          ],
          "scattergl": [
           {
            "marker": {
             "colorbar": {
              "outlinewidth": 0,
              "ticks": ""
             }
            },
            "type": "scattergl"
           }
          ],
          "scattermapbox": [
           {
            "marker": {
             "colorbar": {
              "outlinewidth": 0,
              "ticks": ""
             }
            },
            "type": "scattermapbox"
           }
          ],
          "scatterpolar": [
           {
            "marker": {
             "colorbar": {
              "outlinewidth": 0,
              "ticks": ""
             }
            },
            "type": "scatterpolar"
           }
          ],
          "scatterpolargl": [
           {
            "marker": {
             "colorbar": {
              "outlinewidth": 0,
              "ticks": ""
             }
            },
            "type": "scatterpolargl"
           }
          ],
          "scatterternary": [
           {
            "marker": {
             "colorbar": {
              "outlinewidth": 0,
              "ticks": ""
             }
            },
            "type": "scatterternary"
           }
          ],
          "surface": [
           {
            "colorbar": {
             "outlinewidth": 0,
             "ticks": ""
            },
            "colorscale": [
             [
              0,
              "#0d0887"
             ],
             [
              0.1111111111111111,
              "#46039f"
             ],
             [
              0.2222222222222222,
              "#7201a8"
             ],
             [
              0.3333333333333333,
              "#9c179e"
             ],
             [
              0.4444444444444444,
              "#bd3786"
             ],
             [
              0.5555555555555556,
              "#d8576b"
             ],
             [
              0.6666666666666666,
              "#ed7953"
             ],
             [
              0.7777777777777778,
              "#fb9f3a"
             ],
             [
              0.8888888888888888,
              "#fdca26"
             ],
             [
              1,
              "#f0f921"
             ]
            ],
            "type": "surface"
           }
          ],
          "table": [
           {
            "cells": {
             "fill": {
              "color": "#EBF0F8"
             },
             "line": {
              "color": "white"
             }
            },
            "header": {
             "fill": {
              "color": "#C8D4E3"
             },
             "line": {
              "color": "white"
             }
            },
            "type": "table"
           }
          ]
         },
         "layout": {
          "annotationdefaults": {
           "arrowcolor": "#2a3f5f",
           "arrowhead": 0,
           "arrowwidth": 1
          },
          "autotypenumbers": "strict",
          "coloraxis": {
           "colorbar": {
            "outlinewidth": 0,
            "ticks": ""
           }
          },
          "colorscale": {
           "diverging": [
            [
             0,
             "#8e0152"
            ],
            [
             0.1,
             "#c51b7d"
            ],
            [
             0.2,
             "#de77ae"
            ],
            [
             0.3,
             "#f1b6da"
            ],
            [
             0.4,
             "#fde0ef"
            ],
            [
             0.5,
             "#f7f7f7"
            ],
            [
             0.6,
             "#e6f5d0"
            ],
            [
             0.7,
             "#b8e186"
            ],
            [
             0.8,
             "#7fbc41"
            ],
            [
             0.9,
             "#4d9221"
            ],
            [
             1,
             "#276419"
            ]
           ],
           "sequential": [
            [
             0,
             "#0d0887"
            ],
            [
             0.1111111111111111,
             "#46039f"
            ],
            [
             0.2222222222222222,
             "#7201a8"
            ],
            [
             0.3333333333333333,
             "#9c179e"
            ],
            [
             0.4444444444444444,
             "#bd3786"
            ],
            [
             0.5555555555555556,
             "#d8576b"
            ],
            [
             0.6666666666666666,
             "#ed7953"
            ],
            [
             0.7777777777777778,
             "#fb9f3a"
            ],
            [
             0.8888888888888888,
             "#fdca26"
            ],
            [
             1,
             "#f0f921"
            ]
           ],
           "sequentialminus": [
            [
             0,
             "#0d0887"
            ],
            [
             0.1111111111111111,
             "#46039f"
            ],
            [
             0.2222222222222222,
             "#7201a8"
            ],
            [
             0.3333333333333333,
             "#9c179e"
            ],
            [
             0.4444444444444444,
             "#bd3786"
            ],
            [
             0.5555555555555556,
             "#d8576b"
            ],
            [
             0.6666666666666666,
             "#ed7953"
            ],
            [
             0.7777777777777778,
             "#fb9f3a"
            ],
            [
             0.8888888888888888,
             "#fdca26"
            ],
            [
             1,
             "#f0f921"
            ]
           ]
          },
          "colorway": [
           "#636efa",
           "#EF553B",
           "#00cc96",
           "#ab63fa",
           "#FFA15A",
           "#19d3f3",
           "#FF6692",
           "#B6E880",
           "#FF97FF",
           "#FECB52"
          ],
          "font": {
           "color": "#2a3f5f"
          },
          "geo": {
           "bgcolor": "white",
           "lakecolor": "white",
           "landcolor": "white",
           "showlakes": true,
           "showland": true,
           "subunitcolor": "#C8D4E3"
          },
          "hoverlabel": {
           "align": "left"
          },
          "hovermode": "closest",
          "mapbox": {
           "style": "light"
          },
          "paper_bgcolor": "white",
          "plot_bgcolor": "white",
          "polar": {
           "angularaxis": {
            "gridcolor": "#EBF0F8",
            "linecolor": "#EBF0F8",
            "ticks": ""
           },
           "bgcolor": "white",
           "radialaxis": {
            "gridcolor": "#EBF0F8",
            "linecolor": "#EBF0F8",
            "ticks": ""
           }
          },
          "scene": {
           "xaxis": {
            "backgroundcolor": "white",
            "gridcolor": "#DFE8F3",
            "gridwidth": 2,
            "linecolor": "#EBF0F8",
            "showbackground": true,
            "ticks": "",
            "zerolinecolor": "#EBF0F8"
           },
           "yaxis": {
            "backgroundcolor": "white",
            "gridcolor": "#DFE8F3",
            "gridwidth": 2,
            "linecolor": "#EBF0F8",
            "showbackground": true,
            "ticks": "",
            "zerolinecolor": "#EBF0F8"
           },
           "zaxis": {
            "backgroundcolor": "white",
            "gridcolor": "#DFE8F3",
            "gridwidth": 2,
            "linecolor": "#EBF0F8",
            "showbackground": true,
            "ticks": "",
            "zerolinecolor": "#EBF0F8"
           }
          },
          "shapedefaults": {
           "line": {
            "color": "#2a3f5f"
           }
          },
          "ternary": {
           "aaxis": {
            "gridcolor": "#DFE8F3",
            "linecolor": "#A2B1C6",
            "ticks": ""
           },
           "baxis": {
            "gridcolor": "#DFE8F3",
            "linecolor": "#A2B1C6",
            "ticks": ""
           },
           "bgcolor": "white",
           "caxis": {
            "gridcolor": "#DFE8F3",
            "linecolor": "#A2B1C6",
            "ticks": ""
           }
          },
          "title": {
           "x": 0.05
          },
          "xaxis": {
           "automargin": true,
           "gridcolor": "#EBF0F8",
           "linecolor": "#EBF0F8",
           "ticks": "",
           "title": {
            "standoff": 15
           },
           "zerolinecolor": "#EBF0F8",
           "zerolinewidth": 2
          },
          "yaxis": {
           "automargin": true,
           "gridcolor": "#EBF0F8",
           "linecolor": "#EBF0F8",
           "ticks": "",
           "title": {
            "standoff": 15
           },
           "zerolinecolor": "#EBF0F8",
           "zerolinewidth": 2
          }
         }
        },
        "width": 700,
        "xaxis": {
         "anchor": "y",
         "domain": [
          0,
          0.175
         ]
        },
        "xaxis10": {
         "anchor": "y10",
         "domain": [
          0.275,
          0.45
         ]
        },
        "xaxis11": {
         "anchor": "y11",
         "domain": [
          0.55,
          0.7250000000000001
         ]
        },
        "xaxis12": {
         "anchor": "y12",
         "domain": [
          0.825,
          1
         ]
        },
        "xaxis13": {
         "anchor": "y13",
         "domain": [
          0,
          0.175
         ]
        },
        "xaxis14": {
         "anchor": "y14",
         "domain": [
          0.275,
          0.45
         ]
        },
        "xaxis15": {
         "anchor": "y15",
         "domain": [
          0.55,
          0.7250000000000001
         ]
        },
        "xaxis16": {
         "anchor": "y16",
         "domain": [
          0.825,
          1
         ]
        },
        "xaxis17": {
         "anchor": "y17",
         "domain": [
          0,
          0.175
         ]
        },
        "xaxis18": {
         "anchor": "y18",
         "domain": [
          0.275,
          0.45
         ]
        },
        "xaxis19": {
         "anchor": "y19",
         "domain": [
          0.55,
          0.7250000000000001
         ]
        },
        "xaxis2": {
         "anchor": "y2",
         "domain": [
          0.275,
          0.45
         ]
        },
        "xaxis20": {
         "anchor": "y20",
         "domain": [
          0.825,
          1
         ]
        },
        "xaxis21": {
         "anchor": "y21",
         "domain": [
          0,
          0.175
         ]
        },
        "xaxis22": {
         "anchor": "y22",
         "domain": [
          0.275,
          0.45
         ]
        },
        "xaxis23": {
         "anchor": "y23",
         "domain": [
          0.55,
          0.7250000000000001
         ]
        },
        "xaxis24": {
         "anchor": "y24",
         "domain": [
          0.825,
          1
         ]
        },
        "xaxis25": {
         "anchor": "y25",
         "domain": [
          0,
          0.175
         ]
        },
        "xaxis26": {
         "anchor": "y26",
         "domain": [
          0.275,
          0.45
         ]
        },
        "xaxis27": {
         "anchor": "y27",
         "domain": [
          0.55,
          0.7250000000000001
         ]
        },
        "xaxis28": {
         "anchor": "y28",
         "domain": [
          0.825,
          1
         ]
        },
        "xaxis3": {
         "anchor": "y3",
         "domain": [
          0.55,
          0.7250000000000001
         ]
        },
        "xaxis4": {
         "anchor": "y4",
         "domain": [
          0.825,
          1
         ]
        },
        "xaxis5": {
         "anchor": "y5",
         "domain": [
          0,
          0.175
         ]
        },
        "xaxis6": {
         "anchor": "y6",
         "domain": [
          0.275,
          0.45
         ]
        },
        "xaxis7": {
         "anchor": "y7",
         "domain": [
          0.55,
          0.7250000000000001
         ]
        },
        "xaxis8": {
         "anchor": "y8",
         "domain": [
          0.825,
          1
         ]
        },
        "xaxis9": {
         "anchor": "y9",
         "domain": [
          0,
          0.175
         ]
        },
        "yaxis": {
         "anchor": "x",
         "domain": [
          0.9061224489795918,
          1
         ],
         "dtick": 1
        },
        "yaxis10": {
         "anchor": "x10",
         "domain": [
          0.6040816326530613,
          0.6979591836734694
         ],
         "dtick": 1
        },
        "yaxis11": {
         "anchor": "x11",
         "domain": [
          0.6040816326530613,
          0.6979591836734694
         ],
         "dtick": 1
        },
        "yaxis12": {
         "anchor": "x12",
         "domain": [
          0.6040816326530613,
          0.6979591836734694
         ],
         "dtick": 1
        },
        "yaxis13": {
         "anchor": "x13",
         "domain": [
          0.4530612244897959,
          0.5469387755102041
         ],
         "dtick": 1
        },
        "yaxis14": {
         "anchor": "x14",
         "domain": [
          0.4530612244897959,
          0.5469387755102041
         ],
         "dtick": 1
        },
        "yaxis15": {
         "anchor": "x15",
         "domain": [
          0.4530612244897959,
          0.5469387755102041
         ],
         "dtick": 1
        },
        "yaxis16": {
         "anchor": "x16",
         "domain": [
          0.4530612244897959,
          0.5469387755102041
         ],
         "dtick": 1
        },
        "yaxis17": {
         "anchor": "x17",
         "domain": [
          0.3020408163265306,
          0.3959183673469388
         ],
         "dtick": 1
        },
        "yaxis18": {
         "anchor": "x18",
         "domain": [
          0.3020408163265306,
          0.3959183673469388
         ],
         "dtick": 1
        },
        "yaxis19": {
         "anchor": "x19",
         "domain": [
          0.3020408163265306,
          0.3959183673469388
         ],
         "dtick": 1
        },
        "yaxis2": {
         "anchor": "x2",
         "domain": [
          0.9061224489795918,
          1
         ],
         "dtick": 1
        },
        "yaxis20": {
         "anchor": "x20",
         "domain": [
          0.3020408163265306,
          0.3959183673469388
         ],
         "dtick": 1
        },
        "yaxis21": {
         "anchor": "x21",
         "domain": [
          0.1510204081632653,
          0.24489795918367346
         ],
         "dtick": 1
        },
        "yaxis22": {
         "anchor": "x22",
         "domain": [
          0.1510204081632653,
          0.24489795918367346
         ],
         "dtick": 1
        },
        "yaxis23": {
         "anchor": "x23",
         "domain": [
          0.1510204081632653,
          0.24489795918367346
         ],
         "dtick": 1
        },
        "yaxis24": {
         "anchor": "x24",
         "domain": [
          0.1510204081632653,
          0.24489795918367346
         ],
         "dtick": 1
        },
        "yaxis25": {
         "anchor": "x25",
         "domain": [
          0,
          0.09387755102040816
         ],
         "dtick": 1
        },
        "yaxis26": {
         "anchor": "x26",
         "domain": [
          0,
          0.09387755102040816
         ],
         "dtick": 1
        },
        "yaxis27": {
         "anchor": "x27",
         "domain": [
          0,
          0.09387755102040816
         ],
         "dtick": 1
        },
        "yaxis28": {
         "anchor": "x28",
         "domain": [
          0,
          0.09387755102040816
         ],
         "dtick": 1
        },
        "yaxis3": {
         "anchor": "x3",
         "domain": [
          0.9061224489795918,
          1
         ],
         "dtick": 1
        },
        "yaxis4": {
         "anchor": "x4",
         "domain": [
          0.9061224489795918,
          1
         ],
         "dtick": 1
        },
        "yaxis5": {
         "anchor": "x5",
         "domain": [
          0.7551020408163266,
          0.8489795918367348
         ],
         "dtick": 1
        },
        "yaxis6": {
         "anchor": "x6",
         "domain": [
          0.7551020408163266,
          0.8489795918367348
         ],
         "dtick": 1
        },
        "yaxis7": {
         "anchor": "x7",
         "domain": [
          0.7551020408163266,
          0.8489795918367348
         ],
         "dtick": 1
        },
        "yaxis8": {
         "anchor": "x8",
         "domain": [
          0.7551020408163266,
          0.8489795918367348
         ],
         "dtick": 1
        },
        "yaxis9": {
         "anchor": "x9",
         "domain": [
          0.6040816326530613,
          0.6979591836734694
         ],
         "dtick": 1
        }
       }
      }
     },
     "metadata": {},
     "output_type": "display_data"
    }
   ],
   "source": [
    "fig = file_util.get_topics_html(\"BERTopic\")\n",
    "fig.update_layout(width = 700, height = 1000)"
   ]
  },
  {
   "cell_type": "code",
   "execution_count": 23,
   "metadata": {},
   "outputs": [
    {
     "data": {
      "application/vnd.plotly.v1+json": {
       "config": {
        "plotlyServerURL": "https://plot.ly"
       },
       "data": [
        {
         "marker": {
          "color": "#636EFA"
         },
         "orientation": "h",
         "type": "bar",
         "x": [
          7.321005629298373,
          7.710530218091527,
          7.839123354373583,
          7.990934489742677,
          8.446082958979254,
          9.36548833593523
         ],
         "xaxis": "x",
         "y": [
          "sweet",
          "time",
          "know",
          "bought",
          "bad",
          "little"
         ],
         "yaxis": "y"
        },
        {
         "marker": {
          "color": "#EF553B"
         },
         "orientation": "h",
         "type": "bar",
         "x": [
          6.501506816325585,
          6.830127926621068,
          6.83946488182206,
          8.579330388894805,
          10.887847478286837,
          35.1727788591871
         ],
         "xaxis": "x2",
         "y": [
          "teas",
          "iced",
          "price",
          "drink",
          "green",
          "tea"
         ],
         "yaxis": "y2"
        },
        {
         "marker": {
          "color": "#00CC96"
         },
         "orientation": "h",
         "type": "bar",
         "x": [
          8.143151535724224,
          9.775822454769807,
          11.009935966322429,
          11.024139621691758,
          17.98594155198978,
          44.27888847049603
         ],
         "xaxis": "x3",
         "y": [
          "roast",
          "cups",
          "strong",
          "price",
          "cup",
          "coffee"
         ],
         "yaxis": "y3"
        },
        {
         "marker": {
          "color": "#AB63FA"
         },
         "orientation": "h",
         "type": "bar",
         "x": [
          18.902695885604153,
          19.824528475923735,
          21.182137579208057,
          26.42127028724345,
          34.70791402528384,
          46.22641185866042
         ],
         "xaxis": "x4",
         "y": [
          "order",
          "grocery",
          "local",
          "store",
          "amazon",
          "price"
         ],
         "yaxis": "y4"
        },
        {
         "marker": {
          "color": "#FFA15A"
         },
         "orientation": "h",
         "type": "bar",
         "x": [
          8.439074232223398,
          10.676885576352962,
          11.075326254805185,
          11.177546370112317,
          11.450167831765619,
          14.033140977993892
         ],
         "xaxis": "x5",
         "y": [
          "popcorn",
          "little",
          "time",
          "tasting",
          "easy",
          "price"
         ],
         "yaxis": "y5"
        },
        {
         "marker": {
          "color": "#19D3F3"
         },
         "orientation": "h",
         "type": "bar",
         "x": [
          10.708985748636731,
          10.787336804518175,
          10.802429928013646,
          11.086210252638221,
          12.76768589245202,
          21.096349808369013
         ],
         "xaxis": "x6",
         "y": [
          "china",
          "cat",
          "loves",
          "dogs",
          "treats",
          "dog"
         ],
         "yaxis": "y6"
        },
        {
         "marker": {
          "color": "#FF6692"
         },
         "orientation": "h",
         "type": "bar",
         "x": [
          6.802584234406262,
          7.604503091886528,
          8.039366020641275,
          9.721678486548223,
          17.25874126873688,
          21.9454876510907
         ],
         "xaxis": "x7",
         "y": [
          "dark",
          "cup",
          "milk",
          "cocoa",
          "hot",
          "chocolate"
         ],
         "yaxis": "y7"
        },
        {
         "marker": {
          "color": "#B6E880"
         },
         "orientation": "h",
         "type": "bar",
         "x": [
          19.421513614022558,
          20.333828292439986,
          22.16652171831264,
          25.657937903235535,
          27.2848241432275,
          28.57325982232285
         ],
         "xaxis": "x8",
         "y": [
          "bars",
          "salt",
          "healthy",
          "snack",
          "tasty",
          "chips"
         ],
         "yaxis": "y8"
        },
        {
         "marker": {
          "color": "#FF97FF"
         },
         "orientation": "h",
         "type": "bar",
         "x": [
          7.463473236731169,
          8.579098789433617,
          9.15872356639212,
          9.448519637949456,
          16.504855043927584,
          17.661537070918122
         ],
         "xaxis": "x9",
         "y": [
          "pasta",
          "sugar",
          "mix",
          "cookies",
          "gluten",
          "free"
         ],
         "yaxis": "y9"
        },
        {
         "marker": {
          "color": "#FECB52"
         },
         "orientation": "h",
         "type": "bar",
         "x": [
          13.816558485968208,
          14.295458961972237,
          14.38113965023604,
          17.884485884260318,
          20.84470120511601,
          24.748588720548263
         ],
         "xaxis": "x10",
         "y": [
          "soda",
          "juice",
          "orange",
          "sugar",
          "drink",
          "water"
         ],
         "yaxis": "y10"
        }
       ],
       "layout": {
        "annotations": [
         {
          "font": {
           "size": 16
          },
          "showarrow": false,
          "text": "0",
          "x": 0.0875,
          "xanchor": "center",
          "xref": "paper",
          "y": 1,
          "yanchor": "bottom",
          "yref": "paper"
         },
         {
          "font": {
           "size": 16
          },
          "showarrow": false,
          "text": "1",
          "x": 0.36250000000000004,
          "xanchor": "center",
          "xref": "paper",
          "y": 1,
          "yanchor": "bottom",
          "yref": "paper"
         },
         {
          "font": {
           "size": 16
          },
          "showarrow": false,
          "text": "2",
          "x": 0.6375000000000001,
          "xanchor": "center",
          "xref": "paper",
          "y": 1,
          "yanchor": "bottom",
          "yref": "paper"
         },
         {
          "font": {
           "size": 16
          },
          "showarrow": false,
          "text": "3",
          "x": 0.9125,
          "xanchor": "center",
          "xref": "paper",
          "y": 1,
          "yanchor": "bottom",
          "yref": "paper"
         },
         {
          "font": {
           "size": 16
          },
          "showarrow": false,
          "text": "4",
          "x": 0.0875,
          "xanchor": "center",
          "xref": "paper",
          "y": 0.6222222222222222,
          "yanchor": "bottom",
          "yref": "paper"
         },
         {
          "font": {
           "size": 16
          },
          "showarrow": false,
          "text": "5",
          "x": 0.36250000000000004,
          "xanchor": "center",
          "xref": "paper",
          "y": 0.6222222222222222,
          "yanchor": "bottom",
          "yref": "paper"
         },
         {
          "font": {
           "size": 16
          },
          "showarrow": false,
          "text": "6",
          "x": 0.6375000000000001,
          "xanchor": "center",
          "xref": "paper",
          "y": 0.6222222222222222,
          "yanchor": "bottom",
          "yref": "paper"
         },
         {
          "font": {
           "size": 16
          },
          "showarrow": false,
          "text": "7",
          "x": 0.9125,
          "xanchor": "center",
          "xref": "paper",
          "y": 0.6222222222222222,
          "yanchor": "bottom",
          "yref": "paper"
         },
         {
          "font": {
           "size": 16
          },
          "showarrow": false,
          "text": "8",
          "x": 0.0875,
          "xanchor": "center",
          "xref": "paper",
          "y": 0.24444444444444446,
          "yanchor": "bottom",
          "yref": "paper"
         },
         {
          "font": {
           "size": 16
          },
          "showarrow": false,
          "text": "9",
          "x": 0.36250000000000004,
          "xanchor": "center",
          "xref": "paper",
          "y": 0.24444444444444446,
          "yanchor": "bottom",
          "yref": "paper"
         }
        ],
        "height": 550,
        "hoverlabel": {
         "bgcolor": "white",
         "font": {
          "family": "Rockwell",
          "size": 16
         }
        },
        "showlegend": false,
        "template": {
         "data": {
          "bar": [
           {
            "error_x": {
             "color": "#2a3f5f"
            },
            "error_y": {
             "color": "#2a3f5f"
            },
            "marker": {
             "line": {
              "color": "white",
              "width": 0.5
             },
             "pattern": {
              "fillmode": "overlay",
              "size": 10,
              "solidity": 0.2
             }
            },
            "type": "bar"
           }
          ],
          "barpolar": [
           {
            "marker": {
             "line": {
              "color": "white",
              "width": 0.5
             },
             "pattern": {
              "fillmode": "overlay",
              "size": 10,
              "solidity": 0.2
             }
            },
            "type": "barpolar"
           }
          ],
          "carpet": [
           {
            "aaxis": {
             "endlinecolor": "#2a3f5f",
             "gridcolor": "#C8D4E3",
             "linecolor": "#C8D4E3",
             "minorgridcolor": "#C8D4E3",
             "startlinecolor": "#2a3f5f"
            },
            "baxis": {
             "endlinecolor": "#2a3f5f",
             "gridcolor": "#C8D4E3",
             "linecolor": "#C8D4E3",
             "minorgridcolor": "#C8D4E3",
             "startlinecolor": "#2a3f5f"
            },
            "type": "carpet"
           }
          ],
          "choropleth": [
           {
            "colorbar": {
             "outlinewidth": 0,
             "ticks": ""
            },
            "type": "choropleth"
           }
          ],
          "contour": [
           {
            "colorbar": {
             "outlinewidth": 0,
             "ticks": ""
            },
            "colorscale": [
             [
              0,
              "#0d0887"
             ],
             [
              0.1111111111111111,
              "#46039f"
             ],
             [
              0.2222222222222222,
              "#7201a8"
             ],
             [
              0.3333333333333333,
              "#9c179e"
             ],
             [
              0.4444444444444444,
              "#bd3786"
             ],
             [
              0.5555555555555556,
              "#d8576b"
             ],
             [
              0.6666666666666666,
              "#ed7953"
             ],
             [
              0.7777777777777778,
              "#fb9f3a"
             ],
             [
              0.8888888888888888,
              "#fdca26"
             ],
             [
              1,
              "#f0f921"
             ]
            ],
            "type": "contour"
           }
          ],
          "contourcarpet": [
           {
            "colorbar": {
             "outlinewidth": 0,
             "ticks": ""
            },
            "type": "contourcarpet"
           }
          ],
          "heatmap": [
           {
            "colorbar": {
             "outlinewidth": 0,
             "ticks": ""
            },
            "colorscale": [
             [
              0,
              "#0d0887"
             ],
             [
              0.1111111111111111,
              "#46039f"
             ],
             [
              0.2222222222222222,
              "#7201a8"
             ],
             [
              0.3333333333333333,
              "#9c179e"
             ],
             [
              0.4444444444444444,
              "#bd3786"
             ],
             [
              0.5555555555555556,
              "#d8576b"
             ],
             [
              0.6666666666666666,
              "#ed7953"
             ],
             [
              0.7777777777777778,
              "#fb9f3a"
             ],
             [
              0.8888888888888888,
              "#fdca26"
             ],
             [
              1,
              "#f0f921"
             ]
            ],
            "type": "heatmap"
           }
          ],
          "heatmapgl": [
           {
            "colorbar": {
             "outlinewidth": 0,
             "ticks": ""
            },
            "colorscale": [
             [
              0,
              "#0d0887"
             ],
             [
              0.1111111111111111,
              "#46039f"
             ],
             [
              0.2222222222222222,
              "#7201a8"
             ],
             [
              0.3333333333333333,
              "#9c179e"
             ],
             [
              0.4444444444444444,
              "#bd3786"
             ],
             [
              0.5555555555555556,
              "#d8576b"
             ],
             [
              0.6666666666666666,
              "#ed7953"
             ],
             [
              0.7777777777777778,
              "#fb9f3a"
             ],
             [
              0.8888888888888888,
              "#fdca26"
             ],
             [
              1,
              "#f0f921"
             ]
            ],
            "type": "heatmapgl"
           }
          ],
          "histogram": [
           {
            "marker": {
             "pattern": {
              "fillmode": "overlay",
              "size": 10,
              "solidity": 0.2
             }
            },
            "type": "histogram"
           }
          ],
          "histogram2d": [
           {
            "colorbar": {
             "outlinewidth": 0,
             "ticks": ""
            },
            "colorscale": [
             [
              0,
              "#0d0887"
             ],
             [
              0.1111111111111111,
              "#46039f"
             ],
             [
              0.2222222222222222,
              "#7201a8"
             ],
             [
              0.3333333333333333,
              "#9c179e"
             ],
             [
              0.4444444444444444,
              "#bd3786"
             ],
             [
              0.5555555555555556,
              "#d8576b"
             ],
             [
              0.6666666666666666,
              "#ed7953"
             ],
             [
              0.7777777777777778,
              "#fb9f3a"
             ],
             [
              0.8888888888888888,
              "#fdca26"
             ],
             [
              1,
              "#f0f921"
             ]
            ],
            "type": "histogram2d"
           }
          ],
          "histogram2dcontour": [
           {
            "colorbar": {
             "outlinewidth": 0,
             "ticks": ""
            },
            "colorscale": [
             [
              0,
              "#0d0887"
             ],
             [
              0.1111111111111111,
              "#46039f"
             ],
             [
              0.2222222222222222,
              "#7201a8"
             ],
             [
              0.3333333333333333,
              "#9c179e"
             ],
             [
              0.4444444444444444,
              "#bd3786"
             ],
             [
              0.5555555555555556,
              "#d8576b"
             ],
             [
              0.6666666666666666,
              "#ed7953"
             ],
             [
              0.7777777777777778,
              "#fb9f3a"
             ],
             [
              0.8888888888888888,
              "#fdca26"
             ],
             [
              1,
              "#f0f921"
             ]
            ],
            "type": "histogram2dcontour"
           }
          ],
          "mesh3d": [
           {
            "colorbar": {
             "outlinewidth": 0,
             "ticks": ""
            },
            "type": "mesh3d"
           }
          ],
          "parcoords": [
           {
            "line": {
             "colorbar": {
              "outlinewidth": 0,
              "ticks": ""
             }
            },
            "type": "parcoords"
           }
          ],
          "pie": [
           {
            "automargin": true,
            "type": "pie"
           }
          ],
          "scatter": [
           {
            "fillpattern": {
             "fillmode": "overlay",
             "size": 10,
             "solidity": 0.2
            },
            "type": "scatter"
           }
          ],
          "scatter3d": [
           {
            "line": {
             "colorbar": {
              "outlinewidth": 0,
              "ticks": ""
             }
            },
            "marker": {
             "colorbar": {
              "outlinewidth": 0,
              "ticks": ""
             }
            },
            "type": "scatter3d"
           }
          ],
          "scattercarpet": [
           {
            "marker": {
             "colorbar": {
              "outlinewidth": 0,
              "ticks": ""
             }
            },
            "type": "scattercarpet"
           }
          ],
          "scattergeo": [
           {
            "marker": {
             "colorbar": {
              "outlinewidth": 0,
              "ticks": ""
             }
            },
            "type": "scattergeo"
           }
          ],
          "scattergl": [
           {
            "marker": {
             "colorbar": {
              "outlinewidth": 0,
              "ticks": ""
             }
            },
            "type": "scattergl"
           }
          ],
          "scattermapbox": [
           {
            "marker": {
             "colorbar": {
              "outlinewidth": 0,
              "ticks": ""
             }
            },
            "type": "scattermapbox"
           }
          ],
          "scatterpolar": [
           {
            "marker": {
             "colorbar": {
              "outlinewidth": 0,
              "ticks": ""
             }
            },
            "type": "scatterpolar"
           }
          ],
          "scatterpolargl": [
           {
            "marker": {
             "colorbar": {
              "outlinewidth": 0,
              "ticks": ""
             }
            },
            "type": "scatterpolargl"
           }
          ],
          "scatterternary": [
           {
            "marker": {
             "colorbar": {
              "outlinewidth": 0,
              "ticks": ""
             }
            },
            "type": "scatterternary"
           }
          ],
          "surface": [
           {
            "colorbar": {
             "outlinewidth": 0,
             "ticks": ""
            },
            "colorscale": [
             [
              0,
              "#0d0887"
             ],
             [
              0.1111111111111111,
              "#46039f"
             ],
             [
              0.2222222222222222,
              "#7201a8"
             ],
             [
              0.3333333333333333,
              "#9c179e"
             ],
             [
              0.4444444444444444,
              "#bd3786"
             ],
             [
              0.5555555555555556,
              "#d8576b"
             ],
             [
              0.6666666666666666,
              "#ed7953"
             ],
             [
              0.7777777777777778,
              "#fb9f3a"
             ],
             [
              0.8888888888888888,
              "#fdca26"
             ],
             [
              1,
              "#f0f921"
             ]
            ],
            "type": "surface"
           }
          ],
          "table": [
           {
            "cells": {
             "fill": {
              "color": "#EBF0F8"
             },
             "line": {
              "color": "white"
             }
            },
            "header": {
             "fill": {
              "color": "#C8D4E3"
             },
             "line": {
              "color": "white"
             }
            },
            "type": "table"
           }
          ]
         },
         "layout": {
          "annotationdefaults": {
           "arrowcolor": "#2a3f5f",
           "arrowhead": 0,
           "arrowwidth": 1
          },
          "autotypenumbers": "strict",
          "coloraxis": {
           "colorbar": {
            "outlinewidth": 0,
            "ticks": ""
           }
          },
          "colorscale": {
           "diverging": [
            [
             0,
             "#8e0152"
            ],
            [
             0.1,
             "#c51b7d"
            ],
            [
             0.2,
             "#de77ae"
            ],
            [
             0.3,
             "#f1b6da"
            ],
            [
             0.4,
             "#fde0ef"
            ],
            [
             0.5,
             "#f7f7f7"
            ],
            [
             0.6,
             "#e6f5d0"
            ],
            [
             0.7,
             "#b8e186"
            ],
            [
             0.8,
             "#7fbc41"
            ],
            [
             0.9,
             "#4d9221"
            ],
            [
             1,
             "#276419"
            ]
           ],
           "sequential": [
            [
             0,
             "#0d0887"
            ],
            [
             0.1111111111111111,
             "#46039f"
            ],
            [
             0.2222222222222222,
             "#7201a8"
            ],
            [
             0.3333333333333333,
             "#9c179e"
            ],
            [
             0.4444444444444444,
             "#bd3786"
            ],
            [
             0.5555555555555556,
             "#d8576b"
            ],
            [
             0.6666666666666666,
             "#ed7953"
            ],
            [
             0.7777777777777778,
             "#fb9f3a"
            ],
            [
             0.8888888888888888,
             "#fdca26"
            ],
            [
             1,
             "#f0f921"
            ]
           ],
           "sequentialminus": [
            [
             0,
             "#0d0887"
            ],
            [
             0.1111111111111111,
             "#46039f"
            ],
            [
             0.2222222222222222,
             "#7201a8"
            ],
            [
             0.3333333333333333,
             "#9c179e"
            ],
            [
             0.4444444444444444,
             "#bd3786"
            ],
            [
             0.5555555555555556,
             "#d8576b"
            ],
            [
             0.6666666666666666,
             "#ed7953"
            ],
            [
             0.7777777777777778,
             "#fb9f3a"
            ],
            [
             0.8888888888888888,
             "#fdca26"
            ],
            [
             1,
             "#f0f921"
            ]
           ]
          },
          "colorway": [
           "#636efa",
           "#EF553B",
           "#00cc96",
           "#ab63fa",
           "#FFA15A",
           "#19d3f3",
           "#FF6692",
           "#B6E880",
           "#FF97FF",
           "#FECB52"
          ],
          "font": {
           "color": "#2a3f5f"
          },
          "geo": {
           "bgcolor": "white",
           "lakecolor": "white",
           "landcolor": "white",
           "showlakes": true,
           "showland": true,
           "subunitcolor": "#C8D4E3"
          },
          "hoverlabel": {
           "align": "left"
          },
          "hovermode": "closest",
          "mapbox": {
           "style": "light"
          },
          "paper_bgcolor": "white",
          "plot_bgcolor": "white",
          "polar": {
           "angularaxis": {
            "gridcolor": "#EBF0F8",
            "linecolor": "#EBF0F8",
            "ticks": ""
           },
           "bgcolor": "white",
           "radialaxis": {
            "gridcolor": "#EBF0F8",
            "linecolor": "#EBF0F8",
            "ticks": ""
           }
          },
          "scene": {
           "xaxis": {
            "backgroundcolor": "white",
            "gridcolor": "#DFE8F3",
            "gridwidth": 2,
            "linecolor": "#EBF0F8",
            "showbackground": true,
            "ticks": "",
            "zerolinecolor": "#EBF0F8"
           },
           "yaxis": {
            "backgroundcolor": "white",
            "gridcolor": "#DFE8F3",
            "gridwidth": 2,
            "linecolor": "#EBF0F8",
            "showbackground": true,
            "ticks": "",
            "zerolinecolor": "#EBF0F8"
           },
           "zaxis": {
            "backgroundcolor": "white",
            "gridcolor": "#DFE8F3",
            "gridwidth": 2,
            "linecolor": "#EBF0F8",
            "showbackground": true,
            "ticks": "",
            "zerolinecolor": "#EBF0F8"
           }
          },
          "shapedefaults": {
           "line": {
            "color": "#2a3f5f"
           }
          },
          "ternary": {
           "aaxis": {
            "gridcolor": "#DFE8F3",
            "linecolor": "#A2B1C6",
            "ticks": ""
           },
           "baxis": {
            "gridcolor": "#DFE8F3",
            "linecolor": "#A2B1C6",
            "ticks": ""
           },
           "bgcolor": "white",
           "caxis": {
            "gridcolor": "#DFE8F3",
            "linecolor": "#A2B1C6",
            "ticks": ""
           }
          },
          "title": {
           "x": 0.05
          },
          "xaxis": {
           "automargin": true,
           "gridcolor": "#EBF0F8",
           "linecolor": "#EBF0F8",
           "ticks": "",
           "title": {
            "standoff": 15
           },
           "zerolinecolor": "#EBF0F8",
           "zerolinewidth": 2
          },
          "yaxis": {
           "automargin": true,
           "gridcolor": "#EBF0F8",
           "linecolor": "#EBF0F8",
           "ticks": "",
           "title": {
            "standoff": 15
           },
           "zerolinecolor": "#EBF0F8",
           "zerolinewidth": 2
          }
         }
        },
        "width": 700,
        "xaxis": {
         "anchor": "y",
         "domain": [
          0,
          0.175
         ]
        },
        "xaxis10": {
         "anchor": "y10",
         "domain": [
          0.275,
          0.45
         ]
        },
        "xaxis11": {
         "anchor": "y11",
         "domain": [
          0.55,
          0.7250000000000001
         ]
        },
        "xaxis12": {
         "anchor": "y12",
         "domain": [
          0.825,
          1
         ]
        },
        "xaxis2": {
         "anchor": "y2",
         "domain": [
          0.275,
          0.45
         ]
        },
        "xaxis3": {
         "anchor": "y3",
         "domain": [
          0.55,
          0.7250000000000001
         ]
        },
        "xaxis4": {
         "anchor": "y4",
         "domain": [
          0.825,
          1
         ]
        },
        "xaxis5": {
         "anchor": "y5",
         "domain": [
          0,
          0.175
         ]
        },
        "xaxis6": {
         "anchor": "y6",
         "domain": [
          0.275,
          0.45
         ]
        },
        "xaxis7": {
         "anchor": "y7",
         "domain": [
          0.55,
          0.7250000000000001
         ]
        },
        "xaxis8": {
         "anchor": "y8",
         "domain": [
          0.825,
          1
         ]
        },
        "xaxis9": {
         "anchor": "y9",
         "domain": [
          0,
          0.175
         ]
        },
        "yaxis": {
         "anchor": "x",
         "domain": [
          0.7555555555555555,
          1
         ],
         "dtick": 1
        },
        "yaxis10": {
         "anchor": "x10",
         "domain": [
          0,
          0.24444444444444446
         ],
         "dtick": 1
        },
        "yaxis11": {
         "anchor": "x11",
         "domain": [
          0,
          0.24444444444444446
         ],
         "dtick": 1
        },
        "yaxis12": {
         "anchor": "x12",
         "domain": [
          0,
          0.24444444444444446
         ],
         "dtick": 1
        },
        "yaxis2": {
         "anchor": "x2",
         "domain": [
          0.7555555555555555,
          1
         ],
         "dtick": 1
        },
        "yaxis3": {
         "anchor": "x3",
         "domain": [
          0.7555555555555555,
          1
         ],
         "dtick": 1
        },
        "yaxis4": {
         "anchor": "x4",
         "domain": [
          0.7555555555555555,
          1
         ],
         "dtick": 1
        },
        "yaxis5": {
         "anchor": "x5",
         "domain": [
          0.37777777777777777,
          0.6222222222222222
         ],
         "dtick": 1
        },
        "yaxis6": {
         "anchor": "x6",
         "domain": [
          0.37777777777777777,
          0.6222222222222222
         ],
         "dtick": 1
        },
        "yaxis7": {
         "anchor": "x7",
         "domain": [
          0.37777777777777777,
          0.6222222222222222
         ],
         "dtick": 1
        },
        "yaxis8": {
         "anchor": "x8",
         "domain": [
          0.37777777777777777,
          0.6222222222222222
         ],
         "dtick": 1
        },
        "yaxis9": {
         "anchor": "x9",
         "domain": [
          0,
          0.24444444444444446
         ],
         "dtick": 1
        }
       }
      }
     },
     "metadata": {},
     "output_type": "display_data"
    }
   ],
   "source": [
    "fig = file_util.get_topics_html(\"NMF\")\n",
    "fig.update_layout(width = 700, height = 550)"
   ]
  },
  {
   "attachments": {},
   "cell_type": "markdown",
   "metadata": {},
   "source": [
    "# Test"
   ]
  },
  {
   "cell_type": "code",
   "execution_count": 26,
   "metadata": {},
   "outputs": [],
   "source": [
    "from src.models.predict import predict_sentiment_topic"
   ]
  },
  {
   "cell_type": "code",
   "execution_count": null,
   "metadata": {},
   "outputs": [],
   "source": [
    "test = predict_sentiment_topic(test)"
   ]
  },
  {
   "cell_type": "code",
   "execution_count": null,
   "metadata": {},
   "outputs": [],
   "source": [
    "test.head()"
   ]
  },
  {
   "attachments": {},
   "cell_type": "markdown",
   "metadata": {},
   "source": [
    "## Visualizations"
   ]
  },
  {
   "cell_type": "code",
   "execution_count": 89,
   "metadata": {},
   "outputs": [],
   "source": [
    "import pandas as pd\n",
    "test = pd.read_csv(\"data/predicted/reviews.csv\")\n",
    "# Later we will predict the test directly in this notebook and not loading the data from predicted folder\n",
    "# But for now, can take the test directly from predicted folder to make the visualizations"
   ]
  },
  {
   "cell_type": "code",
   "execution_count": null,
   "metadata": {},
   "outputs": [],
   "source": [
    "# need Weiqing or Madeline help"
   ]
  },
  {
   "attachments": {},
   "cell_type": "markdown",
   "metadata": {},
   "source": [
    "# Unit Testing"
   ]
  },
  {
   "cell_type": "code",
   "execution_count": 27,
   "metadata": {},
   "outputs": [],
   "source": [
    "import src.unittest.unit_testing\n",
    "from src.unittest.unit_testing import unit_test"
   ]
  },
  {
   "cell_type": "code",
   "execution_count": 88,
   "metadata": {},
   "outputs": [
    {
     "name": "stdout",
     "output_type": "stream",
     "text": [
      "Methods in unit testing: ['test_apply_cleaning_test', 'test_apply_cleaning_train', 'test_bert_module', 'test_bertopic_module', 'test_cleaning_punctuation_and_html_tags', 'test_cleaning_when_date_is_datetime', 'test_cleaning_when_date_is_string', 'test_convert_sentiment_df', 'test_expand_contractions_df', 'test_lbl2vec_module', 'test_lda_module', 'test_logreg_module', 'test_lowercase_string_df', 'test_lstm_module', 'test_nmf_module', 'test_predict_sentiment', 'test_predict_sentiment_topic', 'test_predict_topic', 'test_predict_when_all_stopwords', 'test_predict_when_empty_review', 'test_predict_when_null_reviews', 'test_remove_empty_reviews_df', 'test_remove_numbers_df', 'test_remove_punctuations_df', 'test_remove_stopwords_df', 'test_remove_trailing_leading_spaces_df', 'test_rename_column_df', 'test_replace_multiple_spaces_df', 'test_replace_multiple_spaces_df_for_tabs', 'test_sentiment_analysis_train_module', 'test_strip_html_tags_df', 'test_topic_modelling_train_module', 'test_zeroshot_module']\n"
     ]
    }
   ],
   "source": [
    "print(\"Methods in unit testing:\", [method for method in dir(src.unittest.unit_testing) if method[:4] == \"test\"])"
   ]
  },
  {
   "cell_type": "code",
   "execution_count": 29,
   "metadata": {},
   "outputs": [
    {
     "name": "stderr",
     "output_type": "stream",
     "text": [
      "All model checkpoint layers were used when initializing TFBertForSequenceClassification.\n",
      "\n",
      "All the layers of TFBertForSequenceClassification were initialized from the model checkpoint at c:\\Users\\clift\\github\\h2o2.ai\\src/models/sentiment_analysis\\train\\bert_model.\n",
      "If your task is similar to the task the model of the checkpoint was trained on, you can already use TFBertForSequenceClassification for predictions without further training.\n",
      "Some layers from the model checkpoint at c:\\Users\\clift\\github\\h2o2.ai\\src/models/sentiment_analysis\\train\\bert_model were not used when initializing TFBertForSequenceClassification: ['dropout_37']\n",
      "- This IS expected if you are initializing TFBertForSequenceClassification from the checkpoint of a model trained on another task or with another architecture (e.g. initializing a BertForSequenceClassification model from a BertForPreTraining model).\n",
      "- This IS NOT expected if you are initializing TFBertForSequenceClassification from the checkpoint of a model that you expect to be exactly identical (initializing a BertForSequenceClassification model from a BertForSequenceClassification model).\n",
      "All the layers of TFBertForSequenceClassification were initialized from the model checkpoint at c:\\Users\\clift\\github\\h2o2.ai\\src/models/sentiment_analysis\\train\\bert_model.\n",
      "If your task is similar to the task the model of the checkpoint was trained on, you can already use TFBertForSequenceClassification for predictions without further training.\n",
      "2023-04-03 22:58:02,014 - Lbl2TransformerVec - INFO - Compute keyword embeddings\n",
      "2023-04-03 22:58:02,685 - Lbl2TransformerVec - INFO - Compute document embeddings\n",
      "2023-04-03 22:58:21,085 - Lbl2TransformerVec - INFO - Train label embeddings\n",
      "2023-04-03 22:58:21,172 - Lbl2TransformerVec - INFO - Get document embeddings from model\n",
      "2023-04-03 22:58:21,173 - Lbl2TransformerVec - INFO - Calculate document<->label similarities\n",
      "2023-04-03 22:58:21,260 - Lbl2TransformerVec - INFO - Compute keyword embeddings\n",
      "2023-04-03 22:58:21,260 - Lbl2TransformerVec - INFO - Compute keyword embeddings\n",
      "2023-04-03 22:58:21,611 - Lbl2TransformerVec - INFO - Compute document embeddings\n",
      "2023-04-03 22:58:21,611 - Lbl2TransformerVec - INFO - Compute document embeddings\n",
      "2023-04-03 22:58:39,613 - Lbl2TransformerVec - INFO - Train label embeddings\n",
      "2023-04-03 22:58:39,613 - Lbl2TransformerVec - INFO - Train label embeddings\n",
      "2023-04-03 22:58:39,720 - Lbl2TransformerVec - INFO - Get document embeddings from model\n",
      "2023-04-03 22:58:39,720 - Lbl2TransformerVec - INFO - Get document embeddings from model\n",
      "2023-04-03 22:58:39,721 - Lbl2TransformerVec - INFO - Calculate document<->label similarities\n",
      "2023-04-03 22:58:39,721 - Lbl2TransformerVec - INFO - Calculate document<->label similarities\n",
      "c:\\Users\\clift\\github\\h2o2.ai\\src\\models\\predict.py:23: UserWarning:\n",
      "\n",
      "No entries in dataframe. Returning empty dataframe.\n",
      "\n"
     ]
    }
   ],
   "source": [
    "unit_test()"
   ]
  },
  {
   "attachments": {},
   "cell_type": "markdown",
   "metadata": {},
   "source": [
    "# Modular Code"
   ]
  },
  {
   "cell_type": "code",
   "execution_count": 81,
   "metadata": {},
   "outputs": [],
   "source": [
    "import os\n",
    "\n",
    "def list_files(startpath):\n",
    "    for root, dirs, files in os.walk(startpath):\n",
    "        level = root.replace(startpath, '').count(os.sep)\n",
    "        indent = ' ' * 4 * (level)\n",
    "        if os.path.basename(root) == \"__pycache__\":\n",
    "            continue\n",
    "        print('{}{}/'.format(indent, os.path.basename(root)))\n",
    "        subindent = ' ' * 4 * (level + 1)\n",
    "        for f in files:\n",
    "            print('{}{}'.format(subindent, f))"
   ]
  },
  {
   "cell_type": "code",
   "execution_count": 82,
   "metadata": {},
   "outputs": [
    {
     "name": "stdout",
     "output_type": "stream",
     "text": [
      "src/\n",
      "    __init__.py\n",
      "    app/\n",
      "        app.py\n",
      "        helper.py\n",
      "        home.py\n",
      "        sentiments.py\n",
      "        topics.py\n",
      "        topic_playground.py\n",
      "    models/\n",
      "        classifier.py\n",
      "        predict.py\n",
      "        sentiment_analysis/\n",
      "            eval/\n",
      "                bert_training.png\n",
      "                metrics.json\n",
      "            test/\n",
      "                predict.py\n",
      "            train/\n",
      "                bert.py\n",
      "                train.py\n",
      "                bert_model/\n",
      "                    config.json\n",
      "                    tf_model.h5\n",
      "        topic_modelling/\n",
      "            eval/\n",
      "                bertopic_topics.html\n",
      "                lda_topics.html\n",
      "                nmf_topics.html\n",
      "            test/\n",
      "                lbl2vec.py\n",
      "                predict.py\n",
      "                zero_shot.py\n",
      "            train/\n",
      "                bertopic.py\n",
      "                lda.py\n",
      "                nmf.py\n",
      "                train.py\n",
      "    preprocessing/\n",
      "        preprocessing_utils.py\n",
      "        transformations.py\n",
      "    unittest/\n",
      "        unit_testing.py\n",
      "    utils/\n",
      "        file_util.py\n",
      "    visualisation/\n",
      "        dashboard_viz.py\n",
      "        visualise_topics.py\n"
     ]
    }
   ],
   "source": [
    "list_files(\"src\")"
   ]
  },
  {
   "attachments": {},
   "cell_type": "markdown",
   "metadata": {},
   "source": [
    "# OOP"
   ]
  },
  {
   "cell_type": "code",
   "execution_count": 93,
   "metadata": {},
   "outputs": [
    {
     "name": "stdout",
     "output_type": "stream",
     "text": [
      "Methods in FileUtil: ['check_dir_exists', 'check_filepath_exists', 'create_dir_if_not_exists', 'get_config', 'get_csv', 'get_json', 'get_metrics', 'get_pkl', 'get_processed_train_data', 'get_raw_train_data', 'get_topic_model', 'get_topics_html', 'get_yml', 'put_csv', 'put_json', 'put_metrics', 'put_pkl', 'put_predicted_df', 'put_processed_train_data', 'put_topic_model', 'put_topics_html']\n",
      "\n",
      "Attributes in FileUtil: ['PROJECT_DIR', 'CONFIG_FILE_NAME', 'CONFIG_PARAMS', 'TEST_FILE_NAME', 'TRAIN_FILE_NAME', 'MODEL_FILE_NAME', 'METRICS_FILE_NAME', 'BERT_TRAINING_GRAPH_FILENAME', 'LDA_TOPIC_FILE_NAME', 'BERTOPIC_TOPIC_FILE_NAME', 'NMF_TOPIC_FILE_NAME', 'RAW_DATA_DIR', 'PROCESSED_DATA_DIR', 'PREDICTED_DATA_DIR', 'SENTIMENT_ANALYSIS_DIR', 'TOPIC_MODELLING_DIR', 'SENTIMENT_ANALYSIS_TRAIN_DIR', 'SENTIMENT_ANALYSIS_EVAL_DIR', 'BERT_SENTIMENT_MODEL_DIR', 'BERT_TRAINING_GRAPH_FILE_PATH', 'TOPIC_MODELLING_TRAIN_DIR', 'TOPIC_MODELLING_EVAL_DIR', 'LDA_TOPIC_FILE_PATH', 'BERTOPIC_TOPIC_FILE_PATH', 'NMF_TOPIC_FILE_PATH']\n"
     ]
    }
   ],
   "source": [
    "from src.utils.file_util import FileUtil\n",
    "print(\"Methods in FileUtil:\", [func for func in dir(FileUtil) if callable(getattr(FileUtil, func)) and not func.startswith(\"__\")])\n",
    "print()\n",
    "print(\"Attributes in FileUtil:\", list(FileUtil().__dict__.keys()))"
   ]
  },
  {
   "cell_type": "code",
   "execution_count": 92,
   "metadata": {},
   "outputs": [
    {
     "name": "stdout",
     "output_type": "stream",
     "text": [
      "Methods in Classifier: ['evaluate', 'fit', 'predict']\n"
     ]
    }
   ],
   "source": [
    "from src.models.classifier import Classifier\n",
    "print(\"Methods in Classifier:\", [func for func in dir(Classifier) if callable(getattr(Classifier, func)) and not func.startswith(\"__\")])"
   ]
  },
  {
   "cell_type": "code",
   "execution_count": 100,
   "metadata": {},
   "outputs": [
    {
     "name": "stdout",
     "output_type": "stream",
     "text": [
      "True\n",
      "True\n",
      "True\n",
      "True\n"
     ]
    }
   ],
   "source": [
    "from src.models.sentiment_analysis.train.bert import BERT\n",
    "# from src.models.sentiment_analysis.train.LOGREG import LOGREG\n",
    "# from src.models.sentiment_analysis.train.LSTM import LSTM\n",
    "from src.models.topic_modelling.train.lda import LDA\n",
    "from src.models.topic_modelling.train.nmf import Tfidf_NMF_Module\n",
    "from src.models.topic_modelling.train.bertopic import BERTopic_Module\n",
    "\n",
    "print(isinstance(BERT(), Classifier))\n",
    "# print(isinstance(LOGREG(), Classifier))\n",
    "# print(isinstance(LSTM(), Classifier))\n",
    "print(isinstance(LDA(), Classifier))\n",
    "print(isinstance(Tfidf_NMF_Module(), Classifier))\n",
    "print(isinstance(BERTopic_Module(), Classifier))"
   ]
  },
  {
   "cell_type": "code",
   "execution_count": 96,
   "metadata": {},
   "outputs": [
    {
     "name": "stdout",
     "output_type": "stream",
     "text": [
      "Methods in BERT: ['convert_data_to_examples', 'convert_examples_to_tf_dataset', 'evaluate', 'fit', 'plot_training_acc_loss', 'predict']\n",
      "\n",
      "Attributes in BERT: ['load_model', 'saved_model_path', 'tokenizer', 'bert_config', 'batch_size', 'target_col', 'text_col', 'config_layer', 'model', 'optimizer', 'loss', 'metrics', 'callback']\n"
     ]
    }
   ],
   "source": [
    "from src.models.sentiment_analysis.train.bert import BERT\n",
    "print(\"Methods in BERT:\", [func for func in dir(BERT) if callable(getattr(BERT, func)) and not func.startswith(\"__\")])\n",
    "print()\n",
    "print(\"Attributes in BERT:\", list(BERT().__dict__.keys()))"
   ]
  },
  {
   "cell_type": "code",
   "execution_count": 95,
   "metadata": {},
   "outputs": [
    {
     "name": "stdout",
     "output_type": "stream",
     "text": [
      "Methods in BERTopic_Module: ['evaluate', 'fit', 'predict']\n",
      "\n",
      "Attributes in BERTopic_Module: ['config_params', 'custom_stopwords', 'bertopic_config', 'nr_topics', 'vectorizer_model', 'vectorizer_args', 'hdbscan_args']\n"
     ]
    }
   ],
   "source": [
    "from src.models.topic_modelling.train.bertopic import BERTopic_Module\n",
    "print(\"Methods in BERTopic_Module:\", [func for func in dir(BERTopic_Module) if callable(getattr(BERTopic_Module, func)) and not func.startswith(\"__\")])\n",
    "print()\n",
    "print(\"Attributes in BERTopic_Module:\", list(BERTopic_Module().__dict__.keys()))"
   ]
  },
  {
   "attachments": {},
   "cell_type": "markdown",
   "metadata": {},
   "source": [
    "# Docstrings Examples"
   ]
  },
  {
   "cell_type": "code",
   "execution_count": 45,
   "metadata": {},
   "outputs": [
    {
     "name": "stdout",
     "output_type": "stream",
     "text": [
      "Help on function put_csv in module src.utils.file_util:\n",
      "\n",
      "put_csv(self, filepath: str, df: pandas.core.frame.DataFrame) -> None\n",
      "    Put the dataframe to csv in filepath.\n",
      "    \n",
      "    Args:\n",
      "      filepath (str): csv filepath\n",
      "      df (pd.Dataframe): dataframe of the csv\n",
      "    \n",
      "    Raises:\n",
      "      InvalidExtensionException: If filepath doesn't have csv extension\n",
      "      TypeError: If df is not a pandas DataFrame object\n",
      "\n"
     ]
    }
   ],
   "source": [
    "help(FileUtil.put_csv)"
   ]
  },
  {
   "cell_type": "code",
   "execution_count": 44,
   "metadata": {},
   "outputs": [
    {
     "name": "stdout",
     "output_type": "stream",
     "text": [
      "None\n"
     ]
    }
   ],
   "source": [
    "print(predict_sentiment_topic.__doc__)"
   ]
  },
  {
   "cell_type": "code",
   "execution_count": 41,
   "metadata": {},
   "outputs": [
    {
     "name": "stdout",
     "output_type": "stream",
     "text": [
      "Help on function sentiment_analysis_train in module src.models.sentiment_analysis.train.train:\n",
      "\n",
      "sentiment_analysis_train()\n",
      "    Train sentiment analysis models on training data.\n",
      "    \n",
      "    Processed dataset will be split into 80% train and 20% valid.\n",
      "    BERT, Logistic Regression, and LSTM models will be fitted on\n",
      "    training data and evaluated on validation data.\n",
      "    All 3 models and metrics, and BERT training graph will be saved to storage.\n",
      "\n"
     ]
    }
   ],
   "source": [
    "help(sentiment_analysis_train)"
   ]
  },
  {
   "cell_type": "code",
   "execution_count": 42,
   "metadata": {},
   "outputs": [
    {
     "name": "stdout",
     "output_type": "stream",
     "text": [
      "Help on function topic_modelling_train in module src.models.topic_modelling.train.train:\n",
      "\n",
      "topic_modelling_train()\n",
      "    Train topic models on training data.\n",
      "    \n",
      "    LDA, BERTopic, and NMF models will be fitted on training data.\n",
      "    All 3 models' topics plot will be saved to eval folder.\n",
      "\n"
     ]
    }
   ],
   "source": [
    "help(topic_modelling_train)"
   ]
  }
 ],
 "metadata": {
  "kernelspec": {
   "display_name": "Python 3",
   "language": "python",
   "name": "python3"
  },
  "language_info": {
   "codemirror_mode": {
    "name": "ipython",
    "version": 3
   },
   "file_extension": ".py",
   "mimetype": "text/x-python",
   "name": "python",
   "nbconvert_exporter": "python",
   "pygments_lexer": "ipython3",
   "version": "3.9.5"
  },
  "orig_nbformat": 4
 },
 "nbformat": 4,
 "nbformat_minor": 2
}
