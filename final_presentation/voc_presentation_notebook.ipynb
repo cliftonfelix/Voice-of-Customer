{
  "cells": [
    {
      "attachments": {},
      "cell_type": "markdown",
      "id": "82779e5d",
      "metadata": {
        "id": "82779e5d",
        "papermill": {
          "duration": 0.009769,
          "end_time": "2023-04-09T12:15:33.336532",
          "exception": false,
          "start_time": "2023-04-09T12:15:33.326763",
          "status": "completed"
        },
        "tags": []
      },
      "source": [
        "# This Notebook is run on EC2 g4dn.4xlarge resources provided using papermill library. This notebook needs to be opened on VSCode to show all output.\n",
        "\n",
        "It took some time for the whole notebook to run.\n",
        "\n",
        "This notebook is located in final_presentation/ folder\n",
        "\n",
        "To run this notebook on remote server terminal, install all packages in requirements.txt and run this command \"**python3 run_notebook.py**\" on final_presentation folder."
      ]
    },
    {
      "cell_type": "code",
      "execution_count": null,
      "id": "19d22b41",
      "metadata": {
        "colab": {
          "base_uri": "https://localhost:8080/"
        },
        "execution": {
          "iopub.execute_input": "2023-04-09T12:15:33.355170Z",
          "iopub.status.busy": "2023-04-09T12:15:33.354786Z",
          "iopub.status.idle": "2023-04-09T12:15:33.361286Z",
          "shell.execute_reply": "2023-04-09T12:15:33.360749Z"
        },
        "id": "19d22b41",
        "outputId": "9a57dcf0-f1b3-44dc-b283-eecb505d4ce9",
        "papermill": {
          "duration": 0.017056,
          "end_time": "2023-04-09T12:15:33.362609",
          "exception": false,
          "start_time": "2023-04-09T12:15:33.345553",
          "status": "completed"
        },
        "scrolled": true,
        "tags": []
      },
      "outputs": [],
      "source": [
        "cd .."
      ]
    },
    {
      "cell_type": "code",
      "execution_count": null,
      "id": "28872dde",
      "metadata": {},
      "outputs": [],
      "source": [
        "import inspect\n",
        "from final_presentation.run_notebook import run_notebook\n",
        "\n",
        "lines = inspect.getsource(run_notebook)\n",
        "print(lines)"
      ]
    },
    {
      "cell_type": "markdown",
      "id": "df04afb7",
      "metadata": {
        "id": "df04afb7",
        "papermill": {
          "duration": 0.008552,
          "end_time": "2023-04-09T12:15:33.379799",
          "exception": false,
          "start_time": "2023-04-09T12:15:33.371247",
          "status": "completed"
        },
        "tags": []
      },
      "source": [
        "# FileUtil Initialization"
      ]
    },
    {
      "cell_type": "markdown",
      "id": "356bfc79",
      "metadata": {
        "id": "356bfc79",
        "papermill": {
          "duration": 0.008494,
          "end_time": "2023-04-09T12:15:33.397407",
          "exception": false,
          "start_time": "2023-04-09T12:15:33.388913",
          "status": "completed"
        },
        "tags": []
      },
      "source": [
        "FileUtil is a class used to access storage (saving and retrieving models and files)"
      ]
    },
    {
      "cell_type": "code",
      "execution_count": null,
      "id": "36f2cf72",
      "metadata": {
        "execution": {
          "iopub.execute_input": "2023-04-09T12:15:33.415262Z",
          "iopub.status.busy": "2023-04-09T12:15:33.414953Z",
          "iopub.status.idle": "2023-04-09T12:15:33.706563Z",
          "shell.execute_reply": "2023-04-09T12:15:33.706001Z"
        },
        "id": "36f2cf72",
        "papermill": {
          "duration": 0.302298,
          "end_time": "2023-04-09T12:15:33.708183",
          "exception": false,
          "start_time": "2023-04-09T12:15:33.405885",
          "status": "completed"
        },
        "tags": []
      },
      "outputs": [],
      "source": [
        "from src.utils.file_util import FileUtil\n",
        "\n",
        "file_util = FileUtil()"
      ]
    },
    {
      "cell_type": "code",
      "execution_count": null,
      "id": "a645a3cf",
      "metadata": {
        "execution": {
          "iopub.execute_input": "2023-04-09T12:15:33.726787Z",
          "iopub.status.busy": "2023-04-09T12:15:33.726474Z",
          "iopub.status.idle": "2023-04-09T12:15:33.741685Z",
          "shell.execute_reply": "2023-04-09T12:15:33.741166Z"
        },
        "id": "a645a3cf",
        "outputId": "0d10ffdc-9c87-4477-f7d9-a9005170e4c7",
        "papermill": {
          "duration": 0.025796,
          "end_time": "2023-04-09T12:15:33.742937",
          "exception": false,
          "start_time": "2023-04-09T12:15:33.717141",
          "status": "completed"
        },
        "tags": []
      },
      "outputs": [],
      "source": [
        "print(\"Methods in FileUtil:\", [func for func in dir(FileUtil) if callable(getattr(FileUtil, func)) and not func.startswith(\"__\")])\n",
        "print()\n",
        "print(\"Attributes in FileUtil:\", list(FileUtil().__dict__.keys()))"
      ]
    },
    {
      "cell_type": "markdown",
      "id": "e8704814",
      "metadata": {
        "id": "e8704814",
        "papermill": {
          "duration": 0.008466,
          "end_time": "2023-04-09T12:15:33.759946",
          "exception": false,
          "start_time": "2023-04-09T12:15:33.751480",
          "status": "completed"
        },
        "tags": []
      },
      "source": [
        "# Raw Train Data"
      ]
    },
    {
      "cell_type": "markdown",
      "id": "1DaBPdts6f0E",
      "metadata": {
        "id": "1DaBPdts6f0E",
        "papermill": {
          "duration": 0.008456,
          "end_time": "2023-04-09T12:15:33.776984",
          "exception": false,
          "start_time": "2023-04-09T12:15:33.768528",
          "status": "completed"
        },
        "tags": []
      },
      "source": [
        "Raw train data is stored in data/raw/reviews.csv\n",
        "\n",
        "The file path is specified in config"
      ]
    },
    {
      "cell_type": "code",
      "execution_count": null,
      "id": "41329842",
      "metadata": {
        "execution": {
          "iopub.execute_input": "2023-04-09T12:15:33.794963Z",
          "iopub.status.busy": "2023-04-09T12:15:33.794566Z",
          "iopub.status.idle": "2023-04-09T12:15:33.849837Z",
          "shell.execute_reply": "2023-04-09T12:15:33.849352Z"
        },
        "id": "41329842",
        "outputId": "c39ed337-3dc7-462d-cdb0-ccfafd212564",
        "papermill": {
          "duration": 0.065594,
          "end_time": "2023-04-09T12:15:33.851095",
          "exception": false,
          "start_time": "2023-04-09T12:15:33.785501",
          "status": "completed"
        },
        "tags": []
      },
      "outputs": [],
      "source": [
        "file_util.get_raw_train_data()"
      ]
    },
    {
      "cell_type": "markdown",
      "id": "c116a2e8",
      "metadata": {
        "id": "c116a2e8",
        "papermill": {
          "duration": 0.008685,
          "end_time": "2023-04-09T12:15:33.868664",
          "exception": false,
          "start_time": "2023-04-09T12:15:33.859979",
          "status": "completed"
        },
        "tags": []
      },
      "source": [
        "# Preprocessing"
      ]
    },
    {
      "cell_type": "markdown",
      "id": "31a69aea",
      "metadata": {
        "id": "31a69aea",
        "papermill": {
          "duration": 0.008649,
          "end_time": "2023-04-09T12:15:33.886047",
          "exception": false,
          "start_time": "2023-04-09T12:15:33.877398",
          "status": "completed"
        },
        "tags": []
      },
      "source": [
        "Before model training, we need to preprocess the train data since model training process will retrieve the processed train data directly. **preprocess_train** method will preprocess train data and save the preprocessed data into storage.\n",
        "\n",
        "Note: To run preprocessing via terminal, run this command \"**python3 -m src.preprocessing.transformations**\" on h2o2.ai project folder."
      ]
    },
    {
      "cell_type": "code",
      "execution_count": null,
      "id": "bf205f70",
      "metadata": {
        "execution": {
          "iopub.execute_input": "2023-04-09T12:15:33.904356Z",
          "iopub.status.busy": "2023-04-09T12:15:33.904039Z",
          "iopub.status.idle": "2023-04-09T12:15:34.416059Z",
          "shell.execute_reply": "2023-04-09T12:15:34.415475Z"
        },
        "id": "bf205f70",
        "papermill": {
          "duration": 0.523036,
          "end_time": "2023-04-09T12:15:34.417783",
          "exception": false,
          "start_time": "2023-04-09T12:15:33.894747",
          "status": "completed"
        },
        "tags": []
      },
      "outputs": [],
      "source": [
        "from src.preprocessing.transformations import preprocess_train"
      ]
    },
    {
      "cell_type": "code",
      "execution_count": null,
      "id": "f8e15ccb",
      "metadata": {
        "execution": {
          "iopub.execute_input": "2023-04-09T12:15:34.436795Z",
          "iopub.status.busy": "2023-04-09T12:15:34.436506Z",
          "iopub.status.idle": "2023-04-09T12:15:35.660109Z",
          "shell.execute_reply": "2023-04-09T12:15:35.659524Z"
        },
        "id": "f8e15ccb",
        "papermill": {
          "duration": 1.234839,
          "end_time": "2023-04-09T12:15:35.661766",
          "exception": false,
          "start_time": "2023-04-09T12:15:34.426927",
          "status": "completed"
        },
        "tags": []
      },
      "outputs": [],
      "source": [
        "preprocess_train()"
      ]
    },
    {
      "cell_type": "code",
      "execution_count": null,
      "id": "3d0a8305",
      "metadata": {
        "execution": {
          "iopub.execute_input": "2023-04-09T12:15:35.680702Z",
          "iopub.status.busy": "2023-04-09T12:15:35.680422Z",
          "iopub.status.idle": "2023-04-09T12:15:35.740179Z",
          "shell.execute_reply": "2023-04-09T12:15:35.739696Z"
        },
        "id": "3d0a8305",
        "outputId": "1d3a5605-11c3-461f-dd25-4eedeb16a13d",
        "papermill": {
          "duration": 0.070592,
          "end_time": "2023-04-09T12:15:35.741461",
          "exception": false,
          "start_time": "2023-04-09T12:15:35.670869",
          "status": "completed"
        },
        "tags": []
      },
      "outputs": [],
      "source": [
        "file_util.get_processed_train_data()"
      ]
    },
    {
      "cell_type": "code",
      "execution_count": null,
      "id": "df7980e2",
      "metadata": {
        "execution": {
          "iopub.execute_input": "2023-04-09T12:15:35.760672Z",
          "iopub.status.busy": "2023-04-09T12:15:35.760291Z",
          "iopub.status.idle": "2023-04-09T12:15:35.764310Z",
          "shell.execute_reply": "2023-04-09T12:15:35.763801Z"
        },
        "id": "df7980e2",
        "outputId": "31541fd2-8658-45e7-da1f-9a972da2939b",
        "papermill": {
          "duration": 0.014938,
          "end_time": "2023-04-09T12:15:35.765591",
          "exception": false,
          "start_time": "2023-04-09T12:15:35.750653",
          "status": "completed"
        },
        "tags": []
      },
      "outputs": [],
      "source": [
        "lines = inspect.getsource(preprocess_train)\n",
        "print(lines)"
      ]
    },
    {
      "cell_type": "code",
      "execution_count": null,
      "id": "ec778c16",
      "metadata": {
        "execution": {
          "iopub.execute_input": "2023-04-09T12:15:35.784603Z",
          "iopub.status.busy": "2023-04-09T12:15:35.784219Z",
          "iopub.status.idle": "2023-04-09T12:15:35.788049Z",
          "shell.execute_reply": "2023-04-09T12:15:35.787552Z"
        },
        "id": "ec778c16",
        "outputId": "1bfc17c2-3840-4bb2-edcf-7ad01211ff17",
        "papermill": {
          "duration": 0.014721,
          "end_time": "2023-04-09T12:15:35.789325",
          "exception": false,
          "start_time": "2023-04-09T12:15:35.774604",
          "status": "completed"
        },
        "tags": []
      },
      "outputs": [],
      "source": [
        "from src.preprocessing.transformations import apply_cleaning_train\n",
        "\n",
        "lines = inspect.getsource(apply_cleaning_train)\n",
        "print(lines)"
      ]
    },
    {
      "cell_type": "markdown",
      "id": "0a74fe43",
      "metadata": {
        "id": "0a74fe43",
        "papermill": {
          "duration": 0.009089,
          "end_time": "2023-04-09T12:15:35.807525",
          "exception": false,
          "start_time": "2023-04-09T12:15:35.798436",
          "status": "completed"
        },
        "tags": []
      },
      "source": [
        "# Sentiment Analysis"
      ]
    },
    {
      "cell_type": "markdown",
      "id": "fd929fa3",
      "metadata": {
        "id": "fd929fa3",
        "papermill": {
          "duration": 0.009111,
          "end_time": "2023-04-09T12:15:35.825759",
          "exception": false,
          "start_time": "2023-04-09T12:15:35.816648",
          "status": "completed"
        },
        "tags": []
      },
      "source": [
        "## Training"
      ]
    },
    {
      "cell_type": "markdown",
      "id": "4ff7b1a8",
      "metadata": {
        "id": "4ff7b1a8",
        "papermill": {
          "duration": 0.009059,
          "end_time": "2023-04-09T12:15:35.843912",
          "exception": false,
          "start_time": "2023-04-09T12:15:35.834853",
          "status": "completed"
        },
        "tags": []
      },
      "source": [
        "We experimented with 3 models:\n",
        "1. BERT\n",
        "2. LSTM with Word2Vec embeddings\n",
        "3. Logistic Regression with Word2Vec embeddings\n",
        "\n",
        "All models trained are saved into storage and can be used for prediction.\n",
        "\n",
        "Takes 30 minutes to train on EC2 instance.\n",
        "\n",
        "Note: To run sentiment analysis training via terminal, run this command \"**python3 -m src.models.sentiment_analysis.train.train**\" on h2o2.ai project folder."
      ]
    },
    {
      "cell_type": "code",
      "execution_count": null,
      "id": "c4d4c82c",
      "metadata": {
        "execution": {
          "iopub.execute_input": "2023-04-09T12:15:35.863215Z",
          "iopub.status.busy": "2023-04-09T12:15:35.862902Z",
          "iopub.status.idle": "2023-04-09T12:15:40.677287Z",
          "shell.execute_reply": "2023-04-09T12:15:40.676631Z"
        },
        "id": "c4d4c82c",
        "outputId": "8beb0202-eb40-4eba-d05d-ca0ace97af67",
        "papermill": {
          "duration": 4.825521,
          "end_time": "2023-04-09T12:15:40.678712",
          "exception": false,
          "start_time": "2023-04-09T12:15:35.853191",
          "status": "completed"
        },
        "tags": []
      },
      "outputs": [],
      "source": [
        "from src.models.sentiment_analysis.train.train import sentiment_analysis_train"
      ]
    },
    {
      "cell_type": "code",
      "execution_count": null,
      "id": "d1d2af03",
      "metadata": {},
      "outputs": [],
      "source": [
        "sentiment_analysis_train()"
      ]
    },
    {
      "cell_type": "markdown",
      "id": "c810f316",
      "metadata": {
        "id": "c810f316",
        "papermill": {
          "duration": 0.040012,
          "end_time": "2023-04-09T12:38:43.973569",
          "exception": false,
          "start_time": "2023-04-09T12:38:43.933557",
          "status": "completed"
        },
        "tags": []
      },
      "source": [
        "## Evaluation"
      ]
    },
    {
      "cell_type": "code",
      "execution_count": null,
      "id": "yaMpYnxQWWTM",
      "metadata": {
        "execution": {
          "iopub.execute_input": "2023-04-09T12:38:44.055320Z",
          "iopub.status.busy": "2023-04-09T12:38:44.054988Z",
          "iopub.status.idle": "2023-04-09T12:38:44.108263Z",
          "shell.execute_reply": "2023-04-09T12:38:44.107634Z"
        },
        "id": "yaMpYnxQWWTM",
        "outputId": "c06e3931-0153-406e-b96e-405bb73977c0",
        "papermill": {
          "duration": 0.096021,
          "end_time": "2023-04-09T12:38:44.109679",
          "exception": false,
          "start_time": "2023-04-09T12:38:44.013658",
          "status": "completed"
        },
        "tags": []
      },
      "outputs": [],
      "source": [
        "file_util.get_sentiment_viz_png()"
      ]
    },
    {
      "cell_type": "markdown",
      "id": "efe9567f",
      "metadata": {
        "id": "efe9567f",
        "papermill": {
          "duration": 0.041238,
          "end_time": "2023-04-09T12:38:44.192197",
          "exception": false,
          "start_time": "2023-04-09T12:38:44.150959",
          "status": "completed"
        },
        "tags": []
      },
      "source": [
        "To evaluate model performances amongst imbalanced data, we focused on the following metrics, output in \"eval\" folder under \"metrics.json\":\n",
        "1. Average Precision Score\n",
        "2. PR-AUC Score\n",
        "\n",
        "**FileUtil.get_metrics** function will retrieve these saved metrics.\n",
        "\n",
        "BERT performs a bit better than LSTM here. However, the LSTM model is unstable. Sometimes LSTM PR AUC and Average Precision are far worse than BERT (< 90%)."
      ]
    },
    {
      "cell_type": "code",
      "execution_count": null,
      "id": "7cd3bfd2",
      "metadata": {
        "execution": {
          "iopub.execute_input": "2023-04-09T12:38:44.275127Z",
          "iopub.status.busy": "2023-04-09T12:38:44.274721Z",
          "iopub.status.idle": "2023-04-09T12:38:44.302006Z",
          "shell.execute_reply": "2023-04-09T12:38:44.301495Z"
        },
        "id": "7cd3bfd2",
        "outputId": "6b9e076b-24d3-4eb2-849e-cde8624fcad2",
        "papermill": {
          "duration": 0.070213,
          "end_time": "2023-04-09T12:38:44.303321",
          "exception": false,
          "start_time": "2023-04-09T12:38:44.233108",
          "status": "completed"
        },
        "tags": []
      },
      "outputs": [],
      "source": [
        "metrics = file_util.get_metrics(\"sentiment_analysis\")\n",
        "metrics"
      ]
    },
    {
      "cell_type": "code",
      "execution_count": null,
      "id": "161870fa",
      "metadata": {
        "execution": {
          "iopub.execute_input": "2023-04-09T12:38:44.386599Z",
          "iopub.status.busy": "2023-04-09T12:38:44.386199Z",
          "iopub.status.idle": "2023-04-09T12:38:44.390284Z",
          "shell.execute_reply": "2023-04-09T12:38:44.389737Z"
        },
        "id": "161870fa",
        "outputId": "aade9c86-a594-478b-e984-50b1a2572619",
        "papermill": {
          "duration": 0.047163,
          "end_time": "2023-04-09T12:38:44.391591",
          "exception": false,
          "start_time": "2023-04-09T12:38:44.344428",
          "status": "completed"
        },
        "tags": []
      },
      "outputs": [],
      "source": [
        "models_prauc = sorted(list(map(lambda item: (item[0], item[1][\"PR AUC\"]), metrics.items())), key = lambda x: x[1])\n",
        "print(\"Best model is {} with PR-AUC {}\".format(models_prauc[-1][0], models_prauc[-1][1]))"
      ]
    },
    {
      "cell_type": "markdown",
      "id": "4c45869b",
      "metadata": {
        "id": "4c45869b",
        "papermill": {
          "duration": 0.041253,
          "end_time": "2023-04-09T12:38:44.474128",
          "exception": false,
          "start_time": "2023-04-09T12:38:44.432875",
          "status": "completed"
        },
        "tags": []
      },
      "source": [
        "# Topic Modelling"
      ]
    },
    {
      "attachments": {},
      "cell_type": "markdown",
      "id": "FI2Vn065dgfq",
      "metadata": {
        "id": "FI2Vn065dgfq",
        "papermill": {
          "duration": 0.041115,
          "end_time": "2023-04-09T12:38:44.556488",
          "exception": false,
          "start_time": "2023-04-09T12:38:44.515373",
          "status": "completed"
        },
        "tags": []
      },
      "source": [
        "## Training\n",
        "\n",
        "**Goal: Identify topics relevant to our use case.**\n",
        "\n",
        "Models:\n",
        "1. Non-negative Matrix Factorization (NMF) with Tf-Idf vectorization\n",
        "2. Latent Dirichlet Allocation (LDA) with Bag of Words vectorization\n",
        "3. BERTopic\n",
        "\n",
        "Takes 4.5 minutes to train locally."
      ]
    },
    {
      "cell_type": "markdown",
      "id": "17f492f8",
      "metadata": {
        "id": "17f492f8",
        "papermill": {
          "duration": 0.041176,
          "end_time": "2023-04-09T12:38:44.638817",
          "exception": false,
          "start_time": "2023-04-09T12:38:44.597641",
          "status": "completed"
        },
        "tags": []
      },
      "source": [
        "1. All topic model results will be saved into eval folder. These graphs will then be used to determine seed topics for prediction pipeline.\n",
        "\n",
        "Note: To run topic modelling training via terminal, run this command \"**python3 -m src.models.topic_modelling.train.train**\" on h2o2.ai project folder."
      ]
    },
    {
      "cell_type": "code",
      "execution_count": null,
      "id": "5bd04c22",
      "metadata": {
        "execution": {
          "iopub.execute_input": "2023-04-09T12:38:44.722398Z",
          "iopub.status.busy": "2023-04-09T12:38:44.721877Z",
          "iopub.status.idle": "2023-04-09T12:38:54.323058Z",
          "shell.execute_reply": "2023-04-09T12:38:54.322456Z"
        },
        "id": "5bd04c22",
        "outputId": "fe436388-3636-4c0f-a268-551604d51d1d",
        "papermill": {
          "duration": 9.644661,
          "end_time": "2023-04-09T12:38:54.324767",
          "exception": false,
          "start_time": "2023-04-09T12:38:44.680106",
          "status": "completed"
        },
        "tags": []
      },
      "outputs": [],
      "source": [
        "from src.models.topic_modelling.train.train import topic_modelling_train"
      ]
    },
    {
      "cell_type": "code",
      "execution_count": null,
      "id": "4c0b0eed",
      "metadata": {
        "execution": {
          "iopub.execute_input": "2023-04-09T12:38:54.409989Z",
          "iopub.status.busy": "2023-04-09T12:38:54.409507Z",
          "iopub.status.idle": "2023-04-09T12:39:59.757445Z",
          "shell.execute_reply": "2023-04-09T12:39:59.756767Z"
        },
        "id": "4c0b0eed",
        "outputId": "a0c7d6aa-e763-4df2-ec76-eabd39172b55",
        "papermill": {
          "duration": 65.391833,
          "end_time": "2023-04-09T12:39:59.759093",
          "exception": false,
          "start_time": "2023-04-09T12:38:54.367260",
          "status": "completed"
        },
        "tags": []
      },
      "outputs": [],
      "source": [
        "topic_modelling_train()"
      ]
    },
    {
      "cell_type": "markdown",
      "id": "bf7fefcd",
      "metadata": {
        "id": "bf7fefcd",
        "papermill": {
          "duration": 0.042859,
          "end_time": "2023-04-09T12:39:59.846002",
          "exception": false,
          "start_time": "2023-04-09T12:39:59.803143",
          "status": "completed"
        },
        "tags": []
      },
      "source": [
        "## Evaluation\n",
        "\n",
        "Custom visualisation function previews top words by topic, to capture most representative words in each topic"
      ]
    },
    {
      "cell_type": "code",
      "execution_count": null,
      "id": "3638bdb6",
      "metadata": {
        "execution": {
          "iopub.execute_input": "2023-04-09T12:39:59.932588Z",
          "iopub.status.busy": "2023-04-09T12:39:59.932308Z",
          "iopub.status.idle": "2023-04-09T12:40:00.086659Z",
          "shell.execute_reply": "2023-04-09T12:40:00.086110Z"
        },
        "id": "3638bdb6",
        "outputId": "ab84dd6d-800c-496f-db21-2c87743a7f5d",
        "papermill": {
          "duration": 0.278024,
          "end_time": "2023-04-09T12:40:00.166788",
          "exception": false,
          "start_time": "2023-04-09T12:39:59.888764",
          "status": "completed"
        },
        "tags": []
      },
      "outputs": [],
      "source": [
        "fig = file_util.get_topics_html(\"LDA\")\n",
        "fig.update_layout(width = 700, height = 800)"
      ]
    },
    {
      "cell_type": "code",
      "execution_count": null,
      "id": "ab4e2d5f",
      "metadata": {
        "execution": {
          "iopub.execute_input": "2023-04-09T12:40:00.440617Z",
          "iopub.status.busy": "2023-04-09T12:40:00.440060Z",
          "iopub.status.idle": "2023-04-09T12:40:00.510369Z",
          "shell.execute_reply": "2023-04-09T12:40:00.509826Z"
        },
        "id": "ab4e2d5f",
        "outputId": "757f0b14-a671-44ab-8e79-c8014ebba303",
        "papermill": {
          "duration": 0.225403,
          "end_time": "2023-04-09T12:40:00.512287",
          "exception": false,
          "start_time": "2023-04-09T12:40:00.286884",
          "status": "completed"
        },
        "tags": []
      },
      "outputs": [],
      "source": [
        "fig = file_util.get_topics_html(\"BERTopic\")\n",
        "fig.update_layout(width = 700, height = 1000)"
      ]
    },
    {
      "cell_type": "code",
      "execution_count": null,
      "id": "e03c2e06",
      "metadata": {
        "execution": {
          "iopub.execute_input": "2023-04-09T12:40:00.776318Z",
          "iopub.status.busy": "2023-04-09T12:40:00.775960Z",
          "iopub.status.idle": "2023-04-09T12:40:00.833635Z",
          "shell.execute_reply": "2023-04-09T12:40:00.833084Z"
        },
        "id": "e03c2e06",
        "outputId": "51b57860-198a-4358-dd18-a55028a41148",
        "papermill": {
          "duration": 0.188595,
          "end_time": "2023-04-09T12:40:00.834947",
          "exception": false,
          "start_time": "2023-04-09T12:40:00.646352",
          "status": "completed"
        },
        "tags": []
      },
      "outputs": [],
      "source": [
        "fig = file_util.get_topics_html(\"NMF\")\n",
        "fig.update_layout(width = 700, height = 550)"
      ]
    },
    {
      "attachments": {},
      "cell_type": "markdown",
      "id": "OB2yvkcIoYZ3",
      "metadata": {
        "id": "OB2yvkcIoYZ3",
        "papermill": {
          "duration": 0.134225,
          "end_time": "2023-04-09T12:40:01.107247",
          "exception": false,
          "start_time": "2023-04-09T12:40:00.973022",
          "status": "completed"
        },
        "tags": []
      },
      "source": [
        "Topics:\n",
        "\n",
        "1. **Drinks**: Drinks, Tea, Coffee, Juice, Soda\n",
        "2. **Snacks**: Snacks, Nuts, Chips, Crackers, Protein Bars, Cereal\n",
        "3. **Ingredients**: Ingredients, Sugar, Salt, Oil, Coconut, Olive, Cocoa, Cacao, Sweetener, Gluten\n",
        "4. **Flavour/Seasoning**: Flavour, Taste, Seasoning, Spices, Sauce, Chili\n",
        "5. **Baked Goods**: Baked Goods, Pastries, Cookies, Bread\n",
        "6. **Noodles & Pasta**: Noodles,  Pasta, Ramen, Udon\n",
        "7. **Pet Food**: Dog Food, Cat Food, Pet Food, Dog Treat"
      ]
    },
    {
      "cell_type": "markdown",
      "id": "baa6addb",
      "metadata": {
        "id": "baa6addb",
        "papermill": {
          "duration": 0.133235,
          "end_time": "2023-04-09T12:40:01.373340",
          "exception": false,
          "start_time": "2023-04-09T12:40:01.240105",
          "status": "completed"
        },
        "tags": []
      },
      "source": [
        "# Predict reviews_test.csv"
      ]
    },
    {
      "cell_type": "markdown",
      "id": "CCKiGrkAGBK4",
      "metadata": {
        "id": "CCKiGrkAGBK4",
        "papermill": {
          "duration": 0.132886,
          "end_time": "2023-04-09T12:40:01.638932",
          "exception": false,
          "start_time": "2023-04-09T12:40:01.506046",
          "status": "completed"
        },
        "tags": []
      },
      "source": [
        "1. TEST_FILE_NAME and best_sentiment_analysis_model attributes in FileUtil are supplied from config.yml file. Hence, to edit the test file name or sentiment analysis model to use for prediction, please edit the config file.\n",
        "2. **predict_sentiment_topic** function doesn't take in any parameter as it reads the data specified in test file name (if any) or defaulted to reading train data (df=FileUtil().get_raw_train_data()).\n",
        "3. **predict_sentiment_topic** function will call the following three functions:\n",
        "\n",
        "\n",
        "> *   **apply_cleaning_test** : preprocessing\n",
        "> *   **predict_sentiment** : uses the best_sentiment_analysis_model specified in config to predict sentient labels and its probabilities\n",
        "> *   **predict_topic** : Lbl2TransformerVec using the predefined seed topics in config, as identified during training\n",
        "\n",
        "4. Result df from **predict_sentiment_topic** function will be saved to data/predicted/ folder using current datetime as csv name\n",
        "\n",
        "Note: To run predict_sentiment_topic via terminal, run this command \"**python3 -m src.models.predict**\" on h2o2.ai project folder."
      ]
    },
    {
      "cell_type": "code",
      "execution_count": null,
      "id": "d655d36b",
      "metadata": {},
      "outputs": [],
      "source": [
        "cd .."
      ]
    },
    {
      "cell_type": "code",
      "execution_count": null,
      "id": "15e54c59",
      "metadata": {
        "execution": {
          "iopub.execute_input": "2023-04-09T12:40:01.907581Z",
          "iopub.status.busy": "2023-04-09T12:40:01.907229Z",
          "iopub.status.idle": "2023-04-09T12:40:02.345164Z",
          "shell.execute_reply": "2023-04-09T12:40:02.344526Z"
        },
        "id": "15e54c59",
        "papermill": {
          "duration": 0.574774,
          "end_time": "2023-04-09T12:40:02.346836",
          "exception": false,
          "start_time": "2023-04-09T12:40:01.772062",
          "status": "completed"
        },
        "tags": []
      },
      "outputs": [],
      "source": [
        "from src.models.predict import predict_sentiment_topic"
      ]
    },
    {
      "cell_type": "code",
      "execution_count": null,
      "id": "c868178c",
      "metadata": {
        "execution": {
          "iopub.execute_input": "2023-04-09T12:40:02.899145Z",
          "iopub.status.busy": "2023-04-09T12:40:02.898794Z",
          "iopub.status.idle": "2023-04-09T12:40:02.902771Z",
          "shell.execute_reply": "2023-04-09T12:40:02.902270Z"
        },
        "id": "c868178c",
        "outputId": "8fca4b0a-7c6d-46a9-e878-274003e3deb9",
        "papermill": {
          "duration": 0.141759,
          "end_time": "2023-04-09T12:40:02.904012",
          "exception": false,
          "start_time": "2023-04-09T12:40:02.762253",
          "status": "completed"
        },
        "tags": []
      },
      "outputs": [],
      "source": [
        "file_util.TEST_FILE_NAME"
      ]
    },
    {
      "cell_type": "code",
      "execution_count": null,
      "id": "b80b60c7",
      "metadata": {
        "execution": {
          "iopub.execute_input": "2023-04-09T12:40:03.176915Z",
          "iopub.status.busy": "2023-04-09T12:40:03.176562Z",
          "iopub.status.idle": "2023-04-09T12:40:03.180526Z",
          "shell.execute_reply": "2023-04-09T12:40:03.180026Z"
        },
        "id": "b80b60c7",
        "outputId": "bcc5fa44-5cdc-4296-aaeb-ab446dc85728",
        "papermill": {
          "duration": 0.141091,
          "end_time": "2023-04-09T12:40:03.181824",
          "exception": false,
          "start_time": "2023-04-09T12:40:03.040733",
          "status": "completed"
        },
        "tags": []
      },
      "outputs": [],
      "source": [
        "file_util.best_sentiment_analysis_model"
      ]
    },
    {
      "cell_type": "code",
      "execution_count": null,
      "id": "4349efcf",
      "metadata": {
        "execution": {
          "iopub.execute_input": "2023-04-09T12:40:02.617380Z",
          "iopub.status.busy": "2023-04-09T12:40:02.616991Z",
          "iopub.status.idle": "2023-04-09T12:40:02.621465Z",
          "shell.execute_reply": "2023-04-09T12:40:02.620902Z"
        },
        "id": "4349efcf",
        "outputId": "4e0467a1-f91f-4111-abd3-230b207a3d7c",
        "papermill": {
          "duration": 0.139932,
          "end_time": "2023-04-09T12:40:02.622772",
          "exception": false,
          "start_time": "2023-04-09T12:40:02.482840",
          "status": "completed"
        },
        "tags": []
      },
      "outputs": [],
      "source": [
        "lines = inspect.getsource(predict_sentiment_topic)\n",
        "print(lines)"
      ]
    },
    {
      "attachments": {},
      "cell_type": "markdown",
      "id": "NH-b1fPcXc9X",
      "metadata": {
        "id": "NH-b1fPcXc9X"
      },
      "source": [
        "#### Displaying predicted output\n",
        "\n",
        "Predictions are done on the review_test.csv file as specified for the TEST_FILE_NAME attribute in the config.yml. Notice that four new columns are added, the sentiment labels and its probabilities, as well as the subtopics and topics.\n",
        "\n",
        "Prediction on 3k data takes 7 mins 40 secs."
      ]
    },
    {
      "cell_type": "code",
      "execution_count": null,
      "id": "0d954d80",
      "metadata": {
        "execution": {
          "iopub.execute_input": "2023-04-09T12:40:03.719536Z",
          "iopub.status.busy": "2023-04-09T12:40:03.719180Z",
          "iopub.status.idle": "2023-04-09T12:43:15.772061Z",
          "shell.execute_reply": "2023-04-09T12:43:15.771437Z"
        },
        "id": "0d954d80",
        "outputId": "c8369d22-3d87-47d2-e8d1-5eb98c6f6790",
        "papermill": {
          "duration": 192.187968,
          "end_time": "2023-04-09T12:43:15.773528",
          "exception": false,
          "start_time": "2023-04-09T12:40:03.585560",
          "status": "completed"
        },
        "tags": []
      },
      "outputs": [],
      "source": [
        "test_bert = predict_sentiment_topic()\n",
        "test_bert.head()"
      ]
    },
    {
      "cell_type": "code",
      "execution_count": null,
      "id": "bce15336",
      "metadata": {},
      "outputs": [],
      "source": [
        "len(test_bert)"
      ]
    },
    {
      "cell_type": "markdown",
      "id": "kUMzYkz4CMSd",
      "metadata": {
        "id": "kUMzYkz4CMSd",
        "papermill": {
          "duration": 0.164883,
          "end_time": "2023-04-09T12:43:16.080501",
          "exception": false,
          "start_time": "2023-04-09T12:43:15.915618",
          "status": "completed"
        },
        "tags": []
      },
      "source": [
        "#### Dropping columns and renaming column name to align with required format."
      ]
    },
    {
      "cell_type": "code",
      "execution_count": null,
      "id": "fee5f658",
      "metadata": {
        "execution": {
          "iopub.execute_input": "2023-04-09T12:43:16.355391Z",
          "iopub.status.busy": "2023-04-09T12:43:16.355016Z",
          "iopub.status.idle": "2023-04-09T12:43:16.360495Z",
          "shell.execute_reply": "2023-04-09T12:43:16.359961Z"
        },
        "id": "fee5f658",
        "papermill": {
          "duration": 0.144747,
          "end_time": "2023-04-09T12:43:16.361793",
          "exception": false,
          "start_time": "2023-04-09T12:43:16.217046",
          "status": "completed"
        },
        "tags": []
      },
      "outputs": [],
      "source": [
        "test_output = test_bert.drop([\"cleaned_text\", \"subtopic\", \"topic\"], axis = 1)\n",
        "test_output = test_output.rename(columns = {\"partially_cleaned_text\": \"Text\", \"date\": \"Time\", \"sentiment\": \"predicted_sentiment\", \n",
        "                            \"sentiment_prob\": \"predicted_sentiment_prob\"})"
      ]
    },
    {
      "cell_type": "code",
      "execution_count": null,
      "id": "ae6d5fdb",
      "metadata": {
        "execution": {
          "iopub.execute_input": "2023-04-09T12:43:16.634678Z",
          "iopub.status.busy": "2023-04-09T12:43:16.634333Z",
          "iopub.status.idle": "2023-04-09T12:43:16.641860Z",
          "shell.execute_reply": "2023-04-09T12:43:16.641345Z"
        },
        "id": "ae6d5fdb",
        "outputId": "9bba87e0-51e5-4980-b9c2-268651497fff",
        "papermill": {
          "duration": 0.144933,
          "end_time": "2023-04-09T12:43:16.643113",
          "exception": false,
          "start_time": "2023-04-09T12:43:16.498180",
          "status": "completed"
        },
        "tags": []
      },
      "outputs": [],
      "source": [
        "test_output.head()"
      ]
    },
    {
      "cell_type": "code",
      "execution_count": null,
      "id": "988c15f7",
      "metadata": {
        "execution": {
          "iopub.execute_input": "2023-04-09T12:43:17.205871Z",
          "iopub.status.busy": "2023-04-09T12:43:17.205544Z",
          "iopub.status.idle": "2023-04-09T12:43:17.257354Z",
          "shell.execute_reply": "2023-04-09T12:43:17.256782Z"
        },
        "id": "988c15f7",
        "papermill": {
          "duration": 0.190067,
          "end_time": "2023-04-09T12:43:17.258639",
          "exception": false,
          "start_time": "2023-04-09T12:43:17.068572",
          "status": "completed"
        },
        "tags": []
      },
      "outputs": [],
      "source": [
        "test_output.to_csv(\"final_presentation/reviews_test_predictions_h2o2.ai.csv\")"
      ]
    },
    {
      "cell_type": "markdown",
      "id": "qD1wDRTEXY-p",
      "metadata": {
        "id": "qD1wDRTEXY-p",
        "papermill": {
          "duration": 0.122209,
          "end_time": "2023-04-05T09:06:29.976605",
          "exception": false,
          "start_time": "2023-04-05T09:06:29.854396",
          "status": "completed"
        },
        "tags": []
      },
      "source": [
        "## Visualizations\n",
        "\n",
        "Importing all the functions that we have written in the src.visualisaton.dashboard_viz, to plot various visualisations using the plotly library.\n",
        "\n",
        "We have developed visualisation for **sentiments**, **topics** and **specified topics**.\n"
      ]
    },
    {
      "cell_type": "code",
      "execution_count": null,
      "id": "18588efe",
      "metadata": {
        "execution": {
          "iopub.execute_input": "2023-04-09T12:43:17.812281Z",
          "iopub.status.busy": "2023-04-09T12:43:17.811920Z",
          "iopub.status.idle": "2023-04-09T12:43:17.849855Z",
          "shell.execute_reply": "2023-04-09T12:43:17.849299Z"
        },
        "id": "18588efe",
        "papermill": {
          "duration": 0.180544,
          "end_time": "2023-04-09T12:43:17.851178",
          "exception": false,
          "start_time": "2023-04-09T12:43:17.670634",
          "status": "completed"
        },
        "tags": []
      },
      "outputs": [],
      "source": [
        "import pandas as pd\n",
        "from src.visualisation.dashboard_viz import *\n",
        "\n",
        "vis_df = reformat_data(test_bert)"
      ]
    },
    {
      "cell_type": "markdown",
      "id": "9fb54088",
      "metadata": {
        "id": "9fb54088",
        "papermill": {
          "duration": 0.137732,
          "end_time": "2023-04-09T12:43:18.128549",
          "exception": false,
          "start_time": "2023-04-09T12:43:17.990817",
          "status": "completed"
        },
        "tags": []
      },
      "source": [
        "### Visualizations for sentiments"
      ]
    },
    {
      "cell_type": "code",
      "execution_count": null,
      "id": "c7930702",
      "metadata": {
        "execution": {
          "iopub.execute_input": "2023-04-09T12:43:18.401858Z",
          "iopub.status.busy": "2023-04-09T12:43:18.401508Z",
          "iopub.status.idle": "2023-04-09T12:43:20.177876Z",
          "shell.execute_reply": "2023-04-09T12:43:20.177105Z"
        },
        "id": "c7930702",
        "outputId": "64e68708-9c09-478b-b980-1e82935a5816",
        "papermill": {
          "duration": 1.913886,
          "end_time": "2023-04-09T12:43:20.179350",
          "exception": false,
          "start_time": "2023-04-09T12:43:18.265464",
          "status": "completed"
        },
        "tags": []
      },
      "outputs": [],
      "source": [
        "sentiment_pie_chart_fig = sentiment_pie_chart(vis_df)\n",
        "sentiment_trend_fig = sentiment_line_chart_over_time(vis_df)\n",
        "topics_sentiment_fig = topics_bar_chart(vis_df)\n",
        "\n",
        "display(sentiment_pie_chart_fig.update_layout(width = 500, height = 300, title='Overall Sentiment Breakdown'))\n",
        "display(sentiment_trend_fig.update_layout(title='Sentiment trend'))\n",
        "display(topics_sentiment_fig.update_layout(title='Topics by Sentiment'))"
      ]
    },
    {
      "cell_type": "markdown",
      "id": "080f9033",
      "metadata": {
        "id": "080f9033",
        "papermill": {
          "duration": 0.13797,
          "end_time": "2023-04-09T12:43:20.460857",
          "exception": false,
          "start_time": "2023-04-09T12:43:20.322887",
          "status": "completed"
        },
        "tags": []
      },
      "source": [
        "### Visualizations for topics"
      ]
    },
    {
      "cell_type": "code",
      "execution_count": null,
      "id": "180463dd",
      "metadata": {
        "execution": {
          "iopub.execute_input": "2023-04-09T12:43:20.739869Z",
          "iopub.status.busy": "2023-04-09T12:43:20.739469Z",
          "iopub.status.idle": "2023-04-09T12:43:22.220058Z",
          "shell.execute_reply": "2023-04-09T12:43:22.219464Z"
        },
        "id": "180463dd",
        "outputId": "250ee5b6-e522-40f5-9340-1eeabcf986fb",
        "papermill": {
          "duration": 1.621739,
          "end_time": "2023-04-09T12:43:22.221763",
          "exception": false,
          "start_time": "2023-04-09T12:43:20.600024",
          "status": "completed"
        },
        "tags": []
      },
      "outputs": [],
      "source": [
        "topics_pie_chart_fig = topics_pie_chart(vis_df)\n",
        "topics_bar_chart_fig = topics_bar_chart_over_time(vis_df, time_frame='Q')\n",
        "top_key_words_fig = visualise_all_topics(vis_df)\n",
        "\n",
        "display(topics_pie_chart_fig.update_layout(width = 500, height = 300, title='Frequency of topics'))\n",
        "display(topics_bar_chart_fig.update_layout(title='Topics over Time'))\n",
        "display(top_key_words_fig)"
      ]
    },
    {
      "cell_type": "markdown",
      "id": "03c6d5e0",
      "metadata": {
        "id": "03c6d5e0",
        "papermill": {
          "duration": 0.138021,
          "end_time": "2023-04-09T12:43:22.503844",
          "exception": false,
          "start_time": "2023-04-09T12:43:22.365823",
          "status": "completed"
        },
        "tags": []
      },
      "source": [
        "### Visualizations for specific topic\n",
        "\n",
        "We will be exploring the *Drinks* topic."
      ]
    },
    {
      "cell_type": "code",
      "execution_count": null,
      "id": "b45c5e97",
      "metadata": {
        "execution": {
          "iopub.execute_input": "2023-04-09T12:43:22.814161Z",
          "iopub.status.busy": "2023-04-09T12:43:22.813798Z",
          "iopub.status.idle": "2023-04-09T12:43:23.404819Z",
          "shell.execute_reply": "2023-04-09T12:43:23.404263Z"
        },
        "id": "b45c5e97",
        "outputId": "23707e40-4059-425b-b36c-2a48a9f9cec0",
        "papermill": {
          "duration": 0.76282,
          "end_time": "2023-04-09T12:43:23.406121",
          "exception": false,
          "start_time": "2023-04-09T12:43:22.643301",
          "status": "completed"
        },
        "tags": []
      },
      "outputs": [],
      "source": [
        "# Subtopics in each topic\n",
        "select_topic = 'Drinks'\n",
        "\n",
        "subtopic_fig = get_subtopics(vis_df, topic=select_topic)\n",
        "subtopic_sentiment_fig = sentiment_pie_chart(vis_df[vis_df[\"topic\"]==select_topic])\n",
        "\n",
        "display(subtopic_sentiment_fig.update_layout(width = 500, height = 300,  title=f'Sentiment Breakdown for {select_topic}'))\n",
        "display(subtopic_fig.update_layout(width = 500, height = 300))"
      ]
    },
    {
      "attachments": {},
      "cell_type": "markdown",
      "id": "7f8d1a2f",
      "metadata": {},
      "source": [
        "# App Demo"
      ]
    },
    {
      "attachments": {},
      "cell_type": "markdown",
      "id": "19f645f6",
      "metadata": {},
      "source": [
        "- App will be run on Docker\n",
        "- Docker takes 30 mins to build\n",
        "- Docker image is of 14 GB size"
      ]
    },
    {
      "cell_type": "markdown",
      "id": "aa55b588",
      "metadata": {
        "id": "aa55b588",
        "papermill": {
          "duration": 0.139061,
          "end_time": "2023-04-09T12:43:23.689880",
          "exception": false,
          "start_time": "2023-04-09T12:43:23.550819",
          "status": "completed"
        },
        "tags": []
      },
      "source": [
        "# Unit Testing"
      ]
    },
    {
      "attachments": {},
      "cell_type": "markdown",
      "id": "5f7d852c",
      "metadata": {
        "id": "5f7d852c",
        "papermill": {
          "duration": 0.138313,
          "end_time": "2023-04-09T12:43:23.966577",
          "exception": false,
          "start_time": "2023-04-09T12:43:23.828264",
          "status": "completed"
        },
        "tags": []
      },
      "source": [
        "We did unit testing for all functions in all modules: preprocessing, models (predict, training, and methods in each model), utils.\n",
        "\n",
        "We also tested the functions behaviour on edge cases (e.g. cleaning null reviews, etc)\n",
        "\n",
        "Note: To run unit testing via terminal, run this command \"**python3 -m src.unittest.unit_testing**\" on h2o2.ai project folder."
      ]
    },
    {
      "cell_type": "code",
      "execution_count": null,
      "id": "c08cfe2f",
      "metadata": {
        "colab": {
          "base_uri": "https://localhost:8080/",
          "height": 321
        },
        "execution": {
          "iopub.execute_input": "2023-04-09T12:43:24.244011Z",
          "iopub.status.busy": "2023-04-09T12:43:24.243621Z",
          "iopub.status.idle": "2023-04-09T12:43:24.371211Z",
          "shell.execute_reply": "2023-04-09T12:43:24.370625Z"
        },
        "id": "c08cfe2f",
        "outputId": "b565e2cd-c884-4a6c-cc35-18bdedc87f14",
        "papermill": {
          "duration": 0.267953,
          "end_time": "2023-04-09T12:43:24.372692",
          "exception": false,
          "start_time": "2023-04-09T12:43:24.104739",
          "status": "completed"
        },
        "tags": []
      },
      "outputs": [],
      "source": [
        "import src.unittest.unit_testing\n",
        "from src.unittest.unit_testing import unit_test"
      ]
    },
    {
      "cell_type": "code",
      "execution_count": null,
      "id": "fce99953",
      "metadata": {
        "execution": {
          "iopub.execute_input": "2023-04-09T12:43:24.653493Z",
          "iopub.status.busy": "2023-04-09T12:43:24.653120Z",
          "iopub.status.idle": "2023-04-09T12:43:24.657181Z",
          "shell.execute_reply": "2023-04-09T12:43:24.656613Z"
        },
        "id": "fce99953",
        "outputId": "fc0bbfc4-aff0-4217-8b84-d704f8687dce",
        "papermill": {
          "duration": 0.145142,
          "end_time": "2023-04-09T12:43:24.658504",
          "exception": false,
          "start_time": "2023-04-09T12:43:24.513362",
          "status": "completed"
        },
        "tags": []
      },
      "outputs": [],
      "source": [
        "print(\"Methods in unit testing:\", [method for method in dir(src.unittest.unit_testing) if method[:4] == \"test\"])"
      ]
    },
    {
      "cell_type": "code",
      "execution_count": null,
      "id": "1c9671ee",
      "metadata": {
        "execution": {
          "iopub.execute_input": "2023-04-09T12:43:24.938929Z",
          "iopub.status.busy": "2023-04-09T12:43:24.938578Z",
          "iopub.status.idle": "2023-04-09T12:45:11.840278Z",
          "shell.execute_reply": "2023-04-09T12:45:11.839327Z"
        },
        "id": "1c9671ee",
        "outputId": "81fc74f9-c340-46a9-ef70-46b7336ad401",
        "papermill": {
          "duration": 107.191477,
          "end_time": "2023-04-09T12:45:11.990362",
          "exception": true,
          "start_time": "2023-04-09T12:43:24.798885",
          "status": "failed"
        },
        "tags": []
      },
      "outputs": [],
      "source": [
        "unit_test()"
      ]
    },
    {
      "cell_type": "code",
      "execution_count": null,
      "id": "cdbcf5c7",
      "metadata": {
        "id": "cdbcf5c7",
        "outputId": "53ee7672-1796-410a-8714-491fd6cace67",
        "papermill": {
          "duration": null,
          "end_time": null,
          "exception": null,
          "start_time": null,
          "status": "pending"
        },
        "tags": []
      },
      "outputs": [],
      "source": [
        "from src.unittest.unit_testing import test_apply_cleaning_train\n",
        "\n",
        "lines = inspect.getsource(test_apply_cleaning_train)\n",
        "print(lines)"
      ]
    },
    {
      "cell_type": "code",
      "execution_count": null,
      "id": "485a4b9d",
      "metadata": {
        "id": "485a4b9d",
        "outputId": "a6bfaa2d-ba79-4669-dec3-f8a418957f5c",
        "papermill": {
          "duration": null,
          "end_time": null,
          "exception": null,
          "start_time": null,
          "status": "pending"
        },
        "tags": []
      },
      "outputs": [],
      "source": [
        "from src.unittest.unit_testing import test_predict_when_all_stopwords\n",
        "\n",
        "lines = inspect.getsource(test_predict_when_all_stopwords)\n",
        "print(lines)"
      ]
    },
    {
      "cell_type": "code",
      "execution_count": null,
      "id": "4ce32d13",
      "metadata": {
        "id": "4ce32d13",
        "outputId": "7a6770ed-7195-4b8c-de1a-4e77dd933f56",
        "papermill": {
          "duration": null,
          "end_time": null,
          "exception": null,
          "start_time": null,
          "status": "pending"
        },
        "tags": []
      },
      "outputs": [],
      "source": [
        "from src.unittest.unit_testing import test_predict_sentiment_topic\n",
        "\n",
        "lines = inspect.getsource(test_predict_sentiment_topic)\n",
        "print(lines)"
      ]
    },
    {
      "cell_type": "markdown",
      "id": "72db2c96",
      "metadata": {
        "id": "72db2c96",
        "papermill": {
          "duration": null,
          "end_time": null,
          "exception": null,
          "start_time": null,
          "status": "pending"
        },
        "tags": []
      },
      "source": [
        "# Modular Code"
      ]
    },
    {
      "cell_type": "code",
      "execution_count": null,
      "id": "1bb4a0ff",
      "metadata": {
        "execution": {
          "iopub.execute_input": "2023-04-05T09:06:59.517804Z",
          "iopub.status.busy": "2023-04-05T09:06:59.517410Z",
          "iopub.status.idle": "2023-04-05T09:06:59.522392Z",
          "shell.execute_reply": "2023-04-05T09:06:59.521851Z"
        },
        "id": "1bb4a0ff",
        "papermill": {
          "duration": null,
          "end_time": null,
          "exception": null,
          "start_time": null,
          "status": "pending"
        },
        "tags": []
      },
      "outputs": [],
      "source": [
        "import os\n",
        "\n",
        "def list_files(startpath):\n",
        "    for root, dirs, files in os.walk(startpath):\n",
        "        level = root.replace(startpath, '').count(os.sep)\n",
        "        indent = ' ' * 4 * (level)\n",
        "        if os.path.basename(root) == \"__pycache__\":\n",
        "            continue\n",
        "        print('{}{}/'.format(indent, os.path.basename(root)))\n",
        "        subindent = ' ' * 4 * (level + 1)\n",
        "        for f in files:\n",
        "            print('{}{}'.format(subindent, f))"
      ]
    },
    {
      "cell_type": "code",
      "execution_count": null,
      "id": "fe86f32f",
      "metadata": {
        "execution": {
          "iopub.execute_input": "2023-04-05T09:06:59.779400Z",
          "iopub.status.busy": "2023-04-05T09:06:59.779068Z",
          "iopub.status.idle": "2023-04-05T09:06:59.783515Z",
          "shell.execute_reply": "2023-04-05T09:06:59.782976Z"
        },
        "id": "fe86f32f",
        "outputId": "1f30ee3b-2ec4-42ec-d932-e3de53aa7773",
        "papermill": {
          "duration": null,
          "end_time": null,
          "exception": null,
          "start_time": null,
          "status": "pending"
        },
        "tags": []
      },
      "outputs": [],
      "source": [
        "list_files(\"src\")"
      ]
    },
    {
      "cell_type": "markdown",
      "id": "05e10fd0",
      "metadata": {
        "id": "05e10fd0",
        "papermill": {
          "duration": null,
          "end_time": null,
          "exception": null,
          "start_time": null,
          "status": "pending"
        },
        "tags": []
      },
      "source": [
        "# OOP"
      ]
    },
    {
      "cell_type": "code",
      "execution_count": null,
      "id": "4189fe46",
      "metadata": {
        "id": "4189fe46",
        "outputId": "8aa2e2c6-0a9c-4bcd-d80a-4cdad065946c",
        "papermill": {
          "duration": null,
          "end_time": null,
          "exception": null,
          "start_time": null,
          "status": "pending"
        },
        "tags": []
      },
      "outputs": [],
      "source": [
        "from src.models.classifier import Classifier\n",
        "from src.models.sentiment_analysis.train.bert import BERT\n",
        "from src.models.sentiment_analysis.train.logreg import LOGREG\n",
        "from src.models.sentiment_analysis.train.lstm import Lstm\n",
        "from src.models.topic_modelling.train.bertopic import BERTopic_Module\n",
        "from src.models.topic_modelling.train.lda import LDA\n",
        "from src.models.topic_modelling.train.nmf import Tfidf_NMF_Module\n",
        "from src.models.topic_modelling.test.lbl2vec import Lbl2Vec\n",
        "\n",
        "print(isinstance(BERT(), Classifier))\n",
        "print(isinstance(LOGREG(), Classifier))\n",
        "print(isinstance(Lstm(), Classifier))\n",
        "print(isinstance(BERTopic_Module(), Classifier))\n",
        "print(isinstance(LDA(), Classifier))\n",
        "print(isinstance(Tfidf_NMF_Module(), Classifier))\n",
        "print(isinstance(Lbl2Vec(), Classifier))"
      ]
    },
    {
      "cell_type": "code",
      "execution_count": null,
      "id": "ce20e2dc",
      "metadata": {
        "id": "ce20e2dc",
        "outputId": "f7fa7441-c36f-4367-84b9-21cdc68697e2",
        "papermill": {
          "duration": null,
          "end_time": null,
          "exception": null,
          "start_time": null,
          "status": "pending"
        },
        "tags": []
      },
      "outputs": [],
      "source": [
        "print(\"Methods in Classifier:\", [func for func in dir(Classifier) if callable(getattr(Classifier, func)) and not func.startswith(\"__\")])"
      ]
    },
    {
      "cell_type": "code",
      "execution_count": null,
      "id": "83236500",
      "metadata": {
        "execution": {
          "iopub.execute_input": "2023-04-05T09:07:00.569196Z",
          "iopub.status.busy": "2023-04-05T09:07:00.568876Z",
          "iopub.status.idle": "2023-04-05T09:07:01.986374Z",
          "shell.execute_reply": "2023-04-05T09:07:01.985777Z"
        },
        "id": "83236500",
        "outputId": "bda2aa34-05e6-4db1-8079-6b50a64f3ae5",
        "papermill": {
          "duration": null,
          "end_time": null,
          "exception": null,
          "start_time": null,
          "status": "pending"
        },
        "tags": []
      },
      "outputs": [],
      "source": [
        "print(\"Methods in BERT:\", [func for func in dir(BERT) if callable(getattr(BERT, func)) and not func.startswith(\"__\")])\n",
        "print()\n",
        "print(\"Attributes in BERT:\", list(BERT().__dict__.keys()))"
      ]
    },
    {
      "cell_type": "code",
      "execution_count": null,
      "id": "35f2daf0",
      "metadata": {
        "execution": {
          "iopub.execute_input": "2023-04-05T09:07:02.549898Z",
          "iopub.status.busy": "2023-04-05T09:07:02.549327Z",
          "iopub.status.idle": "2023-04-05T09:07:02.587359Z",
          "shell.execute_reply": "2023-04-05T09:07:02.586772Z"
        },
        "id": "35f2daf0",
        "outputId": "e790f8d1-97b1-4cf7-f6e9-a02db0ecaa51",
        "papermill": {
          "duration": null,
          "end_time": null,
          "exception": null,
          "start_time": null,
          "status": "pending"
        },
        "tags": []
      },
      "outputs": [],
      "source": [
        "print(\"Methods in BERTopic_Module:\", [func for func in dir(BERTopic_Module) if callable(getattr(BERTopic_Module, func)) and not func.startswith(\"__\")])\n",
        "print()\n",
        "print(\"Attributes in BERTopic_Module:\", list(BERTopic_Module().__dict__.keys()))"
      ]
    },
    {
      "cell_type": "markdown",
      "id": "ce1d415e",
      "metadata": {
        "id": "ce1d415e",
        "papermill": {
          "duration": null,
          "end_time": null,
          "exception": null,
          "start_time": null,
          "status": "pending"
        },
        "tags": []
      },
      "source": [
        "# Docstrings Examples"
      ]
    },
    {
      "cell_type": "markdown",
      "id": "fa230a96",
      "metadata": {
        "id": "fa230a96",
        "papermill": {
          "duration": null,
          "end_time": null,
          "exception": null,
          "start_time": null,
          "status": "pending"
        },
        "tags": []
      },
      "source": [
        "All docstrings are collated with Sphinx Documentation"
      ]
    },
    {
      "cell_type": "code",
      "execution_count": null,
      "id": "14db946f",
      "metadata": {
        "execution": {
          "iopub.execute_input": "2023-04-05T09:07:03.102595Z",
          "iopub.status.busy": "2023-04-05T09:07:03.102258Z",
          "iopub.status.idle": "2023-04-05T09:07:03.106700Z",
          "shell.execute_reply": "2023-04-05T09:07:03.106007Z"
        },
        "id": "14db946f",
        "outputId": "dffe0c72-2c71-409e-de9c-08be6d5aff4f",
        "papermill": {
          "duration": null,
          "end_time": null,
          "exception": null,
          "start_time": null,
          "status": "pending"
        },
        "tags": []
      },
      "outputs": [],
      "source": [
        "help(FileUtil.put_csv)"
      ]
    },
    {
      "cell_type": "code",
      "execution_count": null,
      "id": "966b757a",
      "metadata": {
        "id": "966b757a",
        "outputId": "225b1a7c-cce6-40dc-f74b-2baabc8f65cf"
      },
      "outputs": [],
      "source": [
        "from src.preprocessing.preprocessing_utils import strip_html_tags_df\n",
        "help(strip_html_tags_df)"
      ]
    },
    {
      "cell_type": "code",
      "execution_count": null,
      "id": "bd66d2c9",
      "metadata": {
        "execution": {
          "iopub.execute_input": "2023-04-05T09:07:03.623224Z",
          "iopub.status.busy": "2023-04-05T09:07:03.622893Z",
          "iopub.status.idle": "2023-04-05T09:07:03.627026Z",
          "shell.execute_reply": "2023-04-05T09:07:03.626338Z"
        },
        "id": "bd66d2c9",
        "outputId": "ea70990e-112c-428a-ac69-e90a3192033a",
        "papermill": {
          "duration": null,
          "end_time": null,
          "exception": null,
          "start_time": null,
          "status": "pending"
        },
        "tags": []
      },
      "outputs": [],
      "source": [
        "help(sentiment_analysis_train)"
      ]
    }
  ],
  "metadata": {
    "colab": {
      "collapsed_sections": [
        "aa55b588",
        "72db2c96",
        "ce1d415e"
      ],
      "provenance": []
    },
    "kernelspec": {
      "display_name": "Python 3 (ipykernel)",
      "language": "python",
      "name": "python3"
    },
    "language_info": {
      "codemirror_mode": {
        "name": "ipython",
        "version": 3
      },
      "file_extension": ".py",
      "mimetype": "text/x-python",
      "name": "python",
      "nbconvert_exporter": "python",
      "pygments_lexer": "ipython3",
      "version": "3.9.5"
    },
    "papermill": {
      "default_parameters": {},
      "duration": 1783.058094,
      "end_time": "2023-04-09T12:45:15.153269",
      "environment_variables": {},
      "exception": true,
      "input_path": "voc_presentation_notebook.ipynb",
      "output_path": "voc_presentation_notebook_output.ipynb",
      "parameters": {},
      "start_time": "2023-04-09T12:15:32.095175",
      "version": "2.4.0"
    }
  },
  "nbformat": 4,
  "nbformat_minor": 5
}
