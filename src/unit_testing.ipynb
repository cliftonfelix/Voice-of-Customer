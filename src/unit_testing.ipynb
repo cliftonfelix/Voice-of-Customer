{
 "cells": [
  {
   "cell_type": "code",
   "execution_count": 31,
   "metadata": {},
   "outputs": [],
   "source": [
    "import pytest\n",
    "import pandas as pd\n",
    "import os\n",
    "\n",
    "os.chdir(\"/Users/shreya/Documents/github/h2o2.ai\")\n",
    "\n",
    "from src.models.predict import predict_sentiment_topic\n",
    "from src.preprocessing.transformations import apply_cleaning\n",
    "from src.preprocessing.preprocessing_utils import remove_punctuations_df,remove_trailing_leading_spaces_df, replace_multiple_spaces_df, strip_html_tags_df"
   ]
  },
  {
   "cell_type": "code",
   "execution_count": 5,
   "metadata": {},
   "outputs": [],
   "source": [
    "def test_cleaning_when_date_is_string():\n",
    "    df = pd.DataFrame([[\"positive\", \"18/6/21\", \"I love the pizza here.\"]], columns = [\"Sentiment\", \"Time\", \"Text\"])\n",
    "    df = pd.DataFrame(columns = [\"Sentiment\", \"Time\", \"Text\"])\n",
    "    return apply_cleaning(df = df)"
   ]
  },
  {
   "cell_type": "code",
   "execution_count": 29,
   "metadata": {},
   "outputs": [],
   "source": [
    "x = replace_multiple_spaces_df(pd.DataFrame([[\"positive\", \"18/6/21\", \"This is the best pizza ever!  !\"]], columns = [\"Sentiment\", \"Time\", \"cleaned_text\"]))"
   ]
  },
  {
   "cell_type": "code",
   "execution_count": 30,
   "metadata": {},
   "outputs": [
    {
     "data": {
      "text/plain": [
       "0    This is the best pizza ever! !\n",
       "Name: cleaned_text, dtype: object"
      ]
     },
     "execution_count": 30,
     "metadata": {},
     "output_type": "execute_result"
    }
   ],
   "source": [
    "x[\"cleaned_text\"]"
   ]
  },
  {
   "cell_type": "code",
   "execution_count": 37,
   "metadata": {},
   "outputs": [
    {
     "data": {
      "text/html": [
       "<div>\n",
       "<style scoped>\n",
       "    .dataframe tbody tr th:only-of-type {\n",
       "        vertical-align: middle;\n",
       "    }\n",
       "\n",
       "    .dataframe tbody tr th {\n",
       "        vertical-align: top;\n",
       "    }\n",
       "\n",
       "    .dataframe thead th {\n",
       "        text-align: right;\n",
       "    }\n",
       "</style>\n",
       "<table border=\"1\" class=\"dataframe\">\n",
       "  <thead>\n",
       "    <tr style=\"text-align: right;\">\n",
       "      <th></th>\n",
       "      <th>Sentiment</th>\n",
       "      <th>Time</th>\n",
       "      <th>cleaned_text</th>\n",
       "    </tr>\n",
       "  </thead>\n",
       "  <tbody>\n",
       "    <tr>\n",
       "      <th>0</th>\n",
       "      <td>positive</td>\n",
       "      <td>18/6/21</td>\n",
       "      <td>p  I love the pizza here   very good   p</td>\n",
       "    </tr>\n",
       "  </tbody>\n",
       "</table>\n",
       "</div>"
      ],
      "text/plain": [
       "  Sentiment     Time                                cleaned_text\n",
       "0  positive  18/6/21   p  I love the pizza here   very good   p "
      ]
     },
     "execution_count": 37,
     "metadata": {},
     "output_type": "execute_result"
    }
   ],
   "source": [
    "\n",
    "remove_punctuations_df(df = pd.DataFrame([[\"positive\", \"18/6/21\", \"<p> I love the pizza here.  very good </p>\"]], columns = [\"Sentiment\", \"Time\", \"cleaned_text\"]))\n",
    "#strip_html_tags_df(df = pd.DataFrame([[\"positive\", \"18/6/21\", \"< I love the pizza here.  very good>\"]], columns = [\"Sentiment\", \"Time\", \"cleaned_text\"]))"
   ]
  }
 ],
 "metadata": {
  "kernelspec": {
   "display_name": "voc_env",
   "language": "python",
   "name": "python3"
  },
  "language_info": {
   "codemirror_mode": {
    "name": "ipython",
    "version": 3
   },
   "file_extension": ".py",
   "mimetype": "text/x-python",
   "name": "python",
   "nbconvert_exporter": "python",
   "pygments_lexer": "ipython3",
   "version": "3.9.16"
  },
  "orig_nbformat": 4,
  "vscode": {
   "interpreter": {
    "hash": "acb2ac84264902808da2ab4f75e9a76d18cc6fa8e4230078cc98762ea542af45"
   }
  }
 },
 "nbformat": 4,
 "nbformat_minor": 2
}
